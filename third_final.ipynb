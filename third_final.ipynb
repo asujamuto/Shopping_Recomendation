{
 "cells": [
  {
   "cell_type": "code",
   "execution_count": 2,
   "id": "7ab60ee4",
   "metadata": {},
   "outputs": [
    {
     "data": {
      "text/html": [
       "<div>\n",
       "<style scoped>\n",
       "    .dataframe tbody tr th:only-of-type {\n",
       "        vertical-align: middle;\n",
       "    }\n",
       "\n",
       "    .dataframe tbody tr th {\n",
       "        vertical-align: top;\n",
       "    }\n",
       "\n",
       "    .dataframe thead th {\n",
       "        text-align: right;\n",
       "    }\n",
       "</style>\n",
       "<table border=\"1\" class=\"dataframe\">\n",
       "  <thead>\n",
       "    <tr style=\"text-align: right;\">\n",
       "      <th></th>\n",
       "      <th>user_id</th>\n",
       "      <th>item_id</th>\n",
       "      <th>rating</th>\n",
       "      <th>timestamp</th>\n",
       "    </tr>\n",
       "  </thead>\n",
       "  <tbody>\n",
       "    <tr>\n",
       "      <th>0</th>\n",
       "      <td>0</td>\n",
       "      <td>7314</td>\n",
       "      <td>5.0</td>\n",
       "      <td>1353612262000</td>\n",
       "    </tr>\n",
       "    <tr>\n",
       "      <th>1</th>\n",
       "      <td>0</td>\n",
       "      <td>15493</td>\n",
       "      <td>5.0</td>\n",
       "      <td>1370653034000</td>\n",
       "    </tr>\n",
       "    <tr>\n",
       "      <th>2</th>\n",
       "      <td>0</td>\n",
       "      <td>18817</td>\n",
       "      <td>4.0</td>\n",
       "      <td>1373668644000</td>\n",
       "    </tr>\n",
       "    <tr>\n",
       "      <th>3</th>\n",
       "      <td>0</td>\n",
       "      <td>18251</td>\n",
       "      <td>4.0</td>\n",
       "      <td>1373669469000</td>\n",
       "    </tr>\n",
       "    <tr>\n",
       "      <th>4</th>\n",
       "      <td>0</td>\n",
       "      <td>16199</td>\n",
       "      <td>1.0</td>\n",
       "      <td>1375136041000</td>\n",
       "    </tr>\n",
       "  </tbody>\n",
       "</table>\n",
       "</div>"
      ],
      "text/plain": [
       "   user_id  item_id  rating      timestamp\n",
       "0        0     7314     5.0  1353612262000\n",
       "1        0    15493     5.0  1370653034000\n",
       "2        0    18817     4.0  1373668644000\n",
       "3        0    18251     4.0  1373669469000\n",
       "4        0    16199     1.0  1375136041000"
      ]
     },
     "execution_count": 2,
     "metadata": {},
     "output_type": "execute_result"
    }
   ],
   "source": [
    "import numpy as np # linear algebra\n",
    "import pandas as pd # data processing, CSV file I/O (e.g. pd.read_csv)\n",
    "\n",
    "import matplotlib.pyplot as plt\n",
    "import seaborn as sns\n",
    "sns.set_style('white')\n",
    "%matplotlib inline\n",
    "\n",
    "# Split\n",
    "from sklearn.model_selection import train_test_split\n",
    "\n",
    "from surprise import Reader, Dataset, SVD\n",
    "from surprise.model_selection import cross_validate\n",
    "\n",
    "df = pd.read_csv(\"data/train.csv\")\n",
    "df.head()"
   ]
  },
  {
   "cell_type": "code",
   "execution_count": 3,
   "id": "9cf8595e",
   "metadata": {},
   "outputs": [
    {
     "name": "stdout",
     "output_type": "stream",
     "text": [
      "Total Reviews: 2543146\n",
      "Total Columns: 4\n"
     ]
    }
   ],
   "source": [
    "print(\"Total Reviews:\",df.shape[0])\n",
    "print(\"Total Columns:\",df.shape[1])"
   ]
  },
  {
   "cell_type": "code",
   "execution_count": 4,
   "id": "692725a3",
   "metadata": {},
   "outputs": [],
   "source": [
    "# Taking subset of the dataset\n",
    "df = df.iloc[:5000,0:]"
   ]
  },
  {
   "cell_type": "code",
   "execution_count": 5,
   "id": "020c764d",
   "metadata": {},
   "outputs": [
    {
     "name": "stdout",
     "output_type": "stream",
     "text": [
      "Total Reviews: 5000\n",
      "Total Columns: 4\n"
     ]
    }
   ],
   "source": [
    "print(\"Total Reviews:\",df.shape[0])\n",
    "print(\"Total Columns:\",df.shape[1])"
   ]
  },
  {
   "cell_type": "code",
   "execution_count": 6,
   "id": "8cb67b14",
   "metadata": {},
   "outputs": [
    {
     "name": "stdout",
     "output_type": "stream",
     "text": [
      "Total number of ratings : 5\n",
      "Total number of users   : 1610\n",
      "Total number of products  : 2489\n"
     ]
    }
   ],
   "source": [
    "print(\"Total number of ratings :\",df.rating.nunique())\n",
    "print(\"Total number of users   :\", df.user_id.nunique())\n",
    "print(\"Total number of products  :\", df.item_id.nunique())"
   ]
  },
  {
   "cell_type": "code",
   "execution_count": 7,
   "id": "421772ef",
   "metadata": {},
   "outputs": [
    {
     "name": "stdout",
     "output_type": "stream",
     "text": [
      "<class 'pandas.core.frame.DataFrame'>\n",
      "RangeIndex: 5000 entries, 0 to 4999\n",
      "Data columns (total 4 columns):\n",
      " #   Column     Non-Null Count  Dtype  \n",
      "---  ------     --------------  -----  \n",
      " 0   user_id    5000 non-null   int64  \n",
      " 1   item_id    5000 non-null   int64  \n",
      " 2   rating     5000 non-null   float64\n",
      " 3   timestamp  5000 non-null   int64  \n",
      "dtypes: float64(1), int64(3)\n",
      "memory usage: 156.4 KB\n"
     ]
    }
   ],
   "source": [
    "df.info()"
   ]
  },
  {
   "cell_type": "code",
   "execution_count": 8,
   "id": "91612e55",
   "metadata": {},
   "outputs": [
    {
     "data": {
      "text/plain": [
       "user_id      0\n",
       "item_id      0\n",
       "rating       0\n",
       "timestamp    0\n",
       "dtype: int64"
      ]
     },
     "execution_count": 8,
     "metadata": {},
     "output_type": "execute_result"
    }
   ],
   "source": [
    "df.isnull().sum()"
   ]
  },
  {
   "cell_type": "code",
   "execution_count": 9,
   "id": "fa7e1854",
   "metadata": {},
   "outputs": [
    {
     "data": {
      "text/plain": [
       "user_id      0\n",
       "item_id      0\n",
       "rating       0\n",
       "timestamp    0\n",
       "dtype: int64"
      ]
     },
     "execution_count": 9,
     "metadata": {},
     "output_type": "execute_result"
    }
   ],
   "source": [
    "# Check missing value\n",
    "df.isnull().sum()"
   ]
  },
  {
   "cell_type": "code",
   "execution_count": 10,
   "id": "d0ad961c",
   "metadata": {},
   "outputs": [
    {
     "data": {
      "text/plain": [
       "user_id      False\n",
       "item_id      False\n",
       "rating       False\n",
       "timestamp    False\n",
       "dtype: bool"
      ]
     },
     "execution_count": 10,
     "metadata": {},
     "output_type": "execute_result"
    }
   ],
   "source": [
    "# Check Duplicate data\n",
    "df[df.duplicated()].any()\n"
   ]
  },
  {
   "cell_type": "code",
   "execution_count": 11,
   "id": "bbdec62f",
   "metadata": {},
   "outputs": [
    {
     "data": {
      "text/plain": [
       "count    5000.000000\n",
       "mean        4.068400\n",
       "std         1.323659\n",
       "min         1.000000\n",
       "25%         4.000000\n",
       "50%         5.000000\n",
       "75%         5.000000\n",
       "max         5.000000\n",
       "Name: rating, dtype: float64"
      ]
     },
     "execution_count": 11,
     "metadata": {},
     "output_type": "execute_result"
    }
   ],
   "source": [
    "# rating describe summary \n",
    "df.describe()['rating']"
   ]
  },
  {
   "cell_type": "code",
   "execution_count": 12,
   "id": "9d0aee2e",
   "metadata": {},
   "outputs": [
    {
     "name": "stdout",
     "output_type": "stream",
     "text": [
      "Minimum rating is: 1\n",
      "Maximum rating is: 5\n"
     ]
    }
   ],
   "source": [
    "# Find the minimum and maximum ratings\n",
    "print('Minimum rating is: %d' %(df.rating.min()))\n",
    "print('Maximum rating is: %d' %(df.rating.max()))"
   ]
  },
  {
   "cell_type": "code",
   "execution_count": 13,
   "id": "41e2d178",
   "metadata": {},
   "outputs": [
    {
     "data": {
      "text/html": [
       "<div>\n",
       "<style scoped>\n",
       "    .dataframe tbody tr th:only-of-type {\n",
       "        vertical-align: middle;\n",
       "    }\n",
       "\n",
       "    .dataframe tbody tr th {\n",
       "        vertical-align: top;\n",
       "    }\n",
       "\n",
       "    .dataframe thead th {\n",
       "        text-align: right;\n",
       "    }\n",
       "</style>\n",
       "<table border=\"1\" class=\"dataframe\">\n",
       "  <thead>\n",
       "    <tr style=\"text-align: right;\">\n",
       "      <th></th>\n",
       "      <th>rating</th>\n",
       "      <th>ratings_count</th>\n",
       "      <th>ratings_average</th>\n",
       "    </tr>\n",
       "    <tr>\n",
       "      <th>item_id</th>\n",
       "      <th></th>\n",
       "      <th></th>\n",
       "      <th></th>\n",
       "    </tr>\n",
       "  </thead>\n",
       "  <tbody>\n",
       "    <tr>\n",
       "      <th>64</th>\n",
       "      <td>5.0</td>\n",
       "      <td>1</td>\n",
       "      <td>5.0</td>\n",
       "    </tr>\n",
       "    <tr>\n",
       "      <th>104</th>\n",
       "      <td>5.0</td>\n",
       "      <td>1</td>\n",
       "      <td>5.0</td>\n",
       "    </tr>\n",
       "    <tr>\n",
       "      <th>224</th>\n",
       "      <td>1.0</td>\n",
       "      <td>1</td>\n",
       "      <td>1.0</td>\n",
       "    </tr>\n",
       "    <tr>\n",
       "      <th>314</th>\n",
       "      <td>3.0</td>\n",
       "      <td>1</td>\n",
       "      <td>3.0</td>\n",
       "    </tr>\n",
       "    <tr>\n",
       "      <th>448</th>\n",
       "      <td>4.0</td>\n",
       "      <td>1</td>\n",
       "      <td>4.0</td>\n",
       "    </tr>\n",
       "    <tr>\n",
       "      <th>608</th>\n",
       "      <td>5.0</td>\n",
       "      <td>1</td>\n",
       "      <td>5.0</td>\n",
       "    </tr>\n",
       "    <tr>\n",
       "      <th>776</th>\n",
       "      <td>5.0</td>\n",
       "      <td>1</td>\n",
       "      <td>5.0</td>\n",
       "    </tr>\n",
       "    <tr>\n",
       "      <th>970</th>\n",
       "      <td>5.0</td>\n",
       "      <td>1</td>\n",
       "      <td>5.0</td>\n",
       "    </tr>\n",
       "    <tr>\n",
       "      <th>1224</th>\n",
       "      <td>4.0</td>\n",
       "      <td>1</td>\n",
       "      <td>4.0</td>\n",
       "    </tr>\n",
       "    <tr>\n",
       "      <th>1424</th>\n",
       "      <td>4.0</td>\n",
       "      <td>1</td>\n",
       "      <td>4.0</td>\n",
       "    </tr>\n",
       "  </tbody>\n",
       "</table>\n",
       "</div>"
      ],
      "text/plain": [
       "         rating  ratings_count  ratings_average\n",
       "item_id                                        \n",
       "64          5.0              1              5.0\n",
       "104         5.0              1              5.0\n",
       "224         1.0              1              1.0\n",
       "314         3.0              1              3.0\n",
       "448         4.0              1              4.0\n",
       "608         5.0              1              5.0\n",
       "776         5.0              1              5.0\n",
       "970         5.0              1              5.0\n",
       "1224        4.0              1              4.0\n",
       "1424        4.0              1              4.0"
      ]
     },
     "execution_count": 13,
     "metadata": {},
     "output_type": "execute_result"
    }
   ],
   "source": [
    "# Average rating of products\n",
    "ratings = pd.DataFrame(df.groupby('item_id')['rating'].mean())\n",
    "ratings['ratings_count'] = pd.DataFrame(df.groupby('item_id')['rating'].count())\n",
    "ratings['ratings_average'] = pd.DataFrame(df.groupby('item_id')['rating'].mean())\n",
    "ratings.head(10)"
   ]
  },
  {
   "cell_type": "code",
   "execution_count": 14,
   "id": "e389a786",
   "metadata": {},
   "outputs": [
    {
     "data": {
      "text/plain": [
       "<AxesSubplot:>"
      ]
     },
     "execution_count": 14,
     "metadata": {},
     "output_type": "execute_result"
    },
    {
     "data": {
      "image/png": "[encoded data removed]",
      "text/plain": [
       "<Figure size 720x288 with 1 Axes>"
      ]
     },
     "metadata": {
      "needs_background": "light"
     },
     "output_type": "display_data"
    }
   ],
   "source": [
    "plt.figure(figsize=(10,4))\n",
    "ratings['rating'].hist(bins=70)"
   ]
  },
  {
   "cell_type": "code",
   "execution_count": 15,
   "id": "b6eda997",
   "metadata": {},
   "outputs": [
    {
     "data": {
      "text/plain": [
       "<seaborn.axisgrid.JointGrid at 0x7b954b36ec90>"
      ]
     },
     "execution_count": 15,
     "metadata": {},
     "output_type": "execute_result"
    },
    {
     "data": {
      "image/png": "[encoded data removed]",
      "text/plain": [
       "<Figure size 432x432 with 3 Axes>"
      ]
     },
     "metadata": {
      "needs_background": "light"
     },
     "output_type": "display_data"
    }
   ],
   "source": [
    "sns.jointplot(x='rating',y='ratings_count',data=ratings,alpha=0.5)"
   ]
  },
  {
   "cell_type": "code",
   "execution_count": 16,
   "id": "cbd8da82",
   "metadata": {},
   "outputs": [
    {
     "data": {
      "text/plain": [
       "<AxesSubplot:xlabel='item_id'>"
      ]
     },
     "execution_count": 16,
     "metadata": {},
     "output_type": "execute_result"
    },
    {
     "data": {
      "image/png": "[encoded data removed]",
      "text/plain": [
       "<Figure size 864x288 with 1 Axes>"
      ]
     },
     "metadata": {
      "needs_background": "light"
     },
     "output_type": "display_data"
    }
   ],
   "source": [
    "# Most top 30 products\n",
    "popular_products = pd.DataFrame(df.groupby('item_id')['rating'].count())\n",
    "most_popular = popular_products.sort_values('rating', ascending=False)\n",
    "most_popular.head(30).plot(kind = \"bar\",figsize=(12, 4))"
   ]
  },
  {
   "cell_type": "markdown",
   "id": "7393a980",
   "metadata": {},
   "source": [
    "## Popular Based Method\n"
   ]
  },
  {
   "cell_type": "markdown",
   "id": "f7e12ad9",
   "metadata": {},
   "source": [
    "### Dodaj item_id do metadanych"
   ]
  },
  {
   "cell_type": "code",
   "execution_count": 17,
   "id": "d732b8f2",
   "metadata": {},
   "outputs": [],
   "source": [
    "import json\n",
    "train_df = pd.read_csv(\"data/train.csv\")\n",
    "meta_df = pd.read_csv(\"data/item_metadata_filtered.csv\")\n",
    "with open(\"data/id_mappings.json\") as f:\n",
    "    id_map = json.load(f)\n",
    "\n",
    "asin_to_id = {asin: int(item_id) for asin, item_id in id_map[\"item_mapping\"].items()}\n",
    "item_mapping_df = pd.DataFrame(list(asin_to_id.items()), columns=[\"parent_asin\", \"item_id\"])\n",
    "meta_df = pd.merge(meta_df, item_mapping_df, on=\"parent_asin\", how=\"left\")"
   ]
  },
  {
   "cell_type": "markdown",
   "id": "3b4cd33d",
   "metadata": {},
   "source": [
    "### Wylicz WR score"
   ]
  },
  {
   "cell_type": "markdown",
   "id": "ac83cf93",
   "metadata": {},
   "source": [
    "Poniżej wyliczam z dosłownie wszystkich przedmiotów średnią, może być tu problem, bo być może trzeba to robić z tylko ocenami danego przedmiotu"
   ]
  },
  {
   "cell_type": "code",
   "execution_count": 18,
   "id": "ea64c4da",
   "metadata": {},
   "outputs": [
    {
     "name": "stdout",
     "output_type": "stream",
     "text": [
      "Average rating of product across the whole dataset is 3.84451586982724\n",
      "item_id\n",
      "64       1\n",
      "104      1\n",
      "224      1\n",
      "314      1\n",
      "448      1\n",
      "        ..\n",
      "77632    1\n",
      "77642    1\n",
      "77678    1\n",
      "77821    1\n",
      "77825    1\n",
      "Name: ratings_count, Length: 2489, dtype: int64\n",
      "6.0\n"
     ]
    }
   ],
   "source": [
    "vote_counts = ratings[ratings['ratings_count'].notnull()]['ratings_count'].astype('int')\n",
    "vote_averages = ratings[ratings['ratings_average'].notnull()]['ratings_average'].astype('int')\n",
    "C = vote_averages.mean()\n",
    "print(\"Average rating of product across the whole dataset is\",C)\n",
    "m = vote_counts.quantile(0.95)\n",
    "print(vote_counts)\n",
    "print(m)"
   ]
  },
  {
   "cell_type": "code",
   "execution_count": 19,
   "id": "dc44623c",
   "metadata": {},
   "outputs": [],
   "source": [
    "# Compute global variables once\n",
    "C = meta_df['average_rating'].mean()\n",
    "m = meta_df['rating_number'].quantile(0.95)\n",
    "\n",
    "# Define the function\n",
    "def weighted_rating(x):\n",
    "    v = x['rating_number']\n",
    "    R = x['average_rating']\n",
    "    return (v / (v + m)) * R + (m / (v + m)) * C\n",
    "\n",
    "    # return (v / (v + m) * R) + (m / (m + v) * C)\n",
    "\n",
    "# Apply to the dataframe\n",
    "meta_df['wr'] = meta_df.apply(weighted_rating, axis=1)\n"
   ]
  },
  {
   "cell_type": "code",
   "execution_count": 20,
   "id": "c984613c",
   "metadata": {},
   "outputs": [
    {
     "data": {
      "text/html": [
       "<div>\n",
       "<style scoped>\n",
       "    .dataframe tbody tr th:only-of-type {\n",
       "        vertical-align: middle;\n",
       "    }\n",
       "\n",
       "    .dataframe tbody tr th {\n",
       "        vertical-align: top;\n",
       "    }\n",
       "\n",
       "    .dataframe thead th {\n",
       "        text-align: right;\n",
       "    }\n",
       "</style>\n",
       "<table border=\"1\" class=\"dataframe\">\n",
       "  <thead>\n",
       "    <tr style=\"text-align: right;\">\n",
       "      <th></th>\n",
       "      <th>user_id</th>\n",
       "      <th>item_id</th>\n",
       "      <th>rating</th>\n",
       "      <th>timestamp</th>\n",
       "      <th>parent_asin</th>\n",
       "      <th>main_category</th>\n",
       "      <th>title</th>\n",
       "      <th>average_rating</th>\n",
       "      <th>rating_number</th>\n",
       "      <th>price</th>\n",
       "      <th>store</th>\n",
       "      <th>features</th>\n",
       "      <th>description</th>\n",
       "      <th>images</th>\n",
       "      <th>categories</th>\n",
       "      <th>image_count</th>\n",
       "      <th>has_images</th>\n",
       "      <th>image_urls</th>\n",
       "      <th>category</th>\n",
       "    </tr>\n",
       "  </thead>\n",
       "  <tbody>\n",
       "    <tr>\n",
       "      <th>0</th>\n",
       "      <td>0</td>\n",
       "      <td>7314</td>\n",
       "      <td>5.0</td>\n",
       "      <td>1353612262000</td>\n",
       "      <td>B006CQ8TC2</td>\n",
       "      <td>Appstore for Android</td>\n",
       "      <td>Turkey Season</td>\n",
       "      <td>3.5</td>\n",
       "      <td>304.0</td>\n",
       "      <td>0.99</td>\n",
       "      <td>Gibbed Games, LLC</td>\n",
       "      <td>['Hunt and slay deviant turkeys, then go back ...</td>\n",
       "      <td>['Gobble gobble gobble! Turkeys are running am...</td>\n",
       "      <td>{'hi_res': array([None, None, None, None, None...</td>\n",
       "      <td>[]</td>\n",
       "      <td>6</td>\n",
       "      <td>True</td>\n",
       "      <td>['https://m.media-amazon.com/images/I/71oAt4H2...</td>\n",
       "      <td>Software</td>\n",
       "    </tr>\n",
       "    <tr>\n",
       "      <th>1</th>\n",
       "      <td>0</td>\n",
       "      <td>15493</td>\n",
       "      <td>5.0</td>\n",
       "      <td>1370653034000</td>\n",
       "      <td>B00B7S5FDG</td>\n",
       "      <td>Appstore for Android</td>\n",
       "      <td>Another Monster at the End of This Book...Star...</td>\n",
       "      <td>4.3</td>\n",
       "      <td>460.0</td>\n",
       "      <td>3.99</td>\n",
       "      <td>Sesame Workshop</td>\n",
       "      <td>['Bursting with innovative activities woven ri...</td>\n",
       "      <td>[\"Available for Kindle Fire tablets AND Fire T...</td>\n",
       "      <td>{'hi_res': array([None, None, None, None, None...</td>\n",
       "      <td>[]</td>\n",
       "      <td>12</td>\n",
       "      <td>True</td>\n",
       "      <td>['https://m.media-amazon.com/images/I/B1dGfKbS...</td>\n",
       "      <td>Software</td>\n",
       "    </tr>\n",
       "    <tr>\n",
       "      <th>2</th>\n",
       "      <td>0</td>\n",
       "      <td>18817</td>\n",
       "      <td>4.0</td>\n",
       "      <td>1373668644000</td>\n",
       "      <td>B00DRPVE3M</td>\n",
       "      <td>Appstore for Android</td>\n",
       "      <td>UNO ™ &amp; Friends - The Classic Card Game Goes S...</td>\n",
       "      <td>3.9</td>\n",
       "      <td>11842.0</td>\n",
       "      <td>None</td>\n",
       "      <td>Gameloft</td>\n",
       "      <td>['Create games and invite your friends to play...</td>\n",
       "      <td>['UNO™ &amp; Friends: Fast Fun for Everyone!UNO™, ...</td>\n",
       "      <td>{'hi_res': array([None, None, None, None, None...</td>\n",
       "      <td>[]</td>\n",
       "      <td>6</td>\n",
       "      <td>True</td>\n",
       "      <td>['https://m.media-amazon.com/images/I/A1dc9cyK...</td>\n",
       "      <td>Software</td>\n",
       "    </tr>\n",
       "    <tr>\n",
       "      <th>3</th>\n",
       "      <td>0</td>\n",
       "      <td>18251</td>\n",
       "      <td>4.0</td>\n",
       "      <td>1373669469000</td>\n",
       "      <td>B00D948SS0</td>\n",
       "      <td>Appstore for Android</td>\n",
       "      <td>World's Biggest Wordsearch - Your daily free w...</td>\n",
       "      <td>3.8</td>\n",
       "      <td>8290.0</td>\n",
       "      <td>0.0</td>\n",
       "      <td>Supersonic Software Ltd</td>\n",
       "      <td>['5,000 words to find' '361 puzzles based on a...</td>\n",
       "      <td>[\"Find thousands of words in the biggest and b...</td>\n",
       "      <td>{'hi_res': array([None, None, None, None, None...</td>\n",
       "      <td>[]</td>\n",
       "      <td>6</td>\n",
       "      <td>True</td>\n",
       "      <td>['https://m.media-amazon.com/images/I/A1cI1uy6...</td>\n",
       "      <td>Software</td>\n",
       "    </tr>\n",
       "    <tr>\n",
       "      <th>4</th>\n",
       "      <td>0</td>\n",
       "      <td>16199</td>\n",
       "      <td>1.0</td>\n",
       "      <td>1375136041000</td>\n",
       "      <td>B00BQPEIT2</td>\n",
       "      <td>Appstore for Android</td>\n",
       "      <td>Temple Run: Oz</td>\n",
       "      <td>4.0</td>\n",
       "      <td>1043.0</td>\n",
       "      <td>None</td>\n",
       "      <td>Disney</td>\n",
       "      <td>['Stunning environments inspired by the film –...</td>\n",
       "      <td>['The most thrilling running experience now co...</td>\n",
       "      <td>{'hi_res': array([None, None, None, None, None...</td>\n",
       "      <td>[]</td>\n",
       "      <td>6</td>\n",
       "      <td>True</td>\n",
       "      <td>['https://m.media-amazon.com/images/I/91BmBng4...</td>\n",
       "      <td>Software</td>\n",
       "    </tr>\n",
       "    <tr>\n",
       "      <th>...</th>\n",
       "      <td>...</td>\n",
       "      <td>...</td>\n",
       "      <td>...</td>\n",
       "      <td>...</td>\n",
       "      <td>...</td>\n",
       "      <td>...</td>\n",
       "      <td>...</td>\n",
       "      <td>...</td>\n",
       "      <td>...</td>\n",
       "      <td>...</td>\n",
       "      <td>...</td>\n",
       "      <td>...</td>\n",
       "      <td>...</td>\n",
       "      <td>...</td>\n",
       "      <td>...</td>\n",
       "      <td>...</td>\n",
       "      <td>...</td>\n",
       "      <td>...</td>\n",
       "      <td>...</td>\n",
       "    </tr>\n",
       "    <tr>\n",
       "      <th>2543141</th>\n",
       "      <td>868216</td>\n",
       "      <td>15203</td>\n",
       "      <td>5.0</td>\n",
       "      <td>1397341480000</td>\n",
       "      <td>B00B1TGUMG</td>\n",
       "      <td>Software</td>\n",
       "      <td>Microsoft Office Home and Student 2013 (1PC/1U...</td>\n",
       "      <td>4.3</td>\n",
       "      <td>1759.0</td>\n",
       "      <td>None</td>\n",
       "      <td>Microsoft</td>\n",
       "      <td>['NOTE: Windows XP and Vista NOT supported. Th...</td>\n",
       "      <td>['Product Description'\\n 'Office Home &amp; Studen...</td>\n",
       "      <td>{'hi_res': array(['https://m.media-amazon.com/...</td>\n",
       "      <td>['Software' 'Microsoft' 'All Microsoft']</td>\n",
       "      <td>6</td>\n",
       "      <td>True</td>\n",
       "      <td>['https://m.media-amazon.com/images/I/61vi4XLD...</td>\n",
       "      <td>Software</td>\n",
       "    </tr>\n",
       "    <tr>\n",
       "      <th>2543142</th>\n",
       "      <td>868216</td>\n",
       "      <td>51839</td>\n",
       "      <td>5.0</td>\n",
       "      <td>1500036628141</td>\n",
       "      <td>B06XS4YRWX</td>\n",
       "      <td>Software</td>\n",
       "      <td>NTI Echo 3, Make an exact copy of a HDD or SSD...</td>\n",
       "      <td>3.5</td>\n",
       "      <td>17.0</td>\n",
       "      <td>None</td>\n",
       "      <td>Nti</td>\n",
       "      <td>['Versatile: One-to-One Cloning, Dynamic Resiz...</td>\n",
       "      <td>['NTI Echo'\\n \"is the perfect solution for all...</td>\n",
       "      <td>{'hi_res': array([None, None, None, None, None...</td>\n",
       "      <td>['Software' 'Utilities' 'Backup']</td>\n",
       "      <td>14</td>\n",
       "      <td>True</td>\n",
       "      <td>['https://m.media-amazon.com/images/I/81FlCZVs...</td>\n",
       "      <td>Software</td>\n",
       "    </tr>\n",
       "    <tr>\n",
       "      <th>2543143</th>\n",
       "      <td>868217</td>\n",
       "      <td>14052</td>\n",
       "      <td>4.0</td>\n",
       "      <td>1464923235000</td>\n",
       "      <td>B00AB7HESI</td>\n",
       "      <td>Appstore for Android</td>\n",
       "      <td>Scribblenauts Remix</td>\n",
       "      <td>3.8</td>\n",
       "      <td>5520.0</td>\n",
       "      <td>0.99</td>\n",
       "      <td>Warner Bros</td>\n",
       "      <td>['CLASSIC GAMEPLAY - 50 levels to play!'\\n 'PL...</td>\n",
       "      <td>['THINK IT! CREATE IT! SOLVE IT! The award-win...</td>\n",
       "      <td>{'hi_res': array([None, None, None, None, None...</td>\n",
       "      <td>[]</td>\n",
       "      <td>6</td>\n",
       "      <td>True</td>\n",
       "      <td>['https://m.media-amazon.com/images/I/81bAX50X...</td>\n",
       "      <td>Software</td>\n",
       "    </tr>\n",
       "    <tr>\n",
       "      <th>2543144</th>\n",
       "      <td>868217</td>\n",
       "      <td>40099</td>\n",
       "      <td>4.0</td>\n",
       "      <td>1465146950000</td>\n",
       "      <td>B014RGFC0K</td>\n",
       "      <td>Appstore for Android</td>\n",
       "      <td>Smashy Road: Wanted</td>\n",
       "      <td>3.6</td>\n",
       "      <td>7541.0</td>\n",
       "      <td>0.0</td>\n",
       "      <td>Bearbit Studios B.V.</td>\n",
       "      <td>['90 unlockable vehicles!!'\\n 'Random generate...</td>\n",
       "      <td>['You are WANTED! Take your driving to new hei...</td>\n",
       "      <td>{'hi_res': array([None, None, None, None, None...</td>\n",
       "      <td>[]</td>\n",
       "      <td>9</td>\n",
       "      <td>True</td>\n",
       "      <td>['https://m.media-amazon.com/images/I/71TPOiUY...</td>\n",
       "      <td>Software</td>\n",
       "    </tr>\n",
       "    <tr>\n",
       "      <th>2543145</th>\n",
       "      <td>868217</td>\n",
       "      <td>12895</td>\n",
       "      <td>5.0</td>\n",
       "      <td>1470417089000</td>\n",
       "      <td>B009HKL4B8</td>\n",
       "      <td>Appstore for Android</td>\n",
       "      <td>The Sims Freeplay</td>\n",
       "      <td>3.6</td>\n",
       "      <td>42032.0</td>\n",
       "      <td>0.0</td>\n",
       "      <td>Electronic Arts</td>\n",
       "      <td>['- Play for FREE!'\\n '- Design dream homes co...</td>\n",
       "      <td>['The Sims™ FreePlay lets you create, customiz...</td>\n",
       "      <td>{'hi_res': array([None, None, None, None, None...</td>\n",
       "      <td>[]</td>\n",
       "      <td>7</td>\n",
       "      <td>True</td>\n",
       "      <td>['https://m.media-amazon.com/images/I/91-O35QU...</td>\n",
       "      <td>Software</td>\n",
       "    </tr>\n",
       "  </tbody>\n",
       "</table>\n",
       "<p>2543146 rows × 19 columns</p>\n",
       "</div>"
      ],
      "text/plain": [
       "         user_id  item_id  rating      timestamp parent_asin  \\\n",
       "0              0     7314     5.0  1353612262000  B006CQ8TC2   \n",
       "1              0    15493     5.0  1370653034000  B00B7S5FDG   \n",
       "2              0    18817     4.0  1373668644000  B00DRPVE3M   \n",
       "3              0    18251     4.0  1373669469000  B00D948SS0   \n",
       "4              0    16199     1.0  1375136041000  B00BQPEIT2   \n",
       "...          ...      ...     ...            ...         ...   \n",
       "2543141   868216    15203     5.0  1397341480000  B00B1TGUMG   \n",
       "2543142   868216    51839     5.0  1500036628141  B06XS4YRWX   \n",
       "2543143   868217    14052     4.0  1464923235000  B00AB7HESI   \n",
       "2543144   868217    40099     4.0  1465146950000  B014RGFC0K   \n",
       "2543145   868217    12895     5.0  1470417089000  B009HKL4B8   \n",
       "\n",
       "                main_category  \\\n",
       "0        Appstore for Android   \n",
       "1        Appstore for Android   \n",
       "2        Appstore for Android   \n",
       "3        Appstore for Android   \n",
       "4        Appstore for Android   \n",
       "...                       ...   \n",
       "2543141              Software   \n",
       "2543142              Software   \n",
       "2543143  Appstore for Android   \n",
       "2543144  Appstore for Android   \n",
       "2543145  Appstore for Android   \n",
       "\n",
       "                                                     title  average_rating  \\\n",
       "0                                            Turkey Season             3.5   \n",
       "1        Another Monster at the End of This Book...Star...             4.3   \n",
       "2        UNO ™ & Friends - The Classic Card Game Goes S...             3.9   \n",
       "3        World's Biggest Wordsearch - Your daily free w...             3.8   \n",
       "4                                           Temple Run: Oz             4.0   \n",
       "...                                                    ...             ...   \n",
       "2543141  Microsoft Office Home and Student 2013 (1PC/1U...             4.3   \n",
       "2543142  NTI Echo 3, Make an exact copy of a HDD or SSD...             3.5   \n",
       "2543143                                Scribblenauts Remix             3.8   \n",
       "2543144                                Smashy Road: Wanted             3.6   \n",
       "2543145                                  The Sims Freeplay             3.6   \n",
       "\n",
       "         rating_number price                    store  \\\n",
       "0                304.0  0.99        Gibbed Games, LLC   \n",
       "1                460.0  3.99          Sesame Workshop   \n",
       "2              11842.0  None                 Gameloft   \n",
       "3               8290.0   0.0  Supersonic Software Ltd   \n",
       "4               1043.0  None                   Disney   \n",
       "...                ...   ...                      ...   \n",
       "2543141         1759.0  None                Microsoft   \n",
       "2543142           17.0  None                      Nti   \n",
       "2543143         5520.0  0.99              Warner Bros   \n",
       "2543144         7541.0   0.0     Bearbit Studios B.V.   \n",
       "2543145        42032.0   0.0          Electronic Arts   \n",
       "\n",
       "                                                  features  \\\n",
       "0        ['Hunt and slay deviant turkeys, then go back ...   \n",
       "1        ['Bursting with innovative activities woven ri...   \n",
       "2        ['Create games and invite your friends to play...   \n",
       "3        ['5,000 words to find' '361 puzzles based on a...   \n",
       "4        ['Stunning environments inspired by the film –...   \n",
       "...                                                    ...   \n",
       "2543141  ['NOTE: Windows XP and Vista NOT supported. Th...   \n",
       "2543142  ['Versatile: One-to-One Cloning, Dynamic Resiz...   \n",
       "2543143  ['CLASSIC GAMEPLAY - 50 levels to play!'\\n 'PL...   \n",
       "2543144  ['90 unlockable vehicles!!'\\n 'Random generate...   \n",
       "2543145  ['- Play for FREE!'\\n '- Design dream homes co...   \n",
       "\n",
       "                                               description  \\\n",
       "0        ['Gobble gobble gobble! Turkeys are running am...   \n",
       "1        [\"Available for Kindle Fire tablets AND Fire T...   \n",
       "2        ['UNO™ & Friends: Fast Fun for Everyone!UNO™, ...   \n",
       "3        [\"Find thousands of words in the biggest and b...   \n",
       "4        ['The most thrilling running experience now co...   \n",
       "...                                                    ...   \n",
       "2543141  ['Product Description'\\n 'Office Home & Studen...   \n",
       "2543142  ['NTI Echo'\\n \"is the perfect solution for all...   \n",
       "2543143  ['THINK IT! CREATE IT! SOLVE IT! The award-win...   \n",
       "2543144  ['You are WANTED! Take your driving to new hei...   \n",
       "2543145  ['The Sims™ FreePlay lets you create, customiz...   \n",
       "\n",
       "                                                    images  \\\n",
       "0        {'hi_res': array([None, None, None, None, None...   \n",
       "1        {'hi_res': array([None, None, None, None, None...   \n",
       "2        {'hi_res': array([None, None, None, None, None...   \n",
       "3        {'hi_res': array([None, None, None, None, None...   \n",
       "4        {'hi_res': array([None, None, None, None, None...   \n",
       "...                                                    ...   \n",
       "2543141  {'hi_res': array(['https://m.media-amazon.com/...   \n",
       "2543142  {'hi_res': array([None, None, None, None, None...   \n",
       "2543143  {'hi_res': array([None, None, None, None, None...   \n",
       "2543144  {'hi_res': array([None, None, None, None, None...   \n",
       "2543145  {'hi_res': array([None, None, None, None, None...   \n",
       "\n",
       "                                       categories  image_count  has_images  \\\n",
       "0                                              []            6        True   \n",
       "1                                              []           12        True   \n",
       "2                                              []            6        True   \n",
       "3                                              []            6        True   \n",
       "4                                              []            6        True   \n",
       "...                                           ...          ...         ...   \n",
       "2543141  ['Software' 'Microsoft' 'All Microsoft']            6        True   \n",
       "2543142         ['Software' 'Utilities' 'Backup']           14        True   \n",
       "2543143                                        []            6        True   \n",
       "2543144                                        []            9        True   \n",
       "2543145                                        []            7        True   \n",
       "\n",
       "                                                image_urls  category  \n",
       "0        ['https://m.media-amazon.com/images/I/71oAt4H2...  Software  \n",
       "1        ['https://m.media-amazon.com/images/I/B1dGfKbS...  Software  \n",
       "2        ['https://m.media-amazon.com/images/I/A1dc9cyK...  Software  \n",
       "3        ['https://m.media-amazon.com/images/I/A1cI1uy6...  Software  \n",
       "4        ['https://m.media-amazon.com/images/I/91BmBng4...  Software  \n",
       "...                                                    ...       ...  \n",
       "2543141  ['https://m.media-amazon.com/images/I/61vi4XLD...  Software  \n",
       "2543142  ['https://m.media-amazon.com/images/I/81FlCZVs...  Software  \n",
       "2543143  ['https://m.media-amazon.com/images/I/81bAX50X...  Software  \n",
       "2543144  ['https://m.media-amazon.com/images/I/71TPOiUY...  Software  \n",
       "2543145  ['https://m.media-amazon.com/images/I/91-O35QU...  Software  \n",
       "\n",
       "[2543146 rows x 19 columns]"
      ]
     },
     "execution_count": 20,
     "metadata": {},
     "output_type": "execute_result"
    }
   ],
   "source": [
    "df = pd.read_csv(\"data/train.csv\")\n",
    "item_metadata_df = pd.read_csv(\"data/item_metadata.csv\")\n",
    "other = pd.read_json(\"data/id_mappings.json\")\n",
    "\n",
    "# Extract the dictionary inside \"user_mapping\"\n",
    "user_mapping = other[\"user_mapping\"]\n",
    "item_mapping = other[\"item_mapping\"]\n",
    "\n",
    "# Convert to DataFrame\n",
    "user_mapping_df = pd.DataFrame(list(user_mapping.items()), columns=[\"user_id\", \"user_index\"])\n",
    "item_mapping_df = pd.DataFrame(list(item_mapping.items()), columns=[\"item_str_code\", \"item_id\"])\n",
    "\n",
    "item_metadata_df[\"item_id\"] = item_metadata_df[\"parent_asin\"].map(item_mapping)\n",
    "item_merge_df = pd.merge(item_metadata_df, item_mapping_df, how=\"left\", left_on=\"parent_asin\", right_on=\"item_str_code\")\n",
    "item_merge_df[\"item_id\"] = item_merge_df[\"item_id_x\"]\n",
    "\n",
    "\n",
    "\n",
    "item_merge_df[\"item_id\"] = item_merge_df[\"item_id\"].astype(float)\n",
    "item_merge_df = item_merge_df.drop('item_id_x', axis=1)\n",
    "item_merge_df = item_merge_df.drop('item_id_y', axis=1)\n",
    "item_merge_df = item_merge_df.drop('item_str_code', axis=1)\n",
    "\n",
    "\n",
    "result = pd.merge(df, item_merge_df, how=\"left\", left_on=\"item_id\", right_on=\"item_id\")\n",
    "result"
   ]
  },
  {
   "cell_type": "code",
   "execution_count": 46,
   "id": "a72caaa9",
   "metadata": {},
   "outputs": [],
   "source": [
    "def compute_weighted_rating(df, m, C):\n",
    "    v = df['rating_number']\n",
    "    R = df['average_rating']\n",
    "    return (v / (v + m)) * R + (m / (v + m)) * C\n"
   ]
  },
  {
   "cell_type": "code",
   "execution_count": 55,
   "id": "63d0ab1c",
   "metadata": {},
   "outputs": [],
   "source": [
    "def compute_weighted_rating(df, m, C):\n",
    "    v = df['rating_number']\n",
    "    R = df['average_rating']\n",
    "    return (v / (v + m)) * R + (m / (v + m)) * C\n",
    "\n",
    "# def build_user_profile(user_id, result, m, C):\n",
    "#     user_ratings = result[result[\"user_id\"] == user_id]\n",
    "#     categories = user_ratings[\"main_category\"].dropna().unique()\n",
    "#     items = user_ratings[\"item_id\"].tolist()\n",
    "\n",
    "#     qualified = result[\n",
    "#         (result['rating_number'].notnull()) &\n",
    "#         (result['average_rating'].notnull()) &\n",
    "#         (result['main_category'].isin(categories)) &\n",
    "#         (~result[\"item_id\"].isin(items))\n",
    "#     ][['item_id', \"main_category\", \"average_rating\", \"rating_number\"]].copy()\n",
    "\n",
    "#     print(f\"User {user_id}: categories={categories}, rated_items={len(items)}, qualified_count={qualified.shape[0]}\")\n",
    "\n",
    "#     qualified[\"wr\"] = compute_weighted_rating(qualified, m, C)\n",
    "\n",
    "#     return qualified.sort_values(by=\"wr\", ascending=False).head(20)\n",
    "\n",
    "def build_user_profile(user_id, result, m, C):\n",
    "    user_ratings = result[result[\"user_id\"] == user_id]\n",
    "    categories = user_ratings[\"main_category\"].dropna().unique()\n",
    "    items = user_ratings[\"item_id\"].tolist()\n",
    "\n",
    "    qualified = result[\n",
    "        (result['rating_number'].notnull()) &\n",
    "        (result['average_rating'].notnull()) &\n",
    "        (result['main_category'].isin(categories)) &\n",
    "        (~result[\"item_id\"].isin(items))\n",
    "    ][['item_id', \"main_category\", \"average_rating\", \"rating_number\"]].copy()\n",
    "\n",
    "    # Drop duplicate items (keep first by default)\n",
    "    qualified = qualified.drop_duplicates(subset='item_id')\n",
    "\n",
    "    print(f\"User {user_id}: categories={categories}, rated_items={len(items)}, qualified_count={qualified.shape[0]}\")\n",
    "\n",
    "    # Apply vectorized weighted rating\n",
    "    qualified[\"wr\"] = compute_weighted_rating(qualified, m, C)\n",
    "\n",
    "    return qualified.sort_values(by=\"wr\", ascending=False).head(10)"
   ]
  },
  {
   "cell_type": "code",
   "execution_count": null,
   "id": "36b80f03",
   "metadata": {},
   "outputs": [
    {
     "data": {
      "text/html": [
       "<div>\n",
       "<style scoped>\n",
       "    .dataframe tbody tr th:only-of-type {\n",
       "        vertical-align: middle;\n",
       "    }\n",
       "\n",
       "    .dataframe tbody tr th {\n",
       "        vertical-align: top;\n",
       "    }\n",
       "\n",
       "    .dataframe thead th {\n",
       "        text-align: right;\n",
       "    }\n",
       "</style>\n",
       "<table border=\"1\" class=\"dataframe\">\n",
       "  <thead>\n",
       "    <tr style=\"text-align: right;\">\n",
       "      <th></th>\n",
       "      <th>parent_asin</th>\n",
       "      <th>main_category</th>\n",
       "      <th>title</th>\n",
       "      <th>average_rating</th>\n",
       "      <th>rating_number</th>\n",
       "      <th>price</th>\n",
       "      <th>store</th>\n",
       "      <th>features</th>\n",
       "      <th>description</th>\n",
       "      <th>images</th>\n",
       "      <th>categories</th>\n",
       "      <th>image_count</th>\n",
       "      <th>has_images</th>\n",
       "      <th>image_urls</th>\n",
       "      <th>category</th>\n",
       "      <th>item_id</th>\n",
       "      <th>wr</th>\n",
       "    </tr>\n",
       "  </thead>\n",
       "  <tbody>\n",
       "  </tbody>\n",
       "</table>\n",
       "</div>"
      ],
      "text/plain": [
       "Empty DataFrame\n",
       "Columns: [parent_asin, main_category, title, average_rating, rating_number, price, store, features, description, images, categories, image_count, has_images, image_urls, category, item_id, wr]\n",
       "Index: []"
      ]
     },
     "execution_count": 79,
     "metadata": {},
     "output_type": "execute_result"
    }
   ],
   "source": []
  },
  {
   "cell_type": "code",
   "execution_count": null,
   "id": "ca93da10",
   "metadata": {},
   "outputs": [
    {
     "name": "stdout",
     "output_type": "stream",
     "text": [
      "User 0: categories=['Appstore for Android'], rated_items=7, qualified_count=41199\n",
      "item_id main_category average_rating rating_number wr\n",
      "User 1: categories=['Appstore for Android'], rated_items=2, qualified_count=41204\n",
      "item_id main_category average_rating rating_number wr\n",
      "User 2: categories=['Appstore for Android'], rated_items=2, qualified_count=41204\n",
      "item_id main_category average_rating rating_number wr\n",
      "User 3: categories=['Appstore for Android'], rated_items=8, qualified_count=41198\n",
      "item_id main_category average_rating rating_number wr\n",
      "User 4: categories=['Appstore for Android'], rated_items=2, qualified_count=41204\n",
      "item_id main_category average_rating rating_number wr\n",
      "User 5: categories=['Appstore for Android' 'Software'], rated_items=5, qualified_count=46639\n",
      "item_id main_category average_rating rating_number wr\n",
      "User 6: categories=['Appstore for Android'], rated_items=3, qualified_count=41203\n",
      "item_id main_category average_rating rating_number wr\n",
      "User 7: categories=['Appstore for Android'], rated_items=2, qualified_count=41204\n",
      "item_id main_category average_rating rating_number wr\n",
      "User 8: categories=['Appstore for Android' 'Software'], rated_items=3, qualified_count=46642\n",
      "item_id main_category average_rating rating_number wr\n",
      "User 9: categories=['Appstore for Android'], rated_items=2, qualified_count=41204\n",
      "item_id main_category average_rating rating_number wr\n",
      "[{'user_id': 0, 'items': '65542 65542 65542 65542 65542 65542 65542 65542 65542 65542'}, {'user_id': 0, 'items': '65542 65542 65542 65542 65542 65542 65542 65542 65542 65542'}, {'user_id': 1, 'items': '65542 65542 65542 65542 65542 65542 65542 65542 65542 65542'}, {'user_id': 2, 'items': '65542 65542 65542 65542 65542 65542 65542 65542 65542 65542'}, {'user_id': 3, 'items': '65542 65542 65542 65542 65542 65542 65542 65542 65542 65542'}, {'user_id': 4, 'items': '65542 65542 65542 65542 65542 65542 65542 65542 65542 65542'}, {'user_id': 5, 'items': '65542 65542 65542 65542 65542 65542 65542 65542 65542 65542'}, {'user_id': 6, 'items': '65542 65542 65542 65542 65542 65542 65542 65542 65542 65542'}, {'user_id': 7, 'items': '65542 65542 65542 65542 65542 65542 65542 65542 65542 65542'}, {'user_id': 8, 'items': '65542 65542 65542 65542 65542 65542 65542 65542 65542 65542'}, {'user_id': 9, 'items': '65542 65542 65542 65542 65542 65542 65542 65542 65542 65542'}, {'user_id': 10, 'items': '65542 65542 65542 65542 65542 65542 65542 65542 65542 65542'}, {'user_id': 11, 'items': '65542 65542 65542 65542 65542 65542 65542 65542 65542 65542'}, {'user_id': 12, 'items': '65542 65542 65542 65542 65542 65542 65542 65542 65542 65542'}, {'user_id': 13, 'items': '72390 72390 72390 72390 72390 72390 72390 72390 72390 72390'}, {'user_id': 14, 'items': '65542 65542 65542 65542 65542 65542 65542 65542 65542 65542'}, {'user_id': 15, 'items': '65542 65542 65542 65542 65542 65542 65542 65542 65542 65542'}, {'user_id': 16, 'items': '65542 65542 65542 65542 65542 65542 65542 65542 65542 65542'}, {'user_id': 17, 'items': '65542 65542 65542 65542 65542 65542 65542 65542 65542 65542'}, {'user_id': 18, 'items': '65542 65542 65542 65542 65542 65542 65542 65542 65542 65542'}, {'user_id': 19, 'items': '65542 65542 65542 65542 65542 65542 65542 65542 65542 65542'}, {'user_id': 0, 'items': '65542 6864 30280 76150 7151 30293 12104 37461 75182 27764'}, {'user_id': 1, 'items': '65542 6864 30280 76150 7151 30293 12104 37461 75182 27764'}, {'user_id': 2, 'items': '65542 6864 30280 76150 7151 30293 12104 37461 75182 27764'}, {'user_id': 3, 'items': '65542 6864 30280 76150 7151 30293 12104 37461 75182 27764'}, {'user_id': 4, 'items': '65542 6864 30280 76150 7151 30293 12104 37461 75182 27764'}, {'user_id': 5, 'items': '65542 6864 30280 76150 7151 30293 12104 37461 75182 27764'}, {'user_id': 6, 'items': '65542 6864 30280 76150 7151 30293 12104 37461 75182 27764'}, {'user_id': 7, 'items': '65542 6864 30280 76150 7151 30293 12104 37461 75182 27764'}, {'user_id': 8, 'items': '65542 6864 30280 76150 7151 30293 12104 37461 75182 27764'}, {'user_id': 9, 'items': '65542 6864 30280 76150 7151 30293 12104 37461 75182 27764'}, {'user_id': 10, 'items': '65542 6864 30280 76150 7151 30293 12104 37461 75182 27764'}, {'user_id': 11, 'items': '65542 6864 30280 76150 7151 30293 12104 37461 75182 27764'}, {'user_id': 12, 'items': '65542 6864 30280 76150 7151 30293 12104 37461 75182 27764'}, {'user_id': 13, 'items': '72390 67143 72386 72389 35391 75909 73036 67141 70642 73190'}, {'user_id': 14, 'items': '65542 6864 30280 76150 7151 30293 12104 37461 75182 27764'}, {'user_id': 15, 'items': '65542 6864 30280 76150 7151 30293 12104 37461 75182 27764'}, {'user_id': 16, 'items': '65542 6864 30280 76150 7151 12104 37461 75182 27764 66839'}, {'user_id': 17, 'items': '65542 6864 30280 76150 7151 30293 12104 37461 75182 27764'}, {'user_id': 18, 'items': '65542 6864 30280 76150 7151 30293 12104 37461 75182 27764'}, {'user_id': 19, 'items': '65542 6864 30280 76150 7151 77142 30293 12104 37461 75182'}, {'user_id': 0, 'items': '65542 6864 30280 76150 7151 30293 12104 37461 75182 27764 66839 29102 71955 74491 74458 74453 31543 68329 15381 28254'}, {'user_id': 1, 'items': '65542 6864 30280 76150 7151 30293 12104 37461 75182 27764 66839 29102 71955 74491 74458 74453 31543 68329 15381 28254'}, {'user_id': 2, 'items': '65542 6864 30280 76150 7151 30293 12104 37461 75182 27764 66839 29102 71955 74491 74458 74453 31543 68329 15381 28254'}, {'user_id': 3, 'items': '65542 6864 30280 76150 7151 30293 12104 37461 75182 27764 66839 29102 71955 74491 74458 74453 31543 68329 15381 28254'}, {'user_id': 4, 'items': '65542 6864 30280 76150 7151 30293 12104 37461 75182 27764 66839 29102 71955 74491 74458 74453 31543 68329 15381 28254'}, {'user_id': 5, 'items': '65542 6864 30280 76150 7151 30293 12104 37461 75182 27764 66839 29102 71955 74491 74458 74453 31543 68329 15381 28254'}, {'user_id': 6, 'items': '65542 6864 30280 76150 7151 30293 12104 37461 75182 27764 66839 29102 71955 74491 74458 74453 31543 68329 15381 28254'}, {'user_id': 7, 'items': '65542 6864 30280 76150 7151 30293 12104 37461 75182 27764 66839 29102 71955 74491 74458 74453 31543 68329 15381 28254'}, {'user_id': 8, 'items': '65542 6864 30280 76150 7151 30293 12104 37461 75182 27764 66839 29102 71955 74491 74458 74453 31543 68329 15381 28254'}, {'user_id': 9, 'items': '65542 6864 30280 76150 7151 30293 12104 37461 75182 27764 66839 29102 71955 74491 74458 74453 31543 68329 15381 28254'}, {'user_id': 10, 'items': '65542 6864 30280 76150 7151 30293 12104 37461 75182 27764 66839 29102 71955 74491 74458 74453 31543 68329 15381 28254'}, {'user_id': 11, 'items': '65542 6864 30280 76150 7151 30293 12104 37461 75182 27764 66839 29102 71955 74491 74458 74453 31543 68329 15381 28254'}, {'user_id': 12, 'items': '65542 6864 30280 76150 7151 30293 12104 37461 75182 27764 66839 29102 71955 74491 74458 74453 31543 68329 15381 28254'}, {'user_id': 13, 'items': '72390 67143 72386 72389 35391 75909 73036 67141 70642 73190 67147 77400 38113 30691 71259 72387 64918 55343 77439 55019'}, {'user_id': 14, 'items': '65542 6864 30280 76150 7151 30293 12104 37461 75182 27764 66839 29102 71955 74491 74458 74453 31543 68329 15381 28254'}, {'user_id': 15, 'items': '65542 6864 30280 76150 7151 30293 12104 37461 75182 27764 66839 29102 71955 74491 74458 74453 31543 68329 15381 28254'}, {'user_id': 16, 'items': '65542 6864 30280 76150 7151 12104 37461 75182 27764 66839 29102 71955 74491 74458 74453 31543 68329 15381 28254 32000'}, {'user_id': 17, 'items': '65542 6864 30280 76150 7151 30293 12104 37461 75182 27764 66839 29102 71955 74491 74458 74453 31543 68329 15381 28254'}, {'user_id': 18, 'items': '65542 6864 30280 76150 7151 30293 12104 37461 75182 27764 66839 29102 71955 74491 74458 74453 31543 68329 15381 28254'}, {'user_id': 19, 'items': '65542 6864 30280 76150 7151 77142 30293 12104 37461 75182 27764 66839 29102 71955 74491 74458 74453 31543 77678 68329'}, {'user_id': 0, 'items': '65542 6864 30280 76150 7151 30293 12104 37461 75182 27764 66839 29102 71955 74491 74458 74453 31543 68329 15381 28254'}, {'user_id': 1, 'items': '65542 6864 30280 76150 7151 30293 12104 37461 75182 27764 66839 29102 71955 74491 74458 74453 31543 68329 15381 28254'}, {'user_id': 2, 'items': '65542 6864 30280 76150 7151 30293 12104 37461 75182 27764 66839 29102 71955 74491 74458 74453 31543 68329 15381 28254'}, {'user_id': 3, 'items': '65542 6864 30280 76150 7151 30293 12104 37461 75182 27764 66839 29102 71955 74491 74458 74453 31543 68329 15381 28254'}, {'user_id': 4, 'items': '65542 6864 30280 76150 7151 30293 12104 37461 75182 27764 66839 29102 71955 74491 74458 74453 31543 68329 15381 28254'}, {'user_id': 5, 'items': '65542 6864 30280 76150 7151 30293 12104 37461 75182 27764 66839 29102 71955 74491 74458 74453 31543 68329 15381 28254'}, {'user_id': 6, 'items': '65542 6864 30280 76150 7151 30293 12104 37461 75182 27764 66839 29102 71955 74491 74458 74453 31543 68329 15381 28254'}, {'user_id': 7, 'items': '65542 6864 30280 76150 7151 30293 12104 37461 75182 27764 66839 29102 71955 74491 74458 74453 31543 68329 15381 28254'}, {'user_id': 8, 'items': '65542 6864 30280 76150 7151 30293 12104 37461 75182 27764 66839 29102 71955 74491 74458 74453 31543 68329 15381 28254'}, {'user_id': 9, 'items': '65542 6864 30280 76150 7151 30293 12104 37461 75182 27764 66839 29102 71955 74491 74458 74453 31543 68329 15381 28254'}, {'user_id': 10, 'items': '65542 6864 30280 76150 7151 30293 12104 37461 75182 27764 66839 29102 71955 74491 74458 74453 31543 68329 15381 28254'}, {'user_id': 11, 'items': '65542 6864 30280 76150 7151 30293 12104 37461 75182 27764 66839 29102 71955 74491 74458 74453 31543 68329 15381 28254'}, {'user_id': 12, 'items': '65542 6864 30280 76150 7151 30293 12104 37461 75182 27764 66839 29102 71955 74491 74458 74453 31543 68329 15381 28254'}, {'user_id': 13, 'items': '72390 67143 72386 72389 35391 75909 73036 67141 70642 73190 67147 77400 38113 30691 71259 72387 64918 55343 77439 55019'}, {'user_id': 14, 'items': '65542 6864 30280 76150 7151 30293 12104 37461 75182 27764 66839 29102 71955 74491 74458 74453 31543 68329 15381 28254'}, {'user_id': 15, 'items': '65542 6864 30280 76150 7151 30293 12104 37461 75182 27764 66839 29102 71955 74491 74458 74453 31543 68329 15381 28254'}, {'user_id': 16, 'items': '65542 6864 30280 76150 7151 12104 37461 75182 27764 66839 29102 71955 74491 74458 74453 31543 68329 15381 28254 32000'}, {'user_id': 17, 'items': '65542 6864 30280 76150 7151 30293 12104 37461 75182 27764 66839 29102 71955 74491 74458 74453 31543 68329 15381 28254'}, {'user_id': 18, 'items': '65542 6864 30280 76150 7151 30293 12104 37461 75182 27764 66839 29102 71955 74491 74458 74453 31543 68329 15381 28254'}, {'user_id': 19, 'items': '65542 6864 30280 76150 7151 77142 30293 12104 37461 75182 27764 66839 29102 71955 74491 74458 74453 31543 77678 68329'}, {'user_id': 0, 'items': '65542 6864 30280 76150 7151 30293 12104 37461 75182 27764'}, {'user_id': 1, 'items': '65542 6864 30280 76150 7151 30293 12104 37461 75182 27764'}, {'user_id': 2, 'items': '65542 6864 30280 76150 7151 30293 12104 37461 75182 27764'}, {'user_id': 3, 'items': '65542 6864 30280 76150 7151 30293 12104 37461 75182 27764'}, {'user_id': 4, 'items': '65542 6864 30280 76150 7151 30293 12104 37461 75182 27764'}, {'user_id': 5, 'items': '65542 6864 30280 76150 7151 30293 12104 37461 75182 27764'}, {'user_id': 6, 'items': '65542 6864 30280 76150 7151 30293 12104 37461 75182 27764'}, {'user_id': 7, 'items': '65542 6864 30280 76150 7151 30293 12104 37461 75182 27764'}, {'user_id': 8, 'items': '65542 6864 30280 76150 7151 30293 12104 37461 75182 27764'}, {'user_id': 9, 'items': '65542 6864 30280 76150 7151 30293 12104 37461 75182 27764'}, {'user_id': 10, 'items': '65542 6864 30280 76150 7151 30293 12104 37461 75182 27764'}, {'user_id': 11, 'items': '65542 6864 30280 76150 7151 30293 12104 37461 75182 27764'}, {'user_id': 12, 'items': '65542 6864 30280 76150 7151 30293 12104 37461 75182 27764'}, {'user_id': 13, 'items': '72390 67143 72386 72389 35391 75909 73036 67141 70642 73190'}, {'user_id': 14, 'items': '65542 6864 30280 76150 7151 30293 12104 37461 75182 27764'}, {'user_id': 15, 'items': '65542 6864 30280 76150 7151 30293 12104 37461 75182 27764'}, {'user_id': 16, 'items': '65542 6864 30280 76150 7151 12104 37461 75182 27764 66839'}, {'user_id': 17, 'items': '65542 6864 30280 76150 7151 30293 12104 37461 75182 27764'}, {'user_id': 18, 'items': '65542 6864 30280 76150 7151 30293 12104 37461 75182 27764'}, {'user_id': 19, 'items': '65542 6864 30280 76150 7151 77142 30293 12104 37461 75182'}, {'user_id': 0, 'items': '65542 6864 30280 76150 7151 30293 12104 37461 75182 27764'}, {'user_id': 1, 'items': '65542 6864 30280 76150 7151 30293 12104 37461 75182 27764'}, {'user_id': 2, 'items': '65542 6864 30280 76150 7151 30293 12104 37461 75182 27764'}, {'user_id': 3, 'items': '65542 6864 30280 76150 7151 30293 12104 37461 75182 27764'}, {'user_id': 4, 'items': '65542 6864 30280 76150 7151 30293 12104 37461 75182 27764'}, {'user_id': 5, 'items': '65542 6864 30280 76150 7151 30293 12104 37461 75182 27764'}, {'user_id': 6, 'items': '65542 6864 30280 76150 7151 30293 12104 37461 75182 27764'}, {'user_id': 7, 'items': '65542 6864 30280 76150 7151 30293 12104 37461 75182 27764'}, {'user_id': 8, 'items': '65542 6864 30280 76150 7151 30293 12104 37461 75182 27764'}, {'user_id': 9, 'items': '65542 6864 30280 76150 7151 30293 12104 37461 75182 27764'}, {'user_id': 10, 'items': '65542 6864 30280 76150 7151 30293 12104 37461 75182 27764'}, {'user_id': 11, 'items': '65542 6864 30280 76150 7151 30293 12104 37461 75182 27764'}, {'user_id': 12, 'items': '65542 6864 30280 76150 7151 30293 12104 37461 75182 27764'}, {'user_id': 13, 'items': '72390 67143 72386 72389 35391 75909 73036 67141 70642 73190'}, {'user_id': 14, 'items': '65542 6864 30280 76150 7151 30293 12104 37461 75182 27764'}, {'user_id': 15, 'items': '65542 6864 30280 76150 7151 30293 12104 37461 75182 27764'}, {'user_id': 16, 'items': '65542 6864 30280 76150 7151 12104 37461 75182 27764 66839'}, {'user_id': 17, 'items': '65542 6864 30280 76150 7151 30293 12104 37461 75182 27764'}, {'user_id': 18, 'items': '65542 6864 30280 76150 7151 30293 12104 37461 75182 27764'}, {'user_id': 19, 'items': '65542 6864 30280 76150 7151 77142 30293 12104 37461 75182'}, {'user_id': 0, 'items': '65542 6864 30280 76150 7151 30293 12104 37461 75182 27764'}, {'user_id': 1, 'items': '65542 6864 30280 76150 7151 30293 12104 37461 75182 27764'}, {'user_id': 2, 'items': '65542 6864 30280 76150 7151 30293 12104 37461 75182 27764'}, {'user_id': 3, 'items': '65542 6864 30280 76150 7151 30293 12104 37461 75182 27764'}, {'user_id': 4, 'items': '65542 6864 30280 76150 7151 30293 12104 37461 75182 27764'}, {'user_id': 5, 'items': '65542 6864 30280 76150 7151 30293 12104 37461 75182 27764'}, {'user_id': 6, 'items': '65542 6864 30280 76150 7151 30293 12104 37461 75182 27764'}, {'user_id': 7, 'items': '65542 6864 30280 76150 7151 30293 12104 37461 75182 27764'}, {'user_id': 8, 'items': '65542 6864 30280 76150 7151 30293 12104 37461 75182 27764'}, {'user_id': 9, 'items': '65542 6864 30280 76150 7151 30293 12104 37461 75182 27764'}, {'user_id': 10, 'items': '65542 6864 30280 76150 7151 30293 12104 37461 75182 27764'}, {'user_id': 11, 'items': '65542 6864 30280 76150 7151 30293 12104 37461 75182 27764'}, {'user_id': 12, 'items': '65542 6864 30280 76150 7151 30293 12104 37461 75182 27764'}, {'user_id': 13, 'items': '72390 67143 72386 72389 35391 75909 73036 67141 70642 73190'}, {'user_id': 14, 'items': '65542 6864 30280 76150 7151 30293 12104 37461 75182 27764'}, {'user_id': 15, 'items': '65542 6864 30280 76150 7151 30293 12104 37461 75182 27764'}, {'user_id': 16, 'items': '65542 6864 30280 76150 7151 12104 37461 75182 27764 66839'}, {'user_id': 17, 'items': '65542 6864 30280 76150 7151 30293 12104 37461 75182 27764'}, {'user_id': 18, 'items': '65542 6864 30280 76150 7151 30293 12104 37461 75182 27764'}, {'user_id': 19, 'items': '65542 6864 30280 76150 7151 77142 30293 12104 37461 75182'}, {'user_id': 0, 'items': '65542 6864 30280 76150 7151 30293 12104 37461 75182 27764'}, {'user_id': 1, 'items': '65542 6864 30280 76150 7151 30293 12104 37461 75182 27764'}, {'user_id': 2, 'items': '65542 6864 30280 76150 7151 30293 12104 37461 75182 27764'}, {'user_id': 3, 'items': '65542 6864 30280 76150 7151 30293 12104 37461 75182 27764'}, {'user_id': 4, 'items': '65542 6864 30280 76150 7151 30293 12104 37461 75182 27764'}, {'user_id': 5, 'items': '65542 6864 30280 76150 7151 30293 12104 37461 75182 27764'}, {'user_id': 6, 'items': '65542 6864 30280 76150 7151 30293 12104 37461 75182 27764'}, {'user_id': 7, 'items': '65542 6864 30280 76150 7151 30293 12104 37461 75182 27764'}, {'user_id': 8, 'items': '65542 6864 30280 76150 7151 30293 12104 37461 75182 27764'}, {'user_id': 9, 'items': '65542 6864 30280 76150 7151 30293 12104 37461 75182 27764'}, {'user_id': 0, 'items': '65542 6864 30280 76150 7151 30293 12104 37461 75182 27764'}, {'user_id': 1, 'items': '65542 6864 30280 76150 7151 30293 12104 37461 75182 27764'}, {'user_id': 2, 'items': '65542 6864 30280 76150 7151 30293 12104 37461 75182 27764'}, {'user_id': 3, 'items': '65542 6864 30280 76150 7151 30293 12104 37461 75182 27764'}, {'user_id': 4, 'items': '65542 6864 30280 76150 7151 30293 12104 37461 75182 27764'}, {'user_id': 5, 'items': '65542 6864 30280 76150 7151 30293 12104 37461 75182 27764'}, {'user_id': 6, 'items': '65542 6864 30280 76150 7151 30293 12104 37461 75182 27764'}, {'user_id': 7, 'items': '65542 6864 30280 76150 7151 30293 12104 37461 75182 27764'}, {'user_id': 8, 'items': '65542 6864 30280 76150 7151 30293 12104 37461 75182 27764'}, {'user_id': 9, 'items': '65542 6864 30280 76150 7151 30293 12104 37461 75182 27764'}, {'user_id': 0, 'items': '65542 6864 30280 76150 7151 30293 12104 37461 75182 27764'}, {'user_id': 1, 'items': '65542 6864 30280 76150 7151 30293 12104 37461 75182 27764'}, {'user_id': 2, 'items': '65542 6864 30280 76150 7151 30293 12104 37461 75182 27764'}, {'user_id': 3, 'items': '65542 6864 30280 76150 7151 30293 12104 37461 75182 27764'}, {'user_id': 4, 'items': '65542 6864 30280 76150 7151 30293 12104 37461 75182 27764'}, {'user_id': 5, 'items': '65542 6864 30280 76150 7151 30293 12104 37461 75182 27764'}, {'user_id': 6, 'items': '65542 6864 30280 76150 7151 30293 12104 37461 75182 27764'}, {'user_id': 7, 'items': '65542 6864 30280 76150 7151 30293 12104 37461 75182 27764'}, {'user_id': 8, 'items': '65542 6864 30280 76150 7151 30293 12104 37461 75182 27764'}, {'user_id': 9, 'items': '65542 6864 30280 76150 7151 30293 12104 37461 75182 27764'}, {'user_id': 0, 'items': '65542 6864 30280 76150 7151 30293 12104 37461 75182 27764'}, {'user_id': 1, 'items': '65542 6864 30280 76150 7151 30293 12104 37461 75182 27764'}, {'user_id': 2, 'items': '65542 6864 30280 76150 7151 30293 12104 37461 75182 27764'}, {'user_id': 3, 'items': '65542 6864 30280 76150 7151 30293 12104 37461 75182 27764'}, {'user_id': 4, 'items': '65542 6864 30280 76150 7151 30293 12104 37461 75182 27764'}, {'user_id': 5, 'items': '65542 6864 30280 76150 7151 30293 12104 37461 75182 27764'}, {'user_id': 6, 'items': '65542 6864 30280 76150 7151 30293 12104 37461 75182 27764'}, {'user_id': 7, 'items': '65542 6864 30280 76150 7151 30293 12104 37461 75182 27764'}, {'user_id': 8, 'items': '65542 6864 30280 76150 7151 30293 12104 37461 75182 27764'}, {'user_id': 9, 'items': '65542 6864 30280 76150 7151 30293 12104 37461 75182 27764'}, {'user_id': 0, 'items': '65542 6864 30280 76150 7151 30293 12104 37461 75182 27764'}, {'user_id': 1, 'items': '65542 6864 30280 76150 7151 30293 12104 37461 75182 27764'}, {'user_id': 2, 'items': '65542 6864 30280 76150 7151 30293 12104 37461 75182 27764'}, {'user_id': 3, 'items': '65542 6864 30280 76150 7151 30293 12104 37461 75182 27764'}, {'user_id': 4, 'items': '65542 6864 30280 76150 7151 30293 12104 37461 75182 27764'}, {'user_id': 5, 'items': '65542 6864 30280 76150 7151 30293 12104 37461 75182 27764'}, {'user_id': 6, 'items': '65542 6864 30280 76150 7151 30293 12104 37461 75182 27764'}, {'user_id': 7, 'items': '65542 6864 30280 76150 7151 30293 12104 37461 75182 27764'}, {'user_id': 8, 'items': '65542 6864 30280 76150 7151 30293 12104 37461 75182 27764'}, {'user_id': 9, 'items': '65542 6864 30280 76150 7151 30293 12104 37461 75182 27764'}, {'user_id': 0, 'items': '65542 6864 30280 76150 7151 30293 12104 37461 75182 27764'}, {'user_id': 1, 'items': '65542 6864 30280 76150 7151 30293 12104 37461 75182 27764'}, {'user_id': 2, 'items': '65542 6864 30280 76150 7151 30293 12104 37461 75182 27764'}, {'user_id': 3, 'items': '65542 6864 30280 76150 7151 30293 12104 37461 75182 27764'}, {'user_id': 4, 'items': '65542 6864 30280 76150 7151 30293 12104 37461 75182 27764'}, {'user_id': 5, 'items': '65542 6864 30280 76150 7151 30293 12104 37461 75182 27764'}, {'user_id': 6, 'items': '65542 6864 30280 76150 7151 30293 12104 37461 75182 27764'}, {'user_id': 7, 'items': '65542 6864 30280 76150 7151 30293 12104 37461 75182 27764'}, {'user_id': 8, 'items': '65542 6864 30280 76150 7151 30293 12104 37461 75182 27764'}, {'user_id': 9, 'items': '65542 6864 30280 76150 7151 30293 12104 37461 75182 27764'}, {'user_id': 0, 'items': 'item_id main_category average_rating rating_number wr'}, {'user_id': 1, 'items': 'item_id main_category average_rating rating_number wr'}, {'user_id': 2, 'items': 'item_id main_category average_rating rating_number wr'}, {'user_id': 3, 'items': 'item_id main_category average_rating rating_number wr'}, {'user_id': 4, 'items': 'item_id main_category average_rating rating_number wr'}, {'user_id': 5, 'items': 'item_id main_category average_rating rating_number wr'}, {'user_id': 6, 'items': 'item_id main_category average_rating rating_number wr'}, {'user_id': 7, 'items': 'item_id main_category average_rating rating_number wr'}, {'user_id': 8, 'items': 'item_id main_category average_rating rating_number wr'}, {'user_id': 9, 'items': 'item_id main_category average_rating rating_number wr'}, {'user_id': 0, 'items': 'item_id main_category average_rating rating_number wr'}, {'user_id': 1, 'items': 'item_id main_category average_rating rating_number wr'}, {'user_id': 2, 'items': 'item_id main_category average_rating rating_number wr'}, {'user_id': 3, 'items': 'item_id main_category average_rating rating_number wr'}, {'user_id': 4, 'items': 'item_id main_category average_rating rating_number wr'}, {'user_id': 5, 'items': 'item_id main_category average_rating rating_number wr'}, {'user_id': 6, 'items': 'item_id main_category average_rating rating_number wr'}, {'user_id': 7, 'items': 'item_id main_category average_rating rating_number wr'}, {'user_id': 8, 'items': 'item_id main_category average_rating rating_number wr'}, {'user_id': 9, 'items': 'item_id main_category average_rating rating_number wr'}, {'user_id': 0, 'items': 'item_id main_category average_rating rating_number wr'}, {'user_id': 1, 'items': 'item_id main_category average_rating rating_number wr'}, {'user_id': 2, 'items': 'item_id main_category average_rating rating_number wr'}, {'user_id': 3, 'items': 'item_id main_category average_rating rating_number wr'}, {'user_id': 4, 'items': 'item_id main_category average_rating rating_number wr'}, {'user_id': 5, 'items': 'item_id main_category average_rating rating_number wr'}, {'user_id': 6, 'items': 'item_id main_category average_rating rating_number wr'}, {'user_id': 7, 'items': 'item_id main_category average_rating rating_number wr'}, {'user_id': 8, 'items': 'item_id main_category average_rating rating_number wr'}, {'user_id': 9, 'items': 'item_id main_category average_rating rating_number wr'}, {'user_id': 0, 'items': 'item_id main_category average_rating rating_number wr'}, {'user_id': 1, 'items': 'item_id main_category average_rating rating_number wr'}, {'user_id': 2, 'items': 'item_id main_category average_rating rating_number wr'}, {'user_id': 3, 'items': 'item_id main_category average_rating rating_number wr'}, {'user_id': 4, 'items': 'item_id main_category average_rating rating_number wr'}, {'user_id': 5, 'items': 'item_id main_category average_rating rating_number wr'}, {'user_id': 6, 'items': 'item_id main_category average_rating rating_number wr'}, {'user_id': 7, 'items': 'item_id main_category average_rating rating_number wr'}, {'user_id': 8, 'items': 'item_id main_category average_rating rating_number wr'}, {'user_id': 9, 'items': 'item_id main_category average_rating rating_number wr'}, {'user_id': 0, 'items': 'item_id main_category average_rating rating_number wr'}, {'user_id': 1, 'items': 'item_id main_category average_rating rating_number wr'}, {'user_id': 2, 'items': 'item_id main_category average_rating rating_number wr'}, {'user_id': 3, 'items': 'item_id main_category average_rating rating_number wr'}, {'user_id': 4, 'items': 'item_id main_category average_rating rating_number wr'}, {'user_id': 5, 'items': 'item_id main_category average_rating rating_number wr'}, {'user_id': 6, 'items': 'item_id main_category average_rating rating_number wr'}, {'user_id': 7, 'items': 'item_id main_category average_rating rating_number wr'}, {'user_id': 8, 'items': 'item_id main_category average_rating rating_number wr'}, {'user_id': 9, 'items': 'item_id main_category average_rating rating_number wr'}, {'user_id': 0, 'items': '65542 6864 30280 76150 7151 30293 12104 37461 75182 27764'}, {'user_id': 1, 'items': '65542 6864 30280 76150 7151 30293 12104 37461 75182 27764'}, {'user_id': 2, 'items': '65542 6864 30280 76150 7151 30293 12104 37461 75182 27764'}, {'user_id': 3, 'items': '65542 6864 30280 76150 7151 30293 12104 37461 75182 27764'}, {'user_id': 4, 'items': '65542 6864 30280 76150 7151 30293 12104 37461 75182 27764'}, {'user_id': 5, 'items': '65542 6864 30280 76150 7151 30293 12104 37461 75182 27764'}, {'user_id': 6, 'items': '65542 6864 30280 76150 7151 30293 12104 37461 75182 27764'}, {'user_id': 7, 'items': '65542 6864 30280 76150 7151 30293 12104 37461 75182 27764'}, {'user_id': 8, 'items': '65542 6864 30280 76150 7151 30293 12104 37461 75182 27764'}, {'user_id': 9, 'items': '65542 6864 30280 76150 7151 30293 12104 37461 75182 27764'}, {'user_id': 0, 'items': '65542 6864 30280 76150 7151 30293 12104 37461 75182 27764'}, {'user_id': 1, 'items': '65542 6864 30280 76150 7151 30293 12104 37461 75182 27764'}, {'user_id': 2, 'items': '65542 6864 30280 76150 7151 30293 12104 37461 75182 27764'}, {'user_id': 3, 'items': '65542 6864 30280 76150 7151 30293 12104 37461 75182 27764'}, {'user_id': 4, 'items': '65542 6864 30280 76150 7151 30293 12104 37461 75182 27764'}, {'user_id': 5, 'items': '65542 6864 30280 76150 7151 30293 12104 37461 75182 27764'}, {'user_id': 6, 'items': '65542 6864 30280 76150 7151 30293 12104 37461 75182 27764'}, {'user_id': 7, 'items': '65542 6864 30280 76150 7151 30293 12104 37461 75182 27764'}, {'user_id': 8, 'items': '65542 6864 30280 76150 7151 30293 12104 37461 75182 27764'}, {'user_id': 9, 'items': '65542 6864 30280 76150 7151 30293 12104 37461 75182 27764'}]\n",
      "   user_id                                              items\n",
      "0        0  65542 65542 65542 65542 65542 65542 65542 6554...\n",
      "1        0  65542 65542 65542 65542 65542 65542 65542 6554...\n",
      "2        1  65542 65542 65542 65542 65542 65542 65542 6554...\n",
      "3        2  65542 65542 65542 65542 65542 65542 65542 6554...\n",
      "4        3  65542 65542 65542 65542 65542 65542 65542 6554...\n"
     ]
    }
   ],
   "source": [
    "user_recommendations = {}\n",
    "for user_id in df[\"user_id\"].unique()[:10]:\n",
    "    qualified = build_user_profile(user_id, result, m, C)\n",
    "    user_recommendations.append({\n",
    "        \"user_id\": user_id,\n",
    "        \"items\": \" \".join(qualified[\"item_id\"].astype(str).tolist())})\n",
    "    print(items_str)\n",
    "\n",
    "print(user_recommendations)\n",
    "final = pd.DataFrame(user_recommendations)\n",
    "print(final.head())\n",
    "final.to_csv(\"final.csv\", index=False)"
   ]
  },
  {
   "cell_type": "code",
   "execution_count": null,
   "id": "66d3d100",
   "metadata": {},
   "outputs": [
    {
     "name": "stdout",
     "output_type": "stream",
     "text": [
      "User id: 0\n",
      "         item_id         main_category  average_rating  rating_number  \\\n",
      "705311     65542  Appstore for Android             4.6      1898759.0   \n",
      "2059527    65542  Appstore for Android             4.6      1898759.0   \n",
      "1084882    65542  Appstore for Android             4.6      1898759.0   \n",
      "1339123    65542  Appstore for Android             4.6      1898759.0   \n",
      "1475944    65542  Appstore for Android             4.6      1898759.0   \n",
      "223891     65542  Appstore for Android             4.6      1898759.0   \n",
      "223911     65542  Appstore for Android             4.6      1898759.0   \n",
      "26890      65542  Appstore for Android             4.6      1898759.0   \n",
      "1187587    65542  Appstore for Android             4.6      1898759.0   \n",
      "760445     65542  Appstore for Android             4.6      1898759.0   \n",
      "223916     65542  Appstore for Android             4.6      1898759.0   \n",
      "157462     65542  Appstore for Android             4.6      1898759.0   \n",
      "1187543    65542  Appstore for Android             4.6      1898759.0   \n",
      "303127     65542  Appstore for Android             4.6      1898759.0   \n",
      "760336     65542  Appstore for Android             4.6      1898759.0   \n",
      "303035     65542  Appstore for Android             4.6      1898759.0   \n",
      "658384     65542  Appstore for Android             4.6      1898759.0   \n",
      "49958      65542  Appstore for Android             4.6      1898759.0   \n",
      "223995     65542  Appstore for Android             4.6      1898759.0   \n",
      "302949     65542  Appstore for Android             4.6      1898759.0   \n",
      "\n",
      "               wr  \n",
      "705311   4.582701  \n",
      "2059527  4.582701  \n",
      "1084882  4.582701  \n",
      "1339123  4.582701  \n",
      "1475944  4.582701  \n",
      "223891   4.582701  \n",
      "223911   4.582701  \n",
      "26890    4.582701  \n",
      "1187587  4.582701  \n",
      "760445   4.582701  \n",
      "223916   4.582701  \n",
      "157462   4.582701  \n",
      "1187543  4.582701  \n",
      "303127   4.582701  \n",
      "760336   4.582701  \n",
      "303035   4.582701  \n",
      "658384   4.582701  \n",
      "49958    4.582701  \n",
      "223995   4.582701  \n",
      "302949   4.582701  \n",
      "User id: 1\n"
     ]
    },
    {
     "ename": "KeyboardInterrupt",
     "evalue": "",
     "output_type": "error",
     "traceback": [
      "\u001b[0;31m---------------------------------------------------------------------------\u001b[0m",
      "\u001b[0;31mKeyboardInterrupt\u001b[0m                         Traceback (most recent call last)",
      "\u001b[0;32m<ipython-input-45-af25d654ab06>\u001b[0m in \u001b[0;36m<module>\u001b[0;34m\u001b[0m\n\u001b[1;32m     26\u001b[0m \u001b[0;32mfor\u001b[0m \u001b[0muser_id\u001b[0m \u001b[0;32min\u001b[0m \u001b[0mdf\u001b[0m\u001b[0;34m[\u001b[0m\u001b[0;34m\"user_id\"\u001b[0m\u001b[0;34m]\u001b[0m\u001b[0;34m.\u001b[0m\u001b[0munique\u001b[0m\u001b[0;34m(\u001b[0m\u001b[0;34m)\u001b[0m\u001b[0;34m[\u001b[0m\u001b[0;34m:\u001b[0m\u001b[0;36m20\u001b[0m\u001b[0;34m]\u001b[0m\u001b[0;34m:\u001b[0m\u001b[0;34m\u001b[0m\u001b[0;34m\u001b[0m\u001b[0m\n\u001b[1;32m     27\u001b[0m     \u001b[0mprint\u001b[0m\u001b[0;34m(\u001b[0m\u001b[0;34mf\"User id: {user_id}\"\u001b[0m\u001b[0;34m)\u001b[0m\u001b[0;34m\u001b[0m\u001b[0;34m\u001b[0m\u001b[0m\n\u001b[0;32m---> 28\u001b[0;31m     \u001b[0mqualified\u001b[0m \u001b[0;34m=\u001b[0m \u001b[0mbuild_user_profile\u001b[0m\u001b[0;34m(\u001b[0m\u001b[0muser_id\u001b[0m\u001b[0;34m,\u001b[0m \u001b[0mresult\u001b[0m\u001b[0;34m,\u001b[0m \u001b[0mm\u001b[0m\u001b[0;34m,\u001b[0m \u001b[0mC\u001b[0m\u001b[0;34m)\u001b[0m\u001b[0;34m\u001b[0m\u001b[0;34m\u001b[0m\u001b[0m\n\u001b[0m\u001b[1;32m     29\u001b[0m     \u001b[0mprint\u001b[0m\u001b[0;34m(\u001b[0m\u001b[0mqualified\u001b[0m\u001b[0;34m)\u001b[0m\u001b[0;34m\u001b[0m\u001b[0;34m\u001b[0m\u001b[0m\n\u001b[1;32m     30\u001b[0m     \u001b[0;31m# items_str = \" \".join(qualified[\"item_id\"][:10].tolist())\u001b[0m\u001b[0;34m\u001b[0m\u001b[0;34m\u001b[0m\u001b[0;34m\u001b[0m\u001b[0m\n",
      "\u001b[0;32m<ipython-input-45-af25d654ab06>\u001b[0m in \u001b[0;36mbuild_user_profile\u001b[0;34m(user_id, result, m, C)\u001b[0m\n\u001b[1;32m     11\u001b[0m     ][['item_id', \"main_category\", \"average_rating\", \"rating_number\" ]].copy()\n\u001b[1;32m     12\u001b[0m \u001b[0;34m\u001b[0m\u001b[0m\n\u001b[0;32m---> 13\u001b[0;31m     \u001b[0mqualified\u001b[0m\u001b[0;34m[\u001b[0m\u001b[0;34m\"wr\"\u001b[0m\u001b[0;34m]\u001b[0m \u001b[0;34m=\u001b[0m \u001b[0mqualified\u001b[0m\u001b[0;34m.\u001b[0m\u001b[0mapply\u001b[0m\u001b[0;34m(\u001b[0m\u001b[0mweighted_rating\u001b[0m\u001b[0;34m,\u001b[0m \u001b[0maxis\u001b[0m\u001b[0;34m=\u001b[0m\u001b[0;36m1\u001b[0m\u001b[0;34m)\u001b[0m\u001b[0;34m\u001b[0m\u001b[0;34m\u001b[0m\u001b[0m\n\u001b[0m\u001b[1;32m     14\u001b[0m     \u001b[0;31m# qualified[\"wr\"] = weighted_rating(qualified)\u001b[0m\u001b[0;34m\u001b[0m\u001b[0;34m\u001b[0m\u001b[0;34m\u001b[0m\u001b[0m\n\u001b[1;32m     15\u001b[0m \u001b[0;34m\u001b[0m\u001b[0m\n",
      "\u001b[0;32m~/Coding/Python/DSC_task/env/lib/python3.6/site-packages/pandas/core/frame.py\u001b[0m in \u001b[0;36mapply\u001b[0;34m(self, func, axis, raw, result_type, args, **kwds)\u001b[0m\n\u001b[1;32m   7550\u001b[0m             \u001b[0mkwds\u001b[0m\u001b[0;34m=\u001b[0m\u001b[0mkwds\u001b[0m\u001b[0;34m,\u001b[0m\u001b[0;34m\u001b[0m\u001b[0;34m\u001b[0m\u001b[0m\n\u001b[1;32m   7551\u001b[0m         )\n\u001b[0;32m-> 7552\u001b[0;31m         \u001b[0;32mreturn\u001b[0m \u001b[0mop\u001b[0m\u001b[0;34m.\u001b[0m\u001b[0mget_result\u001b[0m\u001b[0;34m(\u001b[0m\u001b[0;34m)\u001b[0m\u001b[0;34m\u001b[0m\u001b[0;34m\u001b[0m\u001b[0m\n\u001b[0m\u001b[1;32m   7553\u001b[0m \u001b[0;34m\u001b[0m\u001b[0m\n\u001b[1;32m   7554\u001b[0m     \u001b[0;32mdef\u001b[0m \u001b[0mapplymap\u001b[0m\u001b[0;34m(\u001b[0m\u001b[0mself\u001b[0m\u001b[0;34m,\u001b[0m \u001b[0mfunc\u001b[0m\u001b[0;34m)\u001b[0m \u001b[0;34m->\u001b[0m \u001b[0;34m\"DataFrame\"\u001b[0m\u001b[0;34m:\u001b[0m\u001b[0;34m\u001b[0m\u001b[0;34m\u001b[0m\u001b[0m\n",
      "\u001b[0;32m~/Coding/Python/DSC_task/env/lib/python3.6/site-packages/pandas/core/apply.py\u001b[0m in \u001b[0;36mget_result\u001b[0;34m(self)\u001b[0m\n\u001b[1;32m    183\u001b[0m             \u001b[0;32mreturn\u001b[0m \u001b[0mself\u001b[0m\u001b[0;34m.\u001b[0m\u001b[0mapply_raw\u001b[0m\u001b[0;34m(\u001b[0m\u001b[0;34m)\u001b[0m\u001b[0;34m\u001b[0m\u001b[0;34m\u001b[0m\u001b[0m\n\u001b[1;32m    184\u001b[0m \u001b[0;34m\u001b[0m\u001b[0m\n\u001b[0;32m--> 185\u001b[0;31m         \u001b[0;32mreturn\u001b[0m \u001b[0mself\u001b[0m\u001b[0;34m.\u001b[0m\u001b[0mapply_standard\u001b[0m\u001b[0;34m(\u001b[0m\u001b[0;34m)\u001b[0m\u001b[0;34m\u001b[0m\u001b[0;34m\u001b[0m\u001b[0m\n\u001b[0m\u001b[1;32m    186\u001b[0m \u001b[0;34m\u001b[0m\u001b[0m\n\u001b[1;32m    187\u001b[0m     \u001b[0;32mdef\u001b[0m \u001b[0mapply_empty_result\u001b[0m\u001b[0;34m(\u001b[0m\u001b[0mself\u001b[0m\u001b[0;34m)\u001b[0m\u001b[0;34m:\u001b[0m\u001b[0;34m\u001b[0m\u001b[0;34m\u001b[0m\u001b[0m\n",
      "\u001b[0;32m~/Coding/Python/DSC_task/env/lib/python3.6/site-packages/pandas/core/apply.py\u001b[0m in \u001b[0;36mapply_standard\u001b[0;34m(self)\u001b[0m\n\u001b[1;32m    274\u001b[0m \u001b[0;34m\u001b[0m\u001b[0m\n\u001b[1;32m    275\u001b[0m     \u001b[0;32mdef\u001b[0m \u001b[0mapply_standard\u001b[0m\u001b[0;34m(\u001b[0m\u001b[0mself\u001b[0m\u001b[0;34m)\u001b[0m\u001b[0;34m:\u001b[0m\u001b[0;34m\u001b[0m\u001b[0;34m\u001b[0m\u001b[0m\n\u001b[0;32m--> 276\u001b[0;31m         \u001b[0mresults\u001b[0m\u001b[0;34m,\u001b[0m \u001b[0mres_index\u001b[0m \u001b[0;34m=\u001b[0m \u001b[0mself\u001b[0m\u001b[0;34m.\u001b[0m\u001b[0mapply_series_generator\u001b[0m\u001b[0;34m(\u001b[0m\u001b[0;34m)\u001b[0m\u001b[0;34m\u001b[0m\u001b[0;34m\u001b[0m\u001b[0m\n\u001b[0m\u001b[1;32m    277\u001b[0m \u001b[0;34m\u001b[0m\u001b[0m\n\u001b[1;32m    278\u001b[0m         \u001b[0;31m# wrap results\u001b[0m\u001b[0;34m\u001b[0m\u001b[0;34m\u001b[0m\u001b[0;34m\u001b[0m\u001b[0m\n",
      "\u001b[0;32m~/Coding/Python/DSC_task/env/lib/python3.6/site-packages/pandas/core/apply.py\u001b[0m in \u001b[0;36mapply_series_generator\u001b[0;34m(self)\u001b[0m\n\u001b[1;32m    303\u001b[0m                 \u001b[0;32mfor\u001b[0m \u001b[0mi\u001b[0m\u001b[0;34m,\u001b[0m \u001b[0mv\u001b[0m \u001b[0;32min\u001b[0m \u001b[0menumerate\u001b[0m\u001b[0;34m(\u001b[0m\u001b[0mseries_gen\u001b[0m\u001b[0;34m)\u001b[0m\u001b[0;34m:\u001b[0m\u001b[0;34m\u001b[0m\u001b[0;34m\u001b[0m\u001b[0m\n\u001b[1;32m    304\u001b[0m                     \u001b[0;31m# ignore SettingWithCopy here in case the user mutates\u001b[0m\u001b[0;34m\u001b[0m\u001b[0;34m\u001b[0m\u001b[0;34m\u001b[0m\u001b[0m\n\u001b[0;32m--> 305\u001b[0;31m                     \u001b[0mresults\u001b[0m\u001b[0;34m[\u001b[0m\u001b[0mi\u001b[0m\u001b[0;34m]\u001b[0m \u001b[0;34m=\u001b[0m \u001b[0mself\u001b[0m\u001b[0;34m.\u001b[0m\u001b[0mf\u001b[0m\u001b[0;34m(\u001b[0m\u001b[0mv\u001b[0m\u001b[0;34m)\u001b[0m\u001b[0;34m\u001b[0m\u001b[0;34m\u001b[0m\u001b[0m\n\u001b[0m\u001b[1;32m    306\u001b[0m                     \u001b[0;32mif\u001b[0m \u001b[0misinstance\u001b[0m\u001b[0;34m(\u001b[0m\u001b[0mresults\u001b[0m\u001b[0;34m[\u001b[0m\u001b[0mi\u001b[0m\u001b[0;34m]\u001b[0m\u001b[0;34m,\u001b[0m \u001b[0mABCSeries\u001b[0m\u001b[0;34m)\u001b[0m\u001b[0;34m:\u001b[0m\u001b[0;34m\u001b[0m\u001b[0;34m\u001b[0m\u001b[0m\n\u001b[1;32m    307\u001b[0m                         \u001b[0;31m# If we have a view on v, we need to make a copy because\u001b[0m\u001b[0;34m\u001b[0m\u001b[0;34m\u001b[0m\u001b[0;34m\u001b[0m\u001b[0m\n",
      "\u001b[0;32m<ipython-input-19-5dc3b363c0b2>\u001b[0m in \u001b[0;36mweighted_rating\u001b[0;34m(x)\u001b[0m\n\u001b[1;32m      5\u001b[0m \u001b[0;31m# Define the function\u001b[0m\u001b[0;34m\u001b[0m\u001b[0;34m\u001b[0m\u001b[0;34m\u001b[0m\u001b[0m\n\u001b[1;32m      6\u001b[0m \u001b[0;32mdef\u001b[0m \u001b[0mweighted_rating\u001b[0m\u001b[0;34m(\u001b[0m\u001b[0mx\u001b[0m\u001b[0;34m)\u001b[0m\u001b[0;34m:\u001b[0m\u001b[0;34m\u001b[0m\u001b[0;34m\u001b[0m\u001b[0m\n\u001b[0;32m----> 7\u001b[0;31m     \u001b[0mv\u001b[0m \u001b[0;34m=\u001b[0m \u001b[0mx\u001b[0m\u001b[0;34m[\u001b[0m\u001b[0;34m'rating_number'\u001b[0m\u001b[0;34m]\u001b[0m\u001b[0;34m\u001b[0m\u001b[0;34m\u001b[0m\u001b[0m\n\u001b[0m\u001b[1;32m      8\u001b[0m     \u001b[0mR\u001b[0m \u001b[0;34m=\u001b[0m \u001b[0mx\u001b[0m\u001b[0;34m[\u001b[0m\u001b[0;34m'average_rating'\u001b[0m\u001b[0;34m]\u001b[0m\u001b[0;34m\u001b[0m\u001b[0;34m\u001b[0m\u001b[0m\n\u001b[1;32m      9\u001b[0m     \u001b[0;32mreturn\u001b[0m \u001b[0;34m(\u001b[0m\u001b[0mv\u001b[0m \u001b[0;34m/\u001b[0m \u001b[0;34m(\u001b[0m\u001b[0mv\u001b[0m \u001b[0;34m+\u001b[0m \u001b[0mm\u001b[0m\u001b[0;34m)\u001b[0m\u001b[0;34m)\u001b[0m \u001b[0;34m*\u001b[0m \u001b[0mR\u001b[0m \u001b[0;34m+\u001b[0m \u001b[0;34m(\u001b[0m\u001b[0mm\u001b[0m \u001b[0;34m/\u001b[0m \u001b[0;34m(\u001b[0m\u001b[0mv\u001b[0m \u001b[0;34m+\u001b[0m \u001b[0mm\u001b[0m\u001b[0;34m)\u001b[0m\u001b[0;34m)\u001b[0m \u001b[0;34m*\u001b[0m \u001b[0mC\u001b[0m\u001b[0;34m\u001b[0m\u001b[0;34m\u001b[0m\u001b[0m\n",
      "\u001b[0;32m~/Coding/Python/DSC_task/env/lib/python3.6/site-packages/pandas/core/series.py\u001b[0m in \u001b[0;36m__getitem__\u001b[0;34m(self, key)\u001b[0m\n\u001b[1;32m    880\u001b[0m \u001b[0;34m\u001b[0m\u001b[0m\n\u001b[1;32m    881\u001b[0m         \u001b[0;32melif\u001b[0m \u001b[0mkey_is_scalar\u001b[0m\u001b[0;34m:\u001b[0m\u001b[0;34m\u001b[0m\u001b[0;34m\u001b[0m\u001b[0m\n\u001b[0;32m--> 882\u001b[0;31m             \u001b[0;32mreturn\u001b[0m \u001b[0mself\u001b[0m\u001b[0;34m.\u001b[0m\u001b[0m_get_value\u001b[0m\u001b[0;34m(\u001b[0m\u001b[0mkey\u001b[0m\u001b[0;34m)\u001b[0m\u001b[0;34m\u001b[0m\u001b[0;34m\u001b[0m\u001b[0m\n\u001b[0m\u001b[1;32m    883\u001b[0m \u001b[0;34m\u001b[0m\u001b[0m\n\u001b[1;32m    884\u001b[0m         \u001b[0;32mif\u001b[0m \u001b[0mis_hashable\u001b[0m\u001b[0;34m(\u001b[0m\u001b[0mkey\u001b[0m\u001b[0;34m)\u001b[0m\u001b[0;34m:\u001b[0m\u001b[0;34m\u001b[0m\u001b[0;34m\u001b[0m\u001b[0m\n",
      "\u001b[0;32m~/Coding/Python/DSC_task/env/lib/python3.6/site-packages/pandas/core/series.py\u001b[0m in \u001b[0;36m_get_value\u001b[0;34m(self, label, takeable)\u001b[0m\n\u001b[1;32m    988\u001b[0m \u001b[0;34m\u001b[0m\u001b[0m\n\u001b[1;32m    989\u001b[0m         \u001b[0;31m# Similar to Index.get_value, but we do not fall back to positional\u001b[0m\u001b[0;34m\u001b[0m\u001b[0;34m\u001b[0m\u001b[0;34m\u001b[0m\u001b[0m\n\u001b[0;32m--> 990\u001b[0;31m         \u001b[0mloc\u001b[0m \u001b[0;34m=\u001b[0m \u001b[0mself\u001b[0m\u001b[0;34m.\u001b[0m\u001b[0mindex\u001b[0m\u001b[0;34m.\u001b[0m\u001b[0mget_loc\u001b[0m\u001b[0;34m(\u001b[0m\u001b[0mlabel\u001b[0m\u001b[0;34m)\u001b[0m\u001b[0;34m\u001b[0m\u001b[0;34m\u001b[0m\u001b[0m\n\u001b[0m\u001b[1;32m    991\u001b[0m         \u001b[0;32mreturn\u001b[0m \u001b[0mself\u001b[0m\u001b[0;34m.\u001b[0m\u001b[0mindex\u001b[0m\u001b[0;34m.\u001b[0m\u001b[0m_get_values_for_loc\u001b[0m\u001b[0;34m(\u001b[0m\u001b[0mself\u001b[0m\u001b[0;34m,\u001b[0m \u001b[0mloc\u001b[0m\u001b[0;34m,\u001b[0m \u001b[0mlabel\u001b[0m\u001b[0;34m)\u001b[0m\u001b[0;34m\u001b[0m\u001b[0;34m\u001b[0m\u001b[0m\n\u001b[1;32m    992\u001b[0m \u001b[0;34m\u001b[0m\u001b[0m\n",
      "\u001b[0;32m~/Coding/Python/DSC_task/env/lib/python3.6/site-packages/pandas/core/indexes/base.py\u001b[0m in \u001b[0;36mget_loc\u001b[0;34m(self, key, method, tolerance)\u001b[0m\n\u001b[1;32m   2894\u001b[0m                     \u001b[0;34m\"backfill or nearest lookups\"\u001b[0m\u001b[0;34m\u001b[0m\u001b[0;34m\u001b[0m\u001b[0m\n\u001b[1;32m   2895\u001b[0m                 )\n\u001b[0;32m-> 2896\u001b[0;31m             \u001b[0mcasted_key\u001b[0m \u001b[0;34m=\u001b[0m \u001b[0mself\u001b[0m\u001b[0;34m.\u001b[0m\u001b[0m_maybe_cast_indexer\u001b[0m\u001b[0;34m(\u001b[0m\u001b[0mkey\u001b[0m\u001b[0;34m)\u001b[0m\u001b[0;34m\u001b[0m\u001b[0;34m\u001b[0m\u001b[0m\n\u001b[0m\u001b[1;32m   2897\u001b[0m             \u001b[0;32mtry\u001b[0m\u001b[0;34m:\u001b[0m\u001b[0;34m\u001b[0m\u001b[0;34m\u001b[0m\u001b[0m\n\u001b[1;32m   2898\u001b[0m                 \u001b[0;32mreturn\u001b[0m \u001b[0mself\u001b[0m\u001b[0;34m.\u001b[0m\u001b[0m_engine\u001b[0m\u001b[0;34m.\u001b[0m\u001b[0mget_loc\u001b[0m\u001b[0;34m(\u001b[0m\u001b[0mcasted_key\u001b[0m\u001b[0;34m)\u001b[0m\u001b[0;34m\u001b[0m\u001b[0;34m\u001b[0m\u001b[0m\n",
      "\u001b[0;32m~/Coding/Python/DSC_task/env/lib/python3.6/site-packages/pandas/core/indexes/base.py\u001b[0m in \u001b[0;36m_maybe_cast_indexer\u001b[0;34m(self, key)\u001b[0m\n\u001b[1;32m   4977\u001b[0m         \u001b[0;32mreturn\u001b[0m \u001b[0mslice\u001b[0m\u001b[0;34m(\u001b[0m\u001b[0mstart_slice\u001b[0m\u001b[0;34m,\u001b[0m \u001b[0mend_slice\u001b[0m\u001b[0;34m,\u001b[0m \u001b[0mstep\u001b[0m\u001b[0;34m)\u001b[0m\u001b[0;34m\u001b[0m\u001b[0;34m\u001b[0m\u001b[0m\n\u001b[1;32m   4978\u001b[0m \u001b[0;34m\u001b[0m\u001b[0m\n\u001b[0;32m-> 4979\u001b[0;31m     \u001b[0;32mdef\u001b[0m \u001b[0m_maybe_cast_indexer\u001b[0m\u001b[0;34m(\u001b[0m\u001b[0mself\u001b[0m\u001b[0;34m,\u001b[0m \u001b[0mkey\u001b[0m\u001b[0;34m)\u001b[0m\u001b[0;34m:\u001b[0m\u001b[0;34m\u001b[0m\u001b[0;34m\u001b[0m\u001b[0m\n\u001b[0m\u001b[1;32m   4980\u001b[0m         \"\"\"\n\u001b[1;32m   4981\u001b[0m         \u001b[0mIf\u001b[0m \u001b[0mwe\u001b[0m \u001b[0mhave\u001b[0m \u001b[0ma\u001b[0m \u001b[0mfloat\u001b[0m \u001b[0mkey\u001b[0m \u001b[0;32mand\u001b[0m \u001b[0mare\u001b[0m \u001b[0;32mnot\u001b[0m \u001b[0ma\u001b[0m \u001b[0mfloating\u001b[0m \u001b[0mindex\u001b[0m\u001b[0;34m,\u001b[0m \u001b[0mthen\u001b[0m \u001b[0;32mtry\u001b[0m \u001b[0mto\u001b[0m \u001b[0mcast\u001b[0m\u001b[0;34m\u001b[0m\u001b[0;34m\u001b[0m\u001b[0m\n",
      "\u001b[0;31mKeyboardInterrupt\u001b[0m: "
     ]
    }
   ],
   "source": [
    "def build_user_profile(user_id, result, m, C):\n",
    "    user_ratings = result[result[\"user_id\"] == user_id]\n",
    "    categories = user_ratings[\"main_category\"].dropna().unique()\n",
    "    items = user_ratings[\"item_id\"].tolist()\n",
    "\n",
    "    qualified = result[\n",
    "        (result['rating_number'].notnull()) &\n",
    "        (result['average_rating'].notnull()) &\n",
    "        (result['main_category'].isin(categories)) &\n",
    "        (~result[\"item_id\"].isin(items))\n",
    "    ][['item_id', \"main_category\", \"average_rating\", \"rating_number\" ]].copy()\n",
    "\n",
    "    qualified[\"wr\"] = qualified.apply(weighted_rating, axis=1)\n",
    "    # qualified[\"wr\"] = weighted_rating(qualified)\n",
    "    \n",
    "\n",
    "    return qualified.sort_values(by=\"wr\", ascending=False).head(20)\n",
    "\n",
    "\n",
    "# Precompute global constants\n",
    "C = result[\"average_rating\"].mean()\n",
    "m = result[\"rating_number\"].quantile(0.80)\n",
    "\n",
    "user_recommendations = []\n",
    "# Loop through users"
   ]
  },
  {
   "cell_type": "code",
   "execution_count": 43,
   "id": "f2d4debd",
   "metadata": {},
   "outputs": [
    {
     "data": {
      "text/plain": [
       "10172584"
      ]
     },
     "execution_count": 43,
     "metadata": {},
     "output_type": "execute_result"
    }
   ],
   "source": [
    "df.size"
   ]
  },
  {
   "cell_type": "code",
   "execution_count": 44,
   "id": "1b63cf36",
   "metadata": {},
   "outputs": [
    {
     "name": "stdout",
     "output_type": "stream",
     "text": [
      "Evaluating RMSE, MAE of algorithm SVD on 5 split(s).\n",
      "\n",
      "                  Fold 1  Fold 2  Fold 3  Fold 4  Fold 5  Mean    Std     \n",
      "RMSE (testset)    1.1963  1.1976  1.3337  1.3154  1.3781  1.2842  0.0741  \n",
      "MAE (testset)     0.9410  0.9619  1.0630  1.0273  1.0477  1.0082  0.0481  \n",
      "Fit time          0.07    0.06    0.07    0.06    0.08    0.07    0.01    \n",
      "Test time         0.00    0.00    0.00    0.00    0.00    0.00    0.00    \n"
     ]
    },
    {
     "data": {
      "text/plain": [
       "{'test_rmse': array([1.19627145, 1.19760617, 1.33372448, 1.31541208, 1.37808279]),\n",
       " 'test_mae': array([0.9410349 , 0.96185727, 1.06299307, 1.02728967, 1.04766199]),\n",
       " 'fit_time': (0.06923794746398926,\n",
       "  0.06051325798034668,\n",
       "  0.07129740715026855,\n",
       "  0.058243513107299805,\n",
       "  0.08104658126831055),\n",
       " 'test_time': (0.0017359256744384766,\n",
       "  0.0017063617706298828,\n",
       "  0.0019795894622802734,\n",
       "  0.0015535354614257812,\n",
       "  0.0023908615112304688)}"
      ]
     },
     "execution_count": 44,
     "metadata": {},
     "output_type": "execute_result"
    }
   ],
   "source": [
    "reader = Reader()\n",
    "\n",
    "data = Dataset.load_from_df(df[['user_id', 'item_id', 'rating']][:2000], reader)\n",
    "\n",
    "# Use the famous SVD algorithm\n",
    "svd = SVD()\n",
    "\n",
    "# Run 5-fold cross-validation and then print results\n",
    "cross_validate(svd, data, measures=['RMSE', 'MAE'], cv=5, verbose=True)"
   ]
  },
  {
   "cell_type": "code",
   "execution_count": null,
   "id": "8bdc0675",
   "metadata": {},
   "outputs": [],
   "source": []
  }
 ],
 "metadata": {
  "kernelspec": {
   "display_name": "env",
   "language": "python",
   "name": "python3"
  },
  "language_info": {
   "codemirror_mode": {
    "name": "ipython",
    "version": 3
   },
   "file_extension": ".py",
   "mimetype": "text/x-python",
   "name": "python",
   "nbconvert_exporter": "python",
   "pygments_lexer": "ipython3",
   "version": "3.6.15"
  }
 },
 "nbformat": 4,
 "nbformat_minor": 5
}
