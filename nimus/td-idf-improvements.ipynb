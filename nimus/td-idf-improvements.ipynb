{
 "cells": [
  {
   "cell_type": "code",
   "id": "initial_id",
   "metadata": {
    "collapsed": true,
    "ExecuteTime": {
     "end_time": "2025-06-26T20:35:27.378084Z",
     "start_time": "2025-06-26T20:35:27.091937Z"
    }
   },
   "source": [
    "import pandas as pd\n",
    "import numpy as np\n",
    "import json\n",
    "import random"
   ],
   "outputs": [],
   "execution_count": 2
  },
  {
   "metadata": {
    "ExecuteTime": {
     "end_time": "2025-06-26T20:35:30.852655Z",
     "start_time": "2025-06-26T20:35:27.386842Z"
    }
   },
   "cell_type": "code",
   "source": [
    "train_df = pd.read_csv(\"../data/v1/train.csv\")\n",
    "test_df = pd.read_csv(\"../data/v1/test.csv\")\n",
    "meta_df = pd.read_csv(\"../data/item_metadata_filtered.csv\")\n",
    "with open(\"../data/id_mappings.json\") as f:\n",
    "    id_map = json.load(f)"
   ],
   "id": "d2f43a62e46d0516",
   "outputs": [],
   "execution_count": 3
  },
  {
   "metadata": {
    "ExecuteTime": {
     "end_time": "2025-06-26T20:35:31.024554Z",
     "start_time": "2025-06-26T20:35:30.875503Z"
    }
   },
   "cell_type": "code",
   "source": [
    "# User id and asin to int id mapping\n",
    "asin_to_id = {asin: int(item_id) for asin, item_id in id_map[\"item_mapping\"].items()} # asin (str) -> item_id (int)\n",
    "item_id_to_asin = {int(item_id): asin for item_id, asin in id_map[\"item_reverse_mapping\"].items()} # item_id (int) -> asin (str)\n",
    "\n",
    "# Create a lookup dictionary for true items from the test set\n",
    "true_items_map = pd.Series(test_df.item_id.values, index=test_df.user_id).to_dict()"
   ],
   "id": "6a9002f38a55cbfc",
   "outputs": [],
   "execution_count": 4
  },
  {
   "metadata": {
    "ExecuteTime": {
     "end_time": "2025-06-26T20:35:31.037037Z",
     "start_time": "2025-06-26T20:35:31.028555Z"
    }
   },
   "cell_type": "code",
   "source": [
    "all_categories = sorted(meta_df[\"main_category\"].dropna().unique().tolist())\n",
    "category_options = [\"Any\"] + all_categories"
   ],
   "id": "c007a56d6a1739a3",
   "outputs": [],
   "execution_count": 5
  },
  {
   "metadata": {
    "ExecuteTime": {
     "end_time": "2025-06-26T20:35:31.161770Z",
     "start_time": "2025-06-26T20:35:31.095250Z"
    }
   },
   "cell_type": "code",
   "source": [
    "# Preprocess metadata\n",
    "meta_df[\"title\"] = meta_df[\"title\"].fillna(\"\")\n",
    "meta_df[\"store\"] = meta_df[\"store\"].fillna(\"\")\n",
    "meta_df[\"description\"] = meta_df[\"description\"].fillna(\"\")\n",
    "meta_df[\"average_rating\"] = meta_df[\"average_rating\"].fillna(\"\")\n",
    "meta_df[\"price\"] = meta_df[\"price\"].fillna(\"\")\n",
    "meta_df[\"image_urls\"] = meta_df[\"image_urls\"].fillna(\"[]\")\n",
    "\n",
    "# Index by ASIN for lookup\n",
    "meta_df = meta_df.set_index(\"parent_asin\")"
   ],
   "id": "49540642294fd1e9",
   "outputs": [],
   "execution_count": 6
  },
  {
   "metadata": {
    "ExecuteTime": {
     "end_time": "2025-06-26T20:35:31.791767Z",
     "start_time": "2025-06-26T20:35:31.196766Z"
    }
   },
   "cell_type": "code",
   "source": [
    "from sklearn.feature_extraction.text import TfidfVectorizer\n",
    "from sklearn.metrics.pairwise import cosine_similarity"
   ],
   "id": "ea1edd63effc9757",
   "outputs": [],
   "execution_count": 7
  },
  {
   "metadata": {
    "ExecuteTime": {
     "end_time": "2025-06-26T20:35:38.160866Z",
     "start_time": "2025-06-26T20:35:31.825778Z"
    }
   },
   "cell_type": "code",
   "source": [
    "# --- TF-IDF ---\n",
    "all_items = sorted(asin_to_id.keys())  # all ASINs\n",
    "texts = [\n",
    "    meta_df.loc[asin][\"title\"] + \" \" +\n",
    "    meta_df.loc[asin][\"store\"] + \" \" +\n",
    "    meta_df.loc[asin][\"description\"]\n",
    "    if asin in meta_df.index else \"\"\n",
    "    for asin in all_items\n",
    "]"
   ],
   "id": "2a1d480dc2d8829d",
   "outputs": [],
   "execution_count": 8
  },
  {
   "metadata": {
    "ExecuteTime": {
     "end_time": "2025-06-26T20:45:22.382291Z",
     "start_time": "2025-06-26T20:45:16.924487Z"
    }
   },
   "cell_type": "code",
   "source": [
    "vectorizer = TfidfVectorizer(max_features=2_000)\n",
    "tfidf_matrix = vectorizer.fit_transform(texts)"
   ],
   "id": "433f338e522c020f",
   "outputs": [],
   "execution_count": 25
  },
  {
   "metadata": {},
   "cell_type": "markdown",
   "source": [
    "# Basic TD-IDF\n",
    "with de-duplication of results\n",
    "\n",
    "MAP@10 ~0.011 dla randomowego sampla 1k użytkowników"
   ],
   "id": "970132392fab214b"
  },
  {
   "metadata": {
    "ExecuteTime": {
     "end_time": "2025-06-26T20:35:43.690853Z",
     "start_time": "2025-06-26T20:35:43.687338Z"
    }
   },
   "cell_type": "code",
   "source": [
    "def build_user_profile(user_id):\n",
    "    user_ratings = train_df[train_df[\"user_id\"] == user_id]\n",
    "    indices = user_ratings[\"item_id\"].values\n",
    "    ratings = user_ratings[\"rating\"].values\n",
    "    item_vectors = tfidf_matrix[indices]\n",
    "    weighted = item_vectors.multiply(ratings[:, None])\n",
    "    profile = weighted.mean(axis=0)\n",
    "    return np.asarray(profile)"
   ],
   "id": "99d4fab3d07129b7",
   "outputs": [],
   "execution_count": 10
  },
  {
   "metadata": {
    "ExecuteTime": {
     "end_time": "2025-06-26T20:35:43.728906Z",
     "start_time": "2025-06-26T20:35:43.725962Z"
    }
   },
   "cell_type": "code",
   "source": [
    "def recommend_for_user_v1(user_id, top_k=10):\n",
    "    profile = build_user_profile(user_id)\n",
    "    scores = cosine_similarity(profile, tfidf_matrix).flatten()\n",
    "    # Remove previously rated items\n",
    "    seen_items = set(train_df[train_df[\"user_id\"] == user_id][\"item_id\"])\n",
    "    recs = [i for i in scores.argsort()[::-1] if i not in seen_items]\n",
    "    return recs[:top_k]"
   ],
   "id": "a9abeb71c40c749c",
   "outputs": [],
   "execution_count": 11
  },
  {
   "metadata": {
    "ExecuteTime": {
     "end_time": "2025-06-26T20:35:43.766692Z",
     "start_time": "2025-06-26T20:35:43.763707Z"
    }
   },
   "cell_type": "code",
   "source": [
    "def average_precision_at_k(recommendations, true_item_id, k=10):\n",
    "    if true_item_id in recommendations[:k]:\n",
    "        # Find the rank (position) of the true item, adding 1 for 1-based ranking\n",
    "        rank = recommendations[:k].index(true_item_id) + 1\n",
    "        return 1.0 / rank\n",
    "    return 0.0"
   ],
   "id": "2ebf7086664f010f",
   "outputs": [],
   "execution_count": 12
  },
  {
   "metadata": {
    "ExecuteTime": {
     "end_time": "2025-06-26T20:35:43.775612Z",
     "start_time": "2025-06-26T20:35:43.771690Z"
    }
   },
   "cell_type": "code",
   "source": [
    "def pick_random_user_simple(min_interactions, max_interactions):\n",
    "    counts = train_df[\"user_id\"].value_counts()\n",
    "    if max_interactions <= 0:\n",
    "        valid = counts[counts >= min_interactions].index.tolist()\n",
    "    else:\n",
    "        valid = counts[min_interactions <= counts <= max_interactions].index.tolist()\n",
    "    return random.choice(valid), len(valid), len(counts) if valid else None"
   ],
   "id": "36edfce02264a312",
   "outputs": [],
   "execution_count": 13
  },
  {
   "metadata": {
    "ExecuteTime": {
     "end_time": "2025-06-26T20:35:43.844526Z",
     "start_time": "2025-06-26T20:35:43.836526Z"
    }
   },
   "cell_type": "code",
   "source": "from tqdm import tqdm",
   "id": "1e5d5f3ba3175d50",
   "outputs": [],
   "execution_count": 14
  },
  {
   "metadata": {
    "ExecuteTime": {
     "end_time": "2025-06-26T20:35:43.880459Z",
     "start_time": "2025-06-26T20:35:43.877563Z"
    }
   },
   "cell_type": "code",
   "source": [
    "def map_at_10(validation_df, recommend_func, k=10):\n",
    "    ap_scores = []\n",
    "    for _, row in tqdm(validation_df.iterrows(), total=len(validation_df), desc=\"Calculating MAP@10\"):\n",
    "        user_id = row[\"user_id\"]\n",
    "        true_item_id = row[\"item_id\"]\n",
    "        recommendations = recommend_func(user_id, top_k=k)\n",
    "        ap = average_precision_at_k(recommendations, true_item_id, k)\n",
    "        ap_scores.append(ap)\n",
    "    return np.mean(ap_scores) if ap_scores else 0.0\n"
   ],
   "id": "abf06a258843f4d9",
   "outputs": [],
   "execution_count": 15
  },
  {
   "metadata": {
    "ExecuteTime": {
     "end_time": "2025-06-26T20:35:43.920330Z",
     "start_time": "2025-06-26T20:35:43.916446Z"
    }
   },
   "cell_type": "code",
   "source": [
    "def map_at_10_sampled(validation_df, recommend_func, k=10, sample_size=10_000, random_state=42):\n",
    "    unique_users = validation_df[\"user_id\"].unique()\n",
    "    rng = np.random.default_rng(random_state)\n",
    "    sampled_users = rng.choice(unique_users, size=min(sample_size, len(unique_users)), replace=False)\n",
    "    sampled_df = validation_df[validation_df[\"user_id\"].isin(sampled_users)]\n",
    "\n",
    "    ap_scores = []\n",
    "    for _, row in tqdm(sampled_df.iterrows(), total=len(sampled_df), desc=\"Calculating MAP@10 (sampled)\"):\n",
    "        user_id = row[\"user_id\"]\n",
    "        true_item_id = row[\"item_id\"]\n",
    "        recommendations = recommend_func(user_id, top_k=k)\n",
    "        ap = average_precision_at_k(recommendations, true_item_id, k)\n",
    "        ap_scores.append(ap)\n",
    "    return np.mean(ap_scores) if ap_scores else 0.0"
   ],
   "id": "3e5ea3d74802d3f2",
   "outputs": [],
   "execution_count": 16
  },
  {
   "metadata": {},
   "cell_type": "code",
   "source": "rec_v1 = map_at_10_sampled(test_df, recommend_for_user_v1, k=10, sample_size=1_000)",
   "id": "f02941c61cba2f21",
   "outputs": [],
   "execution_count": null
  },
  {
   "metadata": {},
   "cell_type": "code",
   "source": "print(f\"MAP@10 for TD-IDF v1: {rec_v1:.4f}\")",
   "id": "a10af57bd7428105",
   "outputs": [],
   "execution_count": null
  },
  {
   "metadata": {},
   "cell_type": "markdown",
   "source": [
    "# TD-IDF v2\n",
    "with boosting most popular items from user's main category\n",
    "\n",
    "MAP@10 ~0.023 dla randomowego sampla 1k użytkowników"
   ],
   "id": "5e774daee15bcf1c"
  },
  {
   "metadata": {
    "ExecuteTime": {
     "end_time": "2025-06-26T20:36:02.094005Z",
     "start_time": "2025-06-26T20:35:52.909174Z"
    }
   },
   "cell_type": "code",
   "source": [
    "# Precompute user -> seen items\n",
    "user_seen_items = train_df.groupby(\"user_id\")[\"item_id\"].apply(set).to_dict()"
   ],
   "id": "29c000658f7742a2",
   "outputs": [],
   "execution_count": 19
  },
  {
   "metadata": {
    "ExecuteTime": {
     "end_time": "2025-06-26T20:41:59.670375Z",
     "start_time": "2025-06-26T20:36:36.097470Z"
    }
   },
   "cell_type": "code",
   "source": [
    "# Precompute user -> main category\n",
    "def precompute_user_main_category():\n",
    "    user_main_cat = {}\n",
    "    for user_id, items in tqdm(train_df.groupby(\"user_id\")[\"item_id\"], desc=\"User main category\"):\n",
    "        asins = [item_id_to_asin[i] for i in items if i in item_id_to_asin]\n",
    "        categories = meta_df.loc[asins, \"main_category\"].dropna()\n",
    "        if not categories.empty:\n",
    "            user_main_cat[user_id] = categories.value_counts().idxmax()\n",
    "    return user_main_cat\n",
    "user_main_category = precompute_user_main_category()"
   ],
   "id": "c45632256d095504",
   "outputs": [
    {
     "name": "stderr",
     "output_type": "stream",
     "text": [
      "User main category: 100%|██████████| 868218/868218 [05:17<00:00, 2737.01it/s]\n"
     ]
    }
   ],
   "execution_count": 21
  },
  {
   "metadata": {
    "ExecuteTime": {
     "end_time": "2025-06-26T20:42:22.821042Z",
     "start_time": "2025-06-26T20:42:22.545585Z"
    }
   },
   "cell_type": "code",
   "source": [
    "# Precompute category -> popularity vector\n",
    "def precompute_category_popularity():\n",
    "    cat_pop = {}\n",
    "    for cat in tqdm(meta_df[\"main_category\"].dropna().unique(), desc=\"Category popularity\"):\n",
    "        items_in_cat = meta_df[meta_df[\"main_category\"] == cat].index\n",
    "        item_ids = [asin_to_id[a] for a in items_in_cat if a in asin_to_id]\n",
    "        pop = train_df[train_df[\"item_id\"].isin(item_ids)][\"item_id\"].value_counts()\n",
    "        pop_vec = np.zeros(tfidf_matrix.shape[0])\n",
    "        for item_id, count in pop.items():\n",
    "            pop_vec[item_id] = count\n",
    "        if pop_vec.max() > 0:\n",
    "            pop_vec = pop_vec / pop_vec.max()\n",
    "        cat_pop[cat] = pop_vec\n",
    "    return cat_pop\n",
    "category_popularity = precompute_category_popularity()"
   ],
   "id": "c701c3a51ced7048",
   "outputs": [
    {
     "name": "stderr",
     "output_type": "stream",
     "text": [
      "Category popularity: 100%|██████████| 8/8 [00:00<00:00, 30.42it/s]\n"
     ]
    }
   ],
   "execution_count": 22
  },
  {
   "metadata": {
    "ExecuteTime": {
     "end_time": "2025-06-26T20:51:48.451211Z",
     "start_time": "2025-06-26T20:51:48.434571Z"
    }
   },
   "cell_type": "code",
   "source": [
    "# Fit once, outside the recommend function (e.g., after tfidf_matrix is created)\n",
    "ann = NearestNeighbors(n_neighbors=top_k + 100, metric=\"cosine\", n_jobs=-1)\n",
    "ann.fit(tfidf_matrix)\n",
    "\n",
    "def recommend_for_user_v2_fast(user_id, top_k=10, alpha=0.7):\n",
    "    profile = build_user_profile(user_id)\n",
    "    scores = cosine_similarity(profile, tfidf_matrix).flatten()\n",
    "    seen_items = user_seen_items.get(user_id, set())\n",
    "    main_cat = user_main_category.get(user_id, None)\n",
    "    if main_cat is None or main_cat not in category_popularity:\n",
    "        recs = [i for i in scores.argsort()[::-1] if i not in seen_items]\n",
    "        return recs[:top_k]\n",
    "    pop_scores = category_popularity[main_cat]\n",
    "    if scores.max() > 0:\n",
    "        scores = scores / scores.max()\n",
    "    combined = alpha * scores + (1 - alpha) * pop_scores\n",
    "    recs = [i for i in combined.argsort()[::-1] if i not in seen_items]\n",
    "    return recs[:top_k]"
   ],
   "id": "b10f54b5b96cd937",
   "outputs": [],
   "execution_count": 33
  },
  {
   "metadata": {
    "ExecuteTime": {
     "end_time": "2025-06-26T20:52:31.237984Z",
     "start_time": "2025-06-26T20:51:50.895519Z"
    }
   },
   "cell_type": "code",
   "source": "rec_v2 = map_at_10_sampled(test_df, recommend_for_user_v2_fast, k=10, sample_size=1_000)",
   "id": "51a0e5ca823906e9",
   "outputs": [
    {
     "name": "stderr",
     "output_type": "stream",
     "text": [
      "Calculating MAP@10 (sampled): 100%|██████████| 1000/1000 [00:40<00:00, 24.81it/s]\n"
     ]
    }
   ],
   "execution_count": 34
  },
  {
   "metadata": {
    "ExecuteTime": {
     "end_time": "2025-06-26T20:35:46.938839400Z",
     "start_time": "2025-06-26T19:58:26.148972Z"
    }
   },
   "cell_type": "code",
   "source": "print(f\"MAP@10 for TD-IDF v2: {rec_v2:.4f}\")",
   "id": "7308dd687b2922df",
   "outputs": [
    {
     "name": "stdout",
     "output_type": "stream",
     "text": [
      "MAP@10 for TD-IDF v2: 0.0239\n"
     ]
    }
   ],
   "execution_count": 27
  },
  {
   "metadata": {
    "ExecuteTime": {
     "end_time": "2025-06-26T20:35:46.938839400Z",
     "start_time": "2025-06-26T19:59:00.552192Z"
    }
   },
   "cell_type": "code",
   "source": "len(train_df[\"user_id\"].unique()), len(test_df[\"user_id\"].unique())",
   "id": "63a5d9bf008e586",
   "outputs": [
    {
     "data": {
      "text/plain": [
       "(868218, 868218)"
      ]
     },
     "execution_count": 31,
     "metadata": {},
     "output_type": "execute_result"
    }
   ],
   "execution_count": 31
  },
  {
   "metadata": {
    "ExecuteTime": {
     "end_time": "2025-06-26T21:28:59.014767Z",
     "start_time": "2025-06-26T21:28:59.010770Z"
    }
   },
   "cell_type": "code",
   "source": "from joblib import Parallel, delayed",
   "id": "b267440aa62c8bbd",
   "outputs": [],
   "execution_count": 79
  },
  {
   "metadata": {
    "ExecuteTime": {
     "end_time": "2025-06-26T21:29:00.628552Z",
     "start_time": "2025-06-26T21:29:00.623609Z"
    }
   },
   "cell_type": "code",
   "source": [
    "def ap_for_user(user_id, true_item_id, recommend_func, k):\n",
    "    recommendations = recommend_func(user_id, top_k=k)\n",
    "    return average_precision_at_k(recommendations, true_item_id, k)\n",
    "\n",
    "def map_at_10_sampled_parallel(validation_df, recommend_func, k=10, sample_size=10_000, random_state=42, n_jobs=-1):\n",
    "    unique_users = validation_df[\"user_id\"].unique()\n",
    "    rng = np.random.default_rng(random_state)\n",
    "    sampled_users = rng.choice(unique_users, size=min(sample_size, len(unique_users)), replace=False)\n",
    "    sampled_df = validation_df[validation_df[\"user_id\"].isin(sampled_users)]\n",
    "\n",
    "    iterator = (row for _, row in sampled_df.iterrows())\n",
    "    results = Parallel(n_jobs=n_jobs, prefer=\"threads\")(\n",
    "        delayed(ap_for_user)(row[\"user_id\"], row[\"item_id\"], recommend_func, k)\n",
    "        for row in tqdm(iterator, total=len(sampled_df), desc=\"Parallel MAP@10\")\n",
    "    )\n",
    "    return np.mean(results) if results else 0.0"
   ],
   "id": "5e58394549799502",
   "outputs": [],
   "execution_count": 80
  },
  {
   "metadata": {},
   "cell_type": "code",
   "source": "rec_v2_par = map_at_10_sampled_parallel(test_df, recommend_for_user_v2_fast, k=10, sample_size=10_000)",
   "id": "8f7faabd5f995810",
   "outputs": [],
   "execution_count": null
  },
  {
   "metadata": {
    "ExecuteTime": {
     "end_time": "2025-06-26T21:21:01.335767Z",
     "start_time": "2025-06-26T21:21:01.332766Z"
    }
   },
   "cell_type": "code",
   "source": "print(f\"MAP@10 for TD-IDF v2 parallel: {rec_v2_par:.4f}\")",
   "id": "230d9cc9297b4fe4",
   "outputs": [
    {
     "name": "stdout",
     "output_type": "stream",
     "text": [
      "MAP@10 for TD-IDF v2 parallel: 0.0229\n"
     ]
    }
   ],
   "execution_count": 68
  },
  {
   "metadata": {},
   "cell_type": "markdown",
   "source": "---",
   "id": "b28cbc36807ec9eb"
  },
  {
   "metadata": {
    "ExecuteTime": {
     "end_time": "2025-06-26T20:57:18.837040Z",
     "start_time": "2025-06-26T20:57:18.832041Z"
    }
   },
   "cell_type": "code",
   "source": [
    "def recommend_for_user_v2_fast_half(user_id, top_k=10, alpha=0.7):\n",
    "    profile = build_user_profile(user_id)\n",
    "    scores = cosine_similarity(profile, tfidf_matrix).flatten()\n",
    "    seen_items = user_seen_items.get(user_id, set())\n",
    "    main_cat = user_main_category.get(user_id, None)\n",
    "    if main_cat is None or main_cat not in category_popularity:\n",
    "        recs = [i for i in scores.argsort()[::-1] if i not in seen_items]\n",
    "        return recs[:top_k]\n",
    "    pop_scores = category_popularity[main_cat]\n",
    "    if scores.max() > 0:\n",
    "        scores = scores / scores.max()\n",
    "    combined = alpha * scores + (1 - alpha) * pop_scores\n",
    "    recs = [i for i in combined.argsort()[::-1] if i not in seen_items]\n",
    "    return recs[:top_k]"
   ],
   "id": "6f96fcbfb64d5559",
   "outputs": [],
   "execution_count": 39
  },
  {
   "metadata": {
    "ExecuteTime": {
     "end_time": "2025-06-26T21:18:30.288032Z",
     "start_time": "2025-06-26T21:18:30.283058Z"
    }
   },
   "cell_type": "code",
   "source": [
    "import os\n",
    "\n",
    "def recommend_for_user_v2_fast_half_v2(user_id, top_k=10, alpha=0.7):\n",
    "    profile = build_user_profile(user_id)\n",
    "    scores = cosine_similarity(profile, tfidf_matrix).flatten()\n",
    "    seen_items = user_seen_items.get(user_id, set())\n",
    "    main_cat = user_main_category.get(user_id, None)\n",
    "    if main_cat is None or main_cat not in category_popularity:\n",
    "        recs = [i for i in scores.argsort()[::-1] if i not in seen_items]\n",
    "        return recs[:top_k]\n",
    "    pop_scores = category_popularity[main_cat]\n",
    "    if scores.max() > 0:\n",
    "        scores = scores / scores.max()\n",
    "    combined = alpha * scores + (1 - alpha) * pop_scores\n",
    "    recs = [i for i in combined.argsort()[::-1] if i not in seen_items]\n",
    "    u = {\"user_id\": user_id, \"items_id\": ' '.join(recs[:top_k]) }\n",
    "    # u_df = pd.DataFrame(u)\n",
    "    # u_df.to_csv(f\"user_recommendation{user_id}.csv\")\n",
    "    u_df = pd.DataFrame([u])\n",
    "    file_path = os.path.abspath(f\"C:\\\\Users\\\\Thyrmite\\\\Documents\\\\dev\\\\Shopping_Recomendation\\\\nimus\\\\data\\\\user_recommendation{user_id}.csv\")\n",
    "    u_df.to_csv(file_path, index=False)\n",
    "    print(f\"Saved to: {file_path}\")\n",
    "\n",
    "    print(f\"Ukończono plik o numerze: {user_id}\")\n",
    "    return u"
   ],
   "id": "b6290342315537c9",
   "outputs": [],
   "execution_count": 64
  },
  {
   "metadata": {
    "ExecuteTime": {
     "end_time": "2025-06-26T21:13:06.252192Z",
     "start_time": "2025-06-26T21:13:06.249647Z"
    }
   },
   "cell_type": "code",
   "source": "from multiprocessing import Process",
   "id": "4186b1e85c192888",
   "outputs": [],
   "execution_count": 54
  },
  {
   "metadata": {
    "ExecuteTime": {
     "end_time": "2025-06-26T21:18:37.893529Z",
     "start_time": "2025-06-26T21:18:33.133005Z"
    }
   },
   "cell_type": "code",
   "source": [
    "processes = []\n",
    "for i, user_id in tqdm(enumerate(range(0, 1000))):\n",
    "    p = Process(target=recommend_for_user_v2_fast_half_v2, args=(user_id, ))\n",
    "    processes.append(p)\n",
    "    # print(f\"Ukończono plik o numerze: {i}\")\n",
    "    p.start()"
   ],
   "id": "44d5a7df45af8818",
   "outputs": [
    {
     "name": "stderr",
     "output_type": "stream",
     "text": [
      "1000it [00:04, 210.57it/s]\n"
     ]
    }
   ],
   "execution_count": 65
  },
  {
   "metadata": {
    "ExecuteTime": {
     "end_time": "2025-06-26T21:18:45.985051Z",
     "start_time": "2025-06-26T21:18:45.981392Z"
    }
   },
   "cell_type": "code",
   "source": [
    "print(os.getcwd())\n",
    "print([f for f in os.listdir() if f.startswith(\"user_recommendation\") and f.endswith(\".csv\")])"
   ],
   "id": "c68171cbb3254f6",
   "outputs": [
    {
     "name": "stdout",
     "output_type": "stream",
     "text": [
      "C:\\Users\\Thyrmite\\Documents\\dev\\Shopping_Recomendation\\nimus\n",
      "[]\n"
     ]
    }
   ],
   "execution_count": 67
  }
 ],
 "metadata": {
  "kernelspec": {
   "display_name": "Python 3",
   "language": "python",
   "name": "python3"
  },
  "language_info": {
   "codemirror_mode": {
    "name": "ipython",
    "version": 2
   },
   "file_extension": ".py",
   "mimetype": "text/x-python",
   "name": "python",
   "nbconvert_exporter": "python",
   "pygments_lexer": "ipython2",
   "version": "2.7.6"
  }
 },
 "nbformat": 4,
 "nbformat_minor": 5
}
