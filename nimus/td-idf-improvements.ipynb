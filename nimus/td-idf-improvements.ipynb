{
 "cells": [
  {
   "cell_type": "code",
   "id": "initial_id",
   "metadata": {
    "collapsed": true,
    "ExecuteTime": {
     "end_time": "2025-06-26T19:28:51.453498Z",
     "start_time": "2025-06-26T19:28:50.950019Z"
    }
   },
   "source": [
    "import pandas as pd\n",
    "import numpy as np\n",
    "import json\n",
    "import random"
   ],
   "outputs": [],
   "execution_count": 1
  },
  {
   "metadata": {
    "ExecuteTime": {
     "end_time": "2025-06-26T19:28:57.125969Z",
     "start_time": "2025-06-26T19:28:51.467498Z"
    }
   },
   "cell_type": "code",
   "source": [
    "train_df = pd.read_csv(\"../data/v1/train.csv\")\n",
    "test_df = pd.read_csv(\"../data/v1/test.csv\")\n",
    "meta_df = pd.read_csv(\"../data/item_metadata_filtered.csv\")\n",
    "with open(\"../data/id_mappings.json\") as f:\n",
    "    id_map = json.load(f)"
   ],
   "id": "d2f43a62e46d0516",
   "outputs": [],
   "execution_count": 2
  },
  {
   "metadata": {
    "ExecuteTime": {
     "end_time": "2025-06-26T19:28:57.564812Z",
     "start_time": "2025-06-26T19:28:57.340894Z"
    }
   },
   "cell_type": "code",
   "source": [
    "# User id and asin to int id mapping\n",
    "asin_to_id = {asin: int(item_id) for asin, item_id in id_map[\"item_mapping\"].items()} # asin (str) -> item_id (int)\n",
    "item_id_to_asin = {int(item_id): asin for item_id, asin in id_map[\"item_reverse_mapping\"].items()} # item_id (int) -> asin (str)\n",
    "\n",
    "# Create a lookup dictionary for true items from the test set\n",
    "true_items_map = pd.Series(test_df.item_id.values, index=test_df.user_id).to_dict()"
   ],
   "id": "6a9002f38a55cbfc",
   "outputs": [],
   "execution_count": 3
  },
  {
   "metadata": {
    "ExecuteTime": {
     "end_time": "2025-06-26T19:28:57.668470Z",
     "start_time": "2025-06-26T19:28:57.654812Z"
    }
   },
   "cell_type": "code",
   "source": [
    "all_categories = sorted(meta_df[\"main_category\"].dropna().unique().tolist())\n",
    "category_options = [\"Any\"] + all_categories"
   ],
   "id": "c007a56d6a1739a3",
   "outputs": [],
   "execution_count": 4
  },
  {
   "metadata": {
    "ExecuteTime": {
     "end_time": "2025-06-26T19:28:57.973631Z",
     "start_time": "2025-06-26T19:28:57.809632Z"
    }
   },
   "cell_type": "code",
   "source": [
    "# Preprocess metadata\n",
    "meta_df[\"title\"] = meta_df[\"title\"].fillna(\"\")\n",
    "meta_df[\"store\"] = meta_df[\"store\"].fillna(\"\")\n",
    "meta_df[\"description\"] = meta_df[\"description\"].fillna(\"\")\n",
    "meta_df[\"average_rating\"] = meta_df[\"average_rating\"].fillna(\"\")\n",
    "meta_df[\"price\"] = meta_df[\"price\"].fillna(\"\")\n",
    "meta_df[\"image_urls\"] = meta_df[\"image_urls\"].fillna(\"[]\")\n",
    "\n",
    "# Index by ASIN for lookup\n",
    "meta_df = meta_df.set_index(\"parent_asin\")"
   ],
   "id": "49540642294fd1e9",
   "outputs": [],
   "execution_count": 5
  },
  {
   "metadata": {
    "ExecuteTime": {
     "end_time": "2025-06-26T19:28:58.905771Z",
     "start_time": "2025-06-26T19:28:58.027631Z"
    }
   },
   "cell_type": "code",
   "source": [
    "from sklearn.feature_extraction.text import TfidfVectorizer\n",
    "from sklearn.metrics.pairwise import cosine_similarity"
   ],
   "id": "ea1edd63effc9757",
   "outputs": [],
   "execution_count": 6
  },
  {
   "metadata": {
    "ExecuteTime": {
     "end_time": "2025-06-26T19:29:08.035525Z",
     "start_time": "2025-06-26T19:28:58.960179Z"
    }
   },
   "cell_type": "code",
   "source": [
    "# --- TF-IDF ---\n",
    "all_items = sorted(asin_to_id.keys())  # all ASINs\n",
    "texts = [\n",
    "    meta_df.loc[asin][\"title\"] + \" \" +\n",
    "    meta_df.loc[asin][\"store\"] + \" \" +\n",
    "    meta_df.loc[asin][\"description\"]\n",
    "    if asin in meta_df.index else \"\"\n",
    "    for asin in all_items\n",
    "]"
   ],
   "id": "2a1d480dc2d8829d",
   "outputs": [],
   "execution_count": 7
  },
  {
   "metadata": {
    "ExecuteTime": {
     "end_time": "2025-06-26T19:29:17.366892Z",
     "start_time": "2025-06-26T19:29:08.106332Z"
    }
   },
   "cell_type": "code",
   "source": [
    "vectorizer = TfidfVectorizer(max_features=10_000)\n",
    "tfidf_matrix = vectorizer.fit_transform(texts)"
   ],
   "id": "433f338e522c020f",
   "outputs": [],
   "execution_count": 8
  },
  {
   "metadata": {},
   "cell_type": "markdown",
   "source": [
    "# Basic TD-IDF\n",
    "with de-duplication of results"
   ],
   "id": "970132392fab214b"
  },
  {
   "metadata": {
    "ExecuteTime": {
     "end_time": "2025-06-26T19:29:17.420376Z",
     "start_time": "2025-06-26T19:29:17.415571Z"
    }
   },
   "cell_type": "code",
   "source": [
    "def build_user_profile(user_id):\n",
    "    user_ratings = train_df[train_df[\"user_id\"] == user_id]\n",
    "    indices = user_ratings[\"item_id\"].values\n",
    "    ratings = user_ratings[\"rating\"].values\n",
    "    item_vectors = tfidf_matrix[indices]\n",
    "    weighted = item_vectors.multiply(ratings[:, None])\n",
    "    profile = weighted.mean(axis=0)\n",
    "    return np.asarray(profile)"
   ],
   "id": "99d4fab3d07129b7",
   "outputs": [],
   "execution_count": 9
  },
  {
   "metadata": {
    "ExecuteTime": {
     "end_time": "2025-06-26T19:41:47.456745Z",
     "start_time": "2025-06-26T19:41:47.450743Z"
    }
   },
   "cell_type": "code",
   "source": [
    "def recommend_for_user_v1(user_id, top_k=10):\n",
    "    profile = build_user_profile(user_id)\n",
    "    scores = cosine_similarity(profile, tfidf_matrix).flatten()\n",
    "    # Remove previously rated items\n",
    "    seen_items = set(train_df[train_df[\"user_id\"] == user_id][\"item_id\"])\n",
    "    recs = [i for i in scores.argsort()[::-1] if i not in seen_items]\n",
    "    return recs[:top_k]"
   ],
   "id": "a9abeb71c40c749c",
   "outputs": [],
   "execution_count": 19
  },
  {
   "metadata": {
    "ExecuteTime": {
     "end_time": "2025-06-26T19:29:17.536295Z",
     "start_time": "2025-06-26T19:29:17.531293Z"
    }
   },
   "cell_type": "code",
   "source": [
    "def average_precision_at_k(recommendations, true_item_id, k=10):\n",
    "    if true_item_id in recommendations[:k]:\n",
    "        # Find the rank (position) of the true item, adding 1 for 1-based ranking\n",
    "        rank = recommendations[:k].index(true_item_id) + 1\n",
    "        return 1.0 / rank\n",
    "    return 0.0"
   ],
   "id": "2ebf7086664f010f",
   "outputs": [],
   "execution_count": 11
  },
  {
   "metadata": {
    "ExecuteTime": {
     "end_time": "2025-06-26T19:29:17.591636Z",
     "start_time": "2025-06-26T19:29:17.587008Z"
    }
   },
   "cell_type": "code",
   "source": [
    "def pick_random_user_simple(min_interactions, max_interactions):\n",
    "    counts = train_df[\"user_id\"].value_counts()\n",
    "    if max_interactions <= 0:\n",
    "        valid = counts[counts >= min_interactions].index.tolist()\n",
    "    else:\n",
    "        valid = counts[min_interactions <= counts <= max_interactions].index.tolist()\n",
    "    return random.choice(valid), len(valid), len(counts) if valid else None"
   ],
   "id": "36edfce02264a312",
   "outputs": [],
   "execution_count": 12
  },
  {
   "metadata": {
    "ExecuteTime": {
     "end_time": "2025-06-26T19:29:17.657080Z",
     "start_time": "2025-06-26T19:29:17.643634Z"
    }
   },
   "cell_type": "code",
   "source": "from tqdm import tqdm",
   "id": "1e5d5f3ba3175d50",
   "outputs": [],
   "execution_count": 13
  },
  {
   "metadata": {
    "ExecuteTime": {
     "end_time": "2025-06-26T19:29:17.709187Z",
     "start_time": "2025-06-26T19:29:17.703899Z"
    }
   },
   "cell_type": "code",
   "source": [
    "def map_at_10(validation_df, recommend_func, k=10):\n",
    "    ap_scores = []\n",
    "    for _, row in tqdm(validation_df.iterrows(), total=len(validation_df), desc=\"Calculating MAP@10\"):\n",
    "        user_id = row[\"user_id\"]\n",
    "        true_item_id = row[\"item_id\"]\n",
    "        recommendations = recommend_func(user_id, top_k=k)\n",
    "        ap = average_precision_at_k(recommendations, true_item_id, k)\n",
    "        ap_scores.append(ap)\n",
    "    return np.mean(ap_scores) if ap_scores else 0.0\n"
   ],
   "id": "abf06a258843f4d9",
   "outputs": [],
   "execution_count": 14
  },
  {
   "metadata": {
    "ExecuteTime": {
     "end_time": "2025-06-26T19:32:03.170847Z",
     "start_time": "2025-06-26T19:32:03.165707Z"
    }
   },
   "cell_type": "code",
   "source": [
    "def map_at_10_sampled(validation_df, recommend_func, k=10, sample_size=10_000, random_state=42):\n",
    "    unique_users = validation_df[\"user_id\"].unique()\n",
    "    rng = np.random.default_rng(random_state)\n",
    "    sampled_users = rng.choice(unique_users, size=min(sample_size, len(unique_users)), replace=False)\n",
    "    sampled_df = validation_df[validation_df[\"user_id\"].isin(sampled_users)]\n",
    "\n",
    "    ap_scores = []\n",
    "    for _, row in tqdm(sampled_df.iterrows(), total=len(sampled_df), desc=\"Calculating MAP@10 (sampled)\"):\n",
    "        user_id = row[\"user_id\"]\n",
    "        true_item_id = row[\"item_id\"]\n",
    "        recommendations = recommend_func(user_id, top_k=k)\n",
    "        ap = average_precision_at_k(recommendations, true_item_id, k)\n",
    "        ap_scores.append(ap)\n",
    "    return np.mean(ap_scores) if ap_scores else 0.0"
   ],
   "id": "3e5ea3d74802d3f2",
   "outputs": [],
   "execution_count": 16
  },
  {
   "metadata": {
    "ExecuteTime": {
     "end_time": "2025-06-26T19:33:32.537896Z",
     "start_time": "2025-06-26T19:32:10.487796Z"
    }
   },
   "cell_type": "code",
   "source": "rec_v1 = map_at_10_sampled(test_df, recommend_for_user_v1, k=10, sample_size=1_000)",
   "id": "f02941c61cba2f21",
   "outputs": [
    {
     "name": "stderr",
     "output_type": "stream",
     "text": [
      "Calculating MAP@10 (sampled): 100%|██████████| 1000/1000 [01:21<00:00, 12.20it/s]\n"
     ]
    }
   ],
   "execution_count": 17
  },
  {
   "metadata": {
    "ExecuteTime": {
     "end_time": "2025-06-26T19:35:30.099237Z",
     "start_time": "2025-06-26T19:35:30.090437Z"
    }
   },
   "cell_type": "code",
   "source": "print(f\"MAP@10 for TD-IDF v1: {rec_v1:.4f}\")",
   "id": "a10af57bd7428105",
   "outputs": [
    {
     "data": {
      "text/plain": [
       "np.float64(0.010917857142857142)"
      ]
     },
     "execution_count": 18,
     "metadata": {},
     "output_type": "execute_result"
    }
   ],
   "execution_count": 18
  },
  {
   "metadata": {},
   "cell_type": "markdown",
   "source": [
    "# TD-IDF v2\n",
    "with boosting most popular items from user's main category"
   ],
   "id": "5e774daee15bcf1c"
  },
  {
   "metadata": {
    "ExecuteTime": {
     "end_time": "2025-06-26T19:48:27.582221Z",
     "start_time": "2025-06-26T19:48:27.575679Z"
    }
   },
   "cell_type": "code",
   "source": [
    "def get_user_main_category(user_id):\n",
    "    user_items = train_df[train_df[\"user_id\"] == user_id][\"item_id\"]\n",
    "    asins = [item_id_to_asin[i] for i in user_items if i in item_id_to_asin]\n",
    "    categories = meta_df.loc[asins, \"main_category\"].dropna()\n",
    "    if categories.empty:\n",
    "        return None\n",
    "    return categories.value_counts().idxmax()"
   ],
   "id": "c45632256d095504",
   "outputs": [],
   "execution_count": 20
  },
  {
   "metadata": {
    "ExecuteTime": {
     "end_time": "2025-06-26T19:48:28.782466Z",
     "start_time": "2025-06-26T19:48:28.775469Z"
    }
   },
   "cell_type": "code",
   "source": [
    "def get_category_popularity(category):\n",
    "    items_in_cat = meta_df[meta_df[\"main_category\"] == category].index\n",
    "    item_ids = [asin_to_id[a] for a in items_in_cat if a in asin_to_id]\n",
    "    pop = train_df[train_df[\"item_id\"].isin(item_ids)][\"item_id\"].value_counts()\n",
    "    return pop"
   ],
   "id": "c701c3a51ced7048",
   "outputs": [],
   "execution_count": 21
  },
  {
   "metadata": {
    "ExecuteTime": {
     "end_time": "2025-06-26T19:48:30.466437Z",
     "start_time": "2025-06-26T19:48:30.455834Z"
    }
   },
   "cell_type": "code",
   "source": [
    "def recommend_for_user_v2(user_id, top_k=10, alpha=0.7):\n",
    "    profile = build_user_profile(user_id)\n",
    "    scores = cosine_similarity(profile, tfidf_matrix).flatten()\n",
    "    seen_items = set(train_df[train_df[\"user_id\"] == user_id][\"item_id\"])\n",
    "    main_cat = get_user_main_category(user_id)\n",
    "    if main_cat is None:\n",
    "        # fallback to original recommend\n",
    "        recs = [i for i in scores.argsort()[::-1] if i not in seen_items]\n",
    "        return recs[:top_k]\n",
    "    pop = get_category_popularity(main_cat)\n",
    "    pop_scores = np.zeros_like(scores)\n",
    "    for item_id, count in pop.items():\n",
    "        pop_scores[item_id] = count\n",
    "    # Normalize both scores\n",
    "    if pop_scores.max() > 0:\n",
    "        pop_scores = pop_scores / pop_scores.max()\n",
    "    if scores.max() > 0:\n",
    "        scores = scores / scores.max()\n",
    "    # Combine: alpha * tfidf + (1-alpha) * popularity\n",
    "    combined = alpha * scores + (1 - alpha) * pop_scores\n",
    "    recs = [i for i in combined.argsort()[::-1] if i not in seen_items]\n",
    "    return recs[:top_k]"
   ],
   "id": "b10f54b5b96cd937",
   "outputs": [],
   "execution_count": 22
  },
  {
   "metadata": {
    "ExecuteTime": {
     "end_time": "2025-06-26T19:52:49.761290Z",
     "start_time": "2025-06-26T19:48:33.301528Z"
    }
   },
   "cell_type": "code",
   "source": "rec_v2 = map_at_10_sampled(test_df, recommend_for_user_v2, k=10, sample_size=1_000)",
   "id": "51a0e5ca823906e9",
   "outputs": [
    {
     "name": "stderr",
     "output_type": "stream",
     "text": [
      "Calculating MAP@10 (sampled): 100%|██████████| 1000/1000 [04:16<00:00,  3.90it/s]\n"
     ]
    }
   ],
   "execution_count": 23
  },
  {
   "metadata": {
    "ExecuteTime": {
     "end_time": "2025-06-26T19:58:26.155678Z",
     "start_time": "2025-06-26T19:58:26.148972Z"
    }
   },
   "cell_type": "code",
   "source": "print(f\"MAP@10 for TD-IDF v2: {rec_v2:.4f}\")",
   "id": "7308dd687b2922df",
   "outputs": [
    {
     "name": "stdout",
     "output_type": "stream",
     "text": [
      "MAP@10 for TD-IDF v2: 0.0239\n"
     ]
    }
   ],
   "execution_count": 27
  },
  {
   "metadata": {
    "ExecuteTime": {
     "end_time": "2025-06-26T19:59:00.616373Z",
     "start_time": "2025-06-26T19:59:00.552192Z"
    }
   },
   "cell_type": "code",
   "source": "len(train_df[\"user_id\"].unique()), len(test_df[\"user_id\"].unique())",
   "id": "63a5d9bf008e586",
   "outputs": [
    {
     "data": {
      "text/plain": [
       "(868218, 868218)"
      ]
     },
     "execution_count": 31,
     "metadata": {},
     "output_type": "execute_result"
    }
   ],
   "execution_count": 31
  }
 ],
 "metadata": {
  "kernelspec": {
   "display_name": "Python 3",
   "language": "python",
   "name": "python3"
  },
  "language_info": {
   "codemirror_mode": {
    "name": "ipython",
    "version": 2
   },
   "file_extension": ".py",
   "mimetype": "text/x-python",
   "name": "python",
   "nbconvert_exporter": "python",
   "pygments_lexer": "ipython2",
   "version": "2.7.6"
  }
 },
 "nbformat": 4,
 "nbformat_minor": 5
}
