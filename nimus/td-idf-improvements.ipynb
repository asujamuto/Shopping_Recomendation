{
 "cells": [
  {
   "cell_type": "code",
   "id": "initial_id",
   "metadata": {
    "collapsed": true,
    "ExecuteTime": {
     "end_time": "2025-06-26T19:28:51.453498Z",
     "start_time": "2025-06-26T19:28:50.950019Z"
    }
   },
   "source": [
    "import pandas as pd\n",
    "import numpy as np\n",
    "import json\n",
    "import random"
   ],
   "outputs": [],
   "execution_count": 1
  },
  {
   "metadata": {
    "ExecuteTime": {
     "end_time": "2025-06-26T19:28:57.125969Z",
     "start_time": "2025-06-26T19:28:51.467498Z"
    }
   },
   "cell_type": "code",
   "source": [
    "train_df = pd.read_csv(\"../data/v1/train.csv\")\n",
    "test_df = pd.read_csv(\"../data/v1/test.csv\")\n",
    "meta_df = pd.read_csv(\"../data/item_metadata_filtered.csv\")\n",
    "with open(\"../data/id_mappings.json\") as f:\n",
    "    id_map = json.load(f)"
   ],
   "id": "d2f43a62e46d0516",
   "outputs": [],
   "execution_count": 2
  },
  {
   "metadata": {
    "ExecuteTime": {
     "end_time": "2025-06-26T19:28:57.564812Z",
     "start_time": "2025-06-26T19:28:57.340894Z"
    }
   },
   "cell_type": "code",
   "source": [
    "# User id and asin to int id mapping\n",
    "asin_to_id = {asin: int(item_id) for asin, item_id in id_map[\"item_mapping\"].items()} # asin (str) -> item_id (int)\n",
    "item_id_to_asin = {int(item_id): asin for item_id, asin in id_map[\"item_reverse_mapping\"].items()} # item_id (int) -> asin (str)\n",
    "\n",
    "# Create a lookup dictionary for true items from the test set\n",
    "true_items_map = pd.Series(test_df.item_id.values, index=test_df.user_id).to_dict()"
   ],
   "id": "6a9002f38a55cbfc",
   "outputs": [],
   "execution_count": 3
  },
  {
   "metadata": {
    "ExecuteTime": {
     "end_time": "2025-06-26T19:28:57.668470Z",
     "start_time": "2025-06-26T19:28:57.654812Z"
    }
   },
   "cell_type": "code",
   "source": [
    "all_categories = sorted(meta_df[\"main_category\"].dropna().unique().tolist())\n",
    "category_options = [\"Any\"] + all_categories"
   ],
   "id": "c007a56d6a1739a3",
   "outputs": [],
   "execution_count": 4
  },
  {
   "metadata": {
    "ExecuteTime": {
     "end_time": "2025-06-26T19:28:57.973631Z",
     "start_time": "2025-06-26T19:28:57.809632Z"
    }
   },
   "cell_type": "code",
   "source": [
    "# Preprocess metadata\n",
    "meta_df[\"title\"] = meta_df[\"title\"].fillna(\"\")\n",
    "meta_df[\"store\"] = meta_df[\"store\"].fillna(\"\")\n",
    "meta_df[\"description\"] = meta_df[\"description\"].fillna(\"\")\n",
    "meta_df[\"average_rating\"] = meta_df[\"average_rating\"].fillna(\"\")\n",
    "meta_df[\"price\"] = meta_df[\"price\"].fillna(\"\")\n",
    "meta_df[\"image_urls\"] = meta_df[\"image_urls\"].fillna(\"[]\")\n",
    "\n",
    "# Index by ASIN for lookup\n",
    "meta_df = meta_df.set_index(\"parent_asin\")"
   ],
   "id": "49540642294fd1e9",
   "outputs": [],
   "execution_count": 5
  },
  {
   "metadata": {
    "ExecuteTime": {
     "end_time": "2025-06-26T19:28:58.905771Z",
     "start_time": "2025-06-26T19:28:58.027631Z"
    }
   },
   "cell_type": "code",
   "source": [
    "from sklearn.feature_extraction.text import TfidfVectorizer\n",
    "from sklearn.metrics.pairwise import cosine_similarity"
   ],
   "id": "ea1edd63effc9757",
   "outputs": [],
   "execution_count": 6
  },
  {
   "metadata": {
    "ExecuteTime": {
     "end_time": "2025-06-26T19:29:08.035525Z",
     "start_time": "2025-06-26T19:28:58.960179Z"
    }
   },
   "cell_type": "code",
   "source": [
    "# --- TF-IDF ---\n",
    "all_items = sorted(asin_to_id.keys())  # all ASINs\n",
    "texts = [\n",
    "    meta_df.loc[asin][\"title\"] + \" \" +\n",
    "    meta_df.loc[asin][\"store\"] + \" \" +\n",
    "    meta_df.loc[asin][\"description\"]\n",
    "    if asin in meta_df.index else \"\"\n",
    "    for asin in all_items\n",
    "]"
   ],
   "id": "2a1d480dc2d8829d",
   "outputs": [],
   "execution_count": 7
  },
  {
   "metadata": {
    "ExecuteTime": {
     "end_time": "2025-06-26T19:29:17.366892Z",
     "start_time": "2025-06-26T19:29:08.106332Z"
    }
   },
   "cell_type": "code",
   "source": [
    "vectorizer = TfidfVectorizer(max_features=10_000)\n",
    "tfidf_matrix = vectorizer.fit_transform(texts)"
   ],
   "id": "433f338e522c020f",
   "outputs": [],
   "execution_count": 8
  },
  {
   "metadata": {
    "ExecuteTime": {
     "end_time": "2025-06-26T19:29:17.420376Z",
     "start_time": "2025-06-26T19:29:17.415571Z"
    }
   },
   "cell_type": "code",
   "source": [
    "def build_user_profile(user_id):\n",
    "    user_ratings = train_df[train_df[\"user_id\"] == user_id]\n",
    "    indices = user_ratings[\"item_id\"].values\n",
    "    ratings = user_ratings[\"rating\"].values\n",
    "    item_vectors = tfidf_matrix[indices]\n",
    "    weighted = item_vectors.multiply(ratings[:, None])\n",
    "    profile = weighted.mean(axis=0)\n",
    "    return np.asarray(profile)"
   ],
   "id": "99d4fab3d07129b7",
   "outputs": [],
   "execution_count": 9
  },
  {
   "metadata": {
    "ExecuteTime": {
     "end_time": "2025-06-26T19:41:47.456745Z",
     "start_time": "2025-06-26T19:41:47.450743Z"
    }
   },
   "cell_type": "code",
   "source": [
    "def recommend_for_user_v1(user_id, top_k=10):\n",
    "    profile = build_user_profile(user_id)\n",
    "    scores = cosine_similarity(profile, tfidf_matrix).flatten()\n",
    "    # Remove previously rated items\n",
    "    seen_items = set(train_df[train_df[\"user_id\"] == user_id][\"item_id\"])\n",
    "    recs = [i for i in scores.argsort()[::-1] if i not in seen_items]\n",
    "    return recs[:top_k]"
   ],
   "id": "a9abeb71c40c749c",
   "outputs": [],
   "execution_count": 19
  },
  {
   "metadata": {
    "ExecuteTime": {
     "end_time": "2025-06-26T19:29:17.536295Z",
     "start_time": "2025-06-26T19:29:17.531293Z"
    }
   },
   "cell_type": "code",
   "source": [
    "def average_precision_at_k(recommendations, true_item_id, k=10):\n",
    "    if true_item_id in recommendations[:k]:\n",
    "        # Find the rank (position) of the true item, adding 1 for 1-based ranking\n",
    "        rank = recommendations[:k].index(true_item_id) + 1\n",
    "        return 1.0 / rank\n",
    "    return 0.0"
   ],
   "id": "2ebf7086664f010f",
   "outputs": [],
   "execution_count": 11
  },
  {
   "metadata": {
    "ExecuteTime": {
     "end_time": "2025-06-26T19:29:17.591636Z",
     "start_time": "2025-06-26T19:29:17.587008Z"
    }
   },
   "cell_type": "code",
   "source": [
    "def pick_random_user_simple(min_interactions, max_interactions):\n",
    "    counts = train_df[\"user_id\"].value_counts()\n",
    "    if max_interactions <= 0:\n",
    "        valid = counts[counts >= min_interactions].index.tolist()\n",
    "    else:\n",
    "        valid = counts[min_interactions <= counts <= max_interactions].index.tolist()\n",
    "    return random.choice(valid), len(valid), len(counts) if valid else None"
   ],
   "id": "36edfce02264a312",
   "outputs": [],
   "execution_count": 12
  },
  {
   "metadata": {
    "ExecuteTime": {
     "end_time": "2025-06-26T19:29:17.657080Z",
     "start_time": "2025-06-26T19:29:17.643634Z"
    }
   },
   "cell_type": "code",
   "source": "from tqdm import tqdm",
   "id": "1e5d5f3ba3175d50",
   "outputs": [],
   "execution_count": 13
  },
  {
   "metadata": {
    "ExecuteTime": {
     "end_time": "2025-06-26T19:29:17.709187Z",
     "start_time": "2025-06-26T19:29:17.703899Z"
    }
   },
   "cell_type": "code",
   "source": [
    "def map_at_10(validation_df, recommend_func, k=10):\n",
    "    ap_scores = []\n",
    "    for _, row in tqdm(validation_df.iterrows(), total=len(validation_df), desc=\"Calculating MAP@10\"):\n",
    "        user_id = row[\"user_id\"]\n",
    "        true_item_id = row[\"item_id\"]\n",
    "        recommendations = recommend_func(user_id, top_k=k)\n",
    "        ap = average_precision_at_k(recommendations, true_item_id, k)\n",
    "        ap_scores.append(ap)\n",
    "    return np.mean(ap_scores) if ap_scores else 0.0\n"
   ],
   "id": "abf06a258843f4d9",
   "outputs": [],
   "execution_count": 14
  },
  {
   "metadata": {
    "ExecuteTime": {
     "end_time": "2025-06-26T19:32:03.170847Z",
     "start_time": "2025-06-26T19:32:03.165707Z"
    }
   },
   "cell_type": "code",
   "source": [
    "def map_at_10_sampled(validation_df, recommend_func, k=10, sample_size=10_000, random_state=42):\n",
    "    unique_users = validation_df[\"user_id\"].unique()\n",
    "    rng = np.random.default_rng(random_state)\n",
    "    sampled_users = rng.choice(unique_users, size=min(sample_size, len(unique_users)), replace=False)\n",
    "    sampled_df = validation_df[validation_df[\"user_id\"].isin(sampled_users)]\n",
    "\n",
    "    ap_scores = []\n",
    "    for _, row in tqdm(sampled_df.iterrows(), total=len(sampled_df), desc=\"Calculating MAP@10 (sampled)\"):\n",
    "        user_id = row[\"user_id\"]\n",
    "        true_item_id = row[\"item_id\"]\n",
    "        recommendations = recommend_func(user_id, top_k=k)\n",
    "        ap = average_precision_at_k(recommendations, true_item_id, k)\n",
    "        ap_scores.append(ap)\n",
    "    return np.mean(ap_scores) if ap_scores else 0.0"
   ],
   "id": "3e5ea3d74802d3f2",
   "outputs": [],
   "execution_count": 16
  },
  {
   "metadata": {
    "ExecuteTime": {
     "end_time": "2025-06-26T19:33:32.537896Z",
     "start_time": "2025-06-26T19:32:10.487796Z"
    }
   },
   "cell_type": "code",
   "source": "res = map_at_10_sampled(test_df, recommend_for_user_v1, k=10, sample_size=1_000)",
   "id": "f02941c61cba2f21",
   "outputs": [
    {
     "name": "stderr",
     "output_type": "stream",
     "text": [
      "Calculating MAP@10 (sampled): 100%|██████████| 1000/1000 [01:21<00:00, 12.20it/s]\n"
     ]
    }
   ],
   "execution_count": 17
  },
  {
   "metadata": {
    "ExecuteTime": {
     "end_time": "2025-06-26T19:35:30.099237Z",
     "start_time": "2025-06-26T19:35:30.090437Z"
    }
   },
   "cell_type": "code",
   "source": "res",
   "id": "a10af57bd7428105",
   "outputs": [
    {
     "data": {
      "text/plain": [
       "np.float64(0.010917857142857142)"
      ]
     },
     "execution_count": 18,
     "metadata": {},
     "output_type": "execute_result"
    }
   ],
   "execution_count": 18
  }
 ],
 "metadata": {
  "kernelspec": {
   "display_name": "Python 3",
   "language": "python",
   "name": "python3"
  },
  "language_info": {
   "codemirror_mode": {
    "name": "ipython",
    "version": 2
   },
   "file_extension": ".py",
   "mimetype": "text/x-python",
   "name": "python",
   "nbconvert_exporter": "python",
   "pygments_lexer": "ipython2",
   "version": "2.7.6"
  }
 },
 "nbformat": 4,
 "nbformat_minor": 5
}
