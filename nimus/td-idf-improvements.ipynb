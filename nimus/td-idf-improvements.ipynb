{
 "cells": [
  {
   "cell_type": "code",
   "execution_count": 15,
   "id": "initial_id",
   "metadata": {
    "ExecuteTime": {
     "end_time": "2025-06-26T19:28:51.453498Z",
     "start_time": "2025-06-26T19:28:50.950019Z"
    },
    "collapsed": true
   },
   "outputs": [],
   "source": [
    "import pandas as pd\n",
    "import numpy as np\n",
    "import json\n",
    "import random"
   ]
  },
  {
   "cell_type": "code",
   "execution_count": 16,
   "id": "d2f43a62e46d0516",
   "metadata": {
    "ExecuteTime": {
     "end_time": "2025-06-26T19:28:57.125969Z",
     "start_time": "2025-06-26T19:28:51.467498Z"
    }
   },
   "outputs": [],
   "source": [
    "try:\n",
    "    train_df = pd.read_csv(\"../data/v1/train.csv\")\n",
    "    test_df = pd.read_csv(\"../data/v1/test.csv\")\n",
    "    meta_df = pd.read_csv(\"../data/item_metadata_filtered.csv\")\n",
    "    with open(\"../data/id_mappings.json\") as f:\n",
    "        id_map = json.load(f)\n",
    "except: \n",
    "    train_df = pd.read_csv(\"../data/train.csv\")\n",
    "    test_df = pd.read_csv(\"../data/test.csv\")\n",
    "    meta_df = pd.read_csv(\"../data/item_metadata_filtered.csv\")\n",
    "    with open(\"../data/id_mappings.json\") as f:\n",
    "        id_map = json.load(f)\n"
   ]
  },
  {
   "cell_type": "code",
   "id": "6a9002f38a55cbfc",
   "metadata": {},
   "source": [
    "# User id and asin to int id mapping\n",
    "asin_to_id = {asin: int(item_id) for asin, item_id in id_map[\"item_mapping\"].items()} # asin (str) -> item_id (int)\n",
    "item_id_to_asin = {int(item_id): asin for item_id, asin in id_map[\"item_reverse_mapping\"].items()} # item_id (int) -> asin (str)\n",
    "\n",
    "# Create a lookup dictionary for true items from the test set\n",
    "true_items_map = pd.Series(test_df.item_id.values, index=test_df.user_id).to_dict()"
   ],
   "outputs": [],
   "execution_count": null
  },
  {
   "cell_type": "code",
   "execution_count": 18,
   "id": "c007a56d6a1739a3",
   "metadata": {
    "ExecuteTime": {
     "end_time": "2025-06-26T19:28:57.668470Z",
     "start_time": "2025-06-26T19:28:57.654812Z"
    }
   },
   "outputs": [],
   "source": [
    "all_categories = sorted(meta_df[\"main_category\"].dropna().unique().tolist())\n",
    "category_options = [\"Any\"] + all_categories"
   ]
  },
  {
   "cell_type": "code",
   "execution_count": 19,
   "id": "49540642294fd1e9",
   "metadata": {
    "ExecuteTime": {
     "end_time": "2025-06-26T19:28:57.973631Z",
     "start_time": "2025-06-26T19:28:57.809632Z"
    }
   },
   "outputs": [],
   "source": [
    "# Preprocess metadata\n",
    "meta_df[\"title\"] = meta_df[\"title\"].fillna(\"\")\n",
    "meta_df[\"store\"] = meta_df[\"store\"].fillna(\"\")\n",
    "meta_df[\"description\"] = meta_df[\"description\"].fillna(\"\")\n",
    "meta_df[\"average_rating\"] = meta_df[\"average_rating\"].fillna(\"\")\n",
    "meta_df[\"price\"] = meta_df[\"price\"].fillna(\"\")\n",
    "meta_df[\"image_urls\"] = meta_df[\"image_urls\"].fillna(\"[]\")\n",
    "\n",
    "# Index by ASIN for lookup\n",
    "meta_df = meta_df.set_index(\"parent_asin\")"
   ]
  },
  {
   "cell_type": "code",
   "execution_count": 20,
   "id": "ea1edd63effc9757",
   "metadata": {
    "ExecuteTime": {
     "end_time": "2025-06-26T19:28:58.905771Z",
     "start_time": "2025-06-26T19:28:58.027631Z"
    }
   },
   "outputs": [],
   "source": [
    "from sklearn.feature_extraction.text import TfidfVectorizer\n",
    "from sklearn.metrics.pairwise import cosine_similarity"
   ]
  },
  {
   "cell_type": "code",
   "execution_count": 21,
   "id": "2a1d480dc2d8829d",
   "metadata": {
    "ExecuteTime": {
     "end_time": "2025-06-26T19:29:08.035525Z",
     "start_time": "2025-06-26T19:28:58.960179Z"
    }
   },
   "outputs": [],
   "source": [
    "# --- TF-IDF ---\n",
    "all_items = sorted(asin_to_id.keys())  # all ASINs\n",
    "texts = [\n",
    "    meta_df.loc[asin][\"title\"] + \" \" +\n",
    "    meta_df.loc[asin][\"store\"] + \" \" +\n",
    "    meta_df.loc[asin][\"description\"]\n",
    "    if asin in meta_df.index else \"\"\n",
    "    for asin in all_items\n",
    "]"
   ]
  },
  {
   "cell_type": "code",
   "execution_count": 22,
   "id": "433f338e522c020f",
   "metadata": {
    "ExecuteTime": {
     "end_time": "2025-06-26T19:29:17.366892Z",
     "start_time": "2025-06-26T19:29:08.106332Z"
    }
   },
   "outputs": [],
   "source": [
    "vectorizer = TfidfVectorizer(max_features=10_000)\n",
    "tfidf_matrix = vectorizer.fit_transform(texts)"
   ]
  },
  {
   "cell_type": "markdown",
   "id": "970132392fab214b",
   "metadata": {},
   "source": [
    "# Basic TD-IDF\n",
    "with de-duplication of results\n",
    "\n",
    "MAP@10 ~ 0.011 dla randomowego sampla 1k"
   ]
  },
  {
   "cell_type": "code",
   "execution_count": 23,
   "id": "99d4fab3d07129b7",
   "metadata": {
    "ExecuteTime": {
     "end_time": "2025-06-26T19:29:17.420376Z",
     "start_time": "2025-06-26T19:29:17.415571Z"
    }
   },
   "outputs": [],
   "source": [
    "def build_user_profile(user_id):\n",
    "    user_ratings = train_df[train_df[\"user_id\"] == user_id]\n",
    "    indices = user_ratings[\"item_id\"].values\n",
    "    ratings = user_ratings[\"rating\"].values\n",
    "    item_vectors = tfidf_matrix[indices]\n",
    "    weighted = item_vectors.multiply(ratings[:, None])\n",
    "    profile = weighted.mean(axis=0)\n",
    "    return np.asarray(profile)"
   ]
  },
  {
   "cell_type": "code",
   "execution_count": 24,
   "id": "a9abeb71c40c749c",
   "metadata": {
    "ExecuteTime": {
     "end_time": "2025-06-26T19:41:47.456745Z",
     "start_time": "2025-06-26T19:41:47.450743Z"
    }
   },
   "outputs": [],
   "source": [
    "def recommend_for_user_v1(user_id, top_k=10):\n",
    "    profile = build_user_profile(user_id)\n",
    "    scores = cosine_similarity(profile, tfidf_matrix).flatten()\n",
    "    # Remove previously rated items\n",
    "    seen_items = set(train_df[train_df[\"user_id\"] == user_id][\"item_id\"])\n",
    "    recs = [i for i in scores.argsort()[::-1] if i not in seen_items]\n",
    "    return recs[:top_k]"
   ]
  },
  {
   "cell_type": "code",
   "execution_count": 25,
   "id": "2ebf7086664f010f",
   "metadata": {
    "ExecuteTime": {
     "end_time": "2025-06-26T19:29:17.536295Z",
     "start_time": "2025-06-26T19:29:17.531293Z"
    }
   },
   "outputs": [],
   "source": [
    "def average_precision_at_k(recommendations, true_item_id, k=10):\n",
    "    if true_item_id in recommendations[:k]:\n",
    "        # Find the rank (position) of the true item, adding 1 for 1-based ranking\n",
    "        rank = recommendations[:k].index(true_item_id) + 1\n",
    "        return 1.0 / rank\n",
    "    return 0.0"
   ]
  },
  {
   "cell_type": "code",
   "execution_count": 26,
   "id": "36edfce02264a312",
   "metadata": {
    "ExecuteTime": {
     "end_time": "2025-06-26T19:29:17.591636Z",
     "start_time": "2025-06-26T19:29:17.587008Z"
    }
   },
   "outputs": [],
   "source": [
    "def pick_random_user_simple(min_interactions, max_interactions):\n",
    "    counts = train_df[\"user_id\"].value_counts()\n",
    "    if max_interactions <= 0:\n",
    "        valid = counts[counts >= min_interactions].index.tolist()\n",
    "    else:\n",
    "        valid = counts[min_interactions <= counts <= max_interactions].index.tolist()\n",
    "    return random.choice(valid), len(valid), len(counts) if valid else None"
   ]
  },
  {
   "cell_type": "code",
   "execution_count": 27,
   "id": "1e5d5f3ba3175d50",
   "metadata": {
    "ExecuteTime": {
     "end_time": "2025-06-26T19:29:17.657080Z",
     "start_time": "2025-06-26T19:29:17.643634Z"
    }
   },
   "outputs": [],
   "source": [
    "from tqdm import tqdm"
   ]
  },
  {
   "cell_type": "code",
   "execution_count": 28,
   "id": "abf06a258843f4d9",
   "metadata": {
    "ExecuteTime": {
     "end_time": "2025-06-26T19:29:17.709187Z",
     "start_time": "2025-06-26T19:29:17.703899Z"
    }
   },
   "outputs": [],
   "source": [
    "def map_at_10(validation_df, recommend_func, k=10):\n",
    "    ap_scores = []\n",
    "    for _, row in tqdm(validation_df.iterrows(), total=len(validation_df), desc=\"Calculating MAP@10\"):\n",
    "        user_id = row[\"user_id\"]\n",
    "        true_item_id = row[\"item_id\"]\n",
    "        recommendations = recommend_func(user_id, top_k=k)\n",
    "        ap = average_precision_at_k(recommendations, true_item_id, k)\n",
    "        ap_scores.append(ap)\n",
    "    return np.mean(ap_scores) if ap_scores else 0.0\n"
   ]
  },
  {
   "cell_type": "code",
   "execution_count": 29,
   "id": "3e5ea3d74802d3f2",
   "metadata": {
    "ExecuteTime": {
     "end_time": "2025-06-26T19:32:03.170847Z",
     "start_time": "2025-06-26T19:32:03.165707Z"
    }
   },
   "outputs": [],
   "source": [
    "def map_at_10_sampled(validation_df, recommend_func, k=10, sample_size=10_000, random_state=42):\n",
    "    unique_users = validation_df[\"user_id\"].unique()\n",
    "    rng = np.random.default_rng(random_state)\n",
    "    sampled_users = rng.choice(unique_users, size=min(sample_size, len(unique_users)), replace=False)\n",
    "    sampled_df = validation_df[validation_df[\"user_id\"].isin(sampled_users)]\n",
    "\n",
    "    ap_scores = []\n",
    "    for _, row in tqdm(sampled_df.iterrows(), total=len(sampled_df), desc=\"Calculating MAP@10 (sampled)\"):\n",
    "        user_id = row[\"user_id\"]\n",
    "        true_item_id = row[\"item_id\"]\n",
    "        recommendations = recommend_func(user_id, top_k=k)\n",
    "        ap = average_precision_at_k(recommendations, true_item_id, k)\n",
    "        ap_scores.append(ap)\n",
    "    return np.mean(ap_scores) if ap_scores else 0.0"
   ]
  },
  {
   "cell_type": "code",
   "id": "f02941c61cba2f21",
   "metadata": {},
   "source": [
    "rec_v1 = map_at_10_sampled(test_df, recommend_for_user_v1, k=10, sample_size=1_000)"
   ],
   "outputs": [],
   "execution_count": null
  },
  {
   "cell_type": "code",
   "execution_count": null,
   "id": "a10af57bd7428105",
   "metadata": {
    "ExecuteTime": {
     "end_time": "2025-06-26T19:35:30.099237Z",
     "start_time": "2025-06-26T19:35:30.090437Z"
    }
   },
   "outputs": [
    {
     "data": {
      "text/plain": [
       "np.float64(0.010917857142857142)"
      ]
     },
     "execution_count": 18,
     "metadata": {},
     "output_type": "execute_result"
    }
   ],
   "source": [
    "print(f\"MAP@10 for TD-IDF v1: {rec_v1:.4f}\")"
   ]
  },
  {
   "cell_type": "markdown",
   "id": "5e774daee15bcf1c",
   "metadata": {},
   "source": [
    "# TD-IDF v2\n",
    "with boosting most popular items from user's main category\n",
    "\n",
    "MAP@10 ~ 0.023 dla randomowego sampla 1k"
   ]
  },
  {
   "cell_type": "code",
   "execution_count": 31,
   "id": "29c000658f7742a2",
   "metadata": {
    "ExecuteTime": {
     "end_time": "2025-06-26T20:24:36.135120Z",
     "start_time": "2025-06-26T20:24:23.230751Z"
    }
   },
   "outputs": [],
   "source": [
    "# Precompute user -> seen items\n",
    "user_seen_items = train_df.groupby(\"user_id\")[\"item_id\"].apply(set).to_dict()"
   ]
  },
  {
   "cell_type": "code",
   "id": "c45632256d095504",
   "metadata": {},
   "source": [
    "# Precompute user -> main category\n",
    "def precompute_user_main_category():\n",
    "    user_main_cat = {}\n",
    "    for user_id, items in tqdm(train_df.groupby(\"user_id\")[\"item_id\"], desc=\"User main category\"):\n",
    "        asins = [item_id_to_asin[i] for i in items if i in item_id_to_asin]\n",
    "        categories = meta_df.loc[asins, \"main_category\"].dropna()\n",
    "        if not categories.empty:\n",
    "            user_main_cat[user_id] = categories.value_counts().idxmax()\n",
    "    return user_main_cat\n",
    "user_main_category = precompute_user_main_category()"
   ],
   "outputs": [],
   "execution_count": null
  },
  {
   "cell_type": "code",
   "execution_count": null,
   "id": "c701c3a51ced7048",
   "metadata": {
    "ExecuteTime": {
     "end_time": "2025-06-26T19:48:28.782466Z",
     "start_time": "2025-06-26T19:48:28.775469Z"
    }
   },
   "outputs": [],
   "source": [
    "# Precompute category -> popularity vector\n",
    "def precompute_category_popularity():\n",
    "    cat_pop = {}\n",
    "    for cat in tqdm(meta_df[\"main_category\"].dropna().unique(), desc=\"Category popularity\"):\n",
    "        items_in_cat = meta_df[meta_df[\"main_category\"] == cat].index\n",
    "        item_ids = [asin_to_id[a] for a in items_in_cat if a in asin_to_id]\n",
    "        pop = train_df[train_df[\"item_id\"].isin(item_ids)][\"item_id\"].value_counts()\n",
    "        pop_vec = np.zeros(tfidf_matrix.shape[0])\n",
    "        for item_id, count in pop.items():\n",
    "            pop_vec[item_id] = count\n",
    "        if pop_vec.max() > 0:\n",
    "            pop_vec = pop_vec / pop_vec.max()\n",
    "        cat_pop[cat] = pop_vec\n",
    "    return cat_pop\n",
    "category_popularity = precompute_category_popularity()"
   ]
  },
  {
   "cell_type": "code",
   "execution_count": null,
   "id": "b10f54b5b96cd937",
   "metadata": {
    "ExecuteTime": {
     "end_time": "2025-06-26T19:48:30.466437Z",
     "start_time": "2025-06-26T19:48:30.455834Z"
    }
   },
   "outputs": [
    {
     "ename": "SyntaxError",
     "evalue": "invalid syntax (<ipython-input-40-985911384e6f>, line 1)",
     "output_type": "error",
     "traceback": [
      "\u001B[0;36m  File \u001B[0;32m\"<ipython-input-40-985911384e6f>\"\u001B[0;36m, line \u001B[0;32m1\u001B[0m\n\u001B[0;31m    def solve_for users(min, max):\u001B[0m\n\u001B[0m                      ^\u001B[0m\n\u001B[0;31mSyntaxError\u001B[0m\u001B[0;31m:\u001B[0m invalid syntax\n"
     ]
    }
   ],
   "source": [
    "def solve_for users(min, max):\n",
    "    for i in range(0, 1000):\n",
    "\n",
    "    recommend_for_user_v2_fast()\n",
    "def recommend_for_user_v2_fast(user_id, top_k=10, alpha=0.7):\n",
    "    profile = build_user_profile(user_id)\n",
    "    scores = cosine_similarity(profile, tfidf_matrix).flatten()\n",
    "    seen_items = user_seen_items.get(user_id, set())\n",
    "    main_cat = user_main_category.get(user_id, None)\n",
    "    if main_cat is None or main_cat not in category_popularity:\n",
    "        recs = [i for i in scores.argsort()[::-1] if i not in seen_items]\n",
    "        return recs[:top_k]\n",
    "    pop_scores = category_popularity[main_cat]\n",
    "    if scores.max() > 0:\n",
    "        scores = scores / scores.max()\n",
    "    combined = alpha * scores + (1 - alpha) * pop_scores\n",
    "    recs = [i for i in combined.argsort()[::-1] if i not in seen_items]\n",
    "    ''' u = {\"user_id\": user_id, \"items_id\": ' '.join(recs[:top_k]) }\n",
    "    u_df = pd.DataFrame(u)\n",
    "    u_df.to_csv(f\"user_recommendation{user_id}.csv\")\n",
    "    print(f\"Ukończono plik o numerze: {user_id}\")\n",
    "    return u '''\n",
    "    u_df = pd.DataFrame([{\n",
    "        \"user_id\": user_id,\n",
    "        \"items_id\": ' '.join(map(str, recs))\n",
    "    }])\n",
    "    u_df.to_csv(f\"user_recommendation_{user_id}.csv\", index=False)\n",
    "    print(f\"Ukończono plik o numerze: {user_id}\")\n",
    "    \n",
    "\n",
    "# recommend_for_user_v2_fast()\n",
    "\n",
    "from multiprocessing import Process\n",
    "from tqdm import tqdm\n",
    "\n",
    "\n",
    "processes = []\n",
    "for i, user_id in tqdm(enumerate(range(0, 1000))):\n",
    "    p = Process(target=recommend_for_user_v2_fast, args=(user_id))\n",
    "    processes.append(p)\n",
    "    p.start()"
   ]
  },
  {
   "cell_type": "code",
   "execution_count": null,
   "id": "51a0e5ca823906e9",
   "metadata": {
    "ExecuteTime": {
     "end_time": "2025-06-26T19:52:49.761290Z",
     "start_time": "2025-06-26T19:48:33.301528Z"
    }
   },
   "outputs": [
    {
     "name": "stderr",
     "output_type": "stream",
     "text": [
      "Calculating MAP@10 (sampled): 100%|██████████| 1000/1000 [04:16<00:00,  3.90it/s]\n"
     ]
    }
   ],
   "source": [
    "rec_v2 = map_at_10_sampled(test_df, recommend_for_user_v2_fast, k=10, sample_size=1_000)"
   ]
  },
  {
   "cell_type": "code",
   "execution_count": null,
   "id": "7308dd687b2922df",
   "metadata": {
    "ExecuteTime": {
     "end_time": "2025-06-26T19:58:26.155678Z",
     "start_time": "2025-06-26T19:58:26.148972Z"
    }
   },
   "outputs": [
    {
     "name": "stdout",
     "output_type": "stream",
     "text": [
      "MAP@10 for TD-IDF v2: 0.0239\n"
     ]
    }
   ],
   "source": [
    "print(f\"MAP@10 for TD-IDF v2: {rec_v2:.4f}\")"
   ]
  },
  {
   "cell_type": "code",
   "execution_count": null,
   "id": "63a5d9bf008e586",
   "metadata": {
    "ExecuteTime": {
     "end_time": "2025-06-26T19:59:00.616373Z",
     "start_time": "2025-06-26T19:59:00.552192Z"
    }
   },
   "outputs": [
    {
     "data": {
      "text/plain": [
       "(868218, 868218)"
      ]
     },
     "execution_count": 31,
     "metadata": {},
     "output_type": "execute_result"
    }
   ],
   "source": [
    "len(train_df[\"user_id\"].unique()), len(test_df[\"user_id\"].unique())"
   ]
  }
 ],
 "metadata": {
  "kernelspec": {
   "display_name": "env",
   "language": "python",
   "name": "python3"
  },
  "language_info": {
   "codemirror_mode": {
    "name": "ipython",
    "version": 3
   },
   "file_extension": ".py",
   "mimetype": "text/x-python",
   "name": "python",
   "nbconvert_exporter": "python",
   "pygments_lexer": "ipython3",
   "version": "3.6.15"
  }
 },
 "nbformat": 4,
 "nbformat_minor": 5
}
