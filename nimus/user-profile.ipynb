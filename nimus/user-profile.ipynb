{
 "cells": [
  {
   "cell_type": "code",
   "id": "initial_id",
   "metadata": {
    "collapsed": true,
    "ExecuteTime": {
     "end_time": "2025-06-22T08:10:41.212101Z",
     "start_time": "2025-06-22T08:10:40.006798Z"
    }
   },
   "source": "import pandas as pd",
   "outputs": [],
   "execution_count": 1
  },
  {
   "metadata": {
    "ExecuteTime": {
     "end_time": "2025-06-22T08:13:42.866406Z",
     "start_time": "2025-06-22T08:13:39.698873Z"
    }
   },
   "cell_type": "code",
   "source": "df = pd.read_csv(\"../data/item_metadata.csv\", nrows=50_000)",
   "id": "7740878f8fec2b31",
   "outputs": [],
   "execution_count": 4
  },
  {
   "metadata": {
    "ExecuteTime": {
     "end_time": "2025-06-22T08:28:12.127658Z",
     "start_time": "2025-06-22T08:28:08.766899Z"
    }
   },
   "cell_type": "code",
   "source": [
    "from sklearn.feature_extraction.text import TfidfVectorizer\n",
    "from sklearn.metrics.pairwise import cosine_similarity\n",
    "\n",
    "tfidf = TfidfVectorizer(max_features=10000)\n",
    "tfidf_mat = tfidf.fit_transform(df[\"title\"].fillna(\"\") + \" \" + df[\"store\"].fillna(\"\") + \" \" + df[\"description\"].fillna(\"\"))"
   ],
   "id": "74acfb609d2b0ddf",
   "outputs": [],
   "execution_count": 6
  },
  {
   "metadata": {},
   "cell_type": "code",
   "outputs": [],
   "execution_count": null,
   "source": [
    "# Merge train ratings with TF-IDF item matrix\n",
    "from scipy.sparse import vstack\n",
    "\n",
    "# Suppose you have: user_id, item_id, rating in train.csv\n",
    "# And: item_id index matches the row in tfidf_matrix\n",
    "\n",
    "def build_user_profile(user_id, train_df, tfidf_matrix):\n",
    "    user_rated = train_df[train_df[\"user_id\"] == user_id]\n",
    "    indices = user_rated[\"item_id\"].values\n",
    "    ratings = user_rated[\"rating\"].values\n",
    "\n",
    "    # Get TF-IDF rows of rated items\n",
    "    item_vectors = tfidf_matrix[indices]\n",
    "\n",
    "    # Weight by rating\n",
    "    weighted_vectors = item_vectors.multiply(ratings[:, None])\n",
    "\n",
    "    # Average to get user profile\n",
    "    profile = weighted_vectors.mean(axis=0)\n",
    "    return profile\n"
   ],
   "id": "9fcd7b173df26fbe"
  },
  {
   "metadata": {},
   "cell_type": "code",
   "outputs": [],
   "execution_count": null,
   "source": [
    "from sklearn.metrics.pairwise import cosine_similarity\n",
    "\n",
    "def recommend_for_user(user_id, train_df, tfidf_matrix, top_k=10):\n",
    "    profile = build_user_profile(user_id, train_df, tfidf_matrix)\n",
    "    scores = cosine_similarity(profile, tfidf_matrix).flatten()\n",
    "\n",
    "    # Remove items the user already rated\n",
    "    seen = set(train_df[train_df[\"user_id\"] == user_id][\"item_id\"])\n",
    "    recommendations = [\n",
    "        i for i in scores.argsort()[::-1]\n",
    "        if i not in seen\n",
    "    ][:top_k]\n",
    "\n",
    "    return recommendations\n"
   ],
   "id": "7a8b7279c2ae8a7d"
  }
 ],
 "metadata": {
  "kernelspec": {
   "display_name": "Python 3",
   "language": "python",
   "name": "python3"
  },
  "language_info": {
   "codemirror_mode": {
    "name": "ipython",
    "version": 2
   },
   "file_extension": ".py",
   "mimetype": "text/x-python",
   "name": "python",
   "nbconvert_exporter": "python",
   "pygments_lexer": "ipython2",
   "version": "2.7.6"
  }
 },
 "nbformat": 4,
 "nbformat_minor": 5
}
