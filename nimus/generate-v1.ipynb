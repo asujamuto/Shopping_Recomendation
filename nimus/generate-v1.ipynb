{
 "cells": [
  {
   "metadata": {
    "ExecuteTime": {
     "end_time": "2025-06-23T19:32:14.572423Z",
     "start_time": "2025-06-23T19:32:12.942291Z"
    }
   },
   "cell_type": "code",
   "source": [
    "import numpy as np\n",
    "import pandas as pd\n",
    "from tqdm import tqdm\n",
    "\n",
    "interactions = pd.read_csv(\"../data/train.csv\")\n",
    "\n",
    "train_rows = []\n",
    "test_rows = []\n",
    "\n",
    "grouped = interactions.groupby(\"user_id\")"
   ],
   "id": "4b53e6e6252065f8",
   "outputs": [],
   "execution_count": 1
  },
  {
   "metadata": {
    "ExecuteTime": {
     "end_time": "2025-06-23T18:52:34.534288Z",
     "start_time": "2025-06-23T18:50:27.286500Z"
    }
   },
   "cell_type": "code",
   "source": [
    "# Splits 1/3rd of newest interactions into test set (if 3 interactions or more)\n",
    "\"\"\"\n",
    "for user_id, group in tqdm(grouped, desc=\"Splitting users\"):\n",
    "    group_sorted = group.sort_values(\"timestamp\")\n",
    "    num_interactions = len(group_sorted)\n",
    "    num_test = int(np.floor(num_interactions / 3))\n",
    "\n",
    "    if num_test == 0:\n",
    "        # Not enough data to split → all goes to train\n",
    "        train_rows.append(group_sorted)\n",
    "    else:\n",
    "        test_rows.append(group_sorted.iloc[-num_test:])     # last N interactions\n",
    "        train_rows.append(group_sorted.iloc[:-num_test])    # all but last N\n",
    "\"\"\""
   ],
   "id": "badb1554c7b3d5c5",
   "outputs": [],
   "execution_count": 2
  },
  {
   "metadata": {
    "ExecuteTime": {
     "end_time": "2025-06-23T19:35:29.522321Z",
     "start_time": "2025-06-23T19:32:27.844801Z"
    }
   },
   "cell_type": "code",
   "source": [
    "# Moves every newest interaction into test set\n",
    "for user_id, group in tqdm(grouped, desc=\"Splitting users\"):\n",
    "    group_sorted = group.sort_values(\"timestamp\")\n",
    "    num_test = 1\n",
    "\n",
    "    test_rows.append(group_sorted.iloc[-num_test:])     # last N interactions\n",
    "    train_rows.append(group_sorted.iloc[:-num_test])    # all but last N"
   ],
   "id": "658b12097f843f6c",
   "outputs": [
    {
     "name": "stderr",
     "output_type": "stream",
     "text": [
      "Splitting users: 100%|██████████| 868218/868218 [03:01<00:00, 4780.28it/s]\n"
     ]
    }
   ],
   "execution_count": 2
  },
  {
   "metadata": {
    "ExecuteTime": {
     "end_time": "2025-06-23T19:44:08.634533Z",
     "start_time": "2025-06-23T19:43:27.725613Z"
    }
   },
   "cell_type": "code",
   "source": "train_df = pd.concat(train_rows).reset_index(drop=True)",
   "id": "504f5da750e4e0d6",
   "outputs": [],
   "execution_count": 5
  },
  {
   "metadata": {
    "ExecuteTime": {
     "end_time": "2025-06-23T19:44:13.235905Z",
     "start_time": "2025-06-23T19:44:10.572813Z"
    }
   },
   "cell_type": "code",
   "source": "train_df.to_csv(\"../data/v1/train.csv\", index=False)",
   "id": "2374c5632131a134",
   "outputs": [],
   "execution_count": 6
  },
  {
   "metadata": {
    "ExecuteTime": {
     "end_time": "2025-06-23T19:45:14.178903Z",
     "start_time": "2025-06-23T19:44:14.252541Z"
    }
   },
   "cell_type": "code",
   "source": "test_df = pd.concat(test_rows).reset_index(drop=True)",
   "id": "a995d4a01a327b27",
   "outputs": [],
   "execution_count": 7
  },
  {
   "metadata": {
    "ExecuteTime": {
     "end_time": "2025-06-23T19:45:18.132896Z",
     "start_time": "2025-06-23T19:45:16.972211Z"
    }
   },
   "cell_type": "code",
   "source": "test_df.to_csv(\"../data/v1/test.csv\", index=False)",
   "id": "484a92130692b93",
   "outputs": [],
   "execution_count": 8
  }
 ],
 "metadata": {
  "kernelspec": {
   "display_name": "Python 3",
   "language": "python",
   "name": "python3"
  },
  "language_info": {
   "codemirror_mode": {
    "name": "ipython",
    "version": 2
   },
   "file_extension": ".py",
   "mimetype": "text/x-python",
   "name": "python",
   "nbconvert_exporter": "python",
   "pygments_lexer": "ipython2",
   "version": "2.7.6"
  }
 },
 "nbformat": 4,
 "nbformat_minor": 5
}
