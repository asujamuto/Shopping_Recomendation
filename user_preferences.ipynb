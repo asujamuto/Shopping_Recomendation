{
 "cells": [
  {
   "cell_type": "code",
   "execution_count": 8,
   "id": "9216fe0a",
   "metadata": {},
   "outputs": [
    {
     "name": "stdout",
     "output_type": "stream",
     "text": [
      "   user_id  item_id  rating      timestamp\n",
      "0        0     7314     5.0  1353612262000\n",
      "1        0    15493     5.0  1370653034000\n",
      "2        0    18817     4.0  1373668644000\n",
      "3        0    18251     4.0  1373669469000\n",
      "4        0    16199     1.0  1375136041000\n"
     ]
    }
   ],
   "source": [
    "import pandas as pd\n",
    "\n",
    "df = pd.read_csv(\"data/train.csv\")\n",
    "df2 = pd.read_csv(\"data/item_metadata.csv\")\n",
    "\n",
    "print(df.head())"
   ]
  },
  {
   "cell_type": "code",
   "execution_count": 9,
   "id": "153c4d03",
   "metadata": {},
   "outputs": [
    {
     "data": {
      "text/html": [
       "<div>\n",
       "<style scoped>\n",
       "    .dataframe tbody tr th:only-of-type {\n",
       "        vertical-align: middle;\n",
       "    }\n",
       "\n",
       "    .dataframe tbody tr th {\n",
       "        vertical-align: top;\n",
       "    }\n",
       "\n",
       "    .dataframe thead th {\n",
       "        text-align: right;\n",
       "    }\n",
       "</style>\n",
       "<table border=\"1\" class=\"dataframe\">\n",
       "  <thead>\n",
       "    <tr style=\"text-align: right;\">\n",
       "      <th></th>\n",
       "      <th>key</th>\n",
       "      <th>item_id</th>\n",
       "    </tr>\n",
       "  </thead>\n",
       "  <tbody>\n",
       "    <tr>\n",
       "      <th>0</th>\n",
       "      <td>7314</td>\n",
       "      <td>B01CUPMQZE</td>\n",
       "    </tr>\n",
       "    <tr>\n",
       "      <th>1</th>\n",
       "      <td>15493</td>\n",
       "      <td>B076WQZGPM</td>\n",
       "    </tr>\n",
       "    <tr>\n",
       "      <th>2</th>\n",
       "      <td>18817</td>\n",
       "      <td>B000B658RI</td>\n",
       "    </tr>\n",
       "    <tr>\n",
       "      <th>3</th>\n",
       "      <td>18251</td>\n",
       "      <td>B088FKY3VD</td>\n",
       "    </tr>\n",
       "    <tr>\n",
       "      <th>4</th>\n",
       "      <td>16199</td>\n",
       "      <td>B07NGFDN6G</td>\n",
       "    </tr>\n",
       "    <tr>\n",
       "      <th>...</th>\n",
       "      <td>...</td>\n",
       "      <td>...</td>\n",
       "    </tr>\n",
       "    <tr>\n",
       "      <th>2543141</th>\n",
       "      <td>15203</td>\n",
       "      <td>NaN</td>\n",
       "    </tr>\n",
       "    <tr>\n",
       "      <th>2543142</th>\n",
       "      <td>51839</td>\n",
       "      <td>NaN</td>\n",
       "    </tr>\n",
       "    <tr>\n",
       "      <th>2543143</th>\n",
       "      <td>14052</td>\n",
       "      <td>NaN</td>\n",
       "    </tr>\n",
       "    <tr>\n",
       "      <th>2543144</th>\n",
       "      <td>40099</td>\n",
       "      <td>NaN</td>\n",
       "    </tr>\n",
       "    <tr>\n",
       "      <th>2543145</th>\n",
       "      <td>12895</td>\n",
       "      <td>NaN</td>\n",
       "    </tr>\n",
       "  </tbody>\n",
       "</table>\n",
       "<p>2543146 rows × 2 columns</p>\n",
       "</div>"
      ],
      "text/plain": [
       "           key     item_id\n",
       "0         7314  B01CUPMQZE\n",
       "1        15493  B076WQZGPM\n",
       "2        18817  B000B658RI\n",
       "3        18251  B088FKY3VD\n",
       "4        16199  B07NGFDN6G\n",
       "...        ...         ...\n",
       "2543141  15203         NaN\n",
       "2543142  51839         NaN\n",
       "2543143  14052         NaN\n",
       "2543144  40099         NaN\n",
       "2543145  12895         NaN\n",
       "\n",
       "[2543146 rows x 2 columns]"
      ]
     },
     "execution_count": 9,
     "metadata": {},
     "output_type": "execute_result"
    }
   ],
   "source": [
    "#merged_df = pd.concat(df, df2, how='inner', left_on='item_id', right_on='parent_asin')\n",
    "#merged_df\n",
    "\n",
    "df['item_id'] = df['item_id'].astype(str)\n",
    "df2['parent_asin'] = df2['parent_asin'].astype(str)\n",
    "\n",
    "# merged_df = pd.merge(df, df2, how='inner', left_on='item_id', right_on='parent_asin')\n",
    "# print(merged_df)\n",
    "\n",
    "df_merged = pd.DataFrame({ 'key': df['item_id'], 'item_id': df2['parent_asin']})\n",
    "df_merged"
   ]
  },
  {
   "cell_type": "code",
   "execution_count": 10,
   "id": "7760d76a",
   "metadata": {},
   "outputs": [
    {
     "name": "stdout",
     "output_type": "stream",
     "text": [
      "Index(['user_mapping', 'item_mapping', 'user_reverse_mapping',\n",
      "       'item_reverse_mapping'],\n",
      "      dtype='object')\n",
      "nan\n",
      "nan\n",
      "nan\n",
      "                              user_mapping  item_mapping user_reverse_mapping  \\\n",
      "AE22236AFRRSMQIKGG7TPTB75QEA           0.0           NaN                  NaN   \n",
      "AE2224FSUK5AV5R2USYXINUNTW7Q           1.0           NaN                  NaN   \n",
      "AE2226PENZTTCDKFGRTUCUX2NU2Q           2.0           NaN                  NaN   \n",
      "AE2227QSJSF6HV3XTTIGQAPA6WHQ           3.0           NaN                  NaN   \n",
      "AE222DQMT4CHUOINFJDEIYWZJHJQ           4.0           NaN                  NaN   \n",
      "\n",
      "                             item_reverse_mapping  \n",
      "AE22236AFRRSMQIKGG7TPTB75QEA                  NaN  \n",
      "AE2224FSUK5AV5R2USYXINUNTW7Q                  NaN  \n",
      "AE2226PENZTTCDKFGRTUCUX2NU2Q                  NaN  \n",
      "AE2227QSJSF6HV3XTTIGQAPA6WHQ                  NaN  \n",
      "AE222DQMT4CHUOINFJDEIYWZJHJQ                  NaN  \n"
     ]
    }
   ],
   "source": [
    "other = pd.read_json(\"data/id_mappings.json\")\n",
    "print(other.columns)\n",
    "print(other[\"user_mapping\"][\"2176\"])\n",
    "print(other[\"item_mapping\"][\"2176\"])\n",
    "print(other[\"user_reverse_mapping\"][0])\n",
    "# other[\"user_mapping\"][0]\n",
    "print(other.head())\n",
    "# other[\"item_mapping\"][100]"
   ]
  },
  {
   "cell_type": "code",
   "execution_count": 11,
   "id": "0703cac1",
   "metadata": {},
   "outputs": [
    {
     "name": "stdout",
     "output_type": "stream",
     "text": [
      "                        user_id  user_index\n",
      "0  AE22236AFRRSMQIKGG7TPTB75QEA         0.0\n",
      "1  AE2224FSUK5AV5R2USYXINUNTW7Q         1.0\n",
      "2  AE2226PENZTTCDKFGRTUCUX2NU2Q         2.0\n",
      "3  AE2227QSJSF6HV3XTTIGQAPA6WHQ         3.0\n",
      "4  AE222DQMT4CHUOINFJDEIYWZJHJQ         4.0\n",
      "           item_id item_index\n",
      "868218  0007931727        0.0\n",
      "868219  0321700945        1.0\n",
      "868220  0321719816        2.0\n",
      "868221  0321719824        3.0\n",
      "868222  0321898338        4.0\n",
      "...            ...        ...\n",
      "946046  B0CDH5TH82    77828.0\n",
      "946047  B0CDNZ7F2V    77829.0\n",
      "946048  B0CDQ8KM21    77830.0\n",
      "946049  B0CFGCVVHX    77831.0\n",
      "946050  B0CGM9NF7G    77832.0\n",
      "\n",
      "[77833 rows x 2 columns]\n"
     ]
    }
   ],
   "source": [
    "import pandas as pd\n",
    "\n",
    "# Extract the dictionary inside \"user_mapping\"\n",
    "user_mapping = other[\"user_mapping\"]\n",
    "item_mapping = other[\"item_mapping\"].fillna(\"\")\n",
    "\n",
    "# Convert to DataFrame\n",
    "user_mapping_df = pd.DataFrame(list(user_mapping.items()), columns=[\"user_id\", \"user_index\"])\n",
    "item_mapping_df = pd.DataFrame(list(item_mapping.items()), columns=[\"item_id\", \"item_index\"])\n",
    "\n",
    "print(user_mapping_df.head())\n",
    "print(item_mapping_df[item_mapping_df[\"item_index\"] != \"\"])"
   ]
  },
  {
   "cell_type": "code",
   "execution_count": 12,
   "id": "792cd35c",
   "metadata": {},
   "outputs": [
    {
     "name": "stdout",
     "output_type": "stream",
     "text": [
      "                              item_id item_index\n",
      "0        AE22236AFRRSMQIKGG7TPTB75QEA           \n",
      "1        AE2224FSUK5AV5R2USYXINUNTW7Q           \n",
      "2        AE2226PENZTTCDKFGRTUCUX2NU2Q           \n",
      "3        AE2227QSJSF6HV3XTTIGQAPA6WHQ           \n",
      "4        AE222DQMT4CHUOINFJDEIYWZJHJQ           \n",
      "...                               ...        ...\n",
      "1814264                          7717           \n",
      "1814265                          7718           \n",
      "1814266                          7719           \n",
      "1814267                          7720           \n",
      "1814268                          7721           \n",
      "\n",
      "[1814269 rows x 2 columns]\n"
     ]
    }
   ],
   "source": [
    "train_df = pd.read_csv(\"data/train.csv\")\n",
    "item_metadata_df = pd.read_csv(\"data/item_metadata.csv\")\n",
    "\n",
    "print(item_mapping_df)"
   ]
  },
  {
   "cell_type": "code",
   "execution_count": 13,
   "id": "891dae9b",
   "metadata": {},
   "outputs": [
    {
     "name": "stdout",
     "output_type": "stream",
     "text": [
      "17        B07WFSQXL5\n",
      "21        B08BV6F6BC\n",
      "28        B07Z818MLY\n",
      "30        B071DY8Z4B\n",
      "31        B0BTLTVR1X\n",
      "             ...    \n",
      "260956    B000NE85S2\n",
      "261263    B076NZT5VY\n",
      "261470    B001FSG0TQ\n",
      "261647    B0009STM5C\n",
      "262114    B005ZK91KK\n",
      "Name: parent_asin, Length: 77833, dtype: object\n",
      "17        66457.0\n",
      "21        71310.0\n",
      "28        67591.0\n",
      "30        52585.0\n",
      "31        77706.0\n",
      "           ...   \n",
      "260956     1512.0\n",
      "261263    55954.0\n",
      "261470     2293.0\n",
      "261647      891.0\n",
      "262114     6754.0\n",
      "Name: item_index, Length: 77833, dtype: object\n"
     ]
    }
   ],
   "source": [
    "# print(item_df[item_df[\"item_index\"] == 7314])\n",
    "\n",
    "# item_metadata_df[\"item_str_id\"] = item_mapping[item_metadata_df[\"parent_asin\"] == item_mapping[\"item_index\"]]\n",
    "# item_metadata_df[\"item_str_id\"]\n",
    "\n",
    "item_metadata_df[\"item_index\"] = item_metadata_df[\"parent_asin\"].map(item_mapping)\n",
    "\n",
    "print(item_metadata_df[item_metadata_df[\"item_index\"].isnull() == False][\"parent_asin\"])\n",
    "print(item_metadata_df[item_metadata_df[\"item_index\"].isnull() == False][\"item_index\"])\n"
   ]
  },
  {
   "cell_type": "code",
   "execution_count": 16,
   "id": "6feffb76",
   "metadata": {},
   "outputs": [
    {
     "name": "stdout",
     "output_type": "stream",
     "text": [
      "Index(['user_id', 'item_id', 'rating', 'timestamp'], dtype='object')\n",
      "Index(['parent_asin', 'main_category', 'title', 'average_rating',\n",
      "       'rating_number', 'price', 'store', 'features', 'description', 'images',\n",
      "       'categories', 'image_count', 'has_images', 'image_urls', 'category',\n",
      "       'item_index'],\n",
      "      dtype='object')\n"
     ]
    }
   ],
   "source": [
    "\n",
    "print(df.columns)\n",
    "print(item_metadata_df.columns)"
   ]
  },
  {
   "cell_type": "code",
   "execution_count": 17,
   "id": "c2446569",
   "metadata": {},
   "outputs": [
    {
     "ename": "KeyError",
     "evalue": "'item_id'",
     "output_type": "error",
     "traceback": [
      "\u001b[0;31m---------------------------------------------------------------------------\u001b[0m",
      "\u001b[0;31mKeyError\u001b[0m                                  Traceback (most recent call last)",
      "\u001b[0;32m/tmp/ipykernel_29997/1887017137.py\u001b[0m in \u001b[0;36m?\u001b[0;34m()\u001b[0m\n\u001b[0;32m----> 3\u001b[0;31m \u001b[0mitem_metadata_df\u001b[0m\u001b[0;34m[\u001b[0m\u001b[0;34m\"item_index\"\u001b[0m\u001b[0;34m]\u001b[0m \u001b[0;34m=\u001b[0m \u001b[0mitem_metadata_df\u001b[0m\u001b[0;34m[\u001b[0m\u001b[0;34m\"item_index\"\u001b[0m\u001b[0;34m]\u001b[0m\u001b[0;34m.\u001b[0m\u001b[0mdropna\u001b[0m\u001b[0;34m(\u001b[0m\u001b[0;34m)\u001b[0m\u001b[0;34m.\u001b[0m\u001b[0mastype\u001b[0m\u001b[0;34m(\u001b[0m\u001b[0mstr\u001b[0m\u001b[0;34m)\u001b[0m\u001b[0;34m\u001b[0m\u001b[0;34m\u001b[0m\u001b[0m\n\u001b[0m\u001b[1;32m      4\u001b[0m \u001b[0mdf\u001b[0m\u001b[0;34m[\u001b[0m\u001b[0;34m\"item_id\"\u001b[0m\u001b[0;34m]\u001b[0m \u001b[0;34m=\u001b[0m \u001b[0mdf\u001b[0m\u001b[0;34m[\u001b[0m\u001b[0;34m\"item_id\"\u001b[0m\u001b[0;34m]\u001b[0m\u001b[0;34m.\u001b[0m\u001b[0mastype\u001b[0m\u001b[0;34m(\u001b[0m\u001b[0mstr\u001b[0m\u001b[0;34m)\u001b[0m\u001b[0;34m\u001b[0m\u001b[0;34m\u001b[0m\u001b[0m\n\u001b[1;32m      5\u001b[0m \u001b[0mresult\u001b[0m \u001b[0;34m=\u001b[0m \u001b[0mpd\u001b[0m\u001b[0;34m.\u001b[0m\u001b[0mmerge\u001b[0m\u001b[0;34m(\u001b[0m\u001b[0mdf\u001b[0m\u001b[0;34m,\u001b[0m \u001b[0mitem_metadata_df\u001b[0m\u001b[0;34m,\u001b[0m \u001b[0mhow\u001b[0m\u001b[0;34m=\u001b[0m\u001b[0;34m\"left\"\u001b[0m\u001b[0;34m,\u001b[0m \u001b[0mon\u001b[0m\u001b[0;34m=\u001b[0m\u001b[0;34m[\u001b[0m\u001b[0;34m\"item_id\"\u001b[0m\u001b[0;34m,\u001b[0m \u001b[0;34m\"item_index\"\u001b[0m\u001b[0;34m]\u001b[0m\u001b[0;34m)\u001b[0m\u001b[0;34m\u001b[0m\u001b[0;34m\u001b[0m\u001b[0m\n\u001b[1;32m      6\u001b[0m \u001b[0;31m# result[result[\"item_index\"].isnull() == False]\u001b[0m\u001b[0;34m\u001b[0m\u001b[0;34m\u001b[0m\u001b[0;34m\u001b[0m\u001b[0m\n",
      "\u001b[0;32m~/Coding/Python/DSC_task/env/lib/python3.8/site-packages/pandas/core/reshape/merge.py\u001b[0m in \u001b[0;36m?\u001b[0;34m(left, right, how, on, left_on, right_on, left_index, right_index, sort, suffixes, copy, indicator, validate)\u001b[0m\n\u001b[1;32m    144\u001b[0m     \u001b[0mcopy\u001b[0m\u001b[0;34m:\u001b[0m \u001b[0mbool\u001b[0m \u001b[0;34m|\u001b[0m \u001b[0;32mNone\u001b[0m \u001b[0;34m=\u001b[0m \u001b[0;32mNone\u001b[0m\u001b[0;34m,\u001b[0m\u001b[0;34m\u001b[0m\u001b[0;34m\u001b[0m\u001b[0m\n\u001b[1;32m    145\u001b[0m     \u001b[0mindicator\u001b[0m\u001b[0;34m:\u001b[0m \u001b[0mstr\u001b[0m \u001b[0;34m|\u001b[0m \u001b[0mbool\u001b[0m \u001b[0;34m=\u001b[0m \u001b[0;32mFalse\u001b[0m\u001b[0;34m,\u001b[0m\u001b[0;34m\u001b[0m\u001b[0;34m\u001b[0m\u001b[0m\n\u001b[1;32m    146\u001b[0m     \u001b[0mvalidate\u001b[0m\u001b[0;34m:\u001b[0m \u001b[0mstr\u001b[0m \u001b[0;34m|\u001b[0m \u001b[0;32mNone\u001b[0m \u001b[0;34m=\u001b[0m \u001b[0;32mNone\u001b[0m\u001b[0;34m,\u001b[0m\u001b[0;34m\u001b[0m\u001b[0;34m\u001b[0m\u001b[0m\n\u001b[1;32m    147\u001b[0m ) -> DataFrame:\n\u001b[0;32m--> 148\u001b[0;31m     op = _MergeOperation(\n\u001b[0m\u001b[1;32m    149\u001b[0m         \u001b[0mleft\u001b[0m\u001b[0;34m,\u001b[0m\u001b[0;34m\u001b[0m\u001b[0;34m\u001b[0m\u001b[0m\n\u001b[1;32m    150\u001b[0m         \u001b[0mright\u001b[0m\u001b[0;34m,\u001b[0m\u001b[0;34m\u001b[0m\u001b[0;34m\u001b[0m\u001b[0m\n\u001b[1;32m    151\u001b[0m         \u001b[0mhow\u001b[0m\u001b[0;34m=\u001b[0m\u001b[0mhow\u001b[0m\u001b[0;34m,\u001b[0m\u001b[0;34m\u001b[0m\u001b[0;34m\u001b[0m\u001b[0m\n",
      "\u001b[0;32m~/Coding/Python/DSC_task/env/lib/python3.8/site-packages/pandas/core/reshape/merge.py\u001b[0m in \u001b[0;36m?\u001b[0;34m(self, left, right, how, on, left_on, right_on, axis, left_index, right_index, sort, suffixes, indicator, validate)\u001b[0m\n\u001b[1;32m    733\u001b[0m         (\n\u001b[1;32m    734\u001b[0m             \u001b[0mself\u001b[0m\u001b[0;34m.\u001b[0m\u001b[0mleft_join_keys\u001b[0m\u001b[0;34m,\u001b[0m\u001b[0;34m\u001b[0m\u001b[0;34m\u001b[0m\u001b[0m\n\u001b[1;32m    735\u001b[0m             \u001b[0mself\u001b[0m\u001b[0;34m.\u001b[0m\u001b[0mright_join_keys\u001b[0m\u001b[0;34m,\u001b[0m\u001b[0;34m\u001b[0m\u001b[0;34m\u001b[0m\u001b[0m\n\u001b[1;32m    736\u001b[0m             \u001b[0mself\u001b[0m\u001b[0;34m.\u001b[0m\u001b[0mjoin_names\u001b[0m\u001b[0;34m,\u001b[0m\u001b[0;34m\u001b[0m\u001b[0;34m\u001b[0m\u001b[0m\n\u001b[0;32m--> 737\u001b[0;31m         ) = self._get_merge_keys()\n\u001b[0m\u001b[1;32m    738\u001b[0m \u001b[0;34m\u001b[0m\u001b[0m\n\u001b[1;32m    739\u001b[0m         \u001b[0;31m# validate the merge keys dtypes. We may need to coerce\u001b[0m\u001b[0;34m\u001b[0m\u001b[0;34m\u001b[0m\u001b[0;34m\u001b[0m\u001b[0m\n\u001b[1;32m    740\u001b[0m         \u001b[0;31m# to avoid incompatible dtypes\u001b[0m\u001b[0;34m\u001b[0m\u001b[0;34m\u001b[0m\u001b[0;34m\u001b[0m\u001b[0m\n",
      "\u001b[0;32m~/Coding/Python/DSC_task/env/lib/python3.8/site-packages/pandas/core/reshape/merge.py\u001b[0m in \u001b[0;36m?\u001b[0;34m(self)\u001b[0m\n\u001b[1;32m   1199\u001b[0m                         \u001b[0;31m# Then we're either Hashable or a wrong-length arraylike,\u001b[0m\u001b[0;34m\u001b[0m\u001b[0;34m\u001b[0m\u001b[0;34m\u001b[0m\u001b[0m\n\u001b[1;32m   1200\u001b[0m                         \u001b[0;31m#  the latter of which will raise\u001b[0m\u001b[0;34m\u001b[0m\u001b[0;34m\u001b[0m\u001b[0;34m\u001b[0m\u001b[0m\n\u001b[1;32m   1201\u001b[0m                         \u001b[0mrk\u001b[0m \u001b[0;34m=\u001b[0m \u001b[0mcast\u001b[0m\u001b[0;34m(\u001b[0m\u001b[0mHashable\u001b[0m\u001b[0;34m,\u001b[0m \u001b[0mrk\u001b[0m\u001b[0;34m)\u001b[0m\u001b[0;34m\u001b[0m\u001b[0;34m\u001b[0m\u001b[0m\n\u001b[1;32m   1202\u001b[0m                         \u001b[0;32mif\u001b[0m \u001b[0mrk\u001b[0m \u001b[0;32mis\u001b[0m \u001b[0;32mnot\u001b[0m \u001b[0;32mNone\u001b[0m\u001b[0;34m:\u001b[0m\u001b[0;34m\u001b[0m\u001b[0;34m\u001b[0m\u001b[0m\n\u001b[0;32m-> 1203\u001b[0;31m                             \u001b[0mright_keys\u001b[0m\u001b[0;34m.\u001b[0m\u001b[0mappend\u001b[0m\u001b[0;34m(\u001b[0m\u001b[0mright\u001b[0m\u001b[0;34m.\u001b[0m\u001b[0m_get_label_or_level_values\u001b[0m\u001b[0;34m(\u001b[0m\u001b[0mrk\u001b[0m\u001b[0;34m)\u001b[0m\u001b[0;34m)\u001b[0m\u001b[0;34m\u001b[0m\u001b[0;34m\u001b[0m\u001b[0m\n\u001b[0m\u001b[1;32m   1204\u001b[0m                         \u001b[0;32melse\u001b[0m\u001b[0;34m:\u001b[0m\u001b[0;34m\u001b[0m\u001b[0;34m\u001b[0m\u001b[0m\n\u001b[1;32m   1205\u001b[0m                             \u001b[0;31m# work-around for merge_asof(right_index=True)\u001b[0m\u001b[0;34m\u001b[0m\u001b[0;34m\u001b[0m\u001b[0;34m\u001b[0m\u001b[0m\n\u001b[1;32m   1206\u001b[0m                             \u001b[0mright_keys\u001b[0m\u001b[0;34m.\u001b[0m\u001b[0mappend\u001b[0m\u001b[0;34m(\u001b[0m\u001b[0mright\u001b[0m\u001b[0;34m.\u001b[0m\u001b[0mindex\u001b[0m\u001b[0;34m)\u001b[0m\u001b[0;34m\u001b[0m\u001b[0;34m\u001b[0m\u001b[0m\n",
      "\u001b[0;32m~/Coding/Python/DSC_task/env/lib/python3.8/site-packages/pandas/core/generic.py\u001b[0m in \u001b[0;36m?\u001b[0;34m(self, key, axis)\u001b[0m\n\u001b[1;32m   1774\u001b[0m             \u001b[0mvalues\u001b[0m \u001b[0;34m=\u001b[0m \u001b[0mself\u001b[0m\u001b[0;34m.\u001b[0m\u001b[0mxs\u001b[0m\u001b[0;34m(\u001b[0m\u001b[0mkey\u001b[0m\u001b[0;34m,\u001b[0m \u001b[0maxis\u001b[0m\u001b[0;34m=\u001b[0m\u001b[0mother_axes\u001b[0m\u001b[0;34m[\u001b[0m\u001b[0;36m0\u001b[0m\u001b[0;34m]\u001b[0m\u001b[0;34m)\u001b[0m\u001b[0;34m.\u001b[0m\u001b[0m_values\u001b[0m\u001b[0;34m\u001b[0m\u001b[0;34m\u001b[0m\u001b[0m\n\u001b[1;32m   1775\u001b[0m         \u001b[0;32melif\u001b[0m \u001b[0mself\u001b[0m\u001b[0;34m.\u001b[0m\u001b[0m_is_level_reference\u001b[0m\u001b[0;34m(\u001b[0m\u001b[0mkey\u001b[0m\u001b[0;34m,\u001b[0m \u001b[0maxis\u001b[0m\u001b[0;34m=\u001b[0m\u001b[0maxis\u001b[0m\u001b[0;34m)\u001b[0m\u001b[0;34m:\u001b[0m\u001b[0;34m\u001b[0m\u001b[0;34m\u001b[0m\u001b[0m\n\u001b[1;32m   1776\u001b[0m             \u001b[0mvalues\u001b[0m \u001b[0;34m=\u001b[0m \u001b[0mself\u001b[0m\u001b[0;34m.\u001b[0m\u001b[0maxes\u001b[0m\u001b[0;34m[\u001b[0m\u001b[0maxis\u001b[0m\u001b[0;34m]\u001b[0m\u001b[0;34m.\u001b[0m\u001b[0mget_level_values\u001b[0m\u001b[0;34m(\u001b[0m\u001b[0mkey\u001b[0m\u001b[0;34m)\u001b[0m\u001b[0;34m.\u001b[0m\u001b[0m_values\u001b[0m\u001b[0;34m\u001b[0m\u001b[0;34m\u001b[0m\u001b[0m\n\u001b[1;32m   1777\u001b[0m         \u001b[0;32melse\u001b[0m\u001b[0;34m:\u001b[0m\u001b[0;34m\u001b[0m\u001b[0;34m\u001b[0m\u001b[0m\n\u001b[0;32m-> 1778\u001b[0;31m             \u001b[0;32mraise\u001b[0m \u001b[0mKeyError\u001b[0m\u001b[0;34m(\u001b[0m\u001b[0mkey\u001b[0m\u001b[0;34m)\u001b[0m\u001b[0;34m\u001b[0m\u001b[0;34m\u001b[0m\u001b[0m\n\u001b[0m\u001b[1;32m   1779\u001b[0m \u001b[0;34m\u001b[0m\u001b[0m\n\u001b[1;32m   1780\u001b[0m         \u001b[0;31m# Check for duplicates\u001b[0m\u001b[0;34m\u001b[0m\u001b[0;34m\u001b[0m\u001b[0;34m\u001b[0m\u001b[0m\n\u001b[1;32m   1781\u001b[0m         \u001b[0;32mif\u001b[0m \u001b[0mvalues\u001b[0m\u001b[0;34m.\u001b[0m\u001b[0mndim\u001b[0m \u001b[0;34m>\u001b[0m \u001b[0;36m1\u001b[0m\u001b[0;34m:\u001b[0m\u001b[0;34m\u001b[0m\u001b[0;34m\u001b[0m\u001b[0m\n",
      "\u001b[0;31mKeyError\u001b[0m: 'item_id'"
     ]
    }
   ],
   "source": [
    "\n",
    "item_metadata_df[\"item_index\"] = item_metadata_df[\"item_index\"].dropna().astype(str)\n",
    "df[\"item_id\"] = df[\"item_id\"].astype(str)\n",
    "result = pd.merge(df, item_metadata_df, how=\"left\", on=[\"item_id\", \"item_index\"])\n",
    "# result[result[\"item_index\"].isnull() == False]\n",
    "print(result)"
   ]
  },
  {
   "cell_type": "code",
   "execution_count": null,
   "id": "1ef0e858",
   "metadata": {},
   "outputs": [],
   "source": []
  },
  {
   "cell_type": "code",
   "execution_count": null,
   "id": "b7f89e7e",
   "metadata": {},
   "outputs": [],
   "source": []
  }
 ],
 "metadata": {
  "kernelspec": {
   "display_name": "env",
   "language": "python",
   "name": "python3"
  },
  "language_info": {
   "codemirror_mode": {
    "name": "ipython",
    "version": 3
   },
   "file_extension": ".py",
   "mimetype": "text/x-python",
   "name": "python",
   "nbconvert_exporter": "python",
   "pygments_lexer": "ipython3",
   "version": "3.8.16"
  }
 },
 "nbformat": 4,
 "nbformat_minor": 5
}
