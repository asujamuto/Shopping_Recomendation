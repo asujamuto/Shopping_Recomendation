{
 "cells": [
  {
   "cell_type": "markdown",
   "id": "d2c510e6",
   "metadata": {},
   "source": [
    "## TODO\n",
    "\n",
    "Dla każdej kategorii zbudować tf-idf matrix"
   ]
  },
  {
   "cell_type": "code",
   "execution_count": 39,
   "id": "f824c2e9",
   "metadata": {},
   "outputs": [
    {
     "name": "stdout",
     "output_type": "stream",
     "text": [
      "Processed category: All Beauty, TF-IDF shape: (17952, 10000)\n",
      "Processed category: Premium Beauty, TF-IDF shape: (111, 751)\n",
      "Processed category: Health & Personal Care, TF-IDF shape: (10716, 10000)\n",
      "Processed category: Appstore for Android, TF-IDF shape: (43463, 10000)\n",
      "Processed category: Software, TF-IDF shape: (5471, 10000)\n",
      "Processed category: , TF-IDF shape: (113, 4449)\n",
      "Processed category: Gift Cards, TF-IDF shape: (4, 17)\n",
      "Processed category: Computers, TF-IDF shape: (2, 56)\n",
      "Processed category: Home Audio & Theater, TF-IDF shape: (1, 11)\n"
     ]
    },
    {
     "data": {
      "text/plain": [
       "{'All Beauty': <17952x10000 sparse matrix of type '<class 'numpy.float64'>'\n",
       " \twith 456065 stored elements in Compressed Sparse Row format>,\n",
       " 'Premium Beauty': <111x751 sparse matrix of type '<class 'numpy.float64'>'\n",
       " \twith 1412 stored elements in Compressed Sparse Row format>,\n",
       " 'Health & Personal Care': <10716x10000 sparse matrix of type '<class 'numpy.float64'>'\n",
       " \twith 303313 stored elements in Compressed Sparse Row format>,\n",
       " 'Appstore for Android': <43463x10000 sparse matrix of type '<class 'numpy.float64'>'\n",
       " \twith 4076735 stored elements in Compressed Sparse Row format>,\n",
       " 'Software': <5471x10000 sparse matrix of type '<class 'numpy.float64'>'\n",
       " \twith 715216 stored elements in Compressed Sparse Row format>,\n",
       " '': <113x4449 sparse matrix of type '<class 'numpy.float64'>'\n",
       " \twith 15271 stored elements in Compressed Sparse Row format>,\n",
       " 'Gift Cards': <4x17 sparse matrix of type '<class 'numpy.float64'>'\n",
       " \twith 60 stored elements in Compressed Sparse Row format>,\n",
       " 'Computers': <2x56 sparse matrix of type '<class 'numpy.float64'>'\n",
       " \twith 100 stored elements in Compressed Sparse Row format>,\n",
       " 'Home Audio & Theater': <1x11 sparse matrix of type '<class 'numpy.float64'>'\n",
       " \twith 11 stored elements in Compressed Sparse Row format>}"
      ]
     },
     "execution_count": 39,
     "metadata": {},
     "output_type": "execute_result"
    }
   ],
   "source": [
    "import pandas as pd\n",
    "import json \n",
    "from sklearn.feature_extraction.text import TfidfVectorizer\n",
    "from sklearn.metrics.pairwise import cosine_similarity\n",
    "import numpy as np\n",
    "\n",
    "train_df = pd.read_csv(\"data/train.csv\")\n",
    "meta_df = pd.read_csv(\"data/item_metadata_filtered.csv\")\n",
    "with open(\"data/id_mappings.json\") as f:\n",
    "    id_map = json.load(f)\n",
    "\n",
    "asin_to_id = {asin: int(item_id) for asin, item_id in id_map[\"item_mapping\"].items()}\n",
    "item_mapping_df = pd.DataFrame(list(asin_to_id.items()), columns=[\"parent_asin\", \"item_id\"])\n",
    "meta_df = pd.merge(meta_df, item_mapping_df, on=\"parent_asin\", how=\"left\")\n",
    "# train_df[\"main_category\"] = item_mapping_df[train_df[\"item_id\"] == item_mapping_df[\"item_id\"]][\"main_category\"]\n",
    "train_df = train_df.merge(meta_df[[\"item_id\", \"main_category\"]], on=\"item_id\", how=\"left\")\n",
    "\n",
    "\n",
    "# Preprocess metadata\n",
    "meta_df[\"title\"] = meta_df[\"title\"].fillna(\"\")\n",
    "meta_df[\"store\"] = meta_df[\"store\"].fillna(\"\")\n",
    "meta_df[\"description\"] = meta_df[\"description\"].fillna(\"\")\n",
    "meta_df[\"average_rating\"] = meta_df[\"average_rating\"].fillna(\"\")\n",
    "meta_df[\"price\"] = meta_df[\"price\"].fillna(\"\")\n",
    "meta_df[\"image_urls\"] = meta_df[\"image_urls\"].fillna(\"[]\")\n",
    "meta_df[\"main_category\"] = meta_df[\"main_category\"].fillna(\"\")\n",
    "\n",
    "# Index by ASIN for lookup\n",
    "meta_df = meta_df.set_index(\"parent_asin\")\n",
    "\n",
    "# --- TF-IDF ---\n",
    "\n",
    "\n",
    "tfidf_matrix_dictionary = {}\n",
    "for category in meta_df[\"main_category\"].unique():\n",
    "    # Filter ASINs for current category\n",
    "    category_df = meta_df[meta_df[\"main_category\"] == category]\n",
    "    \n",
    "    texts = [\n",
    "        row[\"title\"] + \" \" + row[\"store\"] + \" \" + row[\"description\"]\n",
    "        for _, row in category_df.iterrows()\n",
    "    ]\n",
    "    \n",
    "    vectorizer = TfidfVectorizer(max_features=10000)\n",
    "    tfidf_matrix_dictionary[category] = vectorizer.fit_transform(texts)\n",
    "    \n",
    "    print(f\"Processed category: {category}, TF-IDF shape: {tfidf_matrix_dictionary[category].shape}\")\n",
    "tfidf_matrix_dictionary"
   ]
  },
  {
   "cell_type": "code",
   "execution_count": 40,
   "id": "c991450b",
   "metadata": {},
   "outputs": [
    {
     "data": {
      "text/html": [
       "<div>\n",
       "<style scoped>\n",
       "    .dataframe tbody tr th:only-of-type {\n",
       "        vertical-align: middle;\n",
       "    }\n",
       "\n",
       "    .dataframe tbody tr th {\n",
       "        vertical-align: top;\n",
       "    }\n",
       "\n",
       "    .dataframe thead th {\n",
       "        text-align: right;\n",
       "    }\n",
       "</style>\n",
       "<table border=\"1\" class=\"dataframe\">\n",
       "  <thead>\n",
       "    <tr style=\"text-align: right;\">\n",
       "      <th></th>\n",
       "      <th>main_category</th>\n",
       "      <th>title</th>\n",
       "      <th>average_rating</th>\n",
       "      <th>rating_number</th>\n",
       "      <th>price</th>\n",
       "      <th>store</th>\n",
       "      <th>features</th>\n",
       "      <th>description</th>\n",
       "      <th>images</th>\n",
       "      <th>categories</th>\n",
       "      <th>image_count</th>\n",
       "      <th>has_images</th>\n",
       "      <th>image_urls</th>\n",
       "      <th>category</th>\n",
       "      <th>item_id</th>\n",
       "    </tr>\n",
       "    <tr>\n",
       "      <th>parent_asin</th>\n",
       "      <th></th>\n",
       "      <th></th>\n",
       "      <th></th>\n",
       "      <th></th>\n",
       "      <th></th>\n",
       "      <th></th>\n",
       "      <th></th>\n",
       "      <th></th>\n",
       "      <th></th>\n",
       "      <th></th>\n",
       "      <th></th>\n",
       "      <th></th>\n",
       "      <th></th>\n",
       "      <th></th>\n",
       "      <th></th>\n",
       "    </tr>\n",
       "  </thead>\n",
       "  <tbody>\n",
       "    <tr>\n",
       "      <th>B07WFSQXL5</th>\n",
       "      <td>All Beauty</td>\n",
       "      <td>PPY Eyelash Growth Serum – Natural Ingredients...</td>\n",
       "      <td>3.9</td>\n",
       "      <td>114.0</td>\n",
       "      <td></td>\n",
       "      <td>PPY</td>\n",
       "      <td>[]</td>\n",
       "      <td>[]</td>\n",
       "      <td>{'hi_res': array(['https://m.media-amazon.com/...</td>\n",
       "      <td>[]</td>\n",
       "      <td>27</td>\n",
       "      <td>True</td>\n",
       "      <td>['https://m.media-amazon.com/images/I/615N6fkc...</td>\n",
       "      <td>All_Beauty</td>\n",
       "      <td>66457</td>\n",
       "    </tr>\n",
       "    <tr>\n",
       "      <th>B08BV6F6BC</th>\n",
       "      <td>All Beauty</td>\n",
       "      <td>Wixar Natural Sea Moss Soap - (2 PACK) - Laven...</td>\n",
       "      <td>4.4</td>\n",
       "      <td>41.0</td>\n",
       "      <td></td>\n",
       "      <td>WIXAR NATURALS</td>\n",
       "      <td>[]</td>\n",
       "      <td>[]</td>\n",
       "      <td>{'hi_res': array(['https://m.media-amazon.com/...</td>\n",
       "      <td>[]</td>\n",
       "      <td>21</td>\n",
       "      <td>True</td>\n",
       "      <td>['https://m.media-amazon.com/images/I/81ugegqe...</td>\n",
       "      <td>All_Beauty</td>\n",
       "      <td>71310</td>\n",
       "    </tr>\n",
       "    <tr>\n",
       "      <th>B07Z818MLY</th>\n",
       "      <td>All Beauty</td>\n",
       "      <td>7 Packs Deep Wave Crochet Hair 22 Inch Deep wa...</td>\n",
       "      <td>3.4</td>\n",
       "      <td>10.0</td>\n",
       "      <td></td>\n",
       "      <td>Yun Mei Hair</td>\n",
       "      <td>[]</td>\n",
       "      <td>[]</td>\n",
       "      <td>{'hi_res': array(['https://m.media-amazon.com/...</td>\n",
       "      <td>[]</td>\n",
       "      <td>21</td>\n",
       "      <td>True</td>\n",
       "      <td>['https://m.media-amazon.com/images/I/71aVcpK8...</td>\n",
       "      <td>All_Beauty</td>\n",
       "      <td>67591</td>\n",
       "    </tr>\n",
       "    <tr>\n",
       "      <th>B071DY8Z4B</th>\n",
       "      <td>All Beauty</td>\n",
       "      <td>BEWAVE Hair Brush Sponge Twist With Comb Hair ...</td>\n",
       "      <td>4.2</td>\n",
       "      <td>24.0</td>\n",
       "      <td></td>\n",
       "      <td>BEWAVE</td>\n",
       "      <td>[]</td>\n",
       "      <td>[]</td>\n",
       "      <td>{'hi_res': array(['https://m.media-amazon.com/...</td>\n",
       "      <td>[]</td>\n",
       "      <td>17</td>\n",
       "      <td>True</td>\n",
       "      <td>['https://m.media-amazon.com/images/I/61or2jYp...</td>\n",
       "      <td>All_Beauty</td>\n",
       "      <td>52585</td>\n",
       "    </tr>\n",
       "    <tr>\n",
       "      <th>B0BTLTVR1X</th>\n",
       "      <td>All Beauty</td>\n",
       "      <td>Zydeco Chop Chop Cajun Seasoning Base, 8 Ounce...</td>\n",
       "      <td>4.7</td>\n",
       "      <td>21.0</td>\n",
       "      <td></td>\n",
       "      <td>BORELTH</td>\n",
       "      <td>['All Natural blend of Dehydrated Onion, Dehyd...</td>\n",
       "      <td>['Zydeco Chop Chop is a blend of Dehydrated On...</td>\n",
       "      <td>{'hi_res': array(['https://m.media-amazon.com/...</td>\n",
       "      <td>[]</td>\n",
       "      <td>3</td>\n",
       "      <td>True</td>\n",
       "      <td>['https://m.media-amazon.com/images/I/71707mY6...</td>\n",
       "      <td>All_Beauty</td>\n",
       "      <td>77706</td>\n",
       "    </tr>\n",
       "  </tbody>\n",
       "</table>\n",
       "</div>"
      ],
      "text/plain": [
       "            main_category                                              title  \\\n",
       "parent_asin                                                                    \n",
       "B07WFSQXL5     All Beauty  PPY Eyelash Growth Serum – Natural Ingredients...   \n",
       "B08BV6F6BC     All Beauty  Wixar Natural Sea Moss Soap - (2 PACK) - Laven...   \n",
       "B07Z818MLY     All Beauty  7 Packs Deep Wave Crochet Hair 22 Inch Deep wa...   \n",
       "B071DY8Z4B     All Beauty  BEWAVE Hair Brush Sponge Twist With Comb Hair ...   \n",
       "B0BTLTVR1X     All Beauty  Zydeco Chop Chop Cajun Seasoning Base, 8 Ounce...   \n",
       "\n",
       "             average_rating  rating_number price           store  \\\n",
       "parent_asin                                                        \n",
       "B07WFSQXL5              3.9          114.0                   PPY   \n",
       "B08BV6F6BC              4.4           41.0        WIXAR NATURALS   \n",
       "B07Z818MLY              3.4           10.0          Yun Mei Hair   \n",
       "B071DY8Z4B              4.2           24.0                BEWAVE   \n",
       "B0BTLTVR1X              4.7           21.0               BORELTH   \n",
       "\n",
       "                                                      features  \\\n",
       "parent_asin                                                      \n",
       "B07WFSQXL5                                                  []   \n",
       "B08BV6F6BC                                                  []   \n",
       "B07Z818MLY                                                  []   \n",
       "B071DY8Z4B                                                  []   \n",
       "B0BTLTVR1X   ['All Natural blend of Dehydrated Onion, Dehyd...   \n",
       "\n",
       "                                                   description  \\\n",
       "parent_asin                                                      \n",
       "B07WFSQXL5                                                  []   \n",
       "B08BV6F6BC                                                  []   \n",
       "B07Z818MLY                                                  []   \n",
       "B071DY8Z4B                                                  []   \n",
       "B0BTLTVR1X   ['Zydeco Chop Chop is a blend of Dehydrated On...   \n",
       "\n",
       "                                                        images categories  \\\n",
       "parent_asin                                                                 \n",
       "B07WFSQXL5   {'hi_res': array(['https://m.media-amazon.com/...         []   \n",
       "B08BV6F6BC   {'hi_res': array(['https://m.media-amazon.com/...         []   \n",
       "B07Z818MLY   {'hi_res': array(['https://m.media-amazon.com/...         []   \n",
       "B071DY8Z4B   {'hi_res': array(['https://m.media-amazon.com/...         []   \n",
       "B0BTLTVR1X   {'hi_res': array(['https://m.media-amazon.com/...         []   \n",
       "\n",
       "             image_count  has_images  \\\n",
       "parent_asin                            \n",
       "B07WFSQXL5            27        True   \n",
       "B08BV6F6BC            21        True   \n",
       "B07Z818MLY            21        True   \n",
       "B071DY8Z4B            17        True   \n",
       "B0BTLTVR1X             3        True   \n",
       "\n",
       "                                                    image_urls    category  \\\n",
       "parent_asin                                                                  \n",
       "B07WFSQXL5   ['https://m.media-amazon.com/images/I/615N6fkc...  All_Beauty   \n",
       "B08BV6F6BC   ['https://m.media-amazon.com/images/I/81ugegqe...  All_Beauty   \n",
       "B07Z818MLY   ['https://m.media-amazon.com/images/I/71aVcpK8...  All_Beauty   \n",
       "B071DY8Z4B   ['https://m.media-amazon.com/images/I/61or2jYp...  All_Beauty   \n",
       "B0BTLTVR1X   ['https://m.media-amazon.com/images/I/71707mY6...  All_Beauty   \n",
       "\n",
       "             item_id  \n",
       "parent_asin           \n",
       "B07WFSQXL5     66457  \n",
       "B08BV6F6BC     71310  \n",
       "B07Z818MLY     67591  \n",
       "B071DY8Z4B     52585  \n",
       "B0BTLTVR1X     77706  "
      ]
     },
     "execution_count": 40,
     "metadata": {},
     "output_type": "execute_result"
    }
   ],
   "source": [
    "category_df = {}\n",
    "for category in meta_df[\"main_category\"].unique():\n",
    "    category_df[category] = meta_df[meta_df[\"main_category\"] == category]\n",
    "    category_df[category].drop(columns=\"main_category\", axis=1)\n",
    "    \n",
    "category_df[\"All Beauty\"].head()"
   ]
  },
  {
   "cell_type": "code",
   "execution_count": null,
   "id": "8dbb4197",
   "metadata": {},
   "outputs": [],
   "source": [
    "item_id_to_index_dictionary = {\n",
    "    category: {\n",
    "        item_id: idx for idx, item_id in enumerate(df[\"item_id\"].values)\n",
    "    }\n",
    "    for category, df in category_df.items()\n",
    "}\n",
    "def build_user_profile(user_id):\n",
    "    user_ratings = train_df[train_df[\"user_id\"] == user_id]\n",
    "    categories = user_ratings[\"main_category\"].unique()\n",
    "\n",
    "    profile_parts = []\n",
    "    tmp_df = pd.DataFrame()  # optional: collect for debugging or analysis\n",
    "\n",
    "    for category in categories:\n",
    "        category_ratings = user_ratings[user_ratings[\"main_category\"] == category]\n",
    "        item_ids = category_ratings[\"item_id\"].values\n",
    "        ratings = category_ratings[\"rating\"].values\n",
    "\n",
    "        # Mapping: item_id -> index in TF-IDF matrix\n",
    "        id_to_index = item_id_to_index_dictionary.get(category, {})\n",
    "        indices = [id_to_index[item_id] for item_id in item_ids if item_id in id_to_index]\n",
    "        filtered_ratings = [r for item_id, r in zip(item_ids, ratings) if item_id in id_to_index]\n",
    "\n",
    "        if not indices:\n",
    "            continue  # no items in TF-IDF matrix for this category\n",
    "\n",
    "        # Get the item vectors\n",
    "        tfidf_vectors = tfidf_matrix_dictionary[category][indices]\n",
    "\n",
    "        # Store for analysis (optional)\n",
    "        tmp_df = pd.concat([\n",
    "            tmp_df,\n",
    "            pd.DataFrame({\n",
    "                \"category\": category,\n",
    "                \"item_id\": item_ids,\n",
    "                \"rating\": ratings\n",
    "            })\n",
    "        ])\n",
    "\n",
    "        # Weight the vectors by user ratings\n",
    "        weighted = tfidf_vectors.multiply(np.array(filtered_ratings)[:, None])\n",
    "        profile_parts.append(weighted.mean(axis=0))\n",
    "\n",
    "    if not profile_parts:\n",
    "        return np.zeros((1, tfidf_matrix_dictionary[categories[0]].shape[1])), tfidf_vectors\n",
    "\n",
    "    # Combine all category profiles (average)\n",
    "    full_profile = np.mean(profile_parts, axis=0)\n",
    "    return full_profile, tfidf_vectors\n",
    "\n",
    "def recommend_for_user(user_id, top_k=10):\n",
    "    user_items = train_df[train_df[\"user_id\"] == user_id][\"item_id\"]\n",
    "    categories = meta_df[meta_df[\"item_id\"].isin(user_items)][\"main_category\"].unique()\n",
    "\n",
    "    profile, tfidf_matrix = build_user_profile(user_id)\n",
    "    scores = cosine_similarity(profile, tfidf_matrix).ravel()\n",
    "\n",
    "    seen_items = set(train_df.loc[train_df[\"user_id\"] == user_id, \"item_id\"])\n",
    "\n",
    "    n_items = len(scores)\n",
    "    top_n = min(top_k * 5, n_items)  # safe top-N\n",
    "\n",
    "    ranked_indices = np.argpartition(-scores, range(top_n))[:top_n]\n",
    "    top_items = sorted(ranked_indices, key=lambda i: -scores[i])\n",
    "\n",
    "    recs = [str(i) for i in top_items if i not in seen_items][:top_k]\n",
    "    return ' '.join(recs)\n",
    "\n",
    "def solve_and_save(min, max, num):\n",
    "    # for key, df in category_df:\n",
    "\n",
    "    df_final = pd.DataFrame({\n",
    "        \"user_id\": train_df[\"user_id\"].unique()[min:max],\n",
    "    })\n",
    "    # df_final[\"predictions\"] = df_final[\"user_id\"].apply(recommend_for_user, args=(train_df[\"main_category\"]))\n",
    "    df_final[\"predictions\"] = df_final[\"user_id\"].apply(\n",
    "        lambda user_id: recommend_for_user(user_id)\n",
    "    )\n",
    "\n",
    "    name = f\"user_predictions{num}.csv\"\n",
    "    print(name, flush=True)\n",
    "    df_final.to_csv(name, index=False)\n",
    "\n"
   ]
  },
  {
   "cell_type": "code",
   "execution_count": 102,
   "id": "02858ebb",
   "metadata": {},
   "outputs": [],
   "source": [
    "def recommend_for_user(user_id, top_k=10):\n",
    "    user_items = train_df[train_df[\"user_id\"] == user_id][\"item_id\"]\n",
    "    categories = meta_df[meta_df[\"item_id\"].isin(user_items)][\"main_category\"].unique()\n",
    "\n",
    "    profile, tfidf_matrix = build_user_profile(user_id)\n",
    "    scores = cosine_similarity(profile, tfidf_matrix).ravel()\n",
    "\n",
    "    seen_items = set(train_df.loc[train_df[\"user_id\"] == user_id, \"item_id\"])\n",
    "\n",
    "    n_items = len(scores)\n",
    "    top_n = min(top_k * 5, n_items)  # safe top-N\n",
    "\n",
    "    ranked_indices = np.argpartition(-scores, range(top_n))[:top_n]\n",
    "    top_items = sorted(ranked_indices, key=lambda i: -scores[i])\n",
    "\n",
    "    recs = [str(i) for i in top_items if i not in seen_items][:top_k]\n",
    "    return ' '.join(recs)\n",
    "\n",
    "def solve_and_save(min, max, num):\n",
    "    # for key, df in category_df:\n",
    "\n",
    "    df_final = pd.DataFrame({\n",
    "        \"user_id\": train_df[\"user_id\"].unique()[min:max],\n",
    "    })\n",
    "    # df_final[\"predictions\"] = df_final[\"user_id\"].apply(recommend_for_user, args=(train_df[\"main_category\"]))\n",
    "    df_final[\"predictions\"] = df_final[\"user_id\"].apply(\n",
    "        lambda user_id: recommend_for_user(user_id)\n",
    "    )\n",
    "\n",
    "    name = f\"user_predictions{num}.csv\"\n",
    "    print(name, flush=True)\n",
    "    df_final.to_csv(name, index=False)\n",
    "\n"
   ]
  },
  {
   "cell_type": "code",
   "execution_count": null,
   "id": "dead3bf6",
   "metadata": {},
   "outputs": [],
   "source": [
    "''' item_id_to_index = {item_id: idx for idx, item_id in enumerate(meta_df[\"item_id\"])}\n",
    "\n",
    "def recommend_for_user(user_id, top_k=10):\n",
    "    user_items = train_df[train_df[\"user_id\"] == user_id][\"item_id\"]\n",
    "    user_categories = meta_df[meta_df[\"item_id\"].isin(user_items)][\"main_category\"]\n",
    "    category = user_categories.mode().iloc[0]\n",
    "\n",
    "    profile, tfidf_matrix = build_user_profile(user_id)\n",
    "    scores = cosine_similarity(profile, tfidf_matrix).ravel()\n",
    "\n",
    "    seen_items = set(train_df.loc[train_df[\"user_id\"] == user_id, \"item_id\"])\n",
    "\n",
    "    # Use numpy argsort only once and avoid recomputing reverse sort\n",
    "    ranked_indices = np.argpartition(-scores, range(top_k * 5))[:top_k * 5]  # over-sample in case of seen items\n",
    "    top_items = sorted(ranked_indices, key=lambda i: -scores[i])\n",
    "\n",
    "    \n",
    "    recs = [str(i) for i in top_items if i not in seen_items][:top_k]\n",
    "    \n",
    "    return ' '.join(recs)\n",
    "\n",
    " '''"
   ]
  },
  {
   "cell_type": "code",
   "execution_count": null,
   "id": "c5f1ee49",
   "metadata": {},
   "outputs": [],
   "source": [
    "''' def build_user_profile(user_id, category):\n",
    "    \n",
    "    # user_ratings = train_df[train_df[\"main_category\"] == category]\n",
    "    user_ratings = train_df[traind_df[\"user_id\"] == user_id]\n",
    "    categories = user_ratings[\"main_category\"].unique()\n",
    "\n",
    "    indicies = user_ratings[\"item_id\"].values\n",
    "    ratings = user_ratings[\"rating\"].values\n",
    "    \n",
    "    tmp_df = pd.DataFrame()  \n",
    "    ratings = [fidi_matrix_dictionary[cat] for cat in categories]\n",
    "    item_vectors = tfidf_matrix_dictionary[category][indices]\n",
    "\n",
    "    # indices = user_ratings[\"item_id\"].values\n",
    "    # ratings = user_ratings[\"rating\"].values\n",
    "    # item_vectors = tfidf_matrix_dictionary[category][indices]\n",
    "\n",
    "\n",
    "    weighted = item_vectors.multiply(ratings[:, None])\n",
    "    profile = weighted.mean(axis=0)\n",
    "    return np.asarray(profile)\n",
    " '''\n",
    "\n"
   ]
  },
  {
   "cell_type": "code",
   "execution_count": 95,
   "id": "4b94523f",
   "metadata": {},
   "outputs": [],
   "source": [
    "def solve_and_save(min, max, num):\n",
    "    # for key, df in category_df:\n",
    "\n",
    "    df_final = pd.DataFrame({\n",
    "        \"user_id\": train_df[\"user_id\"].unique()[min:max],\n",
    "    })\n",
    "    # df_final[\"predictions\"] = df_final[\"user_id\"].apply(recommend_for_user, args=(train_df[\"main_category\"]))\n",
    "    df_final[\"predictions\"] = df_final[\"user_id\"].apply(\n",
    "        lambda user_id: recommend_for_user(user_id)\n",
    "    )\n",
    "\n",
    "    name = f\"user_predictions{num}.csv\"\n",
    "    print(name, flush=True)\n",
    "    df_final.to_csv(name, index=False)\n",
    "\n"
   ]
  },
  {
   "cell_type": "code",
   "execution_count": null,
   "id": "e9c72636",
   "metadata": {},
   "outputs": [
    {
     "name": "stderr",
     "output_type": "stream",
     "text": [
      "/home/pete/Coding/Python/DSC_task/env/lib/python3.6/site-packages/numpy/core/_asarray.py:136: VisibleDeprecationWarning: Creating an ndarray from ragged nested sequences (which is a list-or-tuple of lists-or-tuples-or ndarrays with different lengths or shapes) is deprecated. If you meant to do this, you must specify 'dtype=object' when creating the ndarray\n",
      "  return array(a, dtype, copy=False, order=order, subok=True)\n",
      "Process Process-28:\n",
      "Traceback (most recent call last):\n",
      "  File \"/usr/lib/python3.6/multiprocessing/process.py\", line 258, in _bootstrap\n",
      "    self.run()\n",
      "  File \"/usr/lib/python3.6/multiprocessing/process.py\", line 93, in run\n",
      "    self._target(*self._args, **self._kwargs)\n",
      "  File \"<ipython-input-106-7b2f1b219ce3>\", line 77, in solve_and_save\n",
      "    lambda user_id: recommend_for_user(user_id)\n",
      "  File \"/home/pete/Coding/Python/DSC_task/env/lib/python3.6/site-packages/pandas/core/series.py\", line 4213, in apply\n",
      "    mapped = lib.map_infer(values, f, convert=convert_dtype)\n",
      "  File \"pandas/_libs/lib.pyx\", line 2403, in pandas._libs.lib.map_infer\n",
      "  File \"<ipython-input-106-7b2f1b219ce3>\", line 77, in <lambda>\n",
      "    lambda user_id: recommend_for_user(user_id)\n",
      "  File \"<ipython-input-106-7b2f1b219ce3>\", line 55, in recommend_for_user\n",
      "    profile, tfidf_matrix = build_user_profile(user_id)\n",
      "  File \"<ipython-input-106-7b2f1b219ce3>\", line 48, in build_user_profile\n",
      "    full_profile = np.mean(profile_parts, axis=0)\n",
      "  File \"<__array_function__ internals>\", line 6, in mean\n",
      "  File \"/home/pete/Coding/Python/DSC_task/env/lib/python3.6/site-packages/numpy/core/fromnumeric.py\", line 3373, in mean\n",
      "    out=out, **kwargs)\n",
      "  File \"/home/pete/Coding/Python/DSC_task/env/lib/python3.6/site-packages/numpy/core/_methods.py\", line 144, in _mean\n",
      "    arr = asanyarray(a)\n",
      "  File \"/home/pete/Coding/Python/DSC_task/env/lib/python3.6/site-packages/numpy/core/_asarray.py\", line 136, in asanyarray\n",
      "    return array(a, dtype, copy=False, order=order, subok=True)\n",
      "ValueError: could not broadcast input array from shape (751) into shape (1)\n"
     ]
    }
   ],
   "source": [
    "from multiprocessing import Process\n",
    "\n",
    "for i, min_idx in enumerate(range(0, 20000, 20000)):\n",
    "    max_idx = min(min_idx + 20000, 868218)\n",
    "    p = Process(target=solve_and_save, args=(min_idx, max_idx, i))\n",
    "    processes.append(p)\n",
    "    p.start()\n"
   ]
  },
  {
   "cell_type": "code",
   "execution_count": 104,
   "id": "e1b4e658",
   "metadata": {},
   "outputs": [
    {
     "name": "stderr",
     "output_type": "stream",
     "text": [
      "/home/pete/Coding/Python/DSC_task/env/lib/python3.6/site-packages/numpy/core/_asarray.py:136: VisibleDeprecationWarning: Creating an ndarray from ragged nested sequences (which is a list-or-tuple of lists-or-tuples-or ndarrays with different lengths or shapes) is deprecated. If you meant to do this, you must specify 'dtype=object' when creating the ndarray\n",
      "  return array(a, dtype, copy=False, order=order, subok=True)\n"
     ]
    },
    {
     "ename": "ValueError",
     "evalue": "could not broadcast input array from shape (751) into shape (1)",
     "output_type": "error",
     "traceback": [
      "\u001b[0;31m---------------------------------------------------------------------------\u001b[0m",
      "\u001b[0;31mValueError\u001b[0m                                Traceback (most recent call last)",
      "\u001b[0;32m<ipython-input-104-d0ba86fb133d>\u001b[0m in \u001b[0;36m<module>\u001b[0;34m\u001b[0m\n\u001b[1;32m     11\u001b[0m \u001b[0mprocesses\u001b[0m \u001b[0;34m=\u001b[0m \u001b[0;34m[\u001b[0m\u001b[0;34m]\u001b[0m\u001b[0;34m\u001b[0m\u001b[0;34m\u001b[0m\u001b[0m\n\u001b[1;32m     12\u001b[0m \u001b[0;34m\u001b[0m\u001b[0m\n\u001b[0;32m---> 13\u001b[0;31m \u001b[0msolve_and_save\u001b[0m\u001b[0;34m(\u001b[0m\u001b[0;36m0\u001b[0m\u001b[0;34m,\u001b[0m \u001b[0;36m20000\u001b[0m\u001b[0;34m,\u001b[0m \u001b[0;36m10\u001b[0m\u001b[0;34m)\u001b[0m\u001b[0;34m\u001b[0m\u001b[0;34m\u001b[0m\u001b[0m\n\u001b[0m\u001b[1;32m     14\u001b[0m \u001b[0;34m\u001b[0m\u001b[0m\n\u001b[1;32m     15\u001b[0m ''' for i, min_idx in enumerate(range(0, 20000, 20000)):\n",
      "\u001b[0;32m<ipython-input-104-d0ba86fb133d>\u001b[0m in \u001b[0;36msolve_and_save\u001b[0;34m(min, max, num)\u001b[0m\n\u001b[1;32m      4\u001b[0m         \u001b[0;34m\"user_id\"\u001b[0m\u001b[0;34m:\u001b[0m \u001b[0mtrain_df\u001b[0m\u001b[0;34m[\u001b[0m\u001b[0;34m\"user_id\"\u001b[0m\u001b[0;34m]\u001b[0m\u001b[0;34m.\u001b[0m\u001b[0munique\u001b[0m\u001b[0;34m(\u001b[0m\u001b[0;34m)\u001b[0m\u001b[0;34m[\u001b[0m\u001b[0mmin\u001b[0m\u001b[0;34m:\u001b[0m\u001b[0mmax\u001b[0m\u001b[0;34m]\u001b[0m\u001b[0;34m,\u001b[0m\u001b[0;34m\u001b[0m\u001b[0;34m\u001b[0m\u001b[0m\n\u001b[1;32m      5\u001b[0m     })\n\u001b[0;32m----> 6\u001b[0;31m     \u001b[0mdf_final\u001b[0m\u001b[0;34m[\u001b[0m\u001b[0;34m\"predictions\"\u001b[0m\u001b[0;34m]\u001b[0m \u001b[0;34m=\u001b[0m \u001b[0mdf_final\u001b[0m\u001b[0;34m[\u001b[0m\u001b[0;34m\"user_id\"\u001b[0m\u001b[0;34m]\u001b[0m\u001b[0;34m.\u001b[0m\u001b[0mapply\u001b[0m\u001b[0;34m(\u001b[0m\u001b[0mrecommend_for_user\u001b[0m\u001b[0;34m)\u001b[0m\u001b[0;34m\u001b[0m\u001b[0;34m\u001b[0m\u001b[0m\n\u001b[0m\u001b[1;32m      7\u001b[0m     \u001b[0mname\u001b[0m \u001b[0;34m=\u001b[0m \u001b[0;34mf\"user_predictions{num}.csv\"\u001b[0m\u001b[0;34m\u001b[0m\u001b[0;34m\u001b[0m\u001b[0m\n\u001b[1;32m      8\u001b[0m     \u001b[0mprint\u001b[0m\u001b[0;34m(\u001b[0m\u001b[0mname\u001b[0m\u001b[0;34m,\u001b[0m \u001b[0mflush\u001b[0m\u001b[0;34m=\u001b[0m\u001b[0;32mTrue\u001b[0m\u001b[0;34m)\u001b[0m\u001b[0;34m\u001b[0m\u001b[0;34m\u001b[0m\u001b[0m\n",
      "\u001b[0;32m~/Coding/Python/DSC_task/env/lib/python3.6/site-packages/pandas/core/series.py\u001b[0m in \u001b[0;36mapply\u001b[0;34m(self, func, convert_dtype, args, **kwds)\u001b[0m\n\u001b[1;32m   4211\u001b[0m             \u001b[0;32melse\u001b[0m\u001b[0;34m:\u001b[0m\u001b[0;34m\u001b[0m\u001b[0;34m\u001b[0m\u001b[0m\n\u001b[1;32m   4212\u001b[0m                 \u001b[0mvalues\u001b[0m \u001b[0;34m=\u001b[0m \u001b[0mself\u001b[0m\u001b[0;34m.\u001b[0m\u001b[0mastype\u001b[0m\u001b[0;34m(\u001b[0m\u001b[0mobject\u001b[0m\u001b[0;34m)\u001b[0m\u001b[0;34m.\u001b[0m\u001b[0m_values\u001b[0m\u001b[0;34m\u001b[0m\u001b[0;34m\u001b[0m\u001b[0m\n\u001b[0;32m-> 4213\u001b[0;31m                 \u001b[0mmapped\u001b[0m \u001b[0;34m=\u001b[0m \u001b[0mlib\u001b[0m\u001b[0;34m.\u001b[0m\u001b[0mmap_infer\u001b[0m\u001b[0;34m(\u001b[0m\u001b[0mvalues\u001b[0m\u001b[0;34m,\u001b[0m \u001b[0mf\u001b[0m\u001b[0;34m,\u001b[0m \u001b[0mconvert\u001b[0m\u001b[0;34m=\u001b[0m\u001b[0mconvert_dtype\u001b[0m\u001b[0;34m)\u001b[0m\u001b[0;34m\u001b[0m\u001b[0;34m\u001b[0m\u001b[0m\n\u001b[0m\u001b[1;32m   4214\u001b[0m \u001b[0;34m\u001b[0m\u001b[0m\n\u001b[1;32m   4215\u001b[0m         \u001b[0;32mif\u001b[0m \u001b[0mlen\u001b[0m\u001b[0;34m(\u001b[0m\u001b[0mmapped\u001b[0m\u001b[0;34m)\u001b[0m \u001b[0;32mand\u001b[0m \u001b[0misinstance\u001b[0m\u001b[0;34m(\u001b[0m\u001b[0mmapped\u001b[0m\u001b[0;34m[\u001b[0m\u001b[0;36m0\u001b[0m\u001b[0;34m]\u001b[0m\u001b[0;34m,\u001b[0m \u001b[0mSeries\u001b[0m\u001b[0;34m)\u001b[0m\u001b[0;34m:\u001b[0m\u001b[0;34m\u001b[0m\u001b[0;34m\u001b[0m\u001b[0m\n",
      "\u001b[0;32mpandas/_libs/lib.pyx\u001b[0m in \u001b[0;36mpandas._libs.lib.map_infer\u001b[0;34m()\u001b[0m\n",
      "\u001b[0;32m<ipython-input-102-2f8dc536472a>\u001b[0m in \u001b[0;36mrecommend_for_user\u001b[0;34m(user_id, top_k)\u001b[0m\n\u001b[1;32m      3\u001b[0m     \u001b[0mcategories\u001b[0m \u001b[0;34m=\u001b[0m \u001b[0mmeta_df\u001b[0m\u001b[0;34m[\u001b[0m\u001b[0mmeta_df\u001b[0m\u001b[0;34m[\u001b[0m\u001b[0;34m\"item_id\"\u001b[0m\u001b[0;34m]\u001b[0m\u001b[0;34m.\u001b[0m\u001b[0misin\u001b[0m\u001b[0;34m(\u001b[0m\u001b[0muser_items\u001b[0m\u001b[0;34m)\u001b[0m\u001b[0;34m]\u001b[0m\u001b[0;34m[\u001b[0m\u001b[0;34m\"main_category\"\u001b[0m\u001b[0;34m]\u001b[0m\u001b[0;34m.\u001b[0m\u001b[0munique\u001b[0m\u001b[0;34m(\u001b[0m\u001b[0;34m)\u001b[0m\u001b[0;34m\u001b[0m\u001b[0;34m\u001b[0m\u001b[0m\n\u001b[1;32m      4\u001b[0m \u001b[0;34m\u001b[0m\u001b[0m\n\u001b[0;32m----> 5\u001b[0;31m     \u001b[0mprofile\u001b[0m\u001b[0;34m,\u001b[0m \u001b[0mtfidf_matrix\u001b[0m \u001b[0;34m=\u001b[0m \u001b[0mbuild_user_profile\u001b[0m\u001b[0;34m(\u001b[0m\u001b[0muser_id\u001b[0m\u001b[0;34m)\u001b[0m\u001b[0;34m\u001b[0m\u001b[0;34m\u001b[0m\u001b[0m\n\u001b[0m\u001b[1;32m      6\u001b[0m     \u001b[0mscores\u001b[0m \u001b[0;34m=\u001b[0m \u001b[0mcosine_similarity\u001b[0m\u001b[0;34m(\u001b[0m\u001b[0mprofile\u001b[0m\u001b[0;34m,\u001b[0m \u001b[0mtfidf_matrix\u001b[0m\u001b[0;34m)\u001b[0m\u001b[0;34m.\u001b[0m\u001b[0mravel\u001b[0m\u001b[0;34m(\u001b[0m\u001b[0;34m)\u001b[0m\u001b[0;34m\u001b[0m\u001b[0;34m\u001b[0m\u001b[0m\n\u001b[1;32m      7\u001b[0m \u001b[0;34m\u001b[0m\u001b[0m\n",
      "\u001b[0;32m<ipython-input-103-41e865edd64f>\u001b[0m in \u001b[0;36mbuild_user_profile\u001b[0;34m(user_id)\u001b[0m\n\u001b[1;32m     46\u001b[0m \u001b[0;34m\u001b[0m\u001b[0m\n\u001b[1;32m     47\u001b[0m     \u001b[0;31m# Combine all category profiles (average)\u001b[0m\u001b[0;34m\u001b[0m\u001b[0;34m\u001b[0m\u001b[0;34m\u001b[0m\u001b[0m\n\u001b[0;32m---> 48\u001b[0;31m     \u001b[0mfull_profile\u001b[0m \u001b[0;34m=\u001b[0m \u001b[0mnp\u001b[0m\u001b[0;34m.\u001b[0m\u001b[0mmean\u001b[0m\u001b[0;34m(\u001b[0m\u001b[0mprofile_parts\u001b[0m\u001b[0;34m,\u001b[0m \u001b[0maxis\u001b[0m\u001b[0;34m=\u001b[0m\u001b[0;36m0\u001b[0m\u001b[0;34m)\u001b[0m\u001b[0;34m\u001b[0m\u001b[0;34m\u001b[0m\u001b[0m\n\u001b[0m\u001b[1;32m     49\u001b[0m     \u001b[0;32mreturn\u001b[0m \u001b[0mfull_profile\u001b[0m\u001b[0;34m,\u001b[0m \u001b[0mtfidf_vectors\u001b[0m\u001b[0;34m\u001b[0m\u001b[0;34m\u001b[0m\u001b[0m\n",
      "\u001b[0;32m<__array_function__ internals>\u001b[0m in \u001b[0;36mmean\u001b[0;34m(*args, **kwargs)\u001b[0m\n",
      "\u001b[0;32m~/Coding/Python/DSC_task/env/lib/python3.6/site-packages/numpy/core/fromnumeric.py\u001b[0m in \u001b[0;36mmean\u001b[0;34m(a, axis, dtype, out, keepdims)\u001b[0m\n\u001b[1;32m   3371\u001b[0m \u001b[0;34m\u001b[0m\u001b[0m\n\u001b[1;32m   3372\u001b[0m     return _methods._mean(a, axis=axis, dtype=dtype,\n\u001b[0;32m-> 3373\u001b[0;31m                           out=out, **kwargs)\n\u001b[0m\u001b[1;32m   3374\u001b[0m \u001b[0;34m\u001b[0m\u001b[0m\n\u001b[1;32m   3375\u001b[0m \u001b[0;34m\u001b[0m\u001b[0m\n",
      "\u001b[0;32m~/Coding/Python/DSC_task/env/lib/python3.6/site-packages/numpy/core/_methods.py\u001b[0m in \u001b[0;36m_mean\u001b[0;34m(a, axis, dtype, out, keepdims)\u001b[0m\n\u001b[1;32m    142\u001b[0m \u001b[0;34m\u001b[0m\u001b[0m\n\u001b[1;32m    143\u001b[0m \u001b[0;32mdef\u001b[0m \u001b[0m_mean\u001b[0m\u001b[0;34m(\u001b[0m\u001b[0ma\u001b[0m\u001b[0;34m,\u001b[0m \u001b[0maxis\u001b[0m\u001b[0;34m=\u001b[0m\u001b[0;32mNone\u001b[0m\u001b[0;34m,\u001b[0m \u001b[0mdtype\u001b[0m\u001b[0;34m=\u001b[0m\u001b[0;32mNone\u001b[0m\u001b[0;34m,\u001b[0m \u001b[0mout\u001b[0m\u001b[0;34m=\u001b[0m\u001b[0;32mNone\u001b[0m\u001b[0;34m,\u001b[0m \u001b[0mkeepdims\u001b[0m\u001b[0;34m=\u001b[0m\u001b[0;32mFalse\u001b[0m\u001b[0;34m)\u001b[0m\u001b[0;34m:\u001b[0m\u001b[0;34m\u001b[0m\u001b[0;34m\u001b[0m\u001b[0m\n\u001b[0;32m--> 144\u001b[0;31m     \u001b[0marr\u001b[0m \u001b[0;34m=\u001b[0m \u001b[0masanyarray\u001b[0m\u001b[0;34m(\u001b[0m\u001b[0ma\u001b[0m\u001b[0;34m)\u001b[0m\u001b[0;34m\u001b[0m\u001b[0;34m\u001b[0m\u001b[0m\n\u001b[0m\u001b[1;32m    145\u001b[0m \u001b[0;34m\u001b[0m\u001b[0m\n\u001b[1;32m    146\u001b[0m     \u001b[0mis_float16_result\u001b[0m \u001b[0;34m=\u001b[0m \u001b[0;32mFalse\u001b[0m\u001b[0;34m\u001b[0m\u001b[0;34m\u001b[0m\u001b[0m\n",
      "\u001b[0;32m~/Coding/Python/DSC_task/env/lib/python3.6/site-packages/numpy/core/_asarray.py\u001b[0m in \u001b[0;36masanyarray\u001b[0;34m(a, dtype, order)\u001b[0m\n\u001b[1;32m    134\u001b[0m \u001b[0;34m\u001b[0m\u001b[0m\n\u001b[1;32m    135\u001b[0m     \"\"\"\n\u001b[0;32m--> 136\u001b[0;31m     \u001b[0;32mreturn\u001b[0m \u001b[0marray\u001b[0m\u001b[0;34m(\u001b[0m\u001b[0ma\u001b[0m\u001b[0;34m,\u001b[0m \u001b[0mdtype\u001b[0m\u001b[0;34m,\u001b[0m \u001b[0mcopy\u001b[0m\u001b[0;34m=\u001b[0m\u001b[0;32mFalse\u001b[0m\u001b[0;34m,\u001b[0m \u001b[0morder\u001b[0m\u001b[0;34m=\u001b[0m\u001b[0morder\u001b[0m\u001b[0;34m,\u001b[0m \u001b[0msubok\u001b[0m\u001b[0;34m=\u001b[0m\u001b[0;32mTrue\u001b[0m\u001b[0;34m)\u001b[0m\u001b[0;34m\u001b[0m\u001b[0;34m\u001b[0m\u001b[0m\n\u001b[0m\u001b[1;32m    137\u001b[0m \u001b[0;34m\u001b[0m\u001b[0m\n\u001b[1;32m    138\u001b[0m \u001b[0;34m\u001b[0m\u001b[0m\n",
      "\u001b[0;31mValueError\u001b[0m: could not broadcast input array from shape (751) into shape (1)"
     ]
    }
   ],
   "source": [
    "\n",
    "from multiprocessing import Process\n",
    "def solve_and_save(min, max, num):\n",
    "    df_final = pd.DataFrame({\n",
    "        \"user_id\": train_df[\"user_id\"].unique()[min:max],\n",
    "    })\n",
    "    df_final[\"predictions\"] = df_final[\"user_id\"].apply(recommend_for_user)\n",
    "    name = f\"user_predictions{num}.csv\"\n",
    "    print(name, flush=True)\n",
    "    df_final.to_csv(name, index=False)\n",
    "\n",
    "processes = []\n",
    "\n",
    "solve_and_save(0, 20000, 10)\n",
    "\n",
    "''' for i, min_idx in enumerate(range(0, 20000, 20000)):\n",
    "    max_idx = min(min_idx + 20000, 868218)\n",
    "    p = Process(target=solve_and_save, args=(min_idx, max_idx, i))\n",
    "    processes.append(p)\n",
    "    p.start()\n",
    " '''\n",
    "# Optional: Wait for all to finish\n",
    "# for p in processes:\n",
    "    # p.join()"
   ]
  },
  {
   "cell_type": "code",
   "execution_count": null,
   "id": "06280f1b",
   "metadata": {},
   "outputs": [
    {
     "name": "stderr",
     "output_type": "stream",
     "text": [
      "  0%|          | 0/868218 [00:00<?, ?it/s]"
     ]
    },
    {
     "name": "stderr",
     "output_type": "stream",
     "text": [
      "  0%|          | 2/868218 [00:00<18:38:27, 12.94it/s]"
     ]
    },
    {
     "name": "stdout",
     "output_type": "stream",
     "text": [
      "[0.03262974 0.26607072 0.23708686 ... 0.         0.04430078 0.02940371]\n",
      "[0.01633298 0.17650924 0.15808626 ... 0.01631689 0.02221824 0.01469989]\n",
      "[0.0096187  0.17099702 0.15624592 ... 0.         0.03250344 0.01602827]\n"
     ]
    },
    {
     "name": "stderr",
     "output_type": "stream",
     "text": [
      "  0%|          | 6/868218 [00:00<16:45:57, 14.38it/s]"
     ]
    },
    {
     "name": "stdout",
     "output_type": "stream",
     "text": [
      "[0.01320169 0.27133719 0.24773484 ... 0.01114314 0.03782189 0.02583157]\n",
      "[0.0086747  0.17611851 0.16643569 ... 0.         0.02141305 0.02617324]\n",
      "[0.01198627 0.14670529 0.14372686 ... 0.00807202 0.02046561 0.01483715]\n"
     ]
    },
    {
     "name": "stderr",
     "output_type": "stream",
     "text": [
      "  0%|          | 8/868218 [00:00<16:37:29, 14.51it/s]"
     ]
    },
    {
     "name": "stdout",
     "output_type": "stream",
     "text": [
      "[0.03905656 0.17877993 0.17220132 ... 0.00878383 0.02398865 0.04048885]\n",
      "[0.01435695 0.19963658 0.18900041 ... 0.         0.0664622  0.04127724]\n",
      "[0.01108921 0.13427573 0.12775216 ... 0.         0.00932788 0.01942439]\n"
     ]
    },
    {
     "name": "stderr",
     "output_type": "stream",
     "text": [
      "  0%|          | 12/868218 [00:00<16:36:44, 14.52it/s]"
     ]
    },
    {
     "name": "stdout",
     "output_type": "stream",
     "text": [
      "[0.00595478 0.17758056 0.16412946 ... 0.         0.05276875 0.01414534]\n",
      "[0.00544311 0.09537965 0.09367762 ... 0.         0.01681415 0.00726521]\n",
      "[0.00564856 0.13351603 0.11157513 ... 0.         0.04349156 0.00875967]\n"
     ]
    },
    {
     "name": "stderr",
     "output_type": "stream",
     "text": [
      "  0%|          | 14/868218 [00:00<17:35:44, 13.71it/s]"
     ]
    },
    {
     "name": "stdout",
     "output_type": "stream",
     "text": [
      "[0.00517381 0.14311056 0.13227932 ... 0.         0.00430018 0.01487099]\n",
      "[0.01613955 0.13278847 0.12019388 ... 0.01811775 0.01431049 0.01348773]\n",
      "[0.01221536 0.12145256 0.11560576 ... 0.         0.018158   0.01074173]\n"
     ]
    },
    {
     "name": "stderr",
     "output_type": "stream",
     "text": [
      "  0%|          | 18/868218 [00:01<17:05:49, 14.11it/s]"
     ]
    },
    {
     "name": "stdout",
     "output_type": "stream",
     "text": [
      "[0.00779677 0.12060738 0.11318984 ... 0.         0.01360362 0.0146934 ]\n",
      "[0.00783234 0.10160971 0.09098797 ... 0.         0.03351973 0.03029852]\n",
      "[0.00365706 0.06318517 0.05753997 ... 0.         0.00760238 0.01855165]\n"
     ]
    },
    {
     "name": "stderr",
     "output_type": "stream",
     "text": [
      "  0%|          | 20/868218 [00:01<16:58:38, 14.21it/s]"
     ]
    },
    {
     "name": "stdout",
     "output_type": "stream",
     "text": [
      "[0.0107084  0.18748513 0.15320233 ... 0.         0.01181622 0.01173234]\n",
      "[0.00604733 0.07304244 0.0745441  ... 0.         0.00270143 0.00422441]\n",
      "[0.04064729 0.17046108 0.16592273 ... 0.         0.01711834 0.03237258]\n"
     ]
    },
    {
     "name": "stderr",
     "output_type": "stream",
     "text": [
      "  0%|          | 24/868218 [00:01<16:43:38, 14.42it/s]"
     ]
    },
    {
     "name": "stdout",
     "output_type": "stream",
     "text": [
      "[0.00790535 0.10363285 0.08208689 ... 0.         0.00154026 0.00997139]\n",
      "[0.01058588 0.13227845 0.12296998 ... 0.         0.01679743 0.0142132 ]\n",
      "[0.01197322 0.18636728 0.17193869 ... 0.         0.01496307 0.02076039]\n"
     ]
    },
    {
     "name": "stderr",
     "output_type": "stream",
     "text": [
      "  0%|          | 26/868218 [00:01<16:32:23, 14.58it/s]"
     ]
    },
    {
     "name": "stdout",
     "output_type": "stream",
     "text": [
      "[0.00534008 0.08181119 0.07107588 ... 0.         0.0781828  0.02391739]\n",
      "[0.00719368 0.22526039 0.21807369 ... 0.         0.02299816 0.03108636]\n",
      "[0.01045479 0.16085883 0.13987906 ... 0.         0.01440143 0.01830454]\n"
     ]
    },
    {
     "name": "stderr",
     "output_type": "stream",
     "text": [
      "  0%|          | 30/868218 [00:02<16:30:40, 14.61it/s]"
     ]
    },
    {
     "name": "stdout",
     "output_type": "stream",
     "text": [
      "[0.0132486  0.19585466 0.18529732 ... 0.         0.02089673 0.01853269]\n",
      "[0.01108551 0.22514569 0.20157834 ... 0.         0.08124576 0.03271197]\n",
      "[0.00585687 0.19535303 0.17744816 ... 0.         0.04023602 0.01793702]\n"
     ]
    },
    {
     "name": "stderr",
     "output_type": "stream",
     "text": [
      "  0%|          | 32/868218 [00:02<16:18:35, 14.79it/s]"
     ]
    },
    {
     "name": "stdout",
     "output_type": "stream",
     "text": [
      "[0.00777139 0.13755595 0.12038206 ... 0.085401   0.07972607 0.04148528]\n",
      "[0.04757424 0.26863058 0.25527421 ... 0.         0.0317004  0.03703866]\n",
      "[0.02144037 0.19162987 0.17606185 ... 0.         0.01367171 0.02515469]\n",
      "[0.03554471 0.11612825 0.09185895 ... 0.         0.01470955 0.00973113]\n"
     ]
    },
    {
     "name": "stderr",
     "output_type": "stream",
     "text": [
      "  0%|          | 36/868218 [00:02<16:15:28, 14.83it/s]"
     ]
    },
    {
     "name": "stdout",
     "output_type": "stream",
     "text": [
      "[0.0071294  0.10200256 0.09711066 ... 0.02100078 0.01776547 0.01384928]\n",
      "[0.00761914 0.116639   0.10682435 ... 0.         0.0198397  0.01500904]\n",
      "[0.01424818 0.17508034 0.17512632 ... 0.         0.01631972 0.01427681]\n",
      "[0.01702691 0.19421896 0.17244576 ... 0.13975811 0.02370003 0.06003532]\n"
     ]
    },
    {
     "name": "stderr",
     "output_type": "stream",
     "text": [
      "  0%|          | 40/868218 [00:02<16:25:30, 14.68it/s]"
     ]
    },
    {
     "name": "stdout",
     "output_type": "stream",
     "text": [
      "[0.01540204 0.23612669 0.2293917  ... 0.         0.03679435 0.02196918]\n",
      "[0.00954055 0.13568649 0.12138949 ... 0.         0.03005626 0.01291602]\n",
      "[0.01681133 0.15336591 0.13490409 ... 0.         0.01244215 0.01009638]\n"
     ]
    },
    {
     "name": "stderr",
     "output_type": "stream",
     "text": [
      "  0%|          | 44/868218 [00:03<16:35:18, 14.54it/s]"
     ]
    },
    {
     "name": "stdout",
     "output_type": "stream",
     "text": [
      "[0.0114536  0.13874786 0.12715736 ... 0.         0.01519939 0.02113413]\n",
      "[0.02051875 0.20582207 0.20315406 ... 0.         0.0376872  0.01828611]\n",
      "[0.01139108 0.16766276 0.16201541 ... 0.03225805 0.00967308 0.0161963 ]\n"
     ]
    },
    {
     "name": "stderr",
     "output_type": "stream",
     "text": [
      "  0%|          | 46/868218 [00:03<16:34:38, 14.55it/s]"
     ]
    },
    {
     "name": "stdout",
     "output_type": "stream",
     "text": [
      "[0.01095511 0.13111026 0.12911858 ... 0.         0.04747114 0.01367968]\n",
      "[0.01161666 0.17724164 0.16233199 ... 0.         0.03614753 0.01833617]\n",
      "[0.01089599 0.14755735 0.1586667  ... 0.         0.09489855 0.02257999]\n"
     ]
    },
    {
     "name": "stderr",
     "output_type": "stream",
     "text": [
      "  0%|          | 50/868218 [00:03<16:29:52, 14.62it/s]"
     ]
    },
    {
     "name": "stdout",
     "output_type": "stream",
     "text": [
      "[0.0223437  0.27106663 0.24179812 ... 0.         0.06194852 0.02492527]\n",
      "[0.01658306 0.21923155 0.21056457 ... 0.         0.03786568 0.02371308]\n",
      "[0.0145134  0.17248006 0.15500765 ... 0.02244562 0.02865877 0.02694962]\n"
     ]
    },
    {
     "name": "stderr",
     "output_type": "stream",
     "text": [
      "  0%|          | 52/868218 [00:03<16:40:42, 14.46it/s]"
     ]
    },
    {
     "name": "stdout",
     "output_type": "stream",
     "text": [
      "[0.02055782 0.20990862 0.19267628 ... 0.         0.0107516  0.01811462]\n",
      "[0.01505864 0.18265572 0.18017916 ... 0.         0.02472183 0.01400189]\n",
      "[0.00786334 0.15193392 0.1500559  ... 0.         0.02747703 0.01350305]\n"
     ]
    },
    {
     "name": "stderr",
     "output_type": "stream",
     "text": [
      "  0%|          | 56/868218 [00:03<16:57:57, 14.21it/s]"
     ]
    },
    {
     "name": "stdout",
     "output_type": "stream",
     "text": [
      "[0.01250925 0.24335309 0.22171258 ... 0.         0.04204182 0.02050295]\n",
      "[0.04447932 0.19091594 0.18612908 ... 0.         0.01455892 0.03008465]\n",
      "[0.03540562 0.17199529 0.16986755 ... 0.         0.017509   0.01544957]\n"
     ]
    },
    {
     "name": "stderr",
     "output_type": "stream",
     "text": [
      "  0%|          | 58/868218 [00:04<17:17:04, 13.95it/s]"
     ]
    },
    {
     "name": "stdout",
     "output_type": "stream",
     "text": [
      "[0.01698618 0.12847037 0.12438036 ... 0.         0.0155368  0.0188525 ]\n",
      "[0.00914151 0.19689928 0.19058809 ... 0.         0.01902134 0.01469916]\n",
      "[0.01116618 0.2009211  0.19024648 ... 0.         0.04938597 0.01912365]\n"
     ]
    },
    {
     "name": "stderr",
     "output_type": "stream",
     "text": [
      "  0%|          | 62/868218 [00:04<17:23:18, 13.87it/s]"
     ]
    },
    {
     "name": "stdout",
     "output_type": "stream",
     "text": [
      "[0.01541286 0.20792494 0.17056971 ... 0.         0.02659958 0.01434357]\n",
      "[0.01447097 0.16648374 0.15636093 ... 0.         0.01655106 0.01521448]\n",
      "[0.01625024 0.18044822 0.16999529 ... 0.         0.03659247 0.01404576]\n"
     ]
    },
    {
     "name": "stderr",
     "output_type": "stream",
     "text": [
      "  0%|          | 64/868218 [00:04<17:43:04, 13.61it/s]"
     ]
    },
    {
     "name": "stdout",
     "output_type": "stream",
     "text": [
      "[0.00459549 0.09662743 0.09319927 ... 0.         0.00913197 0.01314975]\n",
      "[0.00768114 0.21724851 0.1953599  ... 0.         0.05341669 0.01946864]\n",
      "[0.0133031  0.16113241 0.15412042 ... 0.         0.0107595  0.0251766 ]\n"
     ]
    },
    {
     "name": "stderr",
     "output_type": "stream",
     "text": [
      "  0%|          | 68/868218 [00:04<17:16:52, 13.95it/s]"
     ]
    },
    {
     "name": "stdout",
     "output_type": "stream",
     "text": [
      "[0.0066792  0.15653563 0.14580761 ... 0.         0.0145431  0.0214765 ]\n",
      "[0.01503641 0.18697619 0.17741511 ... 0.         0.02877782 0.01845913]\n",
      "[0.00967377 0.13452621 0.1245089  ... 0.00971004 0.01106254 0.03280815]\n"
     ]
    },
    {
     "name": "stderr",
     "output_type": "stream",
     "text": [
      "  0%|          | 70/868218 [00:04<17:06:05, 14.10it/s]"
     ]
    },
    {
     "name": "stdout",
     "output_type": "stream",
     "text": [
      "[0.06015275 0.16716908 0.16280349 ... 0.         0.01295348 0.01364857]\n",
      "[0.01085292 0.17503422 0.16611993 ... 0.         0.02527994 0.01592148]\n",
      "[0.01160498 0.13893774 0.13359482 ... 0.02392706 0.01535752 0.01661055]\n"
     ]
    },
    {
     "name": "stderr",
     "output_type": "stream",
     "text": [
      "  0%|          | 74/868218 [00:05<18:09:24, 13.28it/s]"
     ]
    },
    {
     "name": "stdout",
     "output_type": "stream",
     "text": [
      "[0.00624304 0.15740273 0.1368003  ... 0.         0.02268954 0.02104176]\n",
      "[0.0124288  0.17437608 0.17578334 ... 0.         0.01147423 0.00699756]\n",
      "[0.00790249 0.20123171 0.19895823 ... 0.         0.04710885 0.03576004]\n"
     ]
    },
    {
     "name": "stderr",
     "output_type": "stream",
     "text": [
      "  0%|          | 76/868218 [00:05<18:15:02, 13.21it/s]"
     ]
    },
    {
     "name": "stdout",
     "output_type": "stream",
     "text": [
      "[0.00909014 0.17095144 0.14764886 ... 0.         0.0214708  0.01087857]\n",
      "[0.0475233  0.21343905 0.2206973  ... 0.         0.09374698 0.02929522]\n",
      "[0.01023084 0.19017518 0.1695971  ... 0.         0.01880308 0.01439594]\n"
     ]
    },
    {
     "name": "stderr",
     "output_type": "stream",
     "text": [
      "  0%|          | 80/868218 [00:05<17:57:46, 13.42it/s]"
     ]
    },
    {
     "name": "stdout",
     "output_type": "stream",
     "text": [
      "[0.01457928 0.19537675 0.18508121 ... 0.         0.01552655 0.02312031]\n",
      "[0.04443807 0.22734023 0.22329802 ... 0.         0.01559078 0.02863726]\n",
      "[0.01327233 0.2500625  0.22780556 ... 0.         0.03877025 0.0256141 ]\n"
     ]
    },
    {
     "name": "stderr",
     "output_type": "stream",
     "text": [
      "  0%|          | 82/868218 [00:05<17:47:13, 13.56it/s]"
     ]
    },
    {
     "name": "stdout",
     "output_type": "stream",
     "text": [
      "[0.00215075 0.02648928 0.02583852 ... 0.         0.00552306 0.02338546]\n",
      "[0.02951938 0.25473955 0.23029599 ... 0.         0.03243405 0.02793487]\n",
      "[0.00989634 0.06153102 0.06562913 ... 0.         0.00221767 0.00532562]\n"
     ]
    },
    {
     "name": "stderr",
     "output_type": "stream",
     "text": [
      "  0%|          | 86/868218 [00:06<17:52:50, 13.49it/s]"
     ]
    },
    {
     "name": "stdout",
     "output_type": "stream",
     "text": [
      "[0.01105557 0.15183209 0.14855987 ... 0.         0.02043899 0.01516944]\n",
      "[0.01560844 0.18895766 0.16957022 ... 0.         0.04931495 0.01154709]\n",
      "[0.01692132 0.22279716 0.22201056 ... 0.         0.0078477  0.01026395]\n"
     ]
    },
    {
     "name": "stderr",
     "output_type": "stream",
     "text": [
      "  0%|          | 88/868218 [00:06<18:05:06, 13.33it/s]"
     ]
    },
    {
     "name": "stdout",
     "output_type": "stream",
     "text": [
      "[0.00707571 0.17098317 0.16750838 ... 0.03139672 0.03837213 0.03687268]\n",
      "[0.01150735 0.16746472 0.17738432 ... 0.         0.01904888 0.01838731]\n",
      "[0.00873085 0.20856354 0.20935156 ... 0.         0.02311912 0.02209202]\n"
     ]
    },
    {
     "name": "stderr",
     "output_type": "stream",
     "text": [
      "  0%|          | 92/868218 [00:06<17:50:22, 13.52it/s]"
     ]
    },
    {
     "name": "stdout",
     "output_type": "stream",
     "text": [
      "[0.00484697 0.11512092 0.10616387 ... 0.         0.02891117 0.00641577]\n",
      "[0.03930981 0.19599658 0.19221403 ... 0.         0.02361456 0.02600718]\n",
      "[0.01932696 0.10723858 0.11388348 ... 0.         0.04425382 0.01193814]\n"
     ]
    },
    {
     "name": "stderr",
     "output_type": "stream",
     "text": [
      "  0%|          | 94/868218 [00:06<17:27:57, 13.81it/s]"
     ]
    },
    {
     "name": "stdout",
     "output_type": "stream",
     "text": [
      "[0.01782249 0.17597954 0.18441815 ... 0.         0.03386516 0.01466542]\n",
      "[0.00397179 0.07641048 0.08933529 ... 0.         0.00071226 0.01235236]\n",
      "[0.0055059  0.15688444 0.15095161 ... 0.         0.01298174 0.02977911]\n"
     ]
    },
    {
     "name": "stderr",
     "output_type": "stream",
     "text": [
      "  0%|          | 98/868218 [00:06<16:53:26, 14.28it/s]"
     ]
    },
    {
     "name": "stdout",
     "output_type": "stream",
     "text": [
      "[0.01329964 0.18692603 0.18972558 ... 0.         0.01125048 0.0198031 ]\n",
      "[0.01589483 0.22143264 0.21096207 ... 0.         0.02414313 0.03607398]\n",
      "[0.0297153  0.18496974 0.18905376 ... 0.         0.04171972 0.02049408]\n"
     ]
    },
    {
     "name": "stderr",
     "output_type": "stream",
     "text": [
      "  0%|          | 100/868218 [00:07<16:45:42, 14.39it/s]"
     ]
    },
    {
     "name": "stdout",
     "output_type": "stream",
     "text": [
      "[0.04030851 0.12483651 0.12140245 ... 0.         0.01590085 0.00949776]\n",
      "[0.00834902 0.16630196 0.13983678 ... 0.         0.04032593 0.03127466]\n",
      "[0.01190152 0.23516791 0.21871566 ... 0.         0.03777663 0.01614492]\n"
     ]
    },
    {
     "name": "stderr",
     "output_type": "stream",
     "text": [
      "  0%|          | 104/868218 [00:07<16:33:11, 14.57it/s]"
     ]
    },
    {
     "name": "stdout",
     "output_type": "stream",
     "text": [
      "[0.01066214 0.10154479 0.07923299 ... 0.         0.01139795 0.02095604]\n",
      "[0.00786976 0.13442638 0.11630956 ... 0.         0.0548209  0.01040385]\n",
      "[0.03319079 0.23111168 0.20914104 ... 0.         0.02199227 0.03167722]\n"
     ]
    },
    {
     "name": "stderr",
     "output_type": "stream",
     "text": [
      "  0%|          | 106/868218 [00:07<16:25:29, 14.68it/s]"
     ]
    },
    {
     "name": "stdout",
     "output_type": "stream",
     "text": [
      "[0.0294531  0.09044142 0.08923589 ... 0.         0.01192637 0.01404346]\n",
      "[0.00913999 0.18503639 0.16084847 ... 0.         0.06151502 0.02560543]\n",
      "[0.01739911 0.2372787  0.210427   ... 0.         0.03746597 0.02931633]\n"
     ]
    },
    {
     "name": "stderr",
     "output_type": "stream",
     "text": [
      "  0%|          | 110/868218 [00:07<16:27:52, 14.65it/s]"
     ]
    },
    {
     "name": "stdout",
     "output_type": "stream",
     "text": [
      "[0.0069805  0.17206915 0.15251403 ... 0.         0.03593213 0.01181485]\n",
      "[0.00425255 0.15022536 0.13807675 ... 0.         0.01677    0.01416443]\n",
      "[0.01510331 0.16380375 0.15677585 ... 0.0118376  0.02976843 0.01997665]\n"
     ]
    },
    {
     "name": "stderr",
     "output_type": "stream",
     "text": [
      "  0%|          | 112/868218 [00:07<16:36:24, 14.52it/s]"
     ]
    },
    {
     "name": "stdout",
     "output_type": "stream",
     "text": [
      "[0.00641604 0.15801562 0.14173062 ... 0.         0.01655556 0.01465379]\n",
      "[0.01888482 0.19205059 0.16900954 ... 0.03913434 0.0208016  0.01825314]\n",
      "[0.02729663 0.15787397 0.14345739 ... 0.         0.03061759 0.02567683]\n"
     ]
    },
    {
     "name": "stderr",
     "output_type": "stream",
     "text": [
      "  0%|          | 116/868218 [00:08<16:52:10, 14.29it/s]"
     ]
    },
    {
     "name": "stdout",
     "output_type": "stream",
     "text": [
      "[0.01897899 0.26478458 0.23710526 ... 0.         0.03285627 0.04134991]\n",
      "[0.01836862 0.20625843 0.18703071 ... 0.         0.01899377 0.01760669]\n",
      "[0.00848796 0.09438631 0.11202849 ... 0.         0.09327973 0.01393994]\n"
     ]
    },
    {
     "name": "stderr",
     "output_type": "stream",
     "text": [
      "  0%|          | 118/868218 [00:08<16:52:09, 14.29it/s]"
     ]
    },
    {
     "name": "stdout",
     "output_type": "stream",
     "text": [
      "[0.01423853 0.22989694 0.21229835 ... 0.00381893 0.02672784 0.02438068]\n",
      "[0.03440199 0.17765004 0.16916211 ... 0.         0.01056323 0.02806292]\n",
      "[0.01284989 0.17660473 0.15148406 ... 0.         0.04067872 0.01562291]\n"
     ]
    },
    {
     "name": "stderr",
     "output_type": "stream",
     "text": [
      "  0%|          | 122/868218 [00:08<16:50:24, 14.32it/s]"
     ]
    },
    {
     "name": "stdout",
     "output_type": "stream",
     "text": [
      "[0.00932952 0.15290629 0.13670318 ... 0.         0.01642875 0.01057306]\n",
      "[0.00866912 0.12090135 0.11460128 ... 0.         0.01620606 0.01838826]\n",
      "[0.01576817 0.1992447  0.19236254 ... 0.         0.0182902  0.02129358]\n"
     ]
    },
    {
     "name": "stderr",
     "output_type": "stream",
     "text": [
      "  0%|          | 124/868218 [00:08<16:48:34, 14.35it/s]"
     ]
    },
    {
     "name": "stdout",
     "output_type": "stream",
     "text": [
      "[0.01465555 0.08684558 0.08827902 ... 0.         0.00755477 0.00539485]\n",
      "[0.00992662 0.18301853 0.16862997 ... 0.         0.04164087 0.01682055]\n",
      "[0.02536094 0.25632182 0.24336185 ... 0.         0.02823258 0.0398607 ]\n"
     ]
    },
    {
     "name": "stderr",
     "output_type": "stream",
     "text": [
      "  0%|          | 128/868218 [00:09<16:42:28, 14.43it/s]"
     ]
    },
    {
     "name": "stdout",
     "output_type": "stream",
     "text": [
      "[0.01191314 0.17409823 0.15555893 ... 0.         0.07702219 0.02407757]\n",
      "[0.01209869 0.13700368 0.13352318 ... 0.         0.00819064 0.02209284]\n",
      "[0.01250716 0.15479564 0.14072526 ... 0.         0.02770033 0.00666991]\n"
     ]
    },
    {
     "name": "stderr",
     "output_type": "stream",
     "text": [
      "  0%|          | 130/868218 [00:09<16:33:59, 14.56it/s]"
     ]
    },
    {
     "name": "stdout",
     "output_type": "stream",
     "text": [
      "[0.03696224 0.19228062 0.18927627 ... 0.         0.02686934 0.0206863 ]\n",
      "[0.00838913 0.15482342 0.13504651 ... 0.         0.03555515 0.01608156]\n",
      "[0.01819004 0.19523812 0.19978335 ... 0.         0.01713618 0.01949531]\n"
     ]
    },
    {
     "name": "stderr",
     "output_type": "stream",
     "text": [
      "  0%|          | 134/868218 [00:09<16:41:40, 14.44it/s]"
     ]
    },
    {
     "name": "stdout",
     "output_type": "stream",
     "text": [
      "[0.00603708 0.14497052 0.12717869 ... 0.         0.0375268  0.01061759]\n",
      "[0.00954625 0.14208463 0.12593812 ... 0.         0.01674193 0.01222564]\n",
      "[0.00924437 0.1265486  0.1133157  ... 0.02232389 0.01579304 0.01570542]\n"
     ]
    },
    {
     "name": "stderr",
     "output_type": "stream",
     "text": [
      "  0%|          | 136/868218 [00:09<17:01:38, 14.16it/s]"
     ]
    },
    {
     "name": "stdout",
     "output_type": "stream",
     "text": [
      "[0.00920025 0.10533496 0.09193846 ... 0.         0.01040507 0.00344024]\n",
      "[0.01911923 0.22861623 0.20486507 ... 0.         0.03505432 0.0149753 ]\n",
      "[0.02403588 0.27923816 0.26676735 ... 0.         0.04367417 0.03106897]\n"
     ]
    },
    {
     "name": "stderr",
     "output_type": "stream",
     "text": [
      "  0%|          | 140/868218 [00:09<17:48:14, 13.54it/s]"
     ]
    },
    {
     "name": "stdout",
     "output_type": "stream",
     "text": [
      "[0.00857523 0.13225412 0.11067379 ... 0.         0.0133592  0.02078245]\n",
      "[0.0152548  0.20719431 0.18533043 ... 0.         0.03730908 0.01510059]\n",
      "[0.01540833 0.23202435 0.21367698 ... 0.         0.03881606 0.0199079 ]\n"
     ]
    },
    {
     "name": "stderr",
     "output_type": "stream",
     "text": [
      "  0%|          | 142/868218 [00:10<17:47:54, 13.55it/s]"
     ]
    },
    {
     "name": "stdout",
     "output_type": "stream",
     "text": [
      "[0.00740477 0.07905915 0.07221167 ... 0.         0.11376187 0.00849114]\n",
      "[0.01217461 0.17217564 0.16852632 ... 0.         0.01311631 0.01428524]\n",
      "[0.01411709 0.18584611 0.16959951 ... 0.         0.02255766 0.01097783]\n"
     ]
    },
    {
     "name": "stderr",
     "output_type": "stream",
     "text": [
      "  0%|          | 146/868218 [00:10<17:34:28, 13.72it/s]"
     ]
    },
    {
     "name": "stdout",
     "output_type": "stream",
     "text": [
      "[0.0094673  0.13854713 0.13019931 ... 0.         0.02699669 0.01012344]\n",
      "[0.00815989 0.16890525 0.1599957  ... 0.         0.02463993 0.01026794]\n",
      "[0.02359811 0.12415557 0.11562244 ... 0.         0.0157286  0.01040579]\n"
     ]
    },
    {
     "name": "stderr",
     "output_type": "stream",
     "text": [
      "  0%|          | 148/868218 [00:10<17:17:38, 13.94it/s]"
     ]
    },
    {
     "name": "stdout",
     "output_type": "stream",
     "text": [
      "[0.02389151 0.16036629 0.17052505 ... 0.         0.00632887 0.01018943]\n",
      "[0.05390038 0.14787583 0.11608505 ... 0.01240363 0.02698416 0.01536968]\n",
      "[0.01165351 0.16977983 0.15077954 ... 0.         0.0329595  0.01223776]\n"
     ]
    },
    {
     "name": "stderr",
     "output_type": "stream",
     "text": [
      "  0%|          | 152/868218 [00:10<17:06:45, 14.09it/s]"
     ]
    },
    {
     "name": "stdout",
     "output_type": "stream",
     "text": [
      "[0.02059232 0.23219452 0.21003705 ... 0.         0.02050584 0.022609  ]\n",
      "[0.00554053 0.11556323 0.10072672 ... 0.         0.02738811 0.018449  ]\n",
      "[0.0177575  0.19357719 0.18323604 ... 0.         0.02907009 0.02608425]\n"
     ]
    },
    {
     "name": "stderr",
     "output_type": "stream",
     "text": [
      "  0%|          | 154/868218 [00:10<17:12:31, 14.01it/s]"
     ]
    },
    {
     "name": "stdout",
     "output_type": "stream",
     "text": [
      "[0.01474592 0.19963944 0.19109356 ... 0.         0.01881604 0.00861084]\n",
      "[0.00739849 0.15541937 0.13789335 ... 0.         0.01163088 0.01278278]\n",
      "[0.00538631 0.05333641 0.02106969 ... 0.         0.09480525 0.00154371]\n"
     ]
    },
    {
     "name": "stderr",
     "output_type": "stream",
     "text": [
      "  0%|          | 158/868218 [00:11<17:21:22, 13.89it/s]"
     ]
    },
    {
     "name": "stdout",
     "output_type": "stream",
     "text": [
      "[0.01390094 0.14986827 0.14003679 ... 0.         0.01724665 0.01134036]\n",
      "[0.02534261 0.14473934 0.13120491 ... 0.         0.05558232 0.03578092]\n",
      "[0.01412978 0.23730913 0.19726709 ... 0.         0.06462459 0.01929121]\n"
     ]
    },
    {
     "name": "stderr",
     "output_type": "stream",
     "text": [
      "  0%|          | 160/868218 [00:11<17:24:15, 13.85it/s]"
     ]
    },
    {
     "name": "stdout",
     "output_type": "stream",
     "text": [
      "[0.00446225 0.07991689 0.08138856 ... 0.         0.00997358 0.00679974]\n",
      "[0.03516943 0.09883645 0.10231431 ... 0.         0.01604375 0.00754186]\n",
      "[0.01022047 0.1461175  0.14090884 ... 0.         0.01451872 0.00905217]\n"
     ]
    },
    {
     "name": "stderr",
     "output_type": "stream",
     "text": [
      "  0%|          | 164/868218 [00:11<17:30:13, 13.78it/s]"
     ]
    },
    {
     "name": "stdout",
     "output_type": "stream",
     "text": [
      "[0.01112509 0.10077534 0.09676326 ... 0.         0.00714048 0.00501043]\n",
      "[0.00779945 0.21726668 0.19380173 ... 0.         0.02769573 0.014679  ]\n",
      "[0.01693541 0.20404647 0.18930399 ... 0.         0.04994234 0.01638584]\n"
     ]
    },
    {
     "name": "stderr",
     "output_type": "stream",
     "text": [
      "  0%|          | 166/868218 [00:11<17:26:03, 13.83it/s]"
     ]
    },
    {
     "name": "stdout",
     "output_type": "stream",
     "text": [
      "[0.01717846 0.12296424 0.12670663 ... 0.         0.01251384 0.02018125]\n",
      "[0.00990945 0.15067997 0.12955759 ... 0.         0.02140318 0.01561258]\n",
      "[0.01811477 0.25127579 0.23251664 ... 0.         0.03114293 0.03696842]\n"
     ]
    },
    {
     "name": "stderr",
     "output_type": "stream",
     "text": [
      "  0%|          | 170/868218 [00:12<17:08:04, 14.07it/s]"
     ]
    },
    {
     "name": "stdout",
     "output_type": "stream",
     "text": [
      "[0.01230362 0.18816168 0.17753721 ... 0.         0.02906507 0.02304695]\n",
      "[0.00974871 0.15257491 0.15448695 ... 0.         0.0075336  0.00471518]\n",
      "[0.02310998 0.23955294 0.21870948 ... 0.         0.04309589 0.02800453]\n"
     ]
    },
    {
     "name": "stderr",
     "output_type": "stream",
     "text": [
      "  0%|          | 172/868218 [00:12<17:00:22, 14.18it/s]"
     ]
    },
    {
     "name": "stdout",
     "output_type": "stream",
     "text": [
      "[0.03493031 0.15794415 0.16301396 ... 0.02413349 0.0160969  0.01484776]\n",
      "[0.01282035 0.23358296 0.19587463 ... 0.         0.05288427 0.02027565]\n",
      "[0.01100937 0.15183466 0.13986905 ... 0.         0.0081354  0.04744163]\n"
     ]
    },
    {
     "name": "stderr",
     "output_type": "stream",
     "text": [
      "  0%|          | 176/868218 [00:12<16:47:49, 14.36it/s]"
     ]
    },
    {
     "name": "stdout",
     "output_type": "stream",
     "text": [
      "[0.01125704 0.15155358 0.14378547 ... 0.00150222 0.01882891 0.02313704]\n",
      "[0.00980707 0.08835993 0.1098039  ... 0.         0.01744077 0.02962452]\n",
      "[0.01032335 0.13236329 0.12216535 ... 0.         0.02076419 0.01199246]\n"
     ]
    },
    {
     "name": "stderr",
     "output_type": "stream",
     "text": [
      "  0%|          | 178/868218 [00:12<17:34:52, 13.71it/s]"
     ]
    },
    {
     "name": "stdout",
     "output_type": "stream",
     "text": [
      "[0.02243071 0.23820773 0.21912364 ... 0.         0.03323379 0.02752199]\n",
      "[0.01151392 0.17756182 0.17613286 ... 0.00502547 0.02234145 0.04072306]\n",
      "[0.00818867 0.08336009 0.09070149 ... 0.         0.01233159 0.01716326]\n"
     ]
    },
    {
     "name": "stderr",
     "output_type": "stream",
     "text": [
      "  0%|          | 182/868218 [00:12<17:43:15, 13.61it/s]"
     ]
    },
    {
     "name": "stdout",
     "output_type": "stream",
     "text": [
      "[0.01582579 0.19024649 0.16579649 ... 0.         0.01695077 0.04274404]\n",
      "[0.01152795 0.16333574 0.1636298  ... 0.         0.02371695 0.03351818]\n",
      "[0.02211332 0.13548099 0.12734522 ... 0.         0.00862811 0.00816252]\n"
     ]
    },
    {
     "name": "stderr",
     "output_type": "stream",
     "text": [
      "  0%|          | 184/868218 [00:13<17:40:35, 13.64it/s]"
     ]
    },
    {
     "name": "stdout",
     "output_type": "stream",
     "text": [
      "[0.00944058 0.11291292 0.1044146  ... 0.         0.03691015 0.01548969]\n",
      "[0.01547161 0.20148727 0.1906118  ... 0.         0.02763548 0.02197389]\n",
      "[0.01101071 0.22153891 0.20764239 ... 0.         0.03682273 0.01721824]\n"
     ]
    },
    {
     "name": "stderr",
     "output_type": "stream",
     "text": [
      "  0%|          | 188/868218 [00:13<17:04:02, 14.13it/s]"
     ]
    },
    {
     "name": "stdout",
     "output_type": "stream",
     "text": [
      "[0.00362241 0.07354802 0.0704485  ... 0.         0.00556278 0.004863  ]\n",
      "[0.00695345 0.1057284  0.11750894 ... 0.         0.06536754 0.0100458 ]\n",
      "[0.01528344 0.12162359 0.11820166 ... 0.         0.00870191 0.01008706]\n"
     ]
    },
    {
     "name": "stderr",
     "output_type": "stream",
     "text": [
      "  0%|          | 190/868218 [00:13<17:12:09, 14.02it/s]"
     ]
    },
    {
     "name": "stdout",
     "output_type": "stream",
     "text": [
      "[0.00822222 0.19575492 0.1747567  ... 0.00736959 0.02749724 0.02942015]\n",
      "[0.00839598 0.12601563 0.1243389  ... 0.         0.01489909 0.01027327]\n",
      "[0.01130428 0.18847854 0.17136231 ... 0.         0.01759045 0.02009951]\n"
     ]
    },
    {
     "name": "stderr",
     "output_type": "stream",
     "text": [
      "  0%|          | 194/868218 [00:13<17:25:15, 13.84it/s]"
     ]
    },
    {
     "name": "stdout",
     "output_type": "stream",
     "text": [
      "[0.0058429  0.17489861 0.17240798 ... 0.         0.02701404 0.02473536]\n",
      "[0.02901224 0.19846391 0.19145377 ... 0.         0.01614483 0.02702552]\n",
      "[0.0098479  0.21067872 0.18507348 ... 0.         0.0459374  0.02862878]\n"
     ]
    },
    {
     "name": "stderr",
     "output_type": "stream",
     "text": [
      "  0%|          | 196/868218 [00:13<17:51:17, 13.50it/s]"
     ]
    },
    {
     "name": "stdout",
     "output_type": "stream",
     "text": [
      "[0.00942924 0.14590829 0.14782026 ... 0.         0.0175308  0.03155465]\n",
      "[0.01170943 0.09681925 0.0886307  ... 0.         0.00768795 0.01146012]\n",
      "[0.02366021 0.24041117 0.21465881 ... 0.03386601 0.04051511 0.02358573]\n"
     ]
    },
    {
     "name": "stderr",
     "output_type": "stream",
     "text": [
      "  0%|          | 200/868218 [00:14<17:40:23, 13.64it/s]"
     ]
    },
    {
     "name": "stdout",
     "output_type": "stream",
     "text": [
      "[0.02592307 0.2742752  0.25127054 ... 0.         0.04081123 0.03660211]\n",
      "[0.00927381 0.17956352 0.18295194 ... 0.00762829 0.03378223 0.02595309]\n",
      "[0.01172267 0.27505982 0.24189678 ... 0.         0.05052719 0.0241257 ]\n"
     ]
    },
    {
     "name": "stderr",
     "output_type": "stream",
     "text": [
      "  0%|          | 202/868218 [00:14<17:20:30, 13.90it/s]"
     ]
    },
    {
     "name": "stdout",
     "output_type": "stream",
     "text": [
      "[0.02277345 0.12718211 0.1247479  ... 0.         0.01470779 0.009085  ]\n",
      "[0.01342283 0.18578874 0.15707148 ... 0.         0.04433022 0.02033192]\n",
      "[0.01375719 0.18584115 0.18070927 ... 0.         0.01853581 0.01380191]\n"
     ]
    },
    {
     "name": "stderr",
     "output_type": "stream",
     "text": [
      "  0%|          | 206/868218 [00:14<17:01:19, 14.16it/s]"
     ]
    },
    {
     "name": "stdout",
     "output_type": "stream",
     "text": [
      "[0.01436083 0.22785602 0.20435979 ... 0.         0.03726002 0.02987032]\n",
      "[0.00245475 0.10913803 0.07653148 ... 0.         0.06996245 0.05209285]\n",
      "[0.01557496 0.1311564  0.11291364 ... 0.         0.00980714 0.01734383]\n"
     ]
    },
    {
     "name": "stderr",
     "output_type": "stream",
     "text": [
      "  0%|          | 208/868218 [00:14<16:57:19, 14.22it/s]"
     ]
    },
    {
     "name": "stdout",
     "output_type": "stream",
     "text": [
      "[0.00546611 0.11065965 0.0971701  ... 0.         0.01126019 0.01465416]\n",
      "[0.00990911 0.13945992 0.12597407 ... 0.01085528 0.01684306 0.02649483]\n",
      "[0.01196162 0.1554751  0.13992593 ... 0.         0.02966421 0.01939216]\n"
     ]
    },
    {
     "name": "stderr",
     "output_type": "stream",
     "text": [
      "  0%|          | 212/868218 [00:15<17:20:17, 13.91it/s]"
     ]
    },
    {
     "name": "stdout",
     "output_type": "stream",
     "text": [
      "[0.03580612 0.16602847 0.18393594 ... 0.         0.00544399 0.00766517]\n",
      "[0.00775299 0.17989206 0.16166874 ... 0.         0.0150344  0.01160328]\n",
      "[0.00437004 0.02102472 0.0216022  ... 0.         0.07625321 0.00808977]\n"
     ]
    },
    {
     "name": "stderr",
     "output_type": "stream",
     "text": [
      "  0%|          | 214/868218 [00:15<17:08:35, 14.06it/s]"
     ]
    },
    {
     "name": "stdout",
     "output_type": "stream",
     "text": [
      "[0.00776768 0.18959911 0.15768149 ... 0.         0.05549316 0.01938147]\n",
      "[0.01178167 0.17994261 0.17289468 ... 0.         0.04986957 0.01398779]\n",
      "[0.00964711 0.10004827 0.09694618 ... 0.         0.01377685 0.01068752]\n"
     ]
    },
    {
     "name": "stderr",
     "output_type": "stream",
     "text": [
      "  0%|          | 218/868218 [00:15<17:22:33, 13.88it/s]"
     ]
    },
    {
     "name": "stdout",
     "output_type": "stream",
     "text": [
      "[0.02108513 0.2716254  0.2403654  ... 0.         0.05389337 0.02393535]\n",
      "[0.01931548 0.21283999 0.19226101 ... 0.         0.01934216 0.0366663 ]\n",
      "[0.05757288 0.16475444 0.164271   ... 0.         0.01334308 0.04574167]\n"
     ]
    },
    {
     "name": "stderr",
     "output_type": "stream",
     "text": [
      "  0%|          | 220/868218 [00:15<16:57:34, 14.22it/s]"
     ]
    },
    {
     "name": "stdout",
     "output_type": "stream",
     "text": [
      "[0.0456262  0.21889444 0.21056404 ... 0.00688479 0.02334471 0.03299709]\n",
      "[0.01982625 0.29222869 0.25638146 ... 0.         0.0581908  0.03313366]\n",
      "[0.00378328 0.14610344 0.12950593 ... 0.02127771 0.05056243 0.0222036 ]\n"
     ]
    },
    {
     "name": "stderr",
     "output_type": "stream",
     "text": [
      "  0%|          | 224/868218 [00:15<17:07:36, 14.08it/s]"
     ]
    },
    {
     "name": "stdout",
     "output_type": "stream",
     "text": [
      "[0.0087603  0.14857451 0.13975213 ... 0.         0.01484613 0.01017399]\n",
      "[0.0084032  0.13797563 0.12887861 ... 0.         0.01250024 0.01750252]\n",
      "[0.01795094 0.13202637 0.13253163 ... 0.         0.0099689  0.02075023]\n"
     ]
    },
    {
     "name": "stderr",
     "output_type": "stream",
     "text": [
      "  0%|          | 226/868218 [00:16<18:18:29, 13.17it/s]"
     ]
    },
    {
     "name": "stdout",
     "output_type": "stream",
     "text": [
      "[0.00865307 0.08337316 0.08919188 ... 0.         0.02507239 0.01479852]\n",
      "[0.01322521 0.14219043 0.14587178 ... 0.         0.00750435 0.0199332 ]\n",
      "[0.         0.02355043 0.01380548 ... 0.15292367 0.12489569 0.12251895]\n"
     ]
    },
    {
     "name": "stderr",
     "output_type": "stream",
     "text": [
      "  0%|          | 230/868218 [00:16<17:23:15, 13.87it/s]"
     ]
    },
    {
     "name": "stdout",
     "output_type": "stream",
     "text": [
      "[0.00245098 0.07071319 0.07780992 ... 0.05299497 0.         0.01890705]\n",
      "[0.03034025 0.12240949 0.12360116 ... 0.         0.00433653 0.01556644]\n",
      "[0.00280346 0.06463864 0.06004573 ... 0.         0.0035512  0.03156904]\n"
     ]
    },
    {
     "name": "stderr",
     "output_type": "stream",
     "text": [
      "  0%|          | 232/868218 [00:16<17:07:49, 14.07it/s]"
     ]
    },
    {
     "name": "stdout",
     "output_type": "stream",
     "text": [
      "[0.01156163 0.16998309 0.165016   ... 0.         0.01899537 0.02326463]\n",
      "[0.01492286 0.20724751 0.18881706 ... 0.         0.0229259  0.02306414]\n",
      "[0.01563138 0.26034081 0.2345169  ... 0.         0.04102334 0.02603955]\n"
     ]
    },
    {
     "name": "stderr",
     "output_type": "stream",
     "text": [
      "  0%|          | 236/868218 [00:16<16:51:51, 14.30it/s]"
     ]
    },
    {
     "name": "stdout",
     "output_type": "stream",
     "text": [
      "[0.01303127 0.14197065 0.13215282 ... 0.         0.02100697 0.01102948]\n",
      "[0.0394392  0.1914907  0.17203314 ... 0.         0.01845898 0.02065777]\n",
      "[0.00481542 0.07948867 0.06966423 ... 0.         0.01896486 0.00825215]\n"
     ]
    },
    {
     "name": "stderr",
     "output_type": "stream",
     "text": [
      "  0%|          | 238/868218 [00:16<16:45:50, 14.38it/s]"
     ]
    },
    {
     "name": "stdout",
     "output_type": "stream",
     "text": [
      "[0.01606198 0.23792758 0.22916716 ... 0.00951213 0.02249256 0.02651929]\n",
      "[0.0300666  0.21256955 0.2059445  ... 0.00304021 0.02280586 0.02644407]\n",
      "[0.01625923 0.14019368 0.13776449 ... 0.         0.01866572 0.01378915]\n"
     ]
    },
    {
     "name": "stderr",
     "output_type": "stream",
     "text": [
      "  0%|          | 242/868218 [00:17<16:41:46, 14.44it/s]"
     ]
    },
    {
     "name": "stdout",
     "output_type": "stream",
     "text": [
      "[0.01422736 0.19132394 0.176463   ... 0.         0.02077091 0.02078923]\n",
      "[0.04808864 0.18853562 0.17431999 ... 0.         0.05127964 0.02636355]\n",
      "[0.01967186 0.22937457 0.21379327 ... 0.         0.03978471 0.02637797]\n"
     ]
    },
    {
     "name": "stderr",
     "output_type": "stream",
     "text": [
      "  0%|          | 244/868218 [00:17<16:52:28, 14.29it/s]"
     ]
    },
    {
     "name": "stdout",
     "output_type": "stream",
     "text": [
      "[0.01250738 0.17496875 0.16745215 ... 0.         0.02222289 0.01755198]\n",
      "[0.0086648  0.16356422 0.15171454 ... 0.         0.06243919 0.02461381]\n",
      "[0.01343292 0.17284682 0.15739588 ... 0.         0.01439883 0.01999014]\n"
     ]
    },
    {
     "name": "stderr",
     "output_type": "stream",
     "text": [
      "  0%|          | 248/868218 [00:17<16:51:40, 14.30it/s]"
     ]
    },
    {
     "name": "stdout",
     "output_type": "stream",
     "text": [
      "[0.03349286 0.24826106 0.25038633 ... 0.         0.01701323 0.03378601]\n",
      "[0.00884314 0.19233662 0.1737539  ... 0.         0.03423928 0.0205022 ]\n",
      "[0.01306704 0.18224227 0.16031247 ... 0.         0.04411394 0.02020968]\n"
     ]
    },
    {
     "name": "stderr",
     "output_type": "stream",
     "text": [
      "  0%|          | 250/868218 [00:17<16:34:13, 14.55it/s]"
     ]
    },
    {
     "name": "stdout",
     "output_type": "stream",
     "text": [
      "[0.01194611 0.20822739 0.19533862 ... 0.         0.05225616 0.02200488]\n",
      "[0.03058567 0.18608852 0.16920729 ... 0.00117203 0.01698408 0.03825731]\n",
      "[0.01481409 0.20614599 0.18883386 ... 0.         0.02894929 0.01849124]\n"
     ]
    },
    {
     "name": "stderr",
     "output_type": "stream",
     "text": [
      "  0%|          | 254/868218 [00:18<16:54:17, 14.26it/s]"
     ]
    },
    {
     "name": "stdout",
     "output_type": "stream",
     "text": [
      "[0.00930334 0.14954549 0.13754498 ... 0.         0.04655917 0.03561699]\n",
      "[0.01405542 0.14371972 0.1304706  ... 0.         0.01122536 0.01376191]\n",
      "[0.01342006 0.18269198 0.16864429 ... 0.         0.02309774 0.01405711]\n"
     ]
    },
    {
     "name": "stderr",
     "output_type": "stream",
     "text": [
      "  0%|          | 256/868218 [00:18<17:57:07, 13.43it/s]"
     ]
    },
    {
     "name": "stdout",
     "output_type": "stream",
     "text": [
      "[0.01297947 0.18673032 0.17617868 ... 0.         0.02506016 0.0264971 ]\n",
      "[0.01392673 0.10902454 0.10963204 ... 0.         0.00901947 0.00886115]\n",
      "[0.01404184 0.1930945  0.20782613 ... 0.         0.00972576 0.0129345 ]\n"
     ]
    },
    {
     "name": "stderr",
     "output_type": "stream",
     "text": [
      "  0%|          | 260/868218 [00:18<17:32:00, 13.75it/s]"
     ]
    },
    {
     "name": "stdout",
     "output_type": "stream",
     "text": [
      "[0.004007   0.03588361 0.03308537 ... 0.         0.00546499 0.00790121]\n",
      "[0.00583472 0.09969199 0.08177403 ... 0.         0.0501559  0.02422317]\n",
      "[0.00178682 0.03131708 0.03756144 ... 0.         0.         0.02275487]\n"
     ]
    },
    {
     "name": "stderr",
     "output_type": "stream",
     "text": [
      "  0%|          | 262/868218 [00:18<17:21:16, 13.89it/s]"
     ]
    },
    {
     "name": "stdout",
     "output_type": "stream",
     "text": [
      "[0.03144032 0.19325958 0.19640638 ... 0.         0.02436237 0.03076123]\n",
      "[0.02176769 0.16273189 0.16187336 ... 0.         0.01008238 0.02163989]\n",
      "[0.01129559 0.18732125 0.19022996 ... 0.         0.00963255 0.00935734]\n"
     ]
    },
    {
     "name": "stderr",
     "output_type": "stream",
     "text": [
      "  0%|          | 266/868218 [00:18<16:59:25, 14.19it/s]"
     ]
    },
    {
     "name": "stdout",
     "output_type": "stream",
     "text": [
      "[0.02291527 0.23943094 0.21679886 ... 0.         0.03265223 0.01848932]\n",
      "[0.03989831 0.20236169 0.19361994 ... 0.         0.02095705 0.0238835 ]\n",
      "[0.00698652 0.17959866 0.1579483  ... 0.         0.0561264  0.01280657]\n"
     ]
    },
    {
     "name": "stderr",
     "output_type": "stream",
     "text": [
      "  0%|          | 268/868218 [00:19<16:45:50, 14.38it/s]"
     ]
    },
    {
     "name": "stdout",
     "output_type": "stream",
     "text": [
      "[0.04086675 0.15626296 0.16752028 ... 0.         0.00893567 0.0306413 ]\n",
      "[0.00657704 0.17483689 0.15313797 ... 0.         0.04728178 0.01134292]\n",
      "[0.01415863 0.15225573 0.15041285 ... 0.         0.00953217 0.01779962]\n"
     ]
    },
    {
     "name": "stderr",
     "output_type": "stream",
     "text": [
      "  0%|          | 272/868218 [00:19<17:14:36, 13.98it/s]"
     ]
    },
    {
     "name": "stdout",
     "output_type": "stream",
     "text": [
      "[0.00977395 0.09721322 0.08878043 ... 0.         0.00450213 0.01693445]\n",
      "[0.01162191 0.20751339 0.18740132 ... 0.         0.03753821 0.01848305]\n",
      "[0.01011564 0.17501472 0.16086481 ... 0.         0.03172628 0.01303103]\n"
     ]
    },
    {
     "name": "stderr",
     "output_type": "stream",
     "text": [
      "  0%|          | 274/868218 [00:19<17:07:22, 14.08it/s]"
     ]
    },
    {
     "name": "stdout",
     "output_type": "stream",
     "text": [
      "[0.01201904 0.16920899 0.15880904 ... 0.         0.01132431 0.01674225]\n",
      "[0.02252708 0.21927001 0.20241659 ... 0.00588449 0.04776214 0.02719108]\n",
      "[0.01291408 0.12622536 0.11275017 ... 0.         0.0317844  0.01192056]\n"
     ]
    },
    {
     "name": "stderr",
     "output_type": "stream",
     "text": [
      "  0%|          | 278/868218 [00:19<17:04:22, 14.12it/s]"
     ]
    },
    {
     "name": "stdout",
     "output_type": "stream",
     "text": [
      "[0.01629671 0.18446894 0.16239323 ... 0.00865585 0.021767   0.01891648]\n",
      "[0.01210166 0.1472888  0.13807874 ... 0.         0.01577976 0.00867489]\n",
      "[0.01554384 0.12255956 0.11191859 ... 0.         0.00630461 0.00573563]\n"
     ]
    },
    {
     "name": "stderr",
     "output_type": "stream",
     "text": [
      "  0%|          | 280/868218 [00:19<17:02:22, 14.15it/s]"
     ]
    },
    {
     "name": "stdout",
     "output_type": "stream",
     "text": [
      "[0.02720949 0.21360716 0.19284841 ... 0.         0.060325   0.02323056]\n",
      "[0.02079194 0.20282046 0.18767747 ... 0.         0.15129396 0.03766042]\n",
      "[0.01463983 0.23756014 0.21988174 ... 0.         0.04698151 0.02205997]\n",
      "[0.0071804  0.15285752 0.14837684 ... 0.         0.01677646 0.01335857]\n"
     ]
    },
    {
     "name": "stderr",
     "output_type": "stream",
     "text": [
      "  0%|          | 284/868218 [00:20<16:40:54, 14.45it/s]"
     ]
    },
    {
     "name": "stdout",
     "output_type": "stream",
     "text": [
      "[0.02171147 0.14175029 0.13524219 ... 0.         0.00827092 0.01305866]\n",
      "[0.01178683 0.10075071 0.0896141  ... 0.         0.01212925 0.00558949]\n",
      "[0.01627565 0.1851627  0.17345732 ... 0.         0.00839596 0.01126976]\n"
     ]
    },
    {
     "name": "stderr",
     "output_type": "stream",
     "text": [
      "  0%|          | 288/868218 [00:20<17:19:47, 13.91it/s]"
     ]
    },
    {
     "name": "stdout",
     "output_type": "stream",
     "text": [
      "[0.00949815 0.16322927 0.14772583 ... 0.         0.02578826 0.00867389]\n",
      "[0.0409148  0.26836287 0.25131059 ... 0.01559559 0.03152981 0.0277639 ]\n",
      "[0.00482956 0.10311531 0.0861592  ... 0.         0.02979017 0.00272928]\n"
     ]
    },
    {
     "name": "stderr",
     "output_type": "stream",
     "text": [
      "  0%|          | 290/868218 [00:20<16:54:39, 14.26it/s]"
     ]
    },
    {
     "name": "stdout",
     "output_type": "stream",
     "text": [
      "[0.01121184 0.17953358 0.1655556  ... 0.         0.03468743 0.03194895]\n",
      "[0.01411982 0.20063717 0.18342902 ... 0.00524353 0.01674036 0.0248421 ]\n",
      "[0.01452847 0.12137499 0.10691365 ... 0.         0.00562552 0.00796308]\n",
      "[0.01100093 0.10761047 0.09850484 ... 0.         0.03436604 0.01218888]\n"
     ]
    },
    {
     "name": "stderr",
     "output_type": "stream",
     "text": [
      "  0%|          | 294/868218 [00:20<16:43:39, 14.41it/s]"
     ]
    },
    {
     "name": "stdout",
     "output_type": "stream",
     "text": [
      "[0.00278091 0.07307298 0.07011491 ... 0.         0.00704527 0.00429676]\n",
      "[0.01356694 0.17370102 0.16399796 ... 0.         0.07830339 0.02514311]\n",
      "[0.01494268 0.1475994  0.13329985 ... 0.         0.01463766 0.00951888]\n",
      "[0.         0.00623201 0.01369648 ... 0.         0.02243106 0.08572778]\n"
     ]
    },
    {
     "name": "stderr",
     "output_type": "stream",
     "text": [
      "  0%|          | 298/868218 [00:21<16:36:18, 14.52it/s]"
     ]
    },
    {
     "name": "stdout",
     "output_type": "stream",
     "text": [
      "[0.01931504 0.01581221 0.01904219 ... 0.         0.         0.00737444]\n",
      "[0.01228525 0.10857029 0.11350602 ... 0.         0.00999367 0.01346746]\n",
      "[0.01032863 0.24069089 0.21136096 ... 0.         0.02213544 0.02658293]\n",
      "[0.02768673 0.12910109 0.12172257 ... 0.         0.01911517 0.01687917]\n"
     ]
    },
    {
     "name": "stderr",
     "output_type": "stream",
     "text": [
      "  0%|          | 302/868218 [00:21<16:23:41, 14.71it/s]"
     ]
    },
    {
     "name": "stdout",
     "output_type": "stream",
     "text": [
      "[0.0126135  0.12876254 0.11715029 ... 0.00442378 0.01759024 0.01896436]\n",
      "[0.01814246 0.24353708 0.22907422 ... 0.         0.05134835 0.03107704]\n",
      "[0.0131261  0.16917216 0.15825841 ... 0.         0.01203498 0.05390433]\n",
      "[0.0021568  0.05784979 0.06141601 ... 0.         0.01321334 0.00633966]\n"
     ]
    },
    {
     "name": "stderr",
     "output_type": "stream",
     "text": [
      "  0%|          | 306/868218 [00:21<16:40:13, 14.46it/s]"
     ]
    },
    {
     "name": "stdout",
     "output_type": "stream",
     "text": [
      "[0.01594582 0.16221083 0.15194538 ... 0.         0.00685788 0.01249094]\n",
      "[0.03220651 0.09128254 0.08510872 ... 0.         0.00154838 0.00595351]\n",
      "[0.01019431 0.14330876 0.13389258 ... 0.         0.01320097 0.0162137 ]\n"
     ]
    },
    {
     "name": "stderr",
     "output_type": "stream",
     "text": [
      "  0%|          | 310/868218 [00:21<16:38:09, 14.49it/s]"
     ]
    },
    {
     "name": "stdout",
     "output_type": "stream",
     "text": [
      "[0.02932646 0.20899998 0.1892226  ... 0.         0.04874826 0.02060856]\n",
      "[0.01305242 0.15092767 0.1411938  ... 0.         0.00630565 0.01039832]\n",
      "[0.         0.00997835 0.0084746  ... 0.         0.07484754 0.06307495]\n"
     ]
    },
    {
     "name": "stderr",
     "output_type": "stream",
     "text": [
      "  0%|          | 312/868218 [00:22<16:37:14, 14.51it/s]"
     ]
    },
    {
     "name": "stdout",
     "output_type": "stream",
     "text": [
      "[0.01303963 0.20954856 0.20874322 ... 0.         0.027094   0.03557346]\n",
      "[0.02864373 0.18434258 0.18071655 ... 0.         0.02374769 0.02267539]\n",
      "[0.0141635  0.24953449 0.22863142 ... 0.         0.07560721 0.0356716 ]\n"
     ]
    },
    {
     "name": "stderr",
     "output_type": "stream",
     "text": [
      "  0%|          | 316/868218 [00:22<16:39:47, 14.47it/s]"
     ]
    },
    {
     "name": "stdout",
     "output_type": "stream",
     "text": [
      "[0.01776346 0.17171033 0.14582268 ... 0.         0.03256878 0.0086448 ]\n",
      "[0.01080187 0.19738496 0.21823352 ... 0.         0.03750513 0.01849932]\n",
      "[0.01168886 0.1415071  0.13648156 ... 0.         0.03084895 0.01134319]\n"
     ]
    },
    {
     "name": "stderr",
     "output_type": "stream",
     "text": [
      "  0%|          | 318/868218 [00:22<16:35:50, 14.53it/s]"
     ]
    },
    {
     "name": "stdout",
     "output_type": "stream",
     "text": [
      "[0.01287702 0.23423685 0.21606838 ... 0.         0.03336885 0.03141096]\n",
      "[0.00610493 0.1268415  0.11639019 ... 0.02053553 0.00909469 0.01739559]\n",
      "[0.01259814 0.16006971 0.14634717 ... 0.         0.02439861 0.01470458]\n",
      "[0.01176015 0.19168739 0.18107909 ... 0.         0.0111361  0.01453655]\n"
     ]
    },
    {
     "name": "stderr",
     "output_type": "stream",
     "text": [
      "  0%|          | 322/868218 [00:22<16:24:13, 14.70it/s]"
     ]
    },
    {
     "name": "stdout",
     "output_type": "stream",
     "text": [
      "[0.00575808 0.11031001 0.10894459 ... 0.         0.00671371 0.01704165]\n",
      "[0.00436053 0.13442247 0.12998352 ... 0.         0.04970996 0.01193921]\n",
      "[0.02248775 0.21556916 0.19669458 ... 0.         0.01363196 0.02994067]\n",
      "[0.00711613 0.16204047 0.15001573 ... 0.         0.04347356 0.0128225 ]\n"
     ]
    },
    {
     "name": "stderr",
     "output_type": "stream",
     "text": [
      "  0%|          | 326/868218 [00:23<17:57:12, 13.43it/s]"
     ]
    },
    {
     "name": "stdout",
     "output_type": "stream",
     "text": [
      "[0.01775359 0.10355153 0.10566843 ... 0.         0.01637146 0.01956043]\n",
      "[0.02881168 0.15308415 0.14916778 ... 0.         0.00875201 0.02195063]\n",
      "[0.00648705 0.16530628 0.14790262 ... 0.         0.01331447 0.0179779 ]\n"
     ]
    },
    {
     "name": "stderr",
     "output_type": "stream",
     "text": [
      "  0%|          | 330/868218 [00:23<18:24:15, 13.10it/s]"
     ]
    },
    {
     "name": "stdout",
     "output_type": "stream",
     "text": [
      "[0.02198836 0.23187411 0.22239655 ... 0.         0.06700001 0.02605321]\n",
      "[0.00093829 0.03170929 0.02919423 ... 0.         0.01008728 0.06932994]\n",
      "[0.01737815 0.24678133 0.20968087 ... 0.         0.06809689 0.03216219]\n"
     ]
    },
    {
     "name": "stderr",
     "output_type": "stream",
     "text": [
      "  0%|          | 332/868218 [00:23<18:09:25, 13.28it/s]"
     ]
    },
    {
     "name": "stdout",
     "output_type": "stream",
     "text": [
      "[0.0168046  0.21736677 0.20541986 ... 0.         0.02174651 0.02967889]\n",
      "[0.02894658 0.22377837 0.2048266  ... 0.         0.02659271 0.02199451]\n",
      "[0.01539645 0.18167899 0.17197551 ... 0.         0.0129328  0.01780953]\n"
     ]
    },
    {
     "name": "stderr",
     "output_type": "stream",
     "text": [
      "  0%|          | 334/868218 [00:23<18:29:45, 13.03it/s]"
     ]
    },
    {
     "name": "stdout",
     "output_type": "stream",
     "text": [
      "[0.01451669 0.17757311 0.18078339 ... 0.         0.00932056 0.01295819]\n",
      "[0.01366173 0.22566653 0.18804758 ... 0.         0.02216697 0.03008819]\n",
      "[0.0025646  0.06612569 0.08964575 ... 0.         0.00316559 0.00891167]\n"
     ]
    },
    {
     "name": "stderr",
     "output_type": "stream",
     "text": [
      "  0%|          | 338/868218 [00:24<18:54:21, 12.75it/s]"
     ]
    },
    {
     "name": "stdout",
     "output_type": "stream",
     "text": [
      "[0.01314113 0.20900175 0.17920451 ... 0.         0.01617016 0.03427967]\n",
      "[0.01296438 0.18089483 0.17556041 ... 0.         0.0339086  0.02444831]\n",
      "[0.00500278 0.05204379 0.07243782 ... 0.         0.00667662 0.00953275]\n"
     ]
    },
    {
     "name": "stderr",
     "output_type": "stream",
     "text": [
      "  0%|          | 342/868218 [00:24<18:09:32, 13.28it/s]"
     ]
    },
    {
     "name": "stdout",
     "output_type": "stream",
     "text": [
      "[0.02373043 0.14542364 0.13192592 ... 0.         0.05968986 0.0207911 ]\n",
      "[0.         0.00233456 0.00063697 ... 0.         0.         0.        ]\n",
      "[0.00942783 0.17600508 0.15941155 ... 0.         0.03656944 0.01440391]\n"
     ]
    },
    {
     "name": "stderr",
     "output_type": "stream",
     "text": [
      "  0%|          | 344/868218 [00:24<17:51:55, 13.49it/s]"
     ]
    },
    {
     "name": "stdout",
     "output_type": "stream",
     "text": [
      "[0.02314707 0.11643275 0.11498348 ... 0.0567826  0.01150687 0.02002029]\n",
      "[0.02179039 0.17990816 0.16736311 ... 0.         0.01284262 0.01063054]\n",
      "[0.02844165 0.26459797 0.24648553 ... 0.         0.02105403 0.02173077]\n"
     ]
    },
    {
     "name": "stderr",
     "output_type": "stream",
     "text": [
      "  0%|          | 348/868218 [00:24<17:42:19, 13.62it/s]"
     ]
    },
    {
     "name": "stdout",
     "output_type": "stream",
     "text": [
      "[0.00698606 0.05234286 0.04641308 ... 0.         0.03751181 0.01424339]\n",
      "[0.01797604 0.12671832 0.11907342 ... 0.         0.00488576 0.02084503]\n",
      "[0.04408438 0.21640169 0.21309215 ... 0.         0.02416187 0.02438295]\n"
     ]
    },
    {
     "name": "stderr",
     "output_type": "stream",
     "text": [
      "  0%|          | 350/868218 [00:24<17:36:56, 13.69it/s]"
     ]
    },
    {
     "name": "stdout",
     "output_type": "stream",
     "text": [
      "[0.0238329  0.24027757 0.22067588 ... 0.01643064 0.02729328 0.04228317]\n",
      "[0.00906411 0.17700756 0.15885259 ... 0.         0.01413326 0.01248275]\n",
      "[0.0096883  0.22233522 0.1899687  ... 0.         0.03006122 0.01690422]\n"
     ]
    },
    {
     "name": "stderr",
     "output_type": "stream",
     "text": [
      "  0%|          | 354/868218 [00:25<17:18:25, 13.93it/s]"
     ]
    },
    {
     "name": "stdout",
     "output_type": "stream",
     "text": [
      "[0.00866999 0.09658556 0.09827074 ... 0.         0.00746372 0.00812982]\n",
      "[0.01128878 0.23274469 0.20778404 ... 0.         0.03057377 0.01665152]\n",
      "[0.0108986  0.17201156 0.15611551 ... 0.         0.08535551 0.02397496]\n"
     ]
    },
    {
     "name": "stderr",
     "output_type": "stream",
     "text": [
      "  0%|          | 356/868218 [00:25<17:15:38, 13.97it/s]"
     ]
    },
    {
     "name": "stdout",
     "output_type": "stream",
     "text": [
      "[0.01744146 0.23454552 0.21183419 ... 0.         0.02019371 0.0209741 ]\n",
      "[0.01728066 0.17129768 0.16073696 ... 0.00827153 0.01320719 0.01568994]\n",
      "[0.02101744 0.26791788 0.25575589 ... 0.         0.03478447 0.03072656]\n"
     ]
    },
    {
     "name": "stderr",
     "output_type": "stream",
     "text": [
      "  0%|          | 360/868218 [00:25<17:53:11, 13.48it/s]"
     ]
    },
    {
     "name": "stdout",
     "output_type": "stream",
     "text": [
      "[0.01827935 0.22371444 0.22080827 ... 0.         0.04215872 0.02258421]\n",
      "[0.01665071 0.18761451 0.17971132 ... 0.         0.01551555 0.02497467]\n",
      "[0.01311949 0.20245471 0.18863387 ... 0.         0.04249556 0.0235047 ]\n"
     ]
    },
    {
     "name": "stderr",
     "output_type": "stream",
     "text": [
      "  0%|          | 362/868218 [00:25<17:48:22, 13.54it/s]"
     ]
    },
    {
     "name": "stdout",
     "output_type": "stream",
     "text": [
      "[0.00688695 0.11320349 0.10764427 ... 0.01712399 0.01740277 0.01366838]\n",
      "[0.0164338  0.1320371  0.13132145 ... 0.01024302 0.00729309 0.0418271 ]\n",
      "[0.01139445 0.16360492 0.14733967 ... 0.         0.00560935 0.01085089]\n"
     ]
    },
    {
     "name": "stderr",
     "output_type": "stream",
     "text": [
      "  0%|          | 364/868218 [00:25<17:49:56, 13.52it/s]"
     ]
    },
    {
     "name": "stdout",
     "output_type": "stream",
     "text": [
      "[0.01558038 0.18777223 0.16920932 ... 0.         0.02317318 0.01332684]\n",
      "[0.01474933 0.21856634 0.20766536 ... 0.         0.02321861 0.01680237]\n",
      "[0.01219444 0.18843515 0.17348265 ... 0.00689504 0.04562433 0.01805201]\n"
     ]
    },
    {
     "name": "stderr",
     "output_type": "stream",
     "text": [
      "  0%|          | 368/868218 [00:26<18:04:13, 13.34it/s]"
     ]
    },
    {
     "name": "stdout",
     "output_type": "stream",
     "text": [
      "[0.01051104 0.22597353 0.20854974 ... 0.         0.03279154 0.01947589]\n",
      "[0.015796   0.22954678 0.20379216 ... 0.         0.04799213 0.02242772]\n",
      "[0.00945507 0.15218142 0.13877498 ... 0.         0.02368173 0.0116469 ]\n"
     ]
    },
    {
     "name": "stderr",
     "output_type": "stream",
     "text": [
      "  0%|          | 372/868218 [00:26<18:08:10, 13.29it/s]"
     ]
    },
    {
     "name": "stdout",
     "output_type": "stream",
     "text": [
      "[0.01837726 0.24171668 0.22054857 ... 0.         0.01105248 0.0241285 ]\n",
      "[0.00584174 0.11576778 0.10984679 ... 0.         0.01733296 0.00901733]\n",
      "[0.02804505 0.14712989 0.13783268 ... 0.         0.01215038 0.00822225]\n"
     ]
    },
    {
     "name": "stderr",
     "output_type": "stream",
     "text": [
      "  0%|          | 374/868218 [00:26<18:18:33, 13.17it/s]"
     ]
    },
    {
     "name": "stdout",
     "output_type": "stream",
     "text": [
      "[0.00950314 0.16291653 0.15118485 ... 0.         0.0161423  0.01383663]\n",
      "[0.01003461 0.20981189 0.20875929 ... 0.01459954 0.02780361 0.01959332]\n",
      "[0.01214873 0.15201241 0.13712583 ... 0.         0.02372382 0.01741254]\n"
     ]
    },
    {
     "name": "stderr",
     "output_type": "stream",
     "text": [
      "  0%|          | 378/868218 [00:27<17:36:51, 13.69it/s]"
     ]
    },
    {
     "name": "stdout",
     "output_type": "stream",
     "text": [
      "[0.01497014 0.17176059 0.15151755 ... 0.         0.05273918 0.01834695]\n",
      "[0.01125092 0.15231924 0.13868365 ... 0.00701079 0.01046184 0.0598878 ]\n",
      "[0.05190122 0.25244851 0.22615748 ... 0.         0.03339276 0.01820559]\n"
     ]
    },
    {
     "name": "stderr",
     "output_type": "stream",
     "text": [
      "  0%|          | 380/868218 [00:27<17:31:59, 13.75it/s]"
     ]
    },
    {
     "name": "stdout",
     "output_type": "stream",
     "text": [
      "[0.01533322 0.1740613  0.15397503 ... 0.         0.02361567 0.01924801]\n",
      "[0.0122479  0.18389178 0.17542643 ... 0.         0.01958476 0.02949527]\n",
      "[0.01218103 0.21465765 0.1967557  ... 0.01596199 0.02279314 0.02339007]\n"
     ]
    },
    {
     "name": "stderr",
     "output_type": "stream",
     "text": [
      "  0%|          | 384/868218 [00:27<17:19:15, 13.92it/s]"
     ]
    },
    {
     "name": "stdout",
     "output_type": "stream",
     "text": [
      "[0.02189005 0.18256647 0.16177387 ... 0.         0.02479103 0.01208873]\n",
      "[0.01571127 0.26508731 0.24707854 ... 0.         0.03506618 0.02088031]\n",
      "[0.1676929  0.05671159 0.05102496 ... 0.         0.01431034 0.01933342]\n"
     ]
    },
    {
     "name": "stderr",
     "output_type": "stream",
     "text": [
      "  0%|          | 386/868218 [00:27<17:23:12, 13.86it/s]"
     ]
    },
    {
     "name": "stdout",
     "output_type": "stream",
     "text": [
      "[0.04093875 0.16713938 0.13874813 ... 0.         0.01323314 0.01735995]\n",
      "[0.01281672 0.14370387 0.13764785 ... 0.         0.01487048 0.01415472]\n",
      "[0.00372986 0.10827701 0.09836128 ... 0.         0.02657009 0.00934651]\n"
     ]
    },
    {
     "name": "stderr",
     "output_type": "stream",
     "text": [
      "  0%|          | 390/868218 [00:27<17:08:39, 14.06it/s]"
     ]
    },
    {
     "name": "stdout",
     "output_type": "stream",
     "text": [
      "[0.00708177 0.11067812 0.09680303 ... 0.         0.01119294 0.01294025]\n",
      "[0.00053291 0.00930846 0.00968223 ... 0.         0.0050508  0.01907193]\n",
      "[0.0171568  0.20113361 0.17270868 ... 0.         0.02230855 0.0143041 ]\n"
     ]
    },
    {
     "name": "stderr",
     "output_type": "stream",
     "text": [
      "  0%|          | 392/868218 [00:28<17:06:49, 14.09it/s]"
     ]
    },
    {
     "name": "stdout",
     "output_type": "stream",
     "text": [
      "[0.01502149 0.11010867 0.10851878 ... 0.         0.00952814 0.01009547]\n",
      "[0.00969704 0.22717366 0.20393498 ... 0.         0.02843078 0.0185601 ]\n",
      "[0.02110668 0.24120346 0.22686082 ... 0.         0.0125657  0.02778279]\n"
     ]
    },
    {
     "name": "stderr",
     "output_type": "stream",
     "text": [
      "  0%|          | 396/868218 [00:28<17:56:52, 13.43it/s]"
     ]
    },
    {
     "name": "stdout",
     "output_type": "stream",
     "text": [
      "[0.01407492 0.18713503 0.17865973 ... 0.         0.02122957 0.01987363]\n",
      "[0.00778505 0.14893114 0.14109898 ... 0.         0.00978713 0.01653491]\n",
      "[0.01282487 0.12910363 0.14269892 ... 0.         0.00787782 0.01515927]\n"
     ]
    },
    {
     "name": "stderr",
     "output_type": "stream",
     "text": [
      "  0%|          | 398/868218 [00:28<17:35:19, 13.71it/s]"
     ]
    },
    {
     "name": "stdout",
     "output_type": "stream",
     "text": [
      "[0.01649667 0.21457074 0.18882139 ... 0.         0.06691954 0.02121547]\n",
      "[0.01509785 0.12249313 0.11927198 ... 0.         0.02373293 0.01468533]\n",
      "[0.00650711 0.11592105 0.09832499 ... 0.         0.01203754 0.00739635]\n"
     ]
    },
    {
     "name": "stderr",
     "output_type": "stream",
     "text": [
      "  0%|          | 402/868218 [00:28<17:22:57, 13.87it/s]"
     ]
    },
    {
     "name": "stdout",
     "output_type": "stream",
     "text": [
      "[0.0043573  0.11123927 0.10842926 ... 0.         0.00246615 0.00839281]\n",
      "[0.01319938 0.20397075 0.19030853 ... 0.         0.03363621 0.01659035]\n",
      "[0.00608122 0.12489772 0.11301981 ... 0.         0.02190989 0.0368173 ]\n"
     ]
    },
    {
     "name": "stderr",
     "output_type": "stream",
     "text": [
      "  0%|          | 404/868218 [00:28<17:17:15, 13.94it/s]"
     ]
    },
    {
     "name": "stdout",
     "output_type": "stream",
     "text": [
      "[0.0044475  0.13243123 0.1300636  ... 0.         0.02371838 0.01111402]\n",
      "[0.01419896 0.04179346 0.04315648 ... 0.         0.         0.0075825 ]\n",
      "[0.02574431 0.20016726 0.17861362 ... 0.         0.03137453 0.03380177]\n"
     ]
    },
    {
     "name": "stderr",
     "output_type": "stream",
     "text": [
      "  0%|          | 408/868218 [00:29<17:17:41, 13.94it/s]"
     ]
    },
    {
     "name": "stdout",
     "output_type": "stream",
     "text": [
      "[0.0101827  0.19829851 0.18253589 ... 0.         0.00991466 0.01681664]\n",
      "[0.00960621 0.1775185  0.16118103 ... 0.         0.02320382 0.01347125]\n",
      "[0.01329188 0.20346039 0.18230381 ... 0.         0.0532746  0.031434  ]\n"
     ]
    },
    {
     "name": "stderr",
     "output_type": "stream",
     "text": [
      "  0%|          | 410/868218 [00:29<17:12:41, 14.01it/s]"
     ]
    },
    {
     "name": "stdout",
     "output_type": "stream",
     "text": [
      "[0.01929164 0.22195568 0.21591786 ... 0.         0.02595437 0.02429215]\n",
      "[0.01780802 0.2337031  0.2078083  ... 0.         0.03919512 0.03077008]\n",
      "[0.01175825 0.20258991 0.18603764 ... 0.         0.02477809 0.03784374]\n"
     ]
    },
    {
     "name": "stderr",
     "output_type": "stream",
     "text": [
      "  0%|          | 414/868218 [00:29<17:18:51, 13.92it/s]"
     ]
    },
    {
     "name": "stdout",
     "output_type": "stream",
     "text": [
      "[0.00366681 0.07875858 0.06530757 ... 0.         0.00978573 0.00627137]\n",
      "[0.00654658 0.10789312 0.09919869 ... 0.         0.00538836 0.0096067 ]\n",
      "[0.01875475 0.1041258  0.10256139 ... 0.         0.03272643 0.0105935 ]\n"
     ]
    },
    {
     "name": "stderr",
     "output_type": "stream",
     "text": [
      "  0%|          | 416/868218 [00:29<17:14:39, 13.98it/s]"
     ]
    },
    {
     "name": "stdout",
     "output_type": "stream",
     "text": [
      "[0.01314077 0.1493526  0.13602469 ... 0.         0.00780652 0.01070785]\n",
      "[0.01220988 0.13389521 0.12215689 ... 0.         0.0641822  0.02786902]\n",
      "[0.02819739 0.21240494 0.2017093  ... 0.         0.01714933 0.01373261]\n"
     ]
    },
    {
     "name": "stderr",
     "output_type": "stream",
     "text": [
      "  0%|          | 420/868218 [00:30<17:16:31, 13.95it/s]"
     ]
    },
    {
     "name": "stdout",
     "output_type": "stream",
     "text": [
      "[0.01443288 0.1481568  0.1474546  ... 0.         0.01017019 0.0117852 ]\n",
      "[0.00973964 0.17213598 0.14741842 ... 0.         0.01155258 0.01195103]\n",
      "[0.09602576 0.05111651 0.04820094 ... 0.         0.08489381 0.01390542]\n"
     ]
    },
    {
     "name": "stderr",
     "output_type": "stream",
     "text": [
      "  0%|          | 422/868218 [00:30<17:16:44, 13.95it/s]"
     ]
    },
    {
     "name": "stdout",
     "output_type": "stream",
     "text": [
      "[0.04200222 0.16181723 0.1483754  ... 0.01061091 0.00892404 0.03018076]\n",
      "[0.00871872 0.18140819 0.15832604 ... 0.         0.02652896 0.01467288]\n",
      "[0.00965839 0.15613637 0.14778601 ... 0.         0.02010458 0.02137554]\n"
     ]
    },
    {
     "name": "stderr",
     "output_type": "stream",
     "text": [
      "  0%|          | 424/868218 [00:30<17:22:34, 13.87it/s]"
     ]
    },
    {
     "name": "stdout",
     "output_type": "stream",
     "text": [
      "[0.01382077 0.20435901 0.188529   ... 0.00451769 0.02760241 0.01726466]\n",
      "[0.0141849  0.17171005 0.16204545 ... 0.         0.05589799 0.02957437]\n",
      "[0.01518011 0.18919768 0.1738311  ... 0.01374918 0.01805171 0.02631889]\n"
     ]
    },
    {
     "name": "stderr",
     "output_type": "stream",
     "text": [
      "  0%|          | 428/868218 [00:30<18:06:52, 13.31it/s]"
     ]
    },
    {
     "name": "stdout",
     "output_type": "stream",
     "text": [
      "[0.0402364  0.1332715  0.13577179 ... 0.         0.01941161 0.01057703]\n",
      "[0.01392446 0.13403539 0.14447477 ... 0.         0.03008623 0.01982087]\n",
      "[0.01971122 0.19224961 0.16493416 ... 0.         0.03067787 0.01293651]\n"
     ]
    },
    {
     "name": "stderr",
     "output_type": "stream",
     "text": [
      "  0%|          | 432/868218 [00:30<18:00:11, 13.39it/s]"
     ]
    },
    {
     "name": "stdout",
     "output_type": "stream",
     "text": [
      "[0.00702994 0.07895374 0.07073064 ... 0.         0.00921326 0.0113306 ]\n",
      "[0.01282583 0.21571873 0.20692458 ... 0.         0.03407372 0.02664904]\n",
      "[0.01783655 0.25128252 0.23086116 ... 0.02278134 0.0234019  0.03707212]\n"
     ]
    },
    {
     "name": "stderr",
     "output_type": "stream",
     "text": [
      "  0%|          | 434/868218 [00:31<17:47:02, 13.55it/s]"
     ]
    },
    {
     "name": "stdout",
     "output_type": "stream",
     "text": [
      "[0.02209945 0.09910428 0.10812095 ... 0.         0.01257991 0.01442713]\n",
      "[0.01029573 0.21410898 0.2076147  ... 0.         0.03391289 0.05077923]\n",
      "[0.01380439 0.1839345  0.17406929 ... 0.         0.0123568  0.02024776]\n"
     ]
    },
    {
     "name": "stderr",
     "output_type": "stream",
     "text": [
      "  0%|          | 438/868218 [00:31<17:51:20, 13.50it/s]"
     ]
    },
    {
     "name": "stdout",
     "output_type": "stream",
     "text": [
      "[0.01111958 0.14170635 0.14020562 ... 0.         0.00955994 0.01352324]\n",
      "[0.01316913 0.22482287 0.21693134 ... 0.         0.03639544 0.01980552]\n",
      "[0.03575037 0.26413849 0.25551394 ... 0.00141397 0.02193866 0.02219535]\n"
     ]
    },
    {
     "name": "stderr",
     "output_type": "stream",
     "text": [
      "  0%|          | 440/868218 [00:31<17:44:03, 13.59it/s]"
     ]
    },
    {
     "name": "stdout",
     "output_type": "stream",
     "text": [
      "[0.01367438 0.24033829 0.21851711 ... 0.         0.05635098 0.02461018]\n",
      "[0.0036109  0.08263005 0.07598352 ... 0.         0.02619638 0.00641604]\n",
      "[0.01077566 0.13032914 0.12468625 ... 0.         0.02399622 0.02007868]\n"
     ]
    },
    {
     "name": "stderr",
     "output_type": "stream",
     "text": [
      "  0%|          | 444/868218 [00:31<17:32:24, 13.74it/s]"
     ]
    },
    {
     "name": "stdout",
     "output_type": "stream",
     "text": [
      "[0.02352371 0.20298855 0.17967146 ... 0.         0.03208211 0.02199493]\n",
      "[0.03789519 0.18700656 0.19768173 ... 0.         0.16442159 0.01810816]\n",
      "[0.0164045  0.16567942 0.15008685 ... 0.         0.02045993 0.03070469]\n"
     ]
    },
    {
     "name": "stderr",
     "output_type": "stream",
     "text": [
      "  0%|          | 446/868218 [00:31<17:27:56, 13.80it/s]"
     ]
    },
    {
     "name": "stdout",
     "output_type": "stream",
     "text": [
      "[0.01149155 0.17086494 0.15722486 ... 0.04705109 0.03157545 0.0214126 ]\n",
      "[0.0099764  0.09772608 0.09310286 ... 0.         0.00675655 0.00902715]\n",
      "[0.01108789 0.15061688 0.13176433 ... 0.         0.01432975 0.02725005]\n"
     ]
    },
    {
     "name": "stderr",
     "output_type": "stream",
     "text": [
      "  0%|          | 450/868218 [00:32<17:50:53, 13.51it/s]"
     ]
    },
    {
     "name": "stdout",
     "output_type": "stream",
     "text": [
      "[0.0148599  0.16501873 0.1490983  ... 0.         0.01856759 0.02101635]\n",
      "[0.01042459 0.19939443 0.18331529 ... 0.         0.02945362 0.02004989]\n",
      "[0.0320213  0.12761186 0.1257627  ... 0.         0.02110669 0.01195565]\n"
     ]
    },
    {
     "name": "stderr",
     "output_type": "stream",
     "text": [
      "  0%|          | 452/868218 [00:32<18:30:34, 13.02it/s]"
     ]
    },
    {
     "name": "stdout",
     "output_type": "stream",
     "text": [
      "[0.         0.00702468 0.00672204 ... 0.         0.00134151 0.00176592]\n",
      "[0.0193094  0.10666012 0.09727156 ... 0.         0.00036636 0.00691684]\n",
      "[0.010802   0.16508933 0.15009959 ... 0.         0.02478096 0.01083696]\n"
     ]
    },
    {
     "name": "stderr",
     "output_type": "stream",
     "text": [
      "  0%|          | 456/868218 [00:32<19:03:55, 12.64it/s]"
     ]
    },
    {
     "name": "stdout",
     "output_type": "stream",
     "text": [
      "[0.01355636 0.1476593  0.13029966 ... 0.         0.03506123 0.01601228]\n",
      "[0.01354713 0.18473837 0.20632668 ... 0.         0.17015925 0.00997577]\n",
      "[0.01240876 0.15742863 0.15015756 ... 0.         0.01329451 0.04276645]\n"
     ]
    },
    {
     "name": "stderr",
     "output_type": "stream",
     "text": [
      "  0%|          | 458/868218 [00:32<18:36:24, 12.95it/s]"
     ]
    },
    {
     "name": "stdout",
     "output_type": "stream",
     "text": [
      "[0.00671139 0.15952095 0.13709489 ... 0.         0.01884839 0.01418676]\n",
      "[0.02420748 0.16494851 0.14971071 ... 0.         0.02966054 0.01735053]\n",
      "[0.00795217 0.15512374 0.13736195 ... 0.         0.0258108  0.01342708]\n"
     ]
    },
    {
     "name": "stderr",
     "output_type": "stream",
     "text": [
      "  0%|          | 462/868218 [00:33<18:12:09, 13.24it/s]"
     ]
    },
    {
     "name": "stdout",
     "output_type": "stream",
     "text": [
      "[0.00405332 0.13945354 0.12858447 ... 0.         0.04702595 0.01397356]\n",
      "[0.03264232 0.22585403 0.2153253  ... 0.         0.02516175 0.02315532]\n",
      "[0.00490586 0.12213304 0.0980839  ... 0.         0.00854066 0.01213839]\n"
     ]
    },
    {
     "name": "stderr",
     "output_type": "stream",
     "text": [
      "  0%|          | 464/868218 [00:33<17:51:25, 13.50it/s]"
     ]
    },
    {
     "name": "stdout",
     "output_type": "stream",
     "text": [
      "[0.03119764 0.25694169 0.23663684 ... 0.0116087  0.03389364 0.02981705]\n",
      "[0.01669633 0.18705379 0.16857444 ... 0.         0.01783855 0.01638604]\n",
      "[0.01177256 0.2227111  0.22657425 ... 0.         0.02900402 0.01754505]\n"
     ]
    },
    {
     "name": "stderr",
     "output_type": "stream",
     "text": [
      "  0%|          | 468/868218 [00:33<17:36:30, 13.69it/s]"
     ]
    },
    {
     "name": "stdout",
     "output_type": "stream",
     "text": [
      "[0.00970233 0.13161343 0.15503734 ... 0.         0.03602186 0.01183281]\n",
      "[0.02755197 0.11853952 0.11319408 ... 0.         0.01227763 0.02448111]\n",
      "[0.00692804 0.18231888 0.16746439 ... 0.         0.02847971 0.02086936]\n"
     ]
    },
    {
     "name": "stderr",
     "output_type": "stream",
     "text": [
      "  0%|          | 470/868218 [00:33<17:27:26, 13.81it/s]"
     ]
    },
    {
     "name": "stdout",
     "output_type": "stream",
     "text": [
      "[0.01114282 0.2159197  0.19350694 ... 0.         0.07644025 0.02557936]\n",
      "[0.04280408 0.17458152 0.1676779  ... 0.         0.0145866  0.00881716]\n",
      "[0.01129559 0.18732125 0.19022996 ... 0.         0.00963255 0.00935734]\n"
     ]
    },
    {
     "name": "stderr",
     "output_type": "stream",
     "text": [
      "  0%|          | 474/868218 [00:34<17:24:01, 13.85it/s]"
     ]
    },
    {
     "name": "stdout",
     "output_type": "stream",
     "text": [
      "[0.00200157 0.15391573 0.13942956 ... 0.         0.01850686 0.01287522]\n",
      "[0.01392633 0.13520193 0.12621701 ... 0.         0.01784616 0.01125326]\n",
      "[0.01729302 0.14655023 0.14680086 ... 0.         0.01631075 0.01180233]\n"
     ]
    },
    {
     "name": "stderr",
     "output_type": "stream",
     "text": [
      "  0%|          | 476/868218 [00:34<17:26:58, 13.81it/s]"
     ]
    },
    {
     "name": "stdout",
     "output_type": "stream",
     "text": [
      "[0.01526353 0.20166011 0.20887728 ... 0.01188732 0.02239831 0.02921293]\n",
      "[0.00550374 0.14575585 0.13463404 ... 0.         0.03233952 0.02456576]\n",
      "[0.00623115 0.12821729 0.10746723 ... 0.         0.00659387 0.01256157]\n"
     ]
    },
    {
     "name": "stderr",
     "output_type": "stream",
     "text": [
      "  0%|          | 480/868218 [00:34<17:20:22, 13.90it/s]"
     ]
    },
    {
     "name": "stdout",
     "output_type": "stream",
     "text": [
      "[0.01449058 0.24062946 0.19844804 ... 0.         0.00438588 0.02204583]\n",
      "[0.00876378 0.1756628  0.16337342 ... 0.         0.01956895 0.01962899]\n",
      "[0.00806889 0.17305945 0.16445072 ... 0.         0.02362182 0.02219835]\n"
     ]
    },
    {
     "name": "stderr",
     "output_type": "stream",
     "text": [
      "  0%|          | 482/868218 [00:34<17:33:39, 13.73it/s]"
     ]
    },
    {
     "name": "stdout",
     "output_type": "stream",
     "text": [
      "[0.00942813 0.19730363 0.18447634 ... 0.02380542 0.01504144 0.02231937]\n",
      "[0.01546535 0.19834082 0.17744233 ... 0.         0.01804433 0.01941447]\n",
      "[0.01472594 0.21366312 0.20702951 ... 0.         0.01934607 0.01923385]\n"
     ]
    },
    {
     "name": "stderr",
     "output_type": "stream",
     "text": [
      "  0%|          | 486/868218 [00:34<18:04:47, 13.33it/s]"
     ]
    },
    {
     "name": "stdout",
     "output_type": "stream",
     "text": [
      "[0.011066   0.10350647 0.10175832 ... 0.         0.01758674 0.0038612 ]\n",
      "[0.0141015  0.18402559 0.18048982 ... 0.         0.02413688 0.01515309]\n",
      "[0.00725609 0.1112483  0.09647406 ... 0.         0.07211758 0.01516165]\n"
     ]
    },
    {
     "name": "stderr",
     "output_type": "stream",
     "text": [
      "  0%|          | 488/868218 [00:35<17:40:03, 13.64it/s]"
     ]
    },
    {
     "name": "stdout",
     "output_type": "stream",
     "text": [
      "[0.00751187 0.07256077 0.0700782  ... 0.         0.02495678 0.02205781]\n",
      "[0.01844281 0.21880304 0.20097877 ... 0.         0.03123564 0.01717853]\n",
      "[0.01561189 0.19086499 0.19794888 ... 0.         0.02463498 0.01833514]\n"
     ]
    },
    {
     "name": "stderr",
     "output_type": "stream",
     "text": [
      "  0%|          | 492/868218 [00:35<17:23:05, 13.86it/s]"
     ]
    },
    {
     "name": "stdout",
     "output_type": "stream",
     "text": [
      "[0.02564076 0.18152528 0.17297265 ... 0.         0.01156532 0.01468916]\n",
      "[0.0194119  0.21622395 0.20437843 ... 0.         0.04799027 0.03192857]\n",
      "[0.00894701 0.23046852 0.2124119  ... 0.01476024 0.02044434 0.02969144]\n"
     ]
    },
    {
     "name": "stderr",
     "output_type": "stream",
     "text": [
      "  0%|          | 494/868218 [00:35<17:28:46, 13.79it/s]"
     ]
    },
    {
     "name": "stdout",
     "output_type": "stream",
     "text": [
      "[0.0266864  0.2028727  0.18946181 ... 0.         0.0145091  0.02733804]\n",
      "[0.01594067 0.18644412 0.1712525  ... 0.         0.01846376 0.01758496]\n",
      "[0.01283203 0.19196014 0.18669846 ... 0.         0.01322487 0.01880571]\n"
     ]
    },
    {
     "name": "stderr",
     "output_type": "stream",
     "text": [
      "  0%|          | 498/868218 [00:35<17:27:54, 13.80it/s]"
     ]
    },
    {
     "name": "stdout",
     "output_type": "stream",
     "text": [
      "[0.01568818 0.17309696 0.16631745 ... 0.         0.01776229 0.01315127]\n",
      "[0.00984317 0.12977955 0.12058148 ... 0.04094665 0.01068513 0.01190844]\n",
      "[0.00938175 0.13919717 0.12971415 ... 0.         0.04743723 0.01409625]\n"
     ]
    },
    {
     "name": "stderr",
     "output_type": "stream",
     "text": [
      "  0%|          | 500/868218 [00:35<17:25:46, 13.83it/s]"
     ]
    },
    {
     "name": "stdout",
     "output_type": "stream",
     "text": [
      "[0.0118567  0.17753925 0.18950761 ... 0.         0.00958642 0.01261991]\n",
      "[0.01567012 0.17124475 0.15920403 ... 0.         0.01736928 0.02086953]\n",
      "[0.03247194 0.16496383 0.16582406 ... 0.         0.01631477 0.0318052 ]\n"
     ]
    },
    {
     "name": "stderr",
     "output_type": "stream",
     "text": [
      "  0%|          | 504/868218 [00:36<17:46:32, 13.56it/s]"
     ]
    },
    {
     "name": "stdout",
     "output_type": "stream",
     "text": [
      "[0.01190794 0.15749262 0.16744992 ... 0.         0.02370005 0.02696236]\n",
      "[0.02090846 0.2655868  0.25710721 ... 0.         0.02994995 0.02649405]\n",
      "[0.01606625 0.19271003 0.1883608  ... 0.         0.02344015 0.03638983]\n"
     ]
    },
    {
     "name": "stderr",
     "output_type": "stream",
     "text": [
      "  0%|          | 506/868218 [00:36<17:38:15, 13.67it/s]"
     ]
    },
    {
     "name": "stdout",
     "output_type": "stream",
     "text": [
      "[0.01279161 0.14512958 0.13148333 ... 0.         0.03469956 0.01897742]\n",
      "[0.0432076  0.18636515 0.17385173 ... 0.         0.01413282 0.01198242]\n",
      "[0.01461137 0.2414084  0.22138079 ... 0.         0.02946487 0.0189478 ]\n"
     ]
    },
    {
     "name": "stderr",
     "output_type": "stream",
     "text": [
      "  0%|          | 508/868218 [00:36<17:45:34, 13.57it/s]"
     ]
    },
    {
     "name": "stdout",
     "output_type": "stream",
     "text": [
      "[0.00721675 0.04278412 0.04499233 ... 0.         0.00496452 0.01759498]\n",
      "[0.01065165 0.13825119 0.12731679 ... 0.09607049 0.02320164 0.02333074]\n",
      "[0.00922784 0.19220188 0.16922665 ... 0.         0.00903035 0.02126903]\n"
     ]
    },
    {
     "name": "stderr",
     "output_type": "stream",
     "text": [
      "  0%|          | 512/868218 [00:36<18:23:49, 13.10it/s]"
     ]
    },
    {
     "name": "stdout",
     "output_type": "stream",
     "text": [
      "[0.01439559 0.21521565 0.21405249 ... 0.         0.03036681 0.02441992]\n",
      "[0.02083417 0.2308357  0.20476804 ... 0.00340985 0.02984449 0.02398127]\n",
      "[0.01731491 0.25249755 0.2348695  ... 0.02107666 0.03212106 0.02870194]\n"
     ]
    },
    {
     "name": "stderr",
     "output_type": "stream",
     "text": [
      "  0%|          | 516/868218 [00:37<17:56:36, 13.43it/s]"
     ]
    },
    {
     "name": "stdout",
     "output_type": "stream",
     "text": [
      "[0.00636097 0.17415591 0.15821721 ... 0.         0.02949284 0.01408065]\n",
      "[0.00936576 0.15148515 0.13422253 ... 0.         0.02549841 0.01545891]\n",
      "[0.00678765 0.18332435 0.169785   ... 0.         0.02075302 0.02175978]\n"
     ]
    },
    {
     "name": "stderr",
     "output_type": "stream",
     "text": [
      "  0%|          | 518/868218 [00:37<17:52:06, 13.49it/s]"
     ]
    },
    {
     "name": "stdout",
     "output_type": "stream",
     "text": [
      "[0.01730344 0.16750835 0.15956231 ... 0.02825053 0.02502512 0.00799527]\n",
      "[0.00924549 0.15310075 0.16229896 ... 0.         0.02646038 0.01143985]\n",
      "[0.01226363 0.17023018 0.16483422 ... 0.00603538 0.0228707  0.01677226]\n"
     ]
    },
    {
     "name": "stderr",
     "output_type": "stream",
     "text": [
      "  0%|          | 522/868218 [00:37<17:38:31, 13.66it/s]"
     ]
    },
    {
     "name": "stdout",
     "output_type": "stream",
     "text": [
      "[0.00537117 0.12911689 0.11507988 ... 0.         0.02652063 0.0073134 ]\n",
      "[0.07189494 0.19532829 0.20167254 ... 0.         0.01184911 0.01231285]\n",
      "[0.02268824 0.21162106 0.20805267 ... 0.         0.0156532  0.02330603]\n"
     ]
    },
    {
     "name": "stderr",
     "output_type": "stream",
     "text": [
      "  0%|          | 524/868218 [00:37<17:51:03, 13.50it/s]"
     ]
    },
    {
     "name": "stdout",
     "output_type": "stream",
     "text": [
      "[0.01232235 0.19917048 0.18894041 ... 0.         0.01911464 0.01900151]\n",
      "[0.0278126  0.18005344 0.16920697 ... 0.00462434 0.01579276 0.01649109]\n",
      "[0.02052579 0.23386022 0.21819174 ... 0.         0.03736914 0.02935818]\n"
     ]
    },
    {
     "name": "stderr",
     "output_type": "stream",
     "text": [
      "  0%|          | 528/868218 [00:38<17:51:29, 13.50it/s]"
     ]
    },
    {
     "name": "stdout",
     "output_type": "stream",
     "text": [
      "[0.00376445 0.01222741 0.01304571 ... 0.         0.08142808 0.00215778]\n",
      "[0.01471648 0.15993131 0.15301801 ... 0.         0.00463089 0.00915516]\n",
      "[0.02305514 0.21634655 0.21015308 ... 0.         0.03239197 0.02100525]\n"
     ]
    },
    {
     "name": "stderr",
     "output_type": "stream",
     "text": [
      "  0%|          | 530/868218 [00:38<17:25:48, 13.83it/s]"
     ]
    },
    {
     "name": "stdout",
     "output_type": "stream",
     "text": [
      "[0.01105355 0.19978757 0.17428219 ... 0.         0.01661669 0.01761772]\n",
      "[0.00734385 0.12592894 0.11232953 ... 0.         0.01068853 0.00673402]\n",
      "[0.00583062 0.16305253 0.14886381 ... 0.         0.01062244 0.01445569]\n"
     ]
    },
    {
     "name": "stderr",
     "output_type": "stream",
     "text": [
      "  0%|          | 534/868218 [00:38<17:24:15, 13.85it/s]"
     ]
    },
    {
     "name": "stdout",
     "output_type": "stream",
     "text": [
      "[0.01242893 0.18714913 0.17265555 ... 0.         0.01473299 0.02499037]\n",
      "[0.01313374 0.20695216 0.18762804 ... 0.         0.01747306 0.02271368]\n",
      "[0.01214196 0.1605568  0.14481088 ... 0.         0.00967926 0.0094031 ]\n"
     ]
    },
    {
     "name": "stderr",
     "output_type": "stream",
     "text": [
      "  0%|          | 536/868218 [00:38<17:49:15, 13.52it/s]"
     ]
    },
    {
     "name": "stdout",
     "output_type": "stream",
     "text": [
      "[0.02111367 0.1902124  0.17094368 ... 0.         0.02037786 0.01101512]\n",
      "[0.0092961  0.16124558 0.15254945 ... 0.00381564 0.03218537 0.01756215]\n",
      "[0.02795135 0.26651117 0.24092313 ... 0.00625402 0.03598123 0.03770372]\n"
     ]
    },
    {
     "name": "stderr",
     "output_type": "stream",
     "text": [
      "  0%|          | 540/868218 [00:38<18:28:36, 13.04it/s]"
     ]
    },
    {
     "name": "stdout",
     "output_type": "stream",
     "text": [
      "[0.06419231 0.18384171 0.1725771  ... 0.         0.01430003 0.0126974 ]\n",
      "[0.02411343 0.19906255 0.19313618 ... 0.         0.01491038 0.0576322 ]\n",
      "[0.01195959 0.18620505 0.17762279 ... 0.         0.09105134 0.02417718]\n"
     ]
    },
    {
     "name": "stderr",
     "output_type": "stream",
     "text": [
      "  0%|          | 542/868218 [00:39<17:59:34, 13.40it/s]"
     ]
    },
    {
     "name": "stdout",
     "output_type": "stream",
     "text": [
      "[0.01065248 0.15762761 0.15158451 ... 0.         0.025483   0.0124236 ]\n",
      "[0.00936922 0.21589756 0.19311298 ... 0.         0.06197251 0.02262591]\n",
      "[0.01614653 0.18522556 0.18822849 ... 0.         0.04182804 0.02434972]\n"
     ]
    },
    {
     "name": "stderr",
     "output_type": "stream",
     "text": [
      "  0%|          | 546/868218 [00:39<17:55:22, 13.45it/s]"
     ]
    },
    {
     "name": "stdout",
     "output_type": "stream",
     "text": [
      "[0.02526241 0.14146274 0.13354554 ... 0.         0.00697773 0.007085  ]\n",
      "[0.00853286 0.13847667 0.12731829 ... 0.         0.01346665 0.01240842]\n",
      "[0.01362858 0.12521528 0.1229464  ... 0.         0.0135655  0.00875102]\n"
     ]
    },
    {
     "name": "stderr",
     "output_type": "stream",
     "text": [
      "  0%|          | 548/868218 [00:39<17:29:58, 13.77it/s]"
     ]
    },
    {
     "name": "stdout",
     "output_type": "stream",
     "text": [
      "[0.00559147 0.08490244 0.0751794  ... 0.         0.00496795 0.01872302]\n",
      "[0.0140415  0.23406564 0.20997072 ... 0.         0.02958907 0.01859056]\n",
      "[0.00502452 0.07793635 0.0793998  ... 0.         0.0063576  0.00861665]\n"
     ]
    },
    {
     "name": "stderr",
     "output_type": "stream",
     "text": [
      "  0%|          | 552/868218 [00:39<16:55:39, 14.24it/s]"
     ]
    },
    {
     "name": "stdout",
     "output_type": "stream",
     "text": [
      "[0.01587499 0.23524846 0.21731553 ... 0.         0.02436338 0.0181887 ]\n",
      "[0.01100304 0.16506749 0.14244018 ... 0.         0.02396146 0.01518398]\n",
      "[0.01350349 0.15400152 0.16171441 ... 0.         0.009347   0.01007075]\n"
     ]
    },
    {
     "name": "stderr",
     "output_type": "stream",
     "text": [
      "  0%|          | 554/868218 [00:39<16:47:36, 14.35it/s]"
     ]
    },
    {
     "name": "stdout",
     "output_type": "stream",
     "text": [
      "[0.0074545  0.14684554 0.13271964 ... 0.         0.01661963 0.00844349]\n",
      "[0.02531393 0.2254844  0.21292651 ... 0.         0.02892257 0.01903891]\n",
      "[0.04290743 0.06927121 0.0653272  ... 0.03851038 0.010203   0.03247425]\n"
     ]
    },
    {
     "name": "stderr",
     "output_type": "stream",
     "text": [
      "  0%|          | 558/868218 [00:40<16:32:49, 14.57it/s]"
     ]
    },
    {
     "name": "stdout",
     "output_type": "stream",
     "text": [
      "[0.00564279 0.16204519 0.1491864  ... 0.         0.02205331 0.01570979]\n",
      "[0.00845013 0.11208832 0.10457207 ... 0.         0.00974188 0.01508567]\n",
      "[0.02726642 0.23778015 0.21633096 ... 0.00955104 0.02944157 0.03088849]\n"
     ]
    },
    {
     "name": "stderr",
     "output_type": "stream",
     "text": [
      "  0%|          | 560/868218 [00:40<16:24:13, 14.69it/s]"
     ]
    },
    {
     "name": "stdout",
     "output_type": "stream",
     "text": [
      "[0.01854877 0.19615695 0.18793661 ... 0.01480554 0.08937893 0.02392585]\n",
      "[0.01151946 0.18337536 0.16470351 ... 0.         0.01802512 0.0145315 ]\n",
      "[0.01593052 0.23775357 0.22948817 ... 0.         0.14958172 0.01992798]\n",
      "[0.01038196 0.17254186 0.15932495 ... 0.         0.01449175 0.01113326]\n"
     ]
    },
    {
     "name": "stderr",
     "output_type": "stream",
     "text": [
      "  0%|          | 564/868218 [00:40<16:42:21, 14.43it/s]"
     ]
    },
    {
     "name": "stdout",
     "output_type": "stream",
     "text": [
      "[0.01497607 0.15833207 0.15231195 ... 0.         0.01504    0.02916832]\n",
      "[0.03878203 0.30396018 0.28558173 ... 0.         0.04444824 0.03308875]\n",
      "[0.01069472 0.16274748 0.1493307  ... 0.         0.0075119  0.01674536]\n"
     ]
    },
    {
     "name": "stderr",
     "output_type": "stream",
     "text": [
      "  0%|          | 568/868218 [00:40<17:30:47, 13.76it/s]"
     ]
    },
    {
     "name": "stdout",
     "output_type": "stream",
     "text": [
      "[0.00819552 0.15081794 0.13560139 ... 0.         0.01088905 0.01348673]\n",
      "[0.03626594 0.18547791 0.15719014 ... 0.0136411  0.03433676 0.03924402]\n",
      "[0.05323021 0.09466443 0.0880454  ... 0.         0.05564576 0.01428573]\n"
     ]
    },
    {
     "name": "stderr",
     "output_type": "stream",
     "text": [
      "  0%|          | 570/868218 [00:41<17:11:27, 14.02it/s]"
     ]
    },
    {
     "name": "stdout",
     "output_type": "stream",
     "text": [
      "[0.01214405 0.15854892 0.1373259  ... 0.         0.01404898 0.02229129]\n",
      "[0.00625314 0.13728114 0.13055952 ... 0.         0.00083289 0.01498826]\n",
      "[0.01792498 0.22772717 0.21777989 ... 0.         0.01522434 0.01945431]\n",
      "[0.00861632 0.16418    0.14430958 ... 0.0353767  0.01377059 0.01217326]\n"
     ]
    },
    {
     "name": "stderr",
     "output_type": "stream",
     "text": [
      "  0%|          | 574/868218 [00:41<16:41:08, 14.44it/s]"
     ]
    },
    {
     "name": "stdout",
     "output_type": "stream",
     "text": [
      "[0.00175198 0.0249585  0.02535108 ... 0.         0.01450459 0.0213717 ]\n",
      "[0.01215061 0.19414122 0.18588377 ... 0.         0.02571715 0.01657925]\n",
      "[0.02287526 0.10765075 0.10022103 ... 0.03671129 0.00848053 0.02429816]\n",
      "[0.0080274  0.12390817 0.12704821 ... 0.         0.01582178 0.0193299 ]\n"
     ]
    },
    {
     "name": "stderr",
     "output_type": "stream",
     "text": [
      "  0%|          | 578/868218 [00:41<16:43:54, 14.40it/s]"
     ]
    },
    {
     "name": "stdout",
     "output_type": "stream",
     "text": [
      "[0.01193106 0.15835598 0.14690606 ... 0.         0.03932302 0.0136054 ]\n",
      "[0.01894656 0.20651949 0.18598289 ... 0.         0.05581558 0.02083063]\n",
      "[0.01718098 0.16763446 0.15759199 ... 0.         0.01513024 0.01978065]\n"
     ]
    },
    {
     "name": "stderr",
     "output_type": "stream",
     "text": [
      "  0%|          | 582/868218 [00:41<16:27:23, 14.65it/s]"
     ]
    },
    {
     "name": "stdout",
     "output_type": "stream",
     "text": [
      "[0.00875027 0.19586305 0.18610121 ... 0.         0.02710017 0.01659918]\n",
      "[0.01037275 0.17329262 0.16012068 ... 0.         0.01758061 0.01999659]\n",
      "[0.01711028 0.24166344 0.21865699 ... 0.         0.03356389 0.02032465]\n"
     ]
    },
    {
     "name": "stderr",
     "output_type": "stream",
     "text": [
      "  0%|          | 584/868218 [00:42<16:32:46, 14.57it/s]"
     ]
    },
    {
     "name": "stdout",
     "output_type": "stream",
     "text": [
      "[0.01678859 0.20526335 0.18355096 ... 0.         0.0853136  0.02041934]\n",
      "[0.01758018 0.1310078  0.13327273 ... 0.         0.13480473 0.00922466]\n",
      "[0.01370103 0.15352102 0.1350725  ... 0.0233491  0.01859645 0.0184567 ]\n"
     ]
    },
    {
     "name": "stderr",
     "output_type": "stream",
     "text": [
      "  0%|          | 588/868218 [00:42<16:32:59, 14.56it/s]"
     ]
    },
    {
     "name": "stdout",
     "output_type": "stream",
     "text": [
      "[0.00592713 0.15105911 0.12732465 ... 0.         0.01168592 0.01038066]\n",
      "[0.01506929 0.12969832 0.1242773  ... 0.         0.01387265 0.01760531]\n",
      "[0.00604448 0.16716273 0.15645996 ... 0.         0.01969965 0.01545854]\n",
      "[0.01470696 0.07855316 0.07785618 ... 0.         0.00667182 0.02176003]\n"
     ]
    },
    {
     "name": "stderr",
     "output_type": "stream",
     "text": [
      "  0%|          | 592/868218 [00:42<16:25:30, 14.67it/s]"
     ]
    },
    {
     "name": "stdout",
     "output_type": "stream",
     "text": [
      "[0.0217347  0.20699769 0.20170095 ... 0.         0.06176711 0.01859898]\n",
      "[0.0103549  0.18411946 0.17282932 ... 0.         0.01795521 0.01443065]\n",
      "[0.01421282 0.256225   0.24049832 ... 0.         0.03741266 0.01985684]\n"
     ]
    },
    {
     "name": "stderr",
     "output_type": "stream",
     "text": [
      "  0%|          | 594/868218 [00:42<16:27:31, 14.64it/s]"
     ]
    },
    {
     "name": "stdout",
     "output_type": "stream",
     "text": [
      "[0.01055142 0.20745694 0.1930487  ... 0.         0.02056339 0.01824876]\n",
      "[0.01074145 0.15052547 0.13214946 ... 0.         0.06452495 0.02232541]\n",
      "[0.03114302 0.04437063 0.07101125 ... 0.         0.04272592 0.01738017]\n"
     ]
    },
    {
     "name": "stderr",
     "output_type": "stream",
     "text": [
      "  0%|          | 598/868218 [00:42<16:37:08, 14.50it/s]"
     ]
    },
    {
     "name": "stdout",
     "output_type": "stream",
     "text": [
      "[0.01617129 0.18727962 0.17977971 ... 0.00411847 0.01810549 0.01615104]\n",
      "[0.02003193 0.23873348 0.23526311 ... 0.         0.02121939 0.02706781]\n",
      "[0.01152795 0.16333574 0.1636298  ... 0.         0.02371695 0.03351818]\n"
     ]
    },
    {
     "name": "stderr",
     "output_type": "stream",
     "text": [
      "  0%|          | 600/868218 [00:43<17:30:51, 13.76it/s]"
     ]
    },
    {
     "name": "stdout",
     "output_type": "stream",
     "text": [
      "[0.00587233 0.12556864 0.10738604 ... 0.         0.03754413 0.00877982]\n",
      "[0.00261327 0.08681346 0.07752636 ... 0.         0.00631777 0.00739706]\n",
      "[0.011361   0.12662711 0.14294384 ... 0.         0.00864005 0.0205221 ]\n"
     ]
    },
    {
     "name": "stderr",
     "output_type": "stream",
     "text": [
      "  0%|          | 604/868218 [00:43<17:14:32, 13.98it/s]"
     ]
    },
    {
     "name": "stdout",
     "output_type": "stream",
     "text": [
      "[0.00297848 0.08272828 0.07788934 ... 0.         0.00626639 0.01240823]\n",
      "[0.00315952 0.02164659 0.0185797  ... 0.         0.00369531 0.00304977]\n",
      "[0.0105534  0.146475   0.12155005 ... 0.         0.03449275 0.01088873]\n"
     ]
    },
    {
     "name": "stderr",
     "output_type": "stream",
     "text": [
      "  0%|          | 606/868218 [00:43<17:12:52, 14.00it/s]"
     ]
    },
    {
     "name": "stdout",
     "output_type": "stream",
     "text": [
      "[0.01037515 0.14674932 0.15298076 ... 0.         0.00976493 0.02721804]\n",
      "[0.03644171 0.18523818 0.17086256 ... 0.         0.02386358 0.02145253]\n",
      "[0.01925699 0.26615272 0.23867498 ... 0.         0.03518347 0.02319272]\n"
     ]
    },
    {
     "name": "stderr",
     "output_type": "stream",
     "text": [
      "  0%|          | 610/868218 [00:43<17:05:03, 14.11it/s]"
     ]
    },
    {
     "name": "stdout",
     "output_type": "stream",
     "text": [
      "[0.01442645 0.21459758 0.19370659 ... 0.         0.03555448 0.01742703]\n",
      "[0.01044858 0.03689692 0.03913317 ... 0.04705899 0.         0.0229564 ]\n",
      "[0.02215438 0.27115498 0.24945195 ... 0.00401284 0.03633463 0.02759367]\n"
     ]
    },
    {
     "name": "stderr",
     "output_type": "stream",
     "text": [
      "  0%|          | 612/868218 [00:43<16:49:14, 14.33it/s]"
     ]
    },
    {
     "name": "stdout",
     "output_type": "stream",
     "text": [
      "[0.01114203 0.18887203 0.16892146 ... 0.         0.01585246 0.01812931]\n",
      "[0.0151647  0.17983018 0.19105345 ... 0.         0.02542086 0.01808123]\n",
      "[0.01555861 0.20220897 0.18896417 ... 0.         0.02788797 0.02294727]\n",
      "[0.0093923  0.14341957 0.1301979  ... 0.         0.00639672 0.00774924]\n"
     ]
    },
    {
     "name": "stderr",
     "output_type": "stream",
     "text": [
      "  0%|          | 616/868218 [00:44<16:28:09, 14.63it/s]"
     ]
    },
    {
     "name": "stdout",
     "output_type": "stream",
     "text": [
      "[0.00687719 0.12498343 0.11447815 ... 0.         0.03554263 0.01048231]\n",
      "[0.09025822 0.18353958 0.18521727 ... 0.         0.0143106  0.01540953]\n",
      "[0.0232159  0.20359901 0.17267641 ... 0.         0.0266384  0.01748612]\n",
      "[0.01739447 0.19368908 0.17211685 ... 0.         0.03323567 0.02186801]\n"
     ]
    },
    {
     "name": "stderr",
     "output_type": "stream",
     "text": [
      "  0%|          | 620/868218 [00:44<16:26:01, 14.66it/s]"
     ]
    },
    {
     "name": "stdout",
     "output_type": "stream",
     "text": [
      "[0.02030388 0.18476864 0.16465672 ... 0.         0.02947437 0.01622106]\n",
      "[0.00649059 0.05335774 0.05023936 ... 0.00897644 0.0037414  0.00650816]\n",
      "[0.01418518 0.14142701 0.13993328 ... 0.         0.00564569 0.0098324 ]\n",
      "[0.00288491 0.14604351 0.12688546 ... 0.         0.01841438 0.01413128]\n"
     ]
    },
    {
     "name": "stderr",
     "output_type": "stream",
     "text": [
      "  0%|          | 624/868218 [00:44<16:56:22, 14.23it/s]"
     ]
    },
    {
     "name": "stdout",
     "output_type": "stream",
     "text": [
      "[0.00783234 0.10370775 0.09098797 ... 0.         0.00763125 0.00578755]\n",
      "[0.04081862 0.21057118 0.14987702 ... 0.         0.01485958 0.02646814]\n",
      "[0.01484482 0.21421568 0.18159622 ... 0.         0.02344426 0.01625898]\n"
     ]
    },
    {
     "name": "stderr",
     "output_type": "stream",
     "text": [
      "  0%|          | 628/868218 [00:45<16:37:15, 14.50it/s]"
     ]
    },
    {
     "name": "stdout",
     "output_type": "stream",
     "text": [
      "[0.01739206 0.16894644 0.15567373 ... 0.         0.01210076 0.01891114]\n",
      "[0.02689615 0.14466396 0.14243625 ... 0.         0.01683311 0.02128337]\n",
      "[0.03466755 0.1858944  0.17619401 ... 0.         0.01295647 0.04071473]\n"
     ]
    },
    {
     "name": "stderr",
     "output_type": "stream",
     "text": [
      "  0%|          | 630/868218 [00:45<17:22:41, 13.87it/s]"
     ]
    },
    {
     "name": "stdout",
     "output_type": "stream",
     "text": [
      "[0.01132626 0.21366737 0.19850835 ... 0.         0.0233264  0.02640055]\n",
      "[0.00530216 0.07623906 0.06857313 ... 0.         0.0224405  0.01223094]\n",
      "[0.01230336 0.30430082 0.27972562 ... 0.         0.03312371 0.02704648]\n"
     ]
    },
    {
     "name": "stderr",
     "output_type": "stream",
     "text": [
      "  0%|          | 634/868218 [00:45<16:47:29, 14.35it/s]"
     ]
    },
    {
     "name": "stdout",
     "output_type": "stream",
     "text": [
      "[0.00420469 0.05919193 0.05332669 ... 0.         0.0063119  0.03183862]\n",
      "[0.01425134 0.20102733 0.18579538 ... 0.         0.03458759 0.02072296]\n",
      "[0.00889419 0.16793433 0.15117851 ... 0.         0.0869557  0.00899448]\n"
     ]
    },
    {
     "name": "stderr",
     "output_type": "stream",
     "text": [
      "  0%|          | 636/868218 [00:45<16:35:39, 14.52it/s]"
     ]
    },
    {
     "name": "stdout",
     "output_type": "stream",
     "text": [
      "[0.0086709  0.05007622 0.05386582 ... 0.         0.05497838 0.09431391]\n",
      "[0.00717667 0.15816653 0.14434618 ... 0.         0.01022969 0.01579664]\n",
      "[0.01279388 0.16231685 0.133433   ... 0.         0.00843668 0.0156782 ]\n",
      "[0.0188958  0.230909   0.204583   ... 0.         0.06207674 0.02417221]\n"
     ]
    },
    {
     "name": "stderr",
     "output_type": "stream",
     "text": [
      "  0%|          | 640/868218 [00:45<16:30:38, 14.60it/s]"
     ]
    },
    {
     "name": "stdout",
     "output_type": "stream",
     "text": [
      "[0.         0.01512048 0.00114943 ... 0.         0.         0.        ]\n",
      "[0.00381242 0.02625779 0.02857167 ... 0.         0.03975371 0.00777727]\n",
      "[0.01898777 0.17779396 0.16001624 ... 0.         0.01506545 0.0123049 ]\n",
      "[0.01285339 0.23753807 0.23180838 ... 0.         0.0565784  0.0238957 ]\n"
     ]
    },
    {
     "name": "stderr",
     "output_type": "stream",
     "text": [
      "  0%|          | 644/868218 [00:46<17:07:38, 14.07it/s]"
     ]
    },
    {
     "name": "stdout",
     "output_type": "stream",
     "text": [
      "[0.0047826  0.13605936 0.11791306 ... 0.         0.01308823 0.01770125]\n",
      "[0.01478763 0.22573462 0.21580265 ... 0.         0.01637781 0.01231294]\n",
      "[0.01603911 0.22539126 0.21147386 ... 0.         0.0234922  0.02294178]\n"
     ]
    },
    {
     "name": "stderr",
     "output_type": "stream",
     "text": [
      "  0%|          | 648/868218 [00:46<16:54:06, 14.26it/s]"
     ]
    },
    {
     "name": "stdout",
     "output_type": "stream",
     "text": [
      "[0.04158236 0.20478772 0.18733591 ... 0.         0.01731905 0.0228868 ]\n",
      "[0.02771313 0.18938655 0.19023269 ... 0.         0.01486261 0.02706164]\n",
      "[0.00414863 0.08523272 0.0841466  ... 0.         0.00422496 0.0068359 ]\n"
     ]
    },
    {
     "name": "stderr",
     "output_type": "stream",
     "text": [
      "  0%|          | 650/868218 [00:46<16:44:36, 14.39it/s]"
     ]
    },
    {
     "name": "stdout",
     "output_type": "stream",
     "text": [
      "[0.01207955 0.1450803  0.13859319 ... 0.         0.00757052 0.0177816 ]\n",
      "[0.00691292 0.03514355 0.03910761 ... 0.08468072 0.07878144 0.0126102 ]\n",
      "[0.00984346 0.16062116 0.15031374 ... 0.         0.02113716 0.02030918]\n"
     ]
    },
    {
     "name": "stderr",
     "output_type": "stream",
     "text": [
      "  0%|          | 652/868218 [00:46<16:39:07, 14.47it/s]"
     ]
    },
    {
     "name": "stdout",
     "output_type": "stream",
     "text": [
      "[0.01248243 0.18106221 0.18611239 ... 0.         0.02486115 0.02306122]\n",
      "[0.00882244 0.12876338 0.1122297  ... 0.         0.01361837 0.01723848]\n",
      "[0.00910602 0.16243944 0.16207857 ... 0.         0.03104967 0.01722683]\n"
     ]
    },
    {
     "name": "stderr",
     "output_type": "stream",
     "text": [
      "  0%|          | 656/868218 [00:47<17:49:59, 13.51it/s]"
     ]
    },
    {
     "name": "stdout",
     "output_type": "stream",
     "text": [
      "[0.00598243 0.12939395 0.14716121 ... 0.         0.00855972 0.00924984]\n",
      "[0.00937755 0.16394922 0.14866955 ... 0.         0.01437126 0.01213173]\n",
      "[0.00827935 0.14831685 0.1353625  ... 0.         0.00942519 0.00706517]\n"
     ]
    },
    {
     "name": "stderr",
     "output_type": "stream",
     "text": [
      "  0%|          | 658/868218 [00:47<17:27:35, 13.80it/s]"
     ]
    },
    {
     "name": "stdout",
     "output_type": "stream",
     "text": [
      "[0.         0.01559789 0.01388185 ... 0.         0.03273301 0.03138583]\n",
      "[0.01962059 0.27343243 0.25553392 ... 0.00447708 0.05372694 0.02860843]\n",
      "[0.01259306 0.12847455 0.11011427 ... 0.         0.01878377 0.01040167]\n"
     ]
    },
    {
     "name": "stderr",
     "output_type": "stream",
     "text": [
      "  0%|          | 662/868218 [00:47<17:46:16, 13.56it/s]"
     ]
    },
    {
     "name": "stdout",
     "output_type": "stream",
     "text": [
      "[0.01140338 0.14753093 0.14613096 ... 0.         0.02013499 0.01935139]\n",
      "[0.01087585 0.17612303 0.16702812 ... 0.         0.01650863 0.01893917]\n",
      "[0.01478734 0.13103447 0.12904866 ... 0.         0.01195641 0.01368928]\n"
     ]
    },
    {
     "name": "stderr",
     "output_type": "stream",
     "text": [
      "  0%|          | 666/868218 [00:47<18:24:44, 13.09it/s]"
     ]
    },
    {
     "name": "stdout",
     "output_type": "stream",
     "text": [
      "[0.01157639 0.2138852  0.19160071 ... 0.         0.07858424 0.02604456]\n",
      "[0.00609395 0.11960703 0.10744979 ... 0.         0.0106258  0.0125989 ]\n",
      "[0.00387467 0.14959005 0.13665854 ... 0.         0.01187656 0.0138189 ]\n"
     ]
    },
    {
     "name": "stderr",
     "output_type": "stream",
     "text": [
      "  0%|          | 668/868218 [00:47<18:10:18, 13.26it/s]"
     ]
    },
    {
     "name": "stdout",
     "output_type": "stream",
     "text": [
      "[0.00635202 0.19148266 0.17410609 ... 0.         0.01760227 0.01273136]\n",
      "[0.01105557 0.15183209 0.14855987 ... 0.         0.02043899 0.01516944]\n",
      "[0.02873579 0.20365136 0.19247915 ... 0.         0.03784745 0.02789213]\n"
     ]
    },
    {
     "name": "stderr",
     "output_type": "stream",
     "text": [
      "  0%|          | 672/868218 [00:48<17:46:47, 13.55it/s]"
     ]
    },
    {
     "name": "stdout",
     "output_type": "stream",
     "text": [
      "[0.01260703 0.13708103 0.11842867 ... 0.         0.01593724 0.00890382]\n",
      "[0.04939662 0.26550685 0.25835274 ... 0.         0.02755258 0.02804571]\n",
      "[0.01622982 0.19223806 0.18947273 ... 0.00621354 0.01223341 0.0126272 ]\n"
     ]
    },
    {
     "name": "stderr",
     "output_type": "stream",
     "text": [
      "  0%|          | 674/868218 [00:48<17:40:21, 13.64it/s]"
     ]
    },
    {
     "name": "stdout",
     "output_type": "stream",
     "text": [
      "[0.00818196 0.10467808 0.1013204  ... 0.         0.00159491 0.001431  ]\n",
      "[0.01220499 0.18581867 0.1808439  ... 0.         0.02693301 0.01278485]\n",
      "[0.00720368 0.07826346 0.08696287 ... 0.         0.00500866 0.03350251]\n"
     ]
    },
    {
     "name": "stderr",
     "output_type": "stream",
     "text": [
      "  0%|          | 678/868218 [00:48<17:45:53, 13.57it/s]"
     ]
    },
    {
     "name": "stdout",
     "output_type": "stream",
     "text": [
      "[0.0053036  0.18339528 0.16004428 ... 0.         0.01663604 0.01257151]\n",
      "[0.03353216 0.10983339 0.10801297 ... 0.         0.0036212  0.00835783]\n",
      "[0.01625036 0.16717961 0.16760322 ... 0.         0.00753375 0.01203464]\n"
     ]
    },
    {
     "name": "stderr",
     "output_type": "stream",
     "text": [
      "  0%|          | 680/868218 [00:48<17:32:50, 13.73it/s]"
     ]
    },
    {
     "name": "stdout",
     "output_type": "stream",
     "text": [
      "[0.01327651 0.1641422  0.14910214 ... 0.         0.02200475 0.00858867]\n",
      "[0.00505107 0.0964869  0.0819892  ... 0.         0.01125794 0.00596719]\n",
      "[0.01160031 0.17790407 0.16398549 ... 0.         0.01879434 0.01769599]\n"
     ]
    },
    {
     "name": "stderr",
     "output_type": "stream",
     "text": [
      "  0%|          | 684/868218 [00:49<17:57:03, 13.42it/s]"
     ]
    },
    {
     "name": "stdout",
     "output_type": "stream",
     "text": [
      "[0.00908577 0.15497386 0.13498337 ... 0.         0.02199877 0.02154505]\n",
      "[0.01992816 0.18796504 0.20577381 ... 0.         0.08815519 0.02073255]\n",
      "[0.01198983 0.19400041 0.1868861  ... 0.         0.01235449 0.02144579]\n"
     ]
    },
    {
     "name": "stderr",
     "output_type": "stream",
     "text": [
      "  0%|          | 686/868218 [00:49<17:33:23, 13.73it/s]"
     ]
    },
    {
     "name": "stdout",
     "output_type": "stream",
     "text": [
      "[0.03515594 0.11776804 0.12370349 ... 0.         0.00303549 0.00597537]\n",
      "[0.00213958 0.04148379 0.03356041 ... 0.         0.02027844 0.12159723]\n",
      "[0.02324876 0.23931911 0.22788333 ... 0.         0.06013015 0.01627352]\n"
     ]
    },
    {
     "name": "stderr",
     "output_type": "stream",
     "text": [
      "  0%|          | 690/868218 [00:49<16:56:32, 14.22it/s]"
     ]
    },
    {
     "name": "stdout",
     "output_type": "stream",
     "text": [
      "[0.01796107 0.18069076 0.18406232 ... 0.         0.02598198 0.01611059]\n",
      "[0.00966896 0.08957624 0.09168976 ... 0.         0.00597264 0.00754077]\n",
      "[0.01159474 0.16548403 0.17150852 ... 0.         0.01165187 0.01207359]\n"
     ]
    },
    {
     "name": "stderr",
     "output_type": "stream",
     "text": [
      "  0%|          | 692/868218 [00:49<16:44:09, 14.40it/s]"
     ]
    },
    {
     "name": "stdout",
     "output_type": "stream",
     "text": [
      "[0.0363909  0.27838678 0.25622558 ... 0.         0.03221409 0.03252186]\n",
      "[0.01184853 0.19271106 0.17411141 ... 0.         0.02173784 0.0139346 ]\n",
      "[0.01556807 0.24179789 0.21603097 ... 0.         0.03104328 0.02833642]\n"
     ]
    },
    {
     "name": "stderr",
     "output_type": "stream",
     "text": [
      "  0%|          | 696/868218 [00:49<16:45:19, 14.38it/s]"
     ]
    },
    {
     "name": "stdout",
     "output_type": "stream",
     "text": [
      "[0.00707066 0.17741109 0.16657007 ... 0.         0.10496083 0.01794264]\n",
      "[0.02731473 0.17479517 0.16192297 ... 0.         0.01637225 0.00986557]\n",
      "[0.00813026 0.17440926 0.15735931 ... 0.         0.00998253 0.01397637]\n"
     ]
    },
    {
     "name": "stderr",
     "output_type": "stream",
     "text": [
      "  0%|          | 698/868218 [00:50<16:35:43, 14.52it/s]"
     ]
    },
    {
     "name": "stdout",
     "output_type": "stream",
     "text": [
      "[0.01921955 0.24746489 0.22713016 ... 0.00843903 0.03787969 0.02887513]\n",
      "[0.0108741  0.18591686 0.21226433 ... 0.         0.00632209 0.00679226]\n",
      "[0.02344563 0.15411283 0.14588288 ... 0.         0.0073986  0.01626464]\n",
      "[0.0072029  0.02975514 0.03059924 ... 0.06138856 0.02127042 0.0460999 ]\n"
     ]
    },
    {
     "name": "stderr",
     "output_type": "stream",
     "text": [
      "  0%|          | 702/868218 [00:50<16:32:49, 14.56it/s]"
     ]
    },
    {
     "name": "stdout",
     "output_type": "stream",
     "text": [
      "[0.00596368 0.13406204 0.1304561  ... 0.         0.02991766 0.00747068]\n",
      "[0.01656073 0.17521001 0.17431424 ... 0.         0.01466436 0.02071638]\n",
      "[0.02479154 0.17870325 0.16417253 ... 0.         0.0272988  0.02290621]\n"
     ]
    },
    {
     "name": "stderr",
     "output_type": "stream",
     "text": [
      "  0%|          | 706/868218 [00:50<16:34:17, 14.54it/s]"
     ]
    },
    {
     "name": "stdout",
     "output_type": "stream",
     "text": [
      "[0.01175166 0.12512352 0.12234313 ... 0.         0.0087096  0.01720473]\n",
      "[0.02266144 0.15571242 0.16310066 ... 0.         0.01279406 0.03446764]\n",
      "[0.01201381 0.10876621 0.09806429 ... 0.         0.01203847 0.04231015]\n"
     ]
    },
    {
     "name": "stderr",
     "output_type": "stream",
     "text": [
      "  0%|          | 708/868218 [00:50<16:28:50, 14.62it/s]"
     ]
    },
    {
     "name": "stdout",
     "output_type": "stream",
     "text": [
      "[0.01850695 0.16780972 0.14864601 ... 0.         0.02340567 0.01977888]\n",
      "[0.00731743 0.09758555 0.09361559 ... 0.         0.00610082 0.00470337]\n",
      "[0.00848494 0.14100506 0.1306846  ... 0.         0.0121733  0.01310596]\n",
      "[0.         0.02442051 0.01792785 ... 0.         0.09710422 0.04117684]\n"
     ]
    },
    {
     "name": "stderr",
     "output_type": "stream",
     "text": [
      "  0%|          | 712/868218 [00:51<17:43:17, 13.60it/s]"
     ]
    },
    {
     "name": "stdout",
     "output_type": "stream",
     "text": [
      "[0.01528507 0.19149532 0.16148864 ... 0.         0.02447321 0.01268692]\n",
      "[0.01609081 0.20652127 0.19161526 ... 0.         0.01311288 0.03875603]\n",
      "[0.00677785 0.04946763 0.04612257 ... 0.         0.00154067 0.00852269]\n"
     ]
    },
    {
     "name": "stderr",
     "output_type": "stream",
     "text": [
      "  0%|          | 715/868218 [00:51<17:17:38, 13.93it/s]"
     ]
    },
    {
     "name": "stdout",
     "output_type": "stream",
     "text": [
      "[0.01890863 0.22463936 0.21100187 ... 0.02567065 0.02006733 0.01619037]\n",
      "[0.00757628 0.06521151 0.07484496 ... 0.         0.01044185 0.00900498]\n"
     ]
    },
    {
     "name": "stderr",
     "output_type": "stream",
     "text": [
      "\n"
     ]
    },
    {
     "ename": "KeyboardInterrupt",
     "evalue": "",
     "output_type": "error",
     "traceback": [
      "\u001b[31m---------------------------------------------------------------------------\u001b[39m",
      "\u001b[31mKeyboardInterrupt\u001b[39m                         Traceback (most recent call last)",
      "\u001b[36mCell\u001b[39m\u001b[36m \u001b[39m\u001b[32mIn[21]\u001b[39m\u001b[32m, line 6\u001b[39m\n\u001b[32m      4\u001b[39m count = \u001b[32m5\u001b[39m\n\u001b[32m      5\u001b[39m \u001b[38;5;28;01mfor\u001b[39;00m i \u001b[38;5;129;01min\u001b[39;00m tqdm(train_df[\u001b[33m\"\u001b[39m\u001b[33muser_id\u001b[39m\u001b[33m\"\u001b[39m].unique()):\n\u001b[32m----> \u001b[39m\u001b[32m6\u001b[39m     scores = \u001b[43mrecommend_for_user\u001b[49m\u001b[43m(\u001b[49m\u001b[43mi\u001b[49m\u001b[43m)\u001b[49m\n\u001b[32m      7\u001b[39m     str_scores = \u001b[33m\"\u001b[39m\u001b[33m, \u001b[39m\u001b[33m\"\u001b[39m.join([\u001b[38;5;28mstr\u001b[39m(s[\u001b[32m0\u001b[39m]) \u001b[38;5;28;01mfor\u001b[39;00m s \u001b[38;5;129;01min\u001b[39;00m scores])\n\u001b[32m      8\u001b[39m     user_predictions.append({\u001b[33m\"\u001b[39m\u001b[33muser_id\u001b[39m\u001b[33m\"\u001b[39m: i, \u001b[33m\"\u001b[39m\u001b[33mpredictions\u001b[39m\u001b[33m\"\u001b[39m: str_scores})\n",
      "\u001b[36mCell\u001b[39m\u001b[36m \u001b[39m\u001b[32mIn[8]\u001b[39m\u001b[32m, line 21\u001b[39m, in \u001b[36mrecommend_for_user\u001b[39m\u001b[34m(user_id, top_k)\u001b[39m\n\u001b[32m     19\u001b[39m \u001b[38;5;28;01mdef\u001b[39;00m\u001b[38;5;250m \u001b[39m\u001b[34mrecommend_for_user\u001b[39m(user_id, top_k=\u001b[32m10\u001b[39m):\n\u001b[32m     20\u001b[39m     profile = build_user_profile(user_id)\n\u001b[32m---> \u001b[39m\u001b[32m21\u001b[39m     scores = \u001b[43mcosine_similarity\u001b[49m\u001b[43m(\u001b[49m\u001b[43mprofile\u001b[49m\u001b[43m,\u001b[49m\u001b[43m \u001b[49m\u001b[43mtfidf_matrix\u001b[49m\u001b[43m)\u001b[49m.flatten()\n\u001b[32m     22\u001b[39m     \u001b[38;5;28mprint\u001b[39m(scores)\n\u001b[32m     23\u001b[39m     seen_items = \u001b[38;5;28mset\u001b[39m(train_df[train_df[\u001b[33m\"\u001b[39m\u001b[33muser_id\u001b[39m\u001b[33m\"\u001b[39m] == user_id][\u001b[33m\"\u001b[39m\u001b[33mitem_id\u001b[39m\u001b[33m\"\u001b[39m])\n",
      "\u001b[36mFile \u001b[39m\u001b[32m~/Coding/Python/DSC/Shopping_Recomendation/env/lib/python3.13/site-packages/sklearn/utils/_param_validation.py:218\u001b[39m, in \u001b[36mvalidate_params.<locals>.decorator.<locals>.wrapper\u001b[39m\u001b[34m(*args, **kwargs)\u001b[39m\n\u001b[32m    212\u001b[39m \u001b[38;5;28;01mtry\u001b[39;00m:\n\u001b[32m    213\u001b[39m     \u001b[38;5;28;01mwith\u001b[39;00m config_context(\n\u001b[32m    214\u001b[39m         skip_parameter_validation=(\n\u001b[32m    215\u001b[39m             prefer_skip_nested_validation \u001b[38;5;129;01mor\u001b[39;00m global_skip_validation\n\u001b[32m    216\u001b[39m         )\n\u001b[32m    217\u001b[39m     ):\n\u001b[32m--> \u001b[39m\u001b[32m218\u001b[39m         \u001b[38;5;28;01mreturn\u001b[39;00m \u001b[43mfunc\u001b[49m\u001b[43m(\u001b[49m\u001b[43m*\u001b[49m\u001b[43margs\u001b[49m\u001b[43m,\u001b[49m\u001b[43m \u001b[49m\u001b[43m*\u001b[49m\u001b[43m*\u001b[49m\u001b[43mkwargs\u001b[49m\u001b[43m)\u001b[49m\n\u001b[32m    219\u001b[39m \u001b[38;5;28;01mexcept\u001b[39;00m InvalidParameterError \u001b[38;5;28;01mas\u001b[39;00m e:\n\u001b[32m    220\u001b[39m     \u001b[38;5;66;03m# When the function is just a wrapper around an estimator, we allow\u001b[39;00m\n\u001b[32m    221\u001b[39m     \u001b[38;5;66;03m# the function to delegate validation to the estimator, but we replace\u001b[39;00m\n\u001b[32m    222\u001b[39m     \u001b[38;5;66;03m# the name of the estimator by the name of the function in the error\u001b[39;00m\n\u001b[32m    223\u001b[39m     \u001b[38;5;66;03m# message to avoid confusion.\u001b[39;00m\n\u001b[32m    224\u001b[39m     msg = re.sub(\n\u001b[32m    225\u001b[39m         \u001b[33mr\u001b[39m\u001b[33m\"\u001b[39m\u001b[33mparameter of \u001b[39m\u001b[33m\\\u001b[39m\u001b[33mw+ must be\u001b[39m\u001b[33m\"\u001b[39m,\n\u001b[32m    226\u001b[39m         \u001b[33mf\u001b[39m\u001b[33m\"\u001b[39m\u001b[33mparameter of \u001b[39m\u001b[38;5;132;01m{\u001b[39;00mfunc.\u001b[34m__qualname__\u001b[39m\u001b[38;5;132;01m}\u001b[39;00m\u001b[33m must be\u001b[39m\u001b[33m\"\u001b[39m,\n\u001b[32m    227\u001b[39m         \u001b[38;5;28mstr\u001b[39m(e),\n\u001b[32m    228\u001b[39m     )\n",
      "\u001b[36mFile \u001b[39m\u001b[32m~/Coding/Python/DSC/Shopping_Recomendation/env/lib/python3.13/site-packages/sklearn/metrics/pairwise.py:1728\u001b[39m, in \u001b[36mcosine_similarity\u001b[39m\u001b[34m(X, Y, dense_output)\u001b[39m\n\u001b[32m   1675\u001b[39m \u001b[38;5;129m@validate_params\u001b[39m(\n\u001b[32m   1676\u001b[39m     {\n\u001b[32m   1677\u001b[39m         \u001b[33m\"\u001b[39m\u001b[33mX\u001b[39m\u001b[33m\"\u001b[39m: [\u001b[33m\"\u001b[39m\u001b[33marray-like\u001b[39m\u001b[33m\"\u001b[39m, \u001b[33m\"\u001b[39m\u001b[33msparse matrix\u001b[39m\u001b[33m\"\u001b[39m],\n\u001b[32m   (...)\u001b[39m\u001b[32m   1682\u001b[39m )\n\u001b[32m   1683\u001b[39m \u001b[38;5;28;01mdef\u001b[39;00m\u001b[38;5;250m \u001b[39m\u001b[34mcosine_similarity\u001b[39m(X, Y=\u001b[38;5;28;01mNone\u001b[39;00m, dense_output=\u001b[38;5;28;01mTrue\u001b[39;00m):\n\u001b[32m   1684\u001b[39m \u001b[38;5;250m    \u001b[39m\u001b[33;03m\"\"\"Compute cosine similarity between samples in X and Y.\u001b[39;00m\n\u001b[32m   1685\u001b[39m \n\u001b[32m   1686\u001b[39m \u001b[33;03m    Cosine similarity, or the cosine kernel, computes similarity as the\u001b[39;00m\n\u001b[32m   (...)\u001b[39m\u001b[32m   1726\u001b[39m \u001b[33;03m           [0.577, 0.816]])\u001b[39;00m\n\u001b[32m   1727\u001b[39m \u001b[33;03m    \"\"\"\u001b[39;00m\n\u001b[32m-> \u001b[39m\u001b[32m1728\u001b[39m     X, Y = \u001b[43mcheck_pairwise_arrays\u001b[49m\u001b[43m(\u001b[49m\u001b[43mX\u001b[49m\u001b[43m,\u001b[49m\u001b[43m \u001b[49m\u001b[43mY\u001b[49m\u001b[43m)\u001b[49m\n\u001b[32m   1730\u001b[39m     X_normalized = normalize(X, copy=\u001b[38;5;28;01mTrue\u001b[39;00m)\n\u001b[32m   1731\u001b[39m     \u001b[38;5;28;01mif\u001b[39;00m X \u001b[38;5;129;01mis\u001b[39;00m Y:\n",
      "\u001b[36mFile \u001b[39m\u001b[32m~/Coding/Python/DSC/Shopping_Recomendation/env/lib/python3.13/site-packages/sklearn/metrics/pairwise.py:209\u001b[39m, in \u001b[36mcheck_pairwise_arrays\u001b[39m\u001b[34m(X, Y, precomputed, dtype, accept_sparse, force_all_finite, ensure_all_finite, ensure_2d, copy)\u001b[39m\n\u001b[32m    199\u001b[39m \u001b[38;5;28;01melse\u001b[39;00m:\n\u001b[32m    200\u001b[39m     X = check_array(\n\u001b[32m    201\u001b[39m         X,\n\u001b[32m    202\u001b[39m         accept_sparse=accept_sparse,\n\u001b[32m   (...)\u001b[39m\u001b[32m    207\u001b[39m         ensure_2d=ensure_2d,\n\u001b[32m    208\u001b[39m     )\n\u001b[32m--> \u001b[39m\u001b[32m209\u001b[39m     Y = \u001b[43mcheck_array\u001b[49m\u001b[43m(\u001b[49m\n\u001b[32m    210\u001b[39m \u001b[43m        \u001b[49m\u001b[43mY\u001b[49m\u001b[43m,\u001b[49m\n\u001b[32m    211\u001b[39m \u001b[43m        \u001b[49m\u001b[43maccept_sparse\u001b[49m\u001b[43m=\u001b[49m\u001b[43maccept_sparse\u001b[49m\u001b[43m,\u001b[49m\n\u001b[32m    212\u001b[39m \u001b[43m        \u001b[49m\u001b[43mdtype\u001b[49m\u001b[43m=\u001b[49m\u001b[43mdtype\u001b[49m\u001b[43m,\u001b[49m\n\u001b[32m    213\u001b[39m \u001b[43m        \u001b[49m\u001b[43mcopy\u001b[49m\u001b[43m=\u001b[49m\u001b[43mcopy\u001b[49m\u001b[43m,\u001b[49m\n\u001b[32m    214\u001b[39m \u001b[43m        \u001b[49m\u001b[43mensure_all_finite\u001b[49m\u001b[43m=\u001b[49m\u001b[43mensure_all_finite\u001b[49m\u001b[43m,\u001b[49m\n\u001b[32m    215\u001b[39m \u001b[43m        \u001b[49m\u001b[43mestimator\u001b[49m\u001b[43m=\u001b[49m\u001b[43mestimator\u001b[49m\u001b[43m,\u001b[49m\n\u001b[32m    216\u001b[39m \u001b[43m        \u001b[49m\u001b[43mensure_2d\u001b[49m\u001b[43m=\u001b[49m\u001b[43mensure_2d\u001b[49m\u001b[43m,\u001b[49m\n\u001b[32m    217\u001b[39m \u001b[43m    \u001b[49m\u001b[43m)\u001b[49m\n\u001b[32m    219\u001b[39m \u001b[38;5;28;01mif\u001b[39;00m precomputed:\n\u001b[32m    220\u001b[39m     \u001b[38;5;28;01mif\u001b[39;00m X.shape[\u001b[32m1\u001b[39m] != Y.shape[\u001b[32m0\u001b[39m]:\n",
      "\u001b[36mFile \u001b[39m\u001b[32m~/Coding/Python/DSC/Shopping_Recomendation/env/lib/python3.13/site-packages/sklearn/utils/validation.py:1012\u001b[39m, in \u001b[36mcheck_array\u001b[39m\u001b[34m(array, accept_sparse, accept_large_sparse, dtype, order, copy, force_writeable, force_all_finite, ensure_all_finite, ensure_non_negative, ensure_2d, allow_nd, ensure_min_samples, ensure_min_features, estimator, input_name)\u001b[39m\n\u001b[32m   1010\u001b[39m \u001b[38;5;28;01mif\u001b[39;00m sp.issparse(array):\n\u001b[32m   1011\u001b[39m     _ensure_no_complex_data(array)\n\u001b[32m-> \u001b[39m\u001b[32m1012\u001b[39m     array = \u001b[43m_ensure_sparse_format\u001b[49m\u001b[43m(\u001b[49m\n\u001b[32m   1013\u001b[39m \u001b[43m        \u001b[49m\u001b[43marray\u001b[49m\u001b[43m,\u001b[49m\n\u001b[32m   1014\u001b[39m \u001b[43m        \u001b[49m\u001b[43maccept_sparse\u001b[49m\u001b[43m=\u001b[49m\u001b[43maccept_sparse\u001b[49m\u001b[43m,\u001b[49m\n\u001b[32m   1015\u001b[39m \u001b[43m        \u001b[49m\u001b[43mdtype\u001b[49m\u001b[43m=\u001b[49m\u001b[43mdtype\u001b[49m\u001b[43m,\u001b[49m\n\u001b[32m   1016\u001b[39m \u001b[43m        \u001b[49m\u001b[43mcopy\u001b[49m\u001b[43m=\u001b[49m\u001b[43mcopy\u001b[49m\u001b[43m,\u001b[49m\n\u001b[32m   1017\u001b[39m \u001b[43m        \u001b[49m\u001b[43mensure_all_finite\u001b[49m\u001b[43m=\u001b[49m\u001b[43mensure_all_finite\u001b[49m\u001b[43m,\u001b[49m\n\u001b[32m   1018\u001b[39m \u001b[43m        \u001b[49m\u001b[43maccept_large_sparse\u001b[49m\u001b[43m=\u001b[49m\u001b[43maccept_large_sparse\u001b[49m\u001b[43m,\u001b[49m\n\u001b[32m   1019\u001b[39m \u001b[43m        \u001b[49m\u001b[43mestimator_name\u001b[49m\u001b[43m=\u001b[49m\u001b[43mestimator_name\u001b[49m\u001b[43m,\u001b[49m\n\u001b[32m   1020\u001b[39m \u001b[43m        \u001b[49m\u001b[43minput_name\u001b[49m\u001b[43m=\u001b[49m\u001b[43minput_name\u001b[49m\u001b[43m,\u001b[49m\n\u001b[32m   1021\u001b[39m \u001b[43m    \u001b[49m\u001b[43m)\u001b[49m\n\u001b[32m   1022\u001b[39m     \u001b[38;5;28;01mif\u001b[39;00m ensure_2d \u001b[38;5;129;01mand\u001b[39;00m array.ndim < \u001b[32m2\u001b[39m:\n\u001b[32m   1023\u001b[39m         \u001b[38;5;28;01mraise\u001b[39;00m \u001b[38;5;167;01mValueError\u001b[39;00m(\n\u001b[32m   1024\u001b[39m             \u001b[33mf\u001b[39m\u001b[33m\"\u001b[39m\u001b[33mExpected 2D input, got input with shape \u001b[39m\u001b[38;5;132;01m{\u001b[39;00marray.shape\u001b[38;5;132;01m}\u001b[39;00m\u001b[33m.\u001b[39m\u001b[38;5;130;01m\\n\u001b[39;00m\u001b[33m\"\u001b[39m\n\u001b[32m   1025\u001b[39m             \u001b[33m\"\u001b[39m\u001b[33mReshape your data either using array.reshape(-1, 1) if \u001b[39m\u001b[33m\"\u001b[39m\n\u001b[32m   1026\u001b[39m             \u001b[33m\"\u001b[39m\u001b[33myour data has a single feature or array.reshape(1, -1) \u001b[39m\u001b[33m\"\u001b[39m\n\u001b[32m   1027\u001b[39m             \u001b[33m\"\u001b[39m\u001b[33mif it contains a single sample.\u001b[39m\u001b[33m\"\u001b[39m\n\u001b[32m   1028\u001b[39m         )\n",
      "\u001b[36mFile \u001b[39m\u001b[32m~/Coding/Python/DSC/Shopping_Recomendation/env/lib/python3.13/site-packages/sklearn/utils/validation.py:647\u001b[39m, in \u001b[36m_ensure_sparse_format\u001b[39m\u001b[34m(sparse_container, accept_sparse, dtype, copy, ensure_all_finite, accept_large_sparse, estimator_name, input_name)\u001b[39m\n\u001b[32m    642\u001b[39m         warnings.warn(\n\u001b[32m    643\u001b[39m             \u001b[33mf\u001b[39m\u001b[33m\"\u001b[39m\u001b[33mCan\u001b[39m\u001b[33m'\u001b[39m\u001b[33mt check \u001b[39m\u001b[38;5;132;01m{\u001b[39;00msparse_container.format\u001b[38;5;132;01m}\u001b[39;00m\u001b[33m sparse matrix for nan or inf.\u001b[39m\u001b[33m\"\u001b[39m,\n\u001b[32m    644\u001b[39m             stacklevel=\u001b[32m2\u001b[39m,\n\u001b[32m    645\u001b[39m         )\n\u001b[32m    646\u001b[39m     \u001b[38;5;28;01melse\u001b[39;00m:\n\u001b[32m--> \u001b[39m\u001b[32m647\u001b[39m         \u001b[43m_assert_all_finite\u001b[49m\u001b[43m(\u001b[49m\n\u001b[32m    648\u001b[39m \u001b[43m            \u001b[49m\u001b[43msparse_container\u001b[49m\u001b[43m.\u001b[49m\u001b[43mdata\u001b[49m\u001b[43m,\u001b[49m\n\u001b[32m    649\u001b[39m \u001b[43m            \u001b[49m\u001b[43mallow_nan\u001b[49m\u001b[43m=\u001b[49m\u001b[43mensure_all_finite\u001b[49m\u001b[43m \u001b[49m\u001b[43m==\u001b[49m\u001b[43m \u001b[49m\u001b[33;43m\"\u001b[39;49m\u001b[33;43mallow-nan\u001b[39;49m\u001b[33;43m\"\u001b[39;49m\u001b[43m,\u001b[49m\n\u001b[32m    650\u001b[39m \u001b[43m            \u001b[49m\u001b[43mestimator_name\u001b[49m\u001b[43m=\u001b[49m\u001b[43mestimator_name\u001b[49m\u001b[43m,\u001b[49m\n\u001b[32m    651\u001b[39m \u001b[43m            \u001b[49m\u001b[43minput_name\u001b[49m\u001b[43m=\u001b[49m\u001b[43minput_name\u001b[49m\u001b[43m,\u001b[49m\n\u001b[32m    652\u001b[39m \u001b[43m        \u001b[49m\u001b[43m)\u001b[49m\n\u001b[32m    654\u001b[39m \u001b[38;5;66;03m# TODO: Remove when the minimum version of SciPy supported is 1.12\u001b[39;00m\n\u001b[32m    655\u001b[39m \u001b[38;5;66;03m# With SciPy sparse arrays, conversion from DIA format to COO, CSR, or BSR\u001b[39;00m\n\u001b[32m    656\u001b[39m \u001b[38;5;66;03m# triggers the use of `np.int64` indices even if the data is such that it could\u001b[39;00m\n\u001b[32m   (...)\u001b[39m\u001b[32m    659\u001b[39m \u001b[38;5;66;03m# algorithms support large indices, the following code downcasts to `np.int32`\u001b[39;00m\n\u001b[32m    660\u001b[39m \u001b[38;5;66;03m# indices when it's safe to do so.\u001b[39;00m\n\u001b[32m    661\u001b[39m \u001b[38;5;28;01mif\u001b[39;00m changed_format:\n\u001b[32m    662\u001b[39m     \u001b[38;5;66;03m# accept_sparse is specified to a specific format and a conversion occurred\u001b[39;00m\n",
      "\u001b[36mFile \u001b[39m\u001b[32m~/Coding/Python/DSC/Shopping_Recomendation/env/lib/python3.13/site-packages/sklearn/utils/validation.py:116\u001b[39m, in \u001b[36m_assert_all_finite\u001b[39m\u001b[34m(X, allow_nan, msg_dtype, estimator_name, input_name)\u001b[39m\n\u001b[32m    111\u001b[39m \u001b[38;5;66;03m# First try an O(n) time, O(1) space solution for the common case that\u001b[39;00m\n\u001b[32m    112\u001b[39m \u001b[38;5;66;03m# everything is finite; fall back to O(n) space `np.isinf/isnan` or custom\u001b[39;00m\n\u001b[32m    113\u001b[39m \u001b[38;5;66;03m# Cython implementation to prevent false positives and provide a detailed\u001b[39;00m\n\u001b[32m    114\u001b[39m \u001b[38;5;66;03m# error message.\u001b[39;00m\n\u001b[32m    115\u001b[39m \u001b[38;5;28;01mwith\u001b[39;00m np.errstate(over=\u001b[33m\"\u001b[39m\u001b[33mignore\u001b[39m\u001b[33m\"\u001b[39m):\n\u001b[32m--> \u001b[39m\u001b[32m116\u001b[39m     first_pass_isfinite = xp.isfinite(\u001b[43mxp\u001b[49m\u001b[43m.\u001b[49m\u001b[43msum\u001b[49m\u001b[43m(\u001b[49m\u001b[43mX\u001b[49m\u001b[43m)\u001b[49m)\n\u001b[32m    117\u001b[39m \u001b[38;5;28;01mif\u001b[39;00m first_pass_isfinite:\n\u001b[32m    118\u001b[39m     \u001b[38;5;28;01mreturn\u001b[39;00m\n",
      "\u001b[36mFile \u001b[39m\u001b[32m~/Coding/Python/DSC/Shopping_Recomendation/env/lib/python3.13/site-packages/numpy/_core/fromnumeric.py:2466\u001b[39m, in \u001b[36msum\u001b[39m\u001b[34m(a, axis, dtype, out, keepdims, initial, where)\u001b[39m\n\u001b[32m   2463\u001b[39m         \u001b[38;5;28;01mreturn\u001b[39;00m out\n\u001b[32m   2464\u001b[39m     \u001b[38;5;28;01mreturn\u001b[39;00m res\n\u001b[32m-> \u001b[39m\u001b[32m2466\u001b[39m \u001b[38;5;28;01mreturn\u001b[39;00m \u001b[43m_wrapreduction\u001b[49m\u001b[43m(\u001b[49m\n\u001b[32m   2467\u001b[39m \u001b[43m    \u001b[49m\u001b[43ma\u001b[49m\u001b[43m,\u001b[49m\u001b[43m \u001b[49m\u001b[43mnp\u001b[49m\u001b[43m.\u001b[49m\u001b[43madd\u001b[49m\u001b[43m,\u001b[49m\u001b[43m \u001b[49m\u001b[33;43m'\u001b[39;49m\u001b[33;43msum\u001b[39;49m\u001b[33;43m'\u001b[39;49m\u001b[43m,\u001b[49m\u001b[43m \u001b[49m\u001b[43maxis\u001b[49m\u001b[43m,\u001b[49m\u001b[43m \u001b[49m\u001b[43mdtype\u001b[49m\u001b[43m,\u001b[49m\u001b[43m \u001b[49m\u001b[43mout\u001b[49m\u001b[43m,\u001b[49m\n\u001b[32m   2468\u001b[39m \u001b[43m    \u001b[49m\u001b[43mkeepdims\u001b[49m\u001b[43m=\u001b[49m\u001b[43mkeepdims\u001b[49m\u001b[43m,\u001b[49m\u001b[43m \u001b[49m\u001b[43minitial\u001b[49m\u001b[43m=\u001b[49m\u001b[43minitial\u001b[49m\u001b[43m,\u001b[49m\u001b[43m \u001b[49m\u001b[43mwhere\u001b[49m\u001b[43m=\u001b[49m\u001b[43mwhere\u001b[49m\n\u001b[32m   2469\u001b[39m \u001b[43m\u001b[49m\u001b[43m)\u001b[49m\n",
      "\u001b[36mFile \u001b[39m\u001b[32m~/Coding/Python/DSC/Shopping_Recomendation/env/lib/python3.13/site-packages/numpy/_core/fromnumeric.py:86\u001b[39m, in \u001b[36m_wrapreduction\u001b[39m\u001b[34m(obj, ufunc, method, axis, dtype, out, **kwargs)\u001b[39m\n\u001b[32m     83\u001b[39m         \u001b[38;5;28;01melse\u001b[39;00m:\n\u001b[32m     84\u001b[39m             \u001b[38;5;28;01mreturn\u001b[39;00m reduction(axis=axis, out=out, **passkwargs)\n\u001b[32m---> \u001b[39m\u001b[32m86\u001b[39m \u001b[38;5;28;01mreturn\u001b[39;00m \u001b[43mufunc\u001b[49m\u001b[43m.\u001b[49m\u001b[43mreduce\u001b[49m\u001b[43m(\u001b[49m\u001b[43mobj\u001b[49m\u001b[43m,\u001b[49m\u001b[43m \u001b[49m\u001b[43maxis\u001b[49m\u001b[43m,\u001b[49m\u001b[43m \u001b[49m\u001b[43mdtype\u001b[49m\u001b[43m,\u001b[49m\u001b[43m \u001b[49m\u001b[43mout\u001b[49m\u001b[43m,\u001b[49m\u001b[43m \u001b[49m\u001b[43m*\u001b[49m\u001b[43m*\u001b[49m\u001b[43mpasskwargs\u001b[49m\u001b[43m)\u001b[49m\n",
      "\u001b[31mKeyboardInterrupt\u001b[39m: "
     ]
    }
   ],
   "source": [
    "from tqdm import tqdm\n",
    "\n",
    "user_predictions = []\n",
    "count = 5\n",
    "for i in tqdm(train_df[\"user_id\"].unique()):\n",
    "    scores = recommend_for_user(i)\n",
    "    str_scores = \", \".join([str(s[0]) for s in scores])\n",
    "    user_predictions.append({\"user_id\": i, \"predictions\": str_scores})\n",
    "\n",
    "df_out = pd.DataFrame(user_predictions)\n",
    "df_out"
   ]
  },
  {
   "cell_type": "code",
   "execution_count": null,
   "id": "865e8539",
   "metadata": {},
   "outputs": [
    {
     "ename": "NameError",
     "evalue": "name 'tqdm' is not defined",
     "output_type": "error",
     "traceback": [
      "\u001b[31m---------------------------------------------------------------------------\u001b[39m",
      "\u001b[31mNameError\u001b[39m                                 Traceback (most recent call last)",
      "\u001b[36mCell\u001b[39m\u001b[36m \u001b[39m\u001b[32mIn[1]\u001b[39m\u001b[32m, line 19\u001b[39m\n\u001b[32m     15\u001b[39m \u001b[38;5;66;03m# Step 2: Build user predictions\u001b[39;00m\n\u001b[32m     16\u001b[39m user_predictions = []\n\u001b[32m---> \u001b[39m\u001b[32m19\u001b[39m \u001b[38;5;28;01mfor\u001b[39;00m user_id \u001b[38;5;129;01min\u001b[39;00m \u001b[43mtqdm\u001b[49m(train_df[\u001b[33m\"\u001b[39m\u001b[33muser_id\u001b[39m\u001b[33m\"\u001b[39m].unique()):\n\u001b[32m     20\u001b[39m     profile = build_user_profile(user_id)\n\u001b[32m     21\u001b[39m     scores = cosine_similarity(profile, tfidf_matrix).flatten()\n",
      "\u001b[31mNameError\u001b[39m: name 'tqdm' is not defined"
     ]
    }
   ],
   "source": [
    "import pandas as pd\n",
    "from sklearn.metrics.pairwise import cosine_similarity\n",
    "import numpy as np\n",
    "import tqdm\n",
    "\n",
    "# Step 1: Build user profile\n",
    "def build_user_profile(user_id):\n",
    "    user_ratings = train_df[train_df[\"user_id\"] == user_id]\n",
    "    indices = user_ratings[\"item_id\"].values\n",
    "    ratings = user_ratings[\"rating\"].values\n",
    "    item_vectors = tfidf_matrix[indices]\n",
    "    weighted = item_vectors.multiply(ratings[:, None])\n",
    "    profile = weighted.mean(axis=0)\n",
    "    return np.asarray(profile)\n",
    "\n",
    "# Step 2: Build user predictions\n",
    "user_predictions = []\n",
    "\n",
    "\n",
    "for user_id in tqdm(train_df[\"user_id\"].unique()):\n",
    "    profile = build_user_profile(user_id)\n",
    "    scores = cosine_similarity(profile, tfidf_matrix).flatten()\n",
    "\n",
    "    # Optionally filter out items already rated by the user\n",
    "    seen_items = set(train_df[train_df[\"user_id\"] == user_id][\"item_id\"])\n",
    "    predictions = [str(score) for i, score in enumerate(scores) if i not in seen_items]\n",
    "\n",
    "    user_predictions.append({\n",
    "        \"user_id\": user_id,\n",
    "        \"predictions\": \" \".join(predictions)\n",
    "    })\n",
    "\n",
    "# Step 3: Save to DataFrame\n",
    "df_output = pd.DataFrame(user_predictions)\n",
    "print(\"Done\")\n",
    "\n",
    "# Step 4: Export to CSV\n",
    "df_output.to_csv(\"user_predictions.csv\", index=False)\n"
   ]
  }
 ],
 "metadata": {
  "kernelspec": {
   "display_name": "env",
   "language": "python",
   "name": "python3"
  },
  "language_info": {
   "codemirror_mode": {
    "name": "ipython",
    "version": 3
   },
   "file_extension": ".py",
   "mimetype": "text/x-python",
   "name": "python",
   "nbconvert_exporter": "python",
   "pygments_lexer": "ipython3",
   "version": "3.6.15"
  }
 },
 "nbformat": 4,
 "nbformat_minor": 5
}
