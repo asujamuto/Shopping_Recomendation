{
 "cells": [
  {
   "cell_type": "markdown",
   "id": "b384f821",
   "metadata": {},
   "source": [
    "## To jest prawdopodobnie jedna wersja rozwiązania:\n",
    "\n",
    "Narazie tylko po tytule, trzeba będzie tak zrobić z każdym rzędem i wybrać największe prawdopodobieństwo"
   ]
  },
  {
   "cell_type": "code",
   "execution_count": null,
   "id": "1befd7f0",
   "metadata": {},
   "outputs": [],
   "source": [
    "import pandas as pd\n",
    "import numpy as np\n",
    "\n",
    "df = pd.read_csv(\"data/item_metadata.csv\")\n",
    "\n",
    "titles = df[\"title\"].dropna()\n",
    "all_words = [word for title in titles for word in title.split()]\n",
    "\n",
    "\n",
    "from sklearn.feature_extraction.text import TfidfVectorizer\n",
    "\n",
    "vectorizer = TfidfVectorizer(max_features=50000)\n",
    "\n",
    "## TWORZYMY MACIERZ TF-IDF\n",
    "tf_title_matrix = vectorizer.fit_transform(df[\"title\"].dropna())"
   ]
  },
  {
   "cell_type": "code",
   "execution_count": null,
   "id": "c78e70bd",
   "metadata": {},
   "outputs": [
    {
     "data": {
      "text/plain": [
       "[(89490, 1.0000000000000002),\n",
       " (161586, 0.4918172931035355),\n",
       " (34508, 0.36389496098951113),\n",
       " (127540, 0.3485495245440541),\n",
       " (202447, 0.33832182781470815),\n",
       " (247934, 0.3212793368496426),\n",
       " (160756, 0.31071167126233423),\n",
       " (190691, 0.29554257731189215),\n",
       " (136531, 0.28138699923927424),\n",
       " (120293, 0.2727467200653019),\n",
       " (124602, 0.2623225297844669),\n",
       " (171323, 0.24490412624195682),\n",
       " (57078, 0.2328788080362707),\n",
       " (132046, 0.22571855081891348),\n",
       " (26536, 0.2249438479822391),\n",
       " (66368, 0.22199911749981466),\n",
       " (45177, 0.2219793105868898),\n",
       " (45484, 0.21926963047523143),\n",
       " (87282, 0.21926963047523143)]"
      ]
     },
     "execution_count": 2,
     "metadata": {},
     "output_type": "execute_result"
    }
   ],
   "source": [
    "from sklearn.decomposition import TruncatedSVD\n",
    "from sklearn.metrics.pairwise import cosine_similarity\n",
    "\n",
    "lsa = TruncatedSVD(n_components=100, algorithm='arpack')\n",
    "lsa.fit(tf_title_matrix)\n",
    "\n",
    "### WYBIERAMY TYTUŁ \n",
    "choosed_title = tf_title_matrix[0]\n",
    "\n",
    "### PORÓWNUJEMY\n",
    "cosine_sim = cosine_similarity(tf_title_matrix[0], tf_title_matrix)\n",
    "\n",
    "similar_titles = list(enumerate(cosine_sim[0]))\n",
    "sorted_titles = sorted(similar_titles, key=lambda x: x[1], reverse=True)[1:20]\n",
    "sorted_titles"
   ]
  }
 ],
 "metadata": {
  "kernelspec": {
   "display_name": "env",
   "language": "python",
   "name": "python3"
  },
  "language_info": {
   "codemirror_mode": {
    "name": "ipython",
    "version": 3
   },
   "file_extension": ".py",
   "mimetype": "text/x-python",
   "name": "python",
   "nbconvert_exporter": "python",
   "pygments_lexer": "ipython3",
   "version": "3.8.16"
  }
 },
 "nbformat": 4,
 "nbformat_minor": 5
}
