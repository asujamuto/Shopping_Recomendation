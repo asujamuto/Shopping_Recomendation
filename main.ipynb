{
 "cells": [
  {
   "cell_type": "markdown",
   "id": "b384f821",
   "metadata": {},
   "source": [
    "## To jest prawdopodobnie jedna wersja rozwiązania:\n",
    "\n",
    "Narazie tylko po tytule, trzeba będzie tak zrobić z każdym rzędem i wybrać największe prawdopodobieństwo"
   ]
  },
  {
   "cell_type": "code",
   "id": "1befd7f0",
   "metadata": {
    "ExecuteTime": {
     "end_time": "2025-06-21T23:21:04.852511Z",
     "start_time": "2025-06-21T23:20:53.786169Z"
    }
   },
   "source": [
    "import pandas as pd\n",
    "import numpy as np\n",
    "\n",
    "df = pd.read_csv(\"data/item_metadata.csv\")\n",
    "\n",
    "titles = df[\"title\"].dropna()\n",
    "all_words = [word for title in titles for word in title.split()]\n",
    "\n",
    "\n",
    "from sklearn.feature_extraction.text import TfidfVectorizer\n",
    "\n",
    "vectorizer = TfidfVectorizer(max_features=50000)\n",
    "\n",
    "## TWORZYMY MACIERZ TF-IDF\n",
    "tf_title_matrix = vectorizer.fit_transform(df[\"title\"].dropna())"
   ],
   "outputs": [],
   "execution_count": 1
  },
  {
   "cell_type": "code",
   "id": "c78e70bd",
   "metadata": {
    "ExecuteTime": {
     "end_time": "2025-06-21T23:21:21.578152Z",
     "start_time": "2025-06-21T23:21:08.941467Z"
    }
   },
   "source": [
    "from sklearn.decomposition import TruncatedSVD\n",
    "from sklearn.metrics.pairwise import cosine_similarity\n",
    "\n",
    "lsa = TruncatedSVD(n_components=100, algorithm='arpack')\n",
    "lsa.fit(tf_title_matrix)\n",
    "\n",
    "### WYBIERAMY TYTUŁ \n",
    "choosed_title = tf_title_matrix[0]\n",
    "\n",
    "### PORÓWNUJEMY\n",
    "cosine_sim = cosine_similarity(tf_title_matrix[0], tf_title_matrix)\n",
    "\n",
    "similar_titles = list(enumerate(cosine_sim[0]))\n",
    "sorted_titles = sorted(similar_titles, key=lambda x: x[1], reverse=True)[1:20]\n",
    "sorted_titles"
   ],
   "outputs": [
    {
     "data": {
      "text/plain": [
       "[(89490, np.float64(1.0000000000000002)),\n",
       " (161586, np.float64(0.49181729310353534)),\n",
       " (34508, np.float64(0.363894960989511)),\n",
       " (127540, np.float64(0.348549524544054)),\n",
       " (202447, np.float64(0.33832182781470804)),\n",
       " (247934, np.float64(0.32127933684964255)),\n",
       " (160756, np.float64(0.3107116712623342)),\n",
       " (190691, np.float64(0.2955425773118921)),\n",
       " (136531, np.float64(0.2813869992392742)),\n",
       " (120293, np.float64(0.2727467200653018)),\n",
       " (124602, np.float64(0.26232252978446685)),\n",
       " (171323, np.float64(0.2449041262419568)),\n",
       " (57078, np.float64(0.2328788080362707)),\n",
       " (132046, np.float64(0.2257185508189134)),\n",
       " (26536, np.float64(0.2249438479822391)),\n",
       " (66368, np.float64(0.2219991174998147)),\n",
       " (45177, np.float64(0.22197931058688974)),\n",
       " (45484, np.float64(0.21926963047523143)),\n",
       " (87282, np.float64(0.21926963047523143))]"
      ]
     },
     "execution_count": 2,
     "metadata": {},
     "output_type": "execute_result"
    }
   ],
   "execution_count": 2
  }
 ],
 "metadata": {
  "kernelspec": {
   "display_name": "env",
   "language": "python",
   "name": "python3"
  },
  "language_info": {
   "codemirror_mode": {
    "name": "ipython",
    "version": 3
   },
   "file_extension": ".py",
   "mimetype": "text/x-python",
   "name": "python",
   "nbconvert_exporter": "python",
   "pygments_lexer": "ipython3",
   "version": "3.8.16"
  }
 },
 "nbformat": 4,
 "nbformat_minor": 5
}
